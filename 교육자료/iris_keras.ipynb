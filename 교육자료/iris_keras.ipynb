{
  "nbformat": 4,
  "nbformat_minor": 0,
  "metadata": {
    "colab": {
      "name": "iris_keras.ipynb",
      "version": "0.3.2",
      "provenance": []
    },
    "kernelspec": {
      "name": "python3",
      "display_name": "Python 3"
    }
  },
  "cells": [
    {
      "cell_type": "code",
      "metadata": {
        "id": "nPqzpGCsB1BF",
        "colab_type": "code",
        "colab": {
          "base_uri": "https://localhost:8080/",
          "height": 35
        },
        "outputId": "75a5ef30-8ecf-4da2-fdae-64c4d48780a4"
      },
      "source": [
        "\n",
        "import csv\n",
        "import numpy as np\n",
        "import keras as kr \n"
      ],
      "execution_count": 1,
      "outputs": [
        {
          "output_type": "stream",
          "text": [
            "Using TensorFlow backend.\n"
          ],
          "name": "stderr"
        }
      ]
    },
    {
      "cell_type": "code",
      "metadata": {
        "id": "tcWxiKH6CF0I",
        "colab_type": "code",
        "colab": {
          "base_uri": "https://localhost:8080/",
          "height": 217
        },
        "outputId": "fcc1b41a-2334-4e13-cea7-24e7bed12e18"
      },
      "source": [
        "!wget https://raw.githubusercontent.com/Verdagio/TensorFlow-Keras-Iris-Problem-Solution/master/data/IRIS.csv"
      ],
      "execution_count": 2,
      "outputs": [
        {
          "output_type": "stream",
          "text": [
            "--2019-07-19 07:00:38--  https://raw.githubusercontent.com/Verdagio/TensorFlow-Keras-Iris-Problem-Solution/master/data/IRIS.csv\n",
            "Resolving raw.githubusercontent.com (raw.githubusercontent.com)... 151.101.0.133, 151.101.64.133, 151.101.128.133, ...\n",
            "Connecting to raw.githubusercontent.com (raw.githubusercontent.com)|151.101.0.133|:443... connected.\n",
            "HTTP request sent, awaiting response... 200 OK\n",
            "Length: 3857 (3.8K) [text/plain]\n",
            "Saving to: ‘IRIS.csv’\n",
            "\n",
            "\rIRIS.csv              0%[                    ]       0  --.-KB/s               \rIRIS.csv            100%[===================>]   3.77K  --.-KB/s    in 0s      \n",
            "\n",
            "2019-07-19 07:00:39 (77.5 MB/s) - ‘IRIS.csv’ saved [3857/3857]\n",
            "\n"
          ],
          "name": "stdout"
        }
      ]
    },
    {
      "cell_type": "code",
      "metadata": {
        "id": "fN0PrdEWB7mg",
        "colab_type": "code",
        "colab": {}
      },
      "source": [
        "#load the Iris dataset\n",
        "iris = list(csv.reader(open(\"./IRIS.csv\")))[1:]\n",
        "\n",
        "# 4 inputs sepal length & width, petal length & width\n",
        "inputs = np.array(iris)[:,:4].astype(np.float)\n",
        "\n",
        "# outputs are initially strings , setosa, versicolor, virginica\n",
        "outputs = np.array(iris)[:,4]\n",
        "\n",
        "#convert the out strings to ints\n",
        "outputs_vals, outputs_inds = np.unique(outputs, return_inverse=True)"
      ],
      "execution_count": 0,
      "outputs": []
    },
    {
      "cell_type": "code",
      "metadata": {
        "id": "A8abvFMMCMY_",
        "colab_type": "code",
        "colab": {}
      },
      "source": [
        "# endocde the category integers as binary categorial vairables.\n",
        "outputs_cats = kr.utils.to_categorical(outputs_inds)\n",
        "\n",
        "# split the input & output data sets into training and test subsets\n",
        "inds = np.random.permutation(len(inputs))\n",
        "\n",
        "train_inds, test_inds = np.array_split(inds, 2)\n",
        "\n",
        "inputs_train, outputs_train = inputs[train_inds], outputs_cats[train_inds]\n",
        "inputs_test, outputs_test = inputs[test_inds], outputs_cats[test_inds]"
      ],
      "execution_count": 0,
      "outputs": []
    },
    {
      "cell_type": "code",
      "metadata": {
        "id": "WItyON_XCOcg",
        "colab_type": "code",
        "colab": {
          "base_uri": "https://localhost:8080/",
          "height": 165
        },
        "outputId": "094cb62e-a057-4870-e600-ac86bf900909"
      },
      "source": [
        "#creats a neral network\n",
        "model = kr.models.Sequential()\n",
        "\n",
        "# add an initial layer with 4 inputs nodes, and a hidden layer with 16 nodes\n",
        "model.add(kr.layers.Dense(16, input_shape=(4,)))\n",
        "\n",
        "#appy the signoid activation function to that layer\n",
        "model.add(kr.layers.Activation(\"sigmoid\"))\n",
        "\n",
        "#add another layer connected to the layet with 16 nodes containing 3 output nodes\n",
        "model.add(kr.layers.Dense(3))\n",
        "\n",
        "#use the softmax activation function there\n",
        "model.add(kr.layers.Activation(\"softmax\"))\n"
      ],
      "execution_count": 5,
      "outputs": [
        {
          "output_type": "stream",
          "text": [
            "WARNING: Logging before flag parsing goes to stderr.\n",
            "W0719 07:01:18.697710 139964815501184 deprecation_wrapper.py:119] From /usr/local/lib/python3.6/dist-packages/keras/backend/tensorflow_backend.py:74: The name tf.get_default_graph is deprecated. Please use tf.compat.v1.get_default_graph instead.\n",
            "\n",
            "W0719 07:01:18.721334 139964815501184 deprecation_wrapper.py:119] From /usr/local/lib/python3.6/dist-packages/keras/backend/tensorflow_backend.py:517: The name tf.placeholder is deprecated. Please use tf.compat.v1.placeholder instead.\n",
            "\n",
            "W0719 07:01:18.724774 139964815501184 deprecation_wrapper.py:119] From /usr/local/lib/python3.6/dist-packages/keras/backend/tensorflow_backend.py:4138: The name tf.random_uniform is deprecated. Please use tf.random.uniform instead.\n",
            "\n"
          ],
          "name": "stderr"
        }
      ]
    },
    {
      "cell_type": "code",
      "metadata": {
        "id": "v1WwccnoCOlG",
        "colab_type": "code",
        "colab": {
          "base_uri": "https://localhost:8080/",
          "height": 1000
        },
        "outputId": "1a7e17a7-ba2e-4f0a-bbfb-02042de6720e"
      },
      "source": [
        "model.compile(optimizer=\"adam\", loss=\"categorical_crossentropy\", metrics=[\"accuracy\"])\n",
        "\n",
        "model.fit(inputs_train, outputs_train, epochs=100, batch_size=1, verbose=1)\n",
        "loss, accuracy = model.evaluate(inputs_test, outputs_test, verbose=1)\n",
        "\n",
        "print(\"\\n\\nloss: %6.4f\\nAccuracy: %6.4f\"% (loss, accuracy))"
      ],
      "execution_count": 6,
      "outputs": [
        {
          "output_type": "stream",
          "text": [
            "W0719 07:01:49.220943 139964815501184 deprecation_wrapper.py:119] From /usr/local/lib/python3.6/dist-packages/keras/optimizers.py:790: The name tf.train.Optimizer is deprecated. Please use tf.compat.v1.train.Optimizer instead.\n",
            "\n",
            "W0719 07:01:49.265300 139964815501184 deprecation_wrapper.py:119] From /usr/local/lib/python3.6/dist-packages/keras/backend/tensorflow_backend.py:3295: The name tf.log is deprecated. Please use tf.math.log instead.\n",
            "\n",
            "W0719 07:01:49.378051 139964815501184 deprecation.py:323] From /usr/local/lib/python3.6/dist-packages/tensorflow/python/ops/math_grad.py:1250: add_dispatch_support.<locals>.wrapper (from tensorflow.python.ops.array_ops) is deprecated and will be removed in a future version.\n",
            "Instructions for updating:\n",
            "Use tf.where in 2.0, which has the same broadcast rule as np.where\n",
            "W0719 07:01:49.430298 139964815501184 deprecation_wrapper.py:119] From /usr/local/lib/python3.6/dist-packages/keras/backend/tensorflow_backend.py:986: The name tf.assign_add is deprecated. Please use tf.compat.v1.assign_add instead.\n",
            "\n"
          ],
          "name": "stderr"
        },
        {
          "output_type": "stream",
          "text": [
            "Epoch 1/100\n",
            "75/75 [==============================] - 1s 7ms/step - loss: 1.2937 - acc: 0.2933\n",
            "Epoch 2/100\n",
            "75/75 [==============================] - 0s 953us/step - loss: 1.1334 - acc: 0.4667\n",
            "Epoch 3/100\n",
            "75/75 [==============================] - 0s 948us/step - loss: 1.0290 - acc: 0.5867\n",
            "Epoch 4/100\n",
            "75/75 [==============================] - 0s 957us/step - loss: 0.9539 - acc: 0.6533\n",
            "Epoch 5/100\n",
            "75/75 [==============================] - 0s 938us/step - loss: 0.8934 - acc: 0.7067\n",
            "Epoch 6/100\n",
            "75/75 [==============================] - 0s 981us/step - loss: 0.8378 - acc: 0.7867\n",
            "Epoch 7/100\n",
            "75/75 [==============================] - 0s 986us/step - loss: 0.7916 - acc: 0.6800\n",
            "Epoch 8/100\n",
            "75/75 [==============================] - 0s 985us/step - loss: 0.7517 - acc: 0.6800\n",
            "Epoch 9/100\n",
            "75/75 [==============================] - 0s 912us/step - loss: 0.7166 - acc: 0.7067\n",
            "Epoch 10/100\n",
            "75/75 [==============================] - 0s 974us/step - loss: 0.6854 - acc: 0.6800\n",
            "Epoch 11/100\n",
            "75/75 [==============================] - 0s 1ms/step - loss: 0.6586 - acc: 0.6933\n",
            "Epoch 12/100\n",
            "75/75 [==============================] - 0s 997us/step - loss: 0.6339 - acc: 0.7200\n",
            "Epoch 13/100\n",
            "75/75 [==============================] - 0s 971us/step - loss: 0.6119 - acc: 0.7200\n",
            "Epoch 14/100\n",
            "75/75 [==============================] - 0s 1ms/step - loss: 0.5929 - acc: 0.6933\n",
            "Epoch 15/100\n",
            "75/75 [==============================] - 0s 961us/step - loss: 0.5756 - acc: 0.8133\n",
            "Epoch 16/100\n",
            "75/75 [==============================] - 0s 944us/step - loss: 0.5591 - acc: 0.7333\n",
            "Epoch 17/100\n",
            "75/75 [==============================] - 0s 985us/step - loss: 0.5459 - acc: 0.7733\n",
            "Epoch 18/100\n",
            "75/75 [==============================] - 0s 1ms/step - loss: 0.5296 - acc: 0.7600\n",
            "Epoch 19/100\n",
            "75/75 [==============================] - 0s 954us/step - loss: 0.5157 - acc: 0.9067\n",
            "Epoch 20/100\n",
            "75/75 [==============================] - 0s 967us/step - loss: 0.5045 - acc: 0.8800\n",
            "Epoch 21/100\n",
            "75/75 [==============================] - 0s 1ms/step - loss: 0.4926 - acc: 0.8667\n",
            "Epoch 22/100\n",
            "75/75 [==============================] - 0s 1ms/step - loss: 0.4842 - acc: 0.8533\n",
            "Epoch 23/100\n",
            "75/75 [==============================] - 0s 974us/step - loss: 0.4712 - acc: 0.8267\n",
            "Epoch 24/100\n",
            "75/75 [==============================] - 0s 972us/step - loss: 0.4672 - acc: 0.8400\n",
            "Epoch 25/100\n",
            "75/75 [==============================] - 0s 933us/step - loss: 0.4546 - acc: 0.9467\n",
            "Epoch 26/100\n",
            "75/75 [==============================] - 0s 993us/step - loss: 0.4417 - acc: 0.9467\n",
            "Epoch 27/100\n",
            "75/75 [==============================] - 0s 1ms/step - loss: 0.4348 - acc: 0.8933\n",
            "Epoch 28/100\n",
            "75/75 [==============================] - 0s 975us/step - loss: 0.4251 - acc: 0.9600\n",
            "Epoch 29/100\n",
            "75/75 [==============================] - 0s 942us/step - loss: 0.4164 - acc: 0.9333\n",
            "Epoch 30/100\n",
            "75/75 [==============================] - 0s 1ms/step - loss: 0.4083 - acc: 0.9600\n",
            "Epoch 31/100\n",
            "75/75 [==============================] - 0s 952us/step - loss: 0.4039 - acc: 0.9467\n",
            "Epoch 32/100\n",
            "75/75 [==============================] - 0s 944us/step - loss: 0.3899 - acc: 0.9600\n",
            "Epoch 33/100\n",
            "75/75 [==============================] - 0s 948us/step - loss: 0.3842 - acc: 0.9733\n",
            "Epoch 34/100\n",
            "75/75 [==============================] - 0s 976us/step - loss: 0.3762 - acc: 0.9467\n",
            "Epoch 35/100\n",
            "75/75 [==============================] - 0s 979us/step - loss: 0.3707 - acc: 0.9733\n",
            "Epoch 36/100\n",
            "75/75 [==============================] - 0s 960us/step - loss: 0.3629 - acc: 0.9733\n",
            "Epoch 37/100\n",
            "75/75 [==============================] - 0s 944us/step - loss: 0.3547 - acc: 0.9733\n",
            "Epoch 38/100\n",
            "75/75 [==============================] - 0s 993us/step - loss: 0.3520 - acc: 0.9733\n",
            "Epoch 39/100\n",
            "75/75 [==============================] - 0s 984us/step - loss: 0.3447 - acc: 0.9733\n",
            "Epoch 40/100\n",
            "75/75 [==============================] - 0s 1ms/step - loss: 0.3346 - acc: 0.9600\n",
            "Epoch 41/100\n",
            "75/75 [==============================] - 0s 1ms/step - loss: 0.3312 - acc: 0.9733\n",
            "Epoch 42/100\n",
            "75/75 [==============================] - 0s 1ms/step - loss: 0.3227 - acc: 0.9600\n",
            "Epoch 43/100\n",
            "75/75 [==============================] - 0s 1ms/step - loss: 0.3179 - acc: 0.9600\n",
            "Epoch 44/100\n",
            "75/75 [==============================] - 0s 1ms/step - loss: 0.3107 - acc: 0.9867\n",
            "Epoch 45/100\n",
            "75/75 [==============================] - 0s 972us/step - loss: 0.3075 - acc: 0.9733\n",
            "Epoch 46/100\n",
            "75/75 [==============================] - 0s 1ms/step - loss: 0.3001 - acc: 0.9733\n",
            "Epoch 47/100\n",
            "75/75 [==============================] - 0s 939us/step - loss: 0.2960 - acc: 0.9867\n",
            "Epoch 48/100\n",
            "75/75 [==============================] - 0s 950us/step - loss: 0.2881 - acc: 0.9600\n",
            "Epoch 49/100\n",
            "75/75 [==============================] - 0s 993us/step - loss: 0.2878 - acc: 0.9733\n",
            "Epoch 50/100\n",
            "75/75 [==============================] - 0s 1ms/step - loss: 0.2779 - acc: 0.9733\n",
            "Epoch 51/100\n",
            "75/75 [==============================] - 0s 979us/step - loss: 0.2777 - acc: 0.9867\n",
            "Epoch 52/100\n",
            "75/75 [==============================] - 0s 1ms/step - loss: 0.2684 - acc: 0.9600\n",
            "Epoch 53/100\n",
            "75/75 [==============================] - 0s 982us/step - loss: 0.2657 - acc: 0.9733\n",
            "Epoch 54/100\n",
            "75/75 [==============================] - 0s 963us/step - loss: 0.2672 - acc: 0.9733\n",
            "Epoch 55/100\n",
            "75/75 [==============================] - 0s 958us/step - loss: 0.2555 - acc: 0.9600\n",
            "Epoch 56/100\n",
            "75/75 [==============================] - 0s 997us/step - loss: 0.2521 - acc: 0.9867\n",
            "Epoch 57/100\n",
            "75/75 [==============================] - 0s 1ms/step - loss: 0.2471 - acc: 0.9867\n",
            "Epoch 58/100\n",
            "75/75 [==============================] - 0s 1ms/step - loss: 0.2442 - acc: 0.9867\n",
            "Epoch 59/100\n",
            "75/75 [==============================] - 0s 1ms/step - loss: 0.2373 - acc: 0.9600\n",
            "Epoch 60/100\n",
            "75/75 [==============================] - 0s 997us/step - loss: 0.2324 - acc: 0.9733\n",
            "Epoch 61/100\n",
            "75/75 [==============================] - 0s 1ms/step - loss: 0.2301 - acc: 0.9867\n",
            "Epoch 62/100\n",
            "75/75 [==============================] - 0s 988us/step - loss: 0.2290 - acc: 0.9733\n",
            "Epoch 63/100\n",
            "75/75 [==============================] - 0s 984us/step - loss: 0.2230 - acc: 0.9733\n",
            "Epoch 64/100\n",
            "75/75 [==============================] - 0s 1ms/step - loss: 0.2176 - acc: 0.9867\n",
            "Epoch 65/100\n",
            "75/75 [==============================] - 0s 986us/step - loss: 0.2121 - acc: 0.9733\n",
            "Epoch 66/100\n",
            "75/75 [==============================] - 0s 1ms/step - loss: 0.2108 - acc: 0.9733\n",
            "Epoch 67/100\n",
            "75/75 [==============================] - 0s 981us/step - loss: 0.2050 - acc: 0.9733\n",
            "Epoch 68/100\n",
            "75/75 [==============================] - 0s 981us/step - loss: 0.2030 - acc: 0.9867\n",
            "Epoch 69/100\n",
            "75/75 [==============================] - 0s 995us/step - loss: 0.2017 - acc: 0.9733\n",
            "Epoch 70/100\n",
            "75/75 [==============================] - 0s 1ms/step - loss: 0.1957 - acc: 0.9733\n",
            "Epoch 71/100\n",
            "75/75 [==============================] - 0s 1ms/step - loss: 0.1924 - acc: 0.9867\n",
            "Epoch 72/100\n",
            "75/75 [==============================] - 0s 1ms/step - loss: 0.1915 - acc: 0.9867\n",
            "Epoch 73/100\n",
            "75/75 [==============================] - 0s 969us/step - loss: 0.1885 - acc: 0.9867\n",
            "Epoch 74/100\n",
            "75/75 [==============================] - 0s 1ms/step - loss: 0.1867 - acc: 0.9733\n",
            "Epoch 75/100\n",
            "75/75 [==============================] - 0s 988us/step - loss: 0.1835 - acc: 0.9733\n",
            "Epoch 76/100\n",
            "75/75 [==============================] - 0s 977us/step - loss: 0.1778 - acc: 0.9733\n",
            "Epoch 77/100\n",
            "75/75 [==============================] - 0s 991us/step - loss: 0.1776 - acc: 0.9867\n",
            "Epoch 78/100\n",
            "75/75 [==============================] - 0s 984us/step - loss: 0.1721 - acc: 0.9733\n",
            "Epoch 79/100\n",
            "75/75 [==============================] - 0s 1ms/step - loss: 0.1704 - acc: 0.9867\n",
            "Epoch 80/100\n",
            "75/75 [==============================] - 0s 1ms/step - loss: 0.1699 - acc: 0.9733\n",
            "Epoch 81/100\n",
            "75/75 [==============================] - 0s 984us/step - loss: 0.1659 - acc: 0.9867\n",
            "Epoch 82/100\n",
            "75/75 [==============================] - 0s 950us/step - loss: 0.1620 - acc: 0.9867\n",
            "Epoch 83/100\n",
            "75/75 [==============================] - 0s 1ms/step - loss: 0.1587 - acc: 0.9867\n",
            "Epoch 84/100\n",
            "75/75 [==============================] - 0s 1ms/step - loss: 0.1601 - acc: 0.9733\n",
            "Epoch 85/100\n",
            "75/75 [==============================] - 0s 1ms/step - loss: 0.1578 - acc: 0.9733\n",
            "Epoch 86/100\n",
            "75/75 [==============================] - 0s 971us/step - loss: 0.1538 - acc: 0.9733\n",
            "Epoch 87/100\n",
            "75/75 [==============================] - 0s 1ms/step - loss: 0.1564 - acc: 0.9733\n",
            "Epoch 88/100\n",
            "75/75 [==============================] - 0s 972us/step - loss: 0.1500 - acc: 0.9733\n",
            "Epoch 89/100\n",
            "75/75 [==============================] - 0s 1ms/step - loss: 0.1474 - acc: 0.9867\n",
            "Epoch 90/100\n",
            "75/75 [==============================] - 0s 979us/step - loss: 0.1525 - acc: 0.9867\n",
            "Epoch 91/100\n",
            "75/75 [==============================] - 0s 1ms/step - loss: 0.1431 - acc: 0.9733\n",
            "Epoch 92/100\n",
            "75/75 [==============================] - 0s 1ms/step - loss: 0.1396 - acc: 0.9867\n",
            "Epoch 93/100\n",
            "75/75 [==============================] - 0s 1ms/step - loss: 0.1388 - acc: 0.9733\n",
            "Epoch 94/100\n",
            "75/75 [==============================] - 0s 986us/step - loss: 0.1378 - acc: 0.9867\n",
            "Epoch 95/100\n",
            "75/75 [==============================] - 0s 943us/step - loss: 0.1437 - acc: 0.9733\n",
            "Epoch 96/100\n",
            "75/75 [==============================] - 0s 992us/step - loss: 0.1358 - acc: 0.9600\n",
            "Epoch 97/100\n",
            "75/75 [==============================] - 0s 970us/step - loss: 0.1345 - acc: 0.9867\n",
            "Epoch 98/100\n",
            "75/75 [==============================] - 0s 978us/step - loss: 0.1326 - acc: 0.9733\n",
            "Epoch 99/100\n",
            "75/75 [==============================] - 0s 959us/step - loss: 0.1300 - acc: 0.9867\n",
            "Epoch 100/100\n",
            "75/75 [==============================] - 0s 1ms/step - loss: 0.1281 - acc: 0.9733\n",
            "75/75 [==============================] - 0s 420us/step\n",
            "\n",
            "\n",
            "loss: 0.1058\n",
            "Accuracy: 0.9733\n"
          ],
          "name": "stdout"
        }
      ]
    },
    {
      "cell_type": "code",
      "metadata": {
        "id": "T9gNWcWYCOok",
        "colab_type": "code",
        "colab": {
          "base_uri": "https://localhost:8080/",
          "height": 54
        },
        "outputId": "778ca35f-b5a6-4793-d904-d3a603779cb7"
      },
      "source": [
        "prediction = np.around(model.predict(np.expand_dims(inputs_test[0], axis=0))).astype(np.int)[0]\n",
        "print(\"Actual: %s\\tEstimated: %s\" % (outputs_test[0].astype(np.int), prediction))\n",
        "print(\"That means it's a %s\" % outputs_vals[prediction.astype(np.bool)][0])\n",
        "\n"
      ],
      "execution_count": 7,
      "outputs": [
        {
          "output_type": "stream",
          "text": [
            "Actual: [0 0 1]\tEstimated: [0 0 1]\n",
            "That means it's a virginica\n"
          ],
          "name": "stdout"
        }
      ]
    }
  ]
}