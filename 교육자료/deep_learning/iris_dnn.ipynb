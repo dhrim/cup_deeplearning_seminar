{
  "nbformat": 4,
  "nbformat_minor": 0,
  "metadata": {
    "colab": {
      "name": "iris_dnn.ipynb",
      "version": "0.3.2",
      "provenance": [],
      "collapsed_sections": []
    },
    "kernelspec": {
      "name": "python3",
      "display_name": "Python 3"
    }
  },
  "cells": [
    {
      "cell_type": "code",
      "metadata": {
        "id": "nPqzpGCsB1BF",
        "colab_type": "code",
        "colab": {}
      },
      "source": [
        "import csv\n",
        "import numpy as np\n",
        "import pandas as pd"
      ],
      "execution_count": 0,
      "outputs": []
    },
    {
      "cell_type": "code",
      "metadata": {
        "id": "5AzjW3DD4BEO",
        "colab_type": "code",
        "colab": {
          "base_uri": "https://localhost:8080/",
          "height": 195
        },
        "outputId": "2a5373a2-9f49-4996-9944-598dd1648b3b"
      },
      "source": [
        "iris = pd.read_csv(\"iris.csv\")\n",
        "iris.head()"
      ],
      "execution_count": 40,
      "outputs": [
        {
          "output_type": "execute_result",
          "data": {
            "text/html": [
              "<div>\n",
              "<style scoped>\n",
              "    .dataframe tbody tr th:only-of-type {\n",
              "        vertical-align: middle;\n",
              "    }\n",
              "\n",
              "    .dataframe tbody tr th {\n",
              "        vertical-align: top;\n",
              "    }\n",
              "\n",
              "    .dataframe thead th {\n",
              "        text-align: right;\n",
              "    }\n",
              "</style>\n",
              "<table border=\"1\" class=\"dataframe\">\n",
              "  <thead>\n",
              "    <tr style=\"text-align: right;\">\n",
              "      <th></th>\n",
              "      <th>septal_length</th>\n",
              "      <th>septal_width</th>\n",
              "      <th>petal_length</th>\n",
              "      <th>petal_width</th>\n",
              "      <th>setosa</th>\n",
              "      <th>versicolor</th>\n",
              "      <th>virginica</th>\n",
              "    </tr>\n",
              "  </thead>\n",
              "  <tbody>\n",
              "    <tr>\n",
              "      <th>0</th>\n",
              "      <td>6.4</td>\n",
              "      <td>2.8</td>\n",
              "      <td>5.6</td>\n",
              "      <td>2.2</td>\n",
              "      <td>0</td>\n",
              "      <td>0</td>\n",
              "      <td>1</td>\n",
              "    </tr>\n",
              "    <tr>\n",
              "      <th>1</th>\n",
              "      <td>5.0</td>\n",
              "      <td>2.3</td>\n",
              "      <td>3.3</td>\n",
              "      <td>1.0</td>\n",
              "      <td>0</td>\n",
              "      <td>1</td>\n",
              "      <td>0</td>\n",
              "    </tr>\n",
              "    <tr>\n",
              "      <th>2</th>\n",
              "      <td>4.9</td>\n",
              "      <td>2.5</td>\n",
              "      <td>4.5</td>\n",
              "      <td>1.7</td>\n",
              "      <td>0</td>\n",
              "      <td>0</td>\n",
              "      <td>1</td>\n",
              "    </tr>\n",
              "    <tr>\n",
              "      <th>3</th>\n",
              "      <td>4.9</td>\n",
              "      <td>3.1</td>\n",
              "      <td>1.5</td>\n",
              "      <td>0.1</td>\n",
              "      <td>1</td>\n",
              "      <td>0</td>\n",
              "      <td>0</td>\n",
              "    </tr>\n",
              "    <tr>\n",
              "      <th>4</th>\n",
              "      <td>5.7</td>\n",
              "      <td>3.8</td>\n",
              "      <td>1.7</td>\n",
              "      <td>0.3</td>\n",
              "      <td>1</td>\n",
              "      <td>0</td>\n",
              "      <td>0</td>\n",
              "    </tr>\n",
              "  </tbody>\n",
              "</table>\n",
              "</div>"
            ],
            "text/plain": [
              "   septal_length  septal_width  petal_length  ...  setosa  versicolor  virginica\n",
              "0            6.4           2.8           5.6  ...       0           0          1\n",
              "1            5.0           2.3           3.3  ...       0           1          0\n",
              "2            4.9           2.5           4.5  ...       0           0          1\n",
              "3            4.9           3.1           1.5  ...       1           0          0\n",
              "4            5.7           3.8           1.7  ...       1           0          0\n",
              "\n",
              "[5 rows x 7 columns]"
            ]
          },
          "metadata": {
            "tags": []
          },
          "execution_count": 40
        }
      ]
    },
    {
      "cell_type": "code",
      "metadata": {
        "id": "84J6VStQ4BG0",
        "colab_type": "code",
        "colab": {
          "base_uri": "https://localhost:8080/",
          "height": 218
        },
        "outputId": "a06764f5-d121-4d86-9327-9c458c7d0113"
      },
      "source": [
        "iris.info()"
      ],
      "execution_count": 42,
      "outputs": [
        {
          "output_type": "stream",
          "text": [
            "<class 'pandas.core.frame.DataFrame'>\n",
            "RangeIndex: 120 entries, 0 to 119\n",
            "Data columns (total 7 columns):\n",
            "septal_length    120 non-null float64\n",
            "septal_width     120 non-null float64\n",
            "petal_length     120 non-null float64\n",
            "petal_width      120 non-null float64\n",
            "setosa           120 non-null int64\n",
            "versicolor       120 non-null int64\n",
            "virginica        120 non-null int64\n",
            "dtypes: float64(4), int64(3)\n",
            "memory usage: 6.6 KB\n"
          ],
          "name": "stdout"
        }
      ]
    },
    {
      "cell_type": "code",
      "metadata": {
        "id": "jxSyc1l54BJm",
        "colab_type": "code",
        "colab": {
          "base_uri": "https://localhost:8080/",
          "height": 118
        },
        "outputId": "16afaf9a-cba6-4743-dbec-3b7e95c35b0b"
      },
      "source": [
        "data = iris.to_numpy()\n",
        "print(data.shape)\n",
        "print(data[:5])"
      ],
      "execution_count": 50,
      "outputs": [
        {
          "output_type": "stream",
          "text": [
            "(120, 7)\n",
            "[[6.4 2.8 5.6 2.2 0.  0.  1. ]\n",
            " [5.  2.3 3.3 1.  0.  1.  0. ]\n",
            " [4.9 2.5 4.5 1.7 0.  0.  1. ]\n",
            " [4.9 3.1 1.5 0.1 1.  0.  0. ]\n",
            " [5.7 3.8 1.7 0.3 1.  0.  0. ]]\n"
          ],
          "name": "stdout"
        }
      ]
    },
    {
      "cell_type": "code",
      "metadata": {
        "id": "PEleuDlT4WKc",
        "colab_type": "code",
        "colab": {
          "base_uri": "https://localhost:8080/",
          "height": 118
        },
        "outputId": "902431ed-c125-4113-db16-eb4217b250cd"
      },
      "source": [
        "train, test = data[:100], data[100:]\n",
        "print(train.shape)\n",
        "print(test.shape)\n",
        "\n",
        "train_input, train_output = train[:,:4], train[:,4:]\n",
        "test_input, test_output = test[:,:4], test[:,4:]\n",
        "\n",
        "print(train_input.shape)\n",
        "print(train_output.shape)\n",
        "\n",
        "print(test_input.shape)\n",
        "print(test_output.shape)"
      ],
      "execution_count": 48,
      "outputs": [
        {
          "output_type": "stream",
          "text": [
            "(100, 7)\n",
            "(20, 7)\n",
            "(100, 4)\n",
            "(100, 3)\n",
            "(20, 4)\n",
            "(20, 3)\n"
          ],
          "name": "stdout"
        }
      ]
    },
    {
      "cell_type": "code",
      "metadata": {
        "id": "cFe0BehG51mP",
        "colab_type": "code",
        "colab": {}
      },
      "source": [
        "import tensorflow as tf\n",
        "from tensorflow import keras\n",
        "\n",
        "import numpy as np\n",
        "import matplotlib.pyplot as plt"
      ],
      "execution_count": 0,
      "outputs": []
    },
    {
      "cell_type": "code",
      "metadata": {
        "id": "SJmp-8zD5gR2",
        "colab_type": "code",
        "colab": {}
      },
      "source": [
        "model = keras.Sequential([\n",
        "    keras.layers.Dense(10, activation='relu'),\n",
        "    keras.layers.Dense(10, activation='relu'),\n",
        "    keras.layers.Dense(3, activation='softmax')\n",
        "])"
      ],
      "execution_count": 0,
      "outputs": []
    },
    {
      "cell_type": "code",
      "metadata": {
        "id": "dqazsLAq5st-",
        "colab_type": "code",
        "colab": {}
      },
      "source": [
        "model.compile(optimizer='adam',\n",
        "              loss='categorical_crossentropy',\n",
        "              metrics=['accuracy'])"
      ],
      "execution_count": 0,
      "outputs": []
    },
    {
      "cell_type": "code",
      "metadata": {
        "id": "za5XB-365gU3",
        "colab_type": "code",
        "colab": {
          "base_uri": "https://localhost:8080/",
          "height": 370
        },
        "outputId": "77c7e5e5-b8a4-4295-f894-433101e8be6d"
      },
      "source": [
        "model.fit(train_input, train_output, epochs=10)"
      ],
      "execution_count": 65,
      "outputs": [
        {
          "output_type": "stream",
          "text": [
            "Epoch 1/10\n",
            "100/100 [==============================] - 0s 132us/sample - loss: 0.1916 - acc: 0.9700\n",
            "Epoch 2/10\n",
            "100/100 [==============================] - 0s 77us/sample - loss: 0.1908 - acc: 0.9700\n",
            "Epoch 3/10\n",
            "100/100 [==============================] - 0s 80us/sample - loss: 0.1905 - acc: 0.9700\n",
            "Epoch 4/10\n",
            "100/100 [==============================] - 0s 73us/sample - loss: 0.1878 - acc: 0.9600\n",
            "Epoch 5/10\n",
            "100/100 [==============================] - 0s 98us/sample - loss: 0.1861 - acc: 0.9700\n",
            "Epoch 6/10\n",
            "100/100 [==============================] - 0s 100us/sample - loss: 0.1854 - acc: 0.9700\n",
            "Epoch 7/10\n",
            "100/100 [==============================] - 0s 92us/sample - loss: 0.1841 - acc: 0.9700\n",
            "Epoch 8/10\n",
            "100/100 [==============================] - 0s 90us/sample - loss: 0.1825 - acc: 0.9700\n",
            "Epoch 9/10\n",
            "100/100 [==============================] - 0s 87us/sample - loss: 0.1813 - acc: 0.9700\n",
            "Epoch 10/10\n",
            "100/100 [==============================] - 0s 95us/sample - loss: 0.1827 - acc: 0.9600\n"
          ],
          "name": "stdout"
        },
        {
          "output_type": "execute_result",
          "data": {
            "text/plain": [
              "<tensorflow.python.keras.callbacks.History at 0x7f52fbe116d8>"
            ]
          },
          "metadata": {
            "tags": []
          },
          "execution_count": 65
        }
      ]
    },
    {
      "cell_type": "code",
      "metadata": {
        "id": "76wFgAkT7Axp",
        "colab_type": "code",
        "colab": {
          "base_uri": "https://localhost:8080/",
          "height": 67
        },
        "outputId": "dae0bbe6-fadd-48a3-e265-20535a4de04b"
      },
      "source": [
        "test_loss, test_acc = model.evaluate(test_input, test_output)\n",
        "\n",
        "print(\"test_loss :\", test_loss)\n",
        "print(\"test_acc :\", test_acc)\n"
      ],
      "execution_count": 67,
      "outputs": [
        {
          "output_type": "stream",
          "text": [
            "\r20/20 [==============================] - 0s 1ms/sample - loss: 0.0984 - acc: 1.0000\n",
            "test_loss : 0.09835753589868546\n",
            "test_acc : 1.0\n"
          ],
          "name": "stdout"
        }
      ]
    },
    {
      "cell_type": "code",
      "metadata": {
        "id": "vYQYwQh67OuV",
        "colab_type": "code",
        "colab": {
          "base_uri": "https://localhost:8080/",
          "height": 370
        },
        "outputId": "6902073c-d603-449e-915c-76459c0a07bd"
      },
      "source": [
        "test_prediction = model.predict(test_input)\n",
        "print(test_prediction)\n",
        "print(np.argmax(test_prediction, axis=1))"
      ],
      "execution_count": 71,
      "outputs": [
        {
          "output_type": "stream",
          "text": [
            "[[9.85690653e-01 1.30305002e-02 1.27877016e-03]\n",
            " [4.91744094e-02 8.41030717e-01 1.09794855e-01]\n",
            " [9.42748904e-01 5.15238605e-02 5.72719099e-03]\n",
            " [2.45031212e-02 8.77072215e-01 9.84246507e-02]\n",
            " [9.82676923e-01 1.58111770e-02 1.51182909e-03]\n",
            " [9.93531525e-01 5.92408748e-03 5.44496754e-04]\n",
            " [9.95485485e-01 4.14847536e-03 3.65998480e-04]\n",
            " [9.95148599e-01 4.42059012e-03 4.30902583e-04]\n",
            " [3.38514596e-02 8.44347358e-01 1.21801212e-01]\n",
            " [9.81614888e-01 1.67711638e-02 1.61392184e-03]\n",
            " [2.36458349e-04 2.44538978e-01 7.55224586e-01]\n",
            " [1.09420363e-02 7.76585042e-01 2.12472916e-01]\n",
            " [9.79464591e-01 1.88219659e-02 1.71341957e-03]\n",
            " [3.63094614e-06 3.33414599e-02 9.66654897e-01]\n",
            " [9.75441992e-01 2.23363563e-02 2.22165859e-03]\n",
            " [5.87891648e-03 6.73443496e-01 3.20677668e-01]\n",
            " [1.80046298e-02 8.41725290e-01 1.40270084e-01]\n",
            " [9.80069399e-01 1.79315191e-02 1.99910486e-03]\n",
            " [9.88647878e-01 1.03301471e-02 1.02196261e-03]\n",
            " [2.73047742e-02 8.55498075e-01 1.17197059e-01]]\n",
            "[0 1 0 1 0 0 0 0 1 0 2 1 0 2 0 1 1 0 0 1]\n"
          ],
          "name": "stdout"
        }
      ]
    }
  ]
}