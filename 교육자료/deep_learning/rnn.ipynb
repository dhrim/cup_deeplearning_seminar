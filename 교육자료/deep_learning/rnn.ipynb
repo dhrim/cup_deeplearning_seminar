{
  "nbformat": 4,
  "nbformat_minor": 0,
  "metadata": {
    "colab": {
      "name": "rnn.ipynb",
      "version": "0.3.2",
      "provenance": []
    },
    "kernelspec": {
      "name": "python3",
      "display_name": "Python 3"
    },
    "accelerator": "GPU"
  },
  "cells": [
    {
      "cell_type": "markdown",
      "metadata": {
        "id": "LmPpiSgcPpJl",
        "colab_type": "text"
      },
      "source": [
        "# Emdedding을 사용한 문장 분류\n",
        "\n",
        "copy from https://www.tensorflow.org/beta/tutorials/text/word_embeddings"
      ]
    },
    {
      "cell_type": "code",
      "metadata": {
        "id": "h1nRIr8bgvri",
        "colab_type": "code",
        "colab": {}
      },
      "source": [
        "!pip install -q tensorflow-gpu==2.0.0-beta1\n"
      ],
      "execution_count": 0,
      "outputs": []
    },
    {
      "cell_type": "code",
      "metadata": {
        "id": "mPAKE_HVO5g7",
        "colab_type": "code",
        "colab": {}
      },
      "source": [
        "import tensorflow as tf\n",
        "\n",
        "from tensorflow import keras\n",
        "from tensorflow.keras import layers"
      ],
      "execution_count": 0,
      "outputs": []
    },
    {
      "cell_type": "code",
      "metadata": {
        "id": "XclBj0pMg8ji",
        "colab_type": "code",
        "outputId": "94897492-fd06-407e-d365-6e9523ebc858",
        "colab": {
          "base_uri": "https://localhost:8080/",
          "height": 34
        }
      },
      "source": [
        "print(tf.__version__)"
      ],
      "execution_count": 0,
      "outputs": [
        {
          "output_type": "stream",
          "text": [
            "2.0.0-beta1\n"
          ],
          "name": "stdout"
        }
      ]
    },
    {
      "cell_type": "markdown",
      "metadata": {
        "id": "HXlqUqyEVyPf",
        "colab_type": "text"
      },
      "source": [
        "## Embedding Layer\n",
        "\n",
        "Embedding(input_dim, output_dim)\n",
        "\n",
        "input.shape : (batch_size, sequence_length)\n",
        "\n",
        "output.shape : (batch_size, sequence_length, output_dim)\n",
        "\n",
        "```\n",
        "model.add(Embedding(1000, 32)) # 단어의 갯수가 1000개, 임베딩된 결과가 32차원 백터\n",
        "```\n",
        "\n",
        "입력은 고정된 갯수(sequence_length)의 숫자\n",
        " \n",
        "출력은 입력 각 숫자마다 임베딩된 숫자들\n",
        "\n",
        "```\n",
        "원 text = [ cat dog horse ]\n",
        "input =  [ 123, 234, 456 ] # 123: cat의 사전 인덱스\n",
        "\n",
        "output\n",
        "[1 0 1 0] # 임베딩된 123\n",
        "[0 0 1 1] # 임베딩된 234\n",
        "[1 1 1 0] # 임베딩된 456\n",
        "\n",
        "```\n",
        "\n"
      ]
    },
    {
      "cell_type": "markdown",
      "metadata": {
        "id": "zM5LUiQzY4oI",
        "colab_type": "text"
      },
      "source": [
        "## IMDB\n",
        "\n",
        "Internet Movie DB\n",
        "\n",
        "영화리뷰. y는 긍정/부정의 1 or 0"
      ]
    },
    {
      "cell_type": "code",
      "metadata": {
        "id": "_usnXI6kPmuD",
        "colab_type": "code",
        "colab": {}
      },
      "source": [
        "vocab_size = 10000\n",
        "imdb = keras.datasets.imdb\n",
        "(train_x, train_y), (test_x, test_y) = imdb.load_data(num_words=vocab_size)"
      ],
      "execution_count": 0,
      "outputs": []
    },
    {
      "cell_type": "code",
      "metadata": {
        "id": "UBrtvNVfQlOu",
        "colab_type": "code",
        "outputId": "ace4ff66-1c01-496f-bfe9-e5ad9224c5fc",
        "colab": {
          "base_uri": "https://localhost:8080/",
          "height": 188
        }
      },
      "source": [
        "print(train_x.shape)\n",
        "print(train_y.shape)\n",
        "print(test_x.shape)\n",
        "print(test_y.shape)\n",
        "\n",
        "print(train_x[0])\n",
        "print(len(train_x[0]))\n",
        "print(train_x[1])\n",
        "print(len(train_x[1]))\n",
        "\n",
        "print(train_y[:20])\n"
      ],
      "execution_count": 0,
      "outputs": [
        {
          "output_type": "stream",
          "text": [
            "(25000,)\n",
            "(25000,)\n",
            "(25000,)\n",
            "(25000,)\n",
            "[1, 14, 22, 16, 43, 530, 973, 1622, 1385, 65, 458, 4468, 66, 3941, 4, 173, 36, 256, 5, 25, 100, 43, 838, 112, 50, 670, 2, 9, 35, 480, 284, 5, 150, 4, 172, 112, 167, 2, 336, 385, 39, 4, 172, 4536, 1111, 17, 546, 38, 13, 447, 4, 192, 50, 16, 6, 147, 2025, 19, 14, 22, 4, 1920, 4613, 469, 4, 22, 71, 87, 12, 16, 43, 530, 38, 76, 15, 13, 1247, 4, 22, 17, 515, 17, 12, 16, 626, 18, 2, 5, 62, 386, 12, 8, 316, 8, 106, 5, 4, 2223, 5244, 16, 480, 66, 3785, 33, 4, 130, 12, 16, 38, 619, 5, 25, 124, 51, 36, 135, 48, 25, 1415, 33, 6, 22, 12, 215, 28, 77, 52, 5, 14, 407, 16, 82, 2, 8, 4, 107, 117, 5952, 15, 256, 4, 2, 7, 3766, 5, 723, 36, 71, 43, 530, 476, 26, 400, 317, 46, 7, 4, 2, 1029, 13, 104, 88, 4, 381, 15, 297, 98, 32, 2071, 56, 26, 141, 6, 194, 7486, 18, 4, 226, 22, 21, 134, 476, 26, 480, 5, 144, 30, 5535, 18, 51, 36, 28, 224, 92, 25, 104, 4, 226, 65, 16, 38, 1334, 88, 12, 16, 283, 5, 16, 4472, 113, 103, 32, 15, 16, 5345, 19, 178, 32]\n",
            "218\n",
            "[1, 194, 1153, 194, 8255, 78, 228, 5, 6, 1463, 4369, 5012, 134, 26, 4, 715, 8, 118, 1634, 14, 394, 20, 13, 119, 954, 189, 102, 5, 207, 110, 3103, 21, 14, 69, 188, 8, 30, 23, 7, 4, 249, 126, 93, 4, 114, 9, 2300, 1523, 5, 647, 4, 116, 9, 35, 8163, 4, 229, 9, 340, 1322, 4, 118, 9, 4, 130, 4901, 19, 4, 1002, 5, 89, 29, 952, 46, 37, 4, 455, 9, 45, 43, 38, 1543, 1905, 398, 4, 1649, 26, 6853, 5, 163, 11, 3215, 2, 4, 1153, 9, 194, 775, 7, 8255, 2, 349, 2637, 148, 605, 2, 8003, 15, 123, 125, 68, 2, 6853, 15, 349, 165, 4362, 98, 5, 4, 228, 9, 43, 2, 1157, 15, 299, 120, 5, 120, 174, 11, 220, 175, 136, 50, 9, 4373, 228, 8255, 5, 2, 656, 245, 2350, 5, 4, 9837, 131, 152, 491, 18, 2, 32, 7464, 1212, 14, 9, 6, 371, 78, 22, 625, 64, 1382, 9, 8, 168, 145, 23, 4, 1690, 15, 16, 4, 1355, 5, 28, 6, 52, 154, 462, 33, 89, 78, 285, 16, 145, 95]\n",
            "189\n",
            "[1 0 0 1 0 0 1 0 1 0 1 0 0 0 0 0 1 1 0 1]\n"
          ],
          "name": "stdout"
        }
      ]
    },
    {
      "cell_type": "code",
      "metadata": {
        "id": "hxPStKERRTyH",
        "colab_type": "code",
        "outputId": "9175a4d6-43f0-4b84-83c1-3495de3408a5",
        "colab": {
          "base_uri": "https://localhost:8080/",
          "height": 67
        }
      },
      "source": [
        "# numpy는 길이가 서로 다른 리스트들을 요소로 가지고 있을 수 있다.\n",
        "import numpy as np\n",
        "a = np.array([[1,2,3], [4,5,6,7,8,9]])\n",
        "print(a.shape)\n",
        "print(type(a[0]))\n",
        "print(type(a[1]))\n",
        "\n"
      ],
      "execution_count": 0,
      "outputs": [
        {
          "output_type": "stream",
          "text": [
            "(2,)\n",
            "<class 'list'>\n",
            "<class 'list'>\n"
          ],
          "name": "stdout"
        }
      ]
    },
    {
      "cell_type": "markdown",
      "metadata": {
        "id": "Niq5UeQfZS_8",
        "colab_type": "text"
      },
      "source": [
        "## 사전 생성\n",
        "\n",
        "- word_index : 단어 -> 인덱스\n",
        "- reverse_word_index : 인덱스 -> 단어\n",
        "\n"
      ]
    },
    {
      "cell_type": "code",
      "metadata": {
        "id": "lx0XqrEkR480",
        "colab_type": "code",
        "outputId": "33cb2449-2ef7-42b6-c40e-c387e1167aac",
        "colab": {
          "base_uri": "https://localhost:8080/",
          "height": 54
        }
      },
      "source": [
        "word_index = imdb.get_word_index()\n",
        "# word_index = {'fawn': 34701, 'tsukino': 52006, ... }\n",
        "\n",
        "\n",
        "# The first indices are reserved\n",
        "word_index = {k:(v+3) for k,v in word_index.items()}\n",
        "# word_index = {'fawn': 34701+3, 'tsukino': 52006+3, ... }\n",
        "\n",
        "word_index[\"<PAD>\"] = 0\n",
        "word_index[\"<START>\"] = 1\n",
        "word_index[\"<UNK>\"] = 2  # unknown\n",
        "word_index[\"<UNUSED>\"] = 3\n",
        "# word_index = {'<PAD>':0, '<START>':1, '<UNK>':2, '<UNUSED>':3, fawn': 34701+3, 'tsukino': 52006+3, ... }\n",
        "\n",
        "reverse_word_index = dict([(value, key) for (key, value) in word_index.items()])\n",
        "# reverse_word_index = {0:'<PAD>', 1:'<START>', 2:'<UNK>', 3:'<UNUSED>', 34701+3:'fawn', 52006+3:'tsukino', ... }\n",
        "\n",
        "def decode_review(text):\n",
        "    return ' '.join([reverse_word_index.get(i, '?') for i in text])\n",
        "\n",
        "decode_review(train_x[0])"
      ],
      "execution_count": 0,
      "outputs": [
        {
          "output_type": "execute_result",
          "data": {
            "text/plain": [
              "\"<START> this film was just brilliant casting location scenery story direction everyone's really suited the part they played and you could just imagine being there robert <UNK> is an amazing actor and now the same being director <UNK> father came from the same scottish island as myself so i loved the fact there was a real connection with this film the witty remarks throughout the film were great it was just brilliant so much that i bought the film as soon as it was released for <UNK> and would recommend it to everyone to watch and the fly fishing was amazing really cried at the end it was so sad and you know what they say if you cry at a film it must have been good and this definitely was also <UNK> to the two little boy's that played the <UNK> of norman and paul they were just brilliant children are often left out of the <UNK> list i think because the stars that play them all grown up are such a big profile for the whole film but these children are amazing and should be praised for what they have done don't you think the whole story was so lovely because it was true and was someone's life after all that was shared with us all\""
            ]
          },
          "metadata": {
            "tags": []
          },
          "execution_count": 8
        }
      ]
    },
    {
      "cell_type": "markdown",
      "metadata": {
        "id": "o3a8biGoZJdJ",
        "colab_type": "text"
      },
      "source": [
        "## 고정 길이로 데이터 변경\n",
        "\n",
        "\n",
        "각기 다른 길이의 train_x를 고정된 길이 500으로 만듬"
      ]
    },
    {
      "cell_type": "code",
      "metadata": {
        "id": "qD057kRbTjbx",
        "colab_type": "code",
        "outputId": "ff4aa394-c831-40ad-f9c4-58644b1a1871",
        "colab": {
          "base_uri": "https://localhost:8080/",
          "height": 638
        }
      },
      "source": [
        "from keras.preprocessing import sequence\n",
        "\n",
        "maxlen = 500\n",
        "\n",
        "# 모든 데이터를 길이 500으로 만듬. \"<PAD>\"에 해당하는 0으로 채워 넣음\n",
        "train_x = sequence.pad_sequences(\n",
        "    train_x,\n",
        "    value=word_index[\"<PAD>\"],\n",
        "    padding='post',\n",
        "    maxlen=maxlen\n",
        ")\n",
        "\n",
        "test_x = sequence.pad_sequences(\n",
        "    test_x,\n",
        "    value=word_index[\"<PAD>\"],\n",
        "    padding='post',\n",
        "    maxlen=maxlen\n",
        ")\n",
        "\n",
        "print(train_x[0])"
      ],
      "execution_count": 0,
      "outputs": [
        {
          "output_type": "stream",
          "text": [
            "Using TensorFlow backend.\n"
          ],
          "name": "stderr"
        },
        {
          "output_type": "stream",
          "text": [
            "[   1   14   22   16   43  530  973 1622 1385   65  458 4468   66 3941\n",
            "    4  173   36  256    5   25  100   43  838  112   50  670    2    9\n",
            "   35  480  284    5  150    4  172  112  167    2  336  385   39    4\n",
            "  172 4536 1111   17  546   38   13  447    4  192   50   16    6  147\n",
            " 2025   19   14   22    4 1920 4613  469    4   22   71   87   12   16\n",
            "   43  530   38   76   15   13 1247    4   22   17  515   17   12   16\n",
            "  626   18    2    5   62  386   12    8  316    8  106    5    4 2223\n",
            " 5244   16  480   66 3785   33    4  130   12   16   38  619    5   25\n",
            "  124   51   36  135   48   25 1415   33    6   22   12  215   28   77\n",
            "   52    5   14  407   16   82    2    8    4  107  117 5952   15  256\n",
            "    4    2    7 3766    5  723   36   71   43  530  476   26  400  317\n",
            "   46    7    4    2 1029   13  104   88    4  381   15  297   98   32\n",
            " 2071   56   26  141    6  194 7486   18    4  226   22   21  134  476\n",
            "   26  480    5  144   30 5535   18   51   36   28  224   92   25  104\n",
            "    4  226   65   16   38 1334   88   12   16  283    5   16 4472  113\n",
            "  103   32   15   16 5345   19  178   32    0    0    0    0    0    0\n",
            "    0    0    0    0    0    0    0    0    0    0    0    0    0    0\n",
            "    0    0    0    0    0    0    0    0    0    0    0    0    0    0\n",
            "    0    0    0    0    0    0    0    0    0    0    0    0    0    0\n",
            "    0    0    0    0    0    0    0    0    0    0    0    0    0    0\n",
            "    0    0    0    0    0    0    0    0    0    0    0    0    0    0\n",
            "    0    0    0    0    0    0    0    0    0    0    0    0    0    0\n",
            "    0    0    0    0    0    0    0    0    0    0    0    0    0    0\n",
            "    0    0    0    0    0    0    0    0    0    0    0    0    0    0\n",
            "    0    0    0    0    0    0    0    0    0    0    0    0    0    0\n",
            "    0    0    0    0    0    0    0    0    0    0    0    0    0    0\n",
            "    0    0    0    0    0    0    0    0    0    0    0    0    0    0\n",
            "    0    0    0    0    0    0    0    0    0    0    0    0    0    0\n",
            "    0    0    0    0    0    0    0    0    0    0    0    0    0    0\n",
            "    0    0    0    0    0    0    0    0    0    0    0    0    0    0\n",
            "    0    0    0    0    0    0    0    0    0    0    0    0    0    0\n",
            "    0    0    0    0    0    0    0    0    0    0    0    0    0    0\n",
            "    0    0    0    0    0    0    0    0    0    0    0    0    0    0\n",
            "    0    0    0    0    0    0    0    0    0    0    0    0    0    0\n",
            "    0    0    0    0    0    0    0    0    0    0    0    0    0    0\n",
            "    0    0    0    0    0    0    0    0    0    0]\n"
          ],
          "name": "stdout"
        }
      ]
    },
    {
      "cell_type": "markdown",
      "metadata": {
        "id": "vqOD4HTaZqzB",
        "colab_type": "text"
      },
      "source": [
        "## 모델 생성\n",
        "\n",
        "500(maxlen)길의의 문장을 입력으로 받아 긍정 or 부정으로 분류한다.\n",
        "\n",
        "첫번 째 Dense 레이어는 500길이 숫자로 표시된 문장을 16(embedding_dim)의 벡터로 변환(임베딩)한다.\n",
        "\n",
        "뒤의 2개의 Dense 레이어는 16개의 숫자로 1 or 0으로 분류한다."
      ]
    },
    {
      "cell_type": "code",
      "metadata": {
        "id": "Pm0UDW4jUHJK",
        "colab_type": "code",
        "outputId": "43e1efe3-325c-447d-e666-60a3fb04b615",
        "colab": {
          "base_uri": "https://localhost:8080/",
          "height": 286
        }
      },
      "source": [
        "embedding_dim=16\n",
        "\n",
        "model = keras.Sequential([\n",
        "  layers.Embedding(vocab_size, embedding_dim, input_length=maxlen),\n",
        "  layers.GlobalAveragePooling1D(),\n",
        "  layers.Dense(16, activation='relu'),\n",
        "  layers.Dense(1, activation='sigmoid')\n",
        "])\n",
        "\n",
        "model.summary()"
      ],
      "execution_count": 0,
      "outputs": [
        {
          "output_type": "stream",
          "text": [
            "Model: \"sequential\"\n",
            "_________________________________________________________________\n",
            "Layer (type)                 Output Shape              Param #   \n",
            "=================================================================\n",
            "embedding (Embedding)        (None, 500, 16)           160000    \n",
            "_________________________________________________________________\n",
            "global_average_pooling1d (Gl (None, 16)                0         \n",
            "_________________________________________________________________\n",
            "dense (Dense)                (None, 16)                272       \n",
            "_________________________________________________________________\n",
            "dense_1 (Dense)              (None, 1)                 17        \n",
            "=================================================================\n",
            "Total params: 160,289\n",
            "Trainable params: 160,289\n",
            "Non-trainable params: 0\n",
            "_________________________________________________________________\n"
          ],
          "name": "stdout"
        }
      ]
    },
    {
      "cell_type": "markdown",
      "metadata": {
        "id": "Wx_h4hOoaPv6",
        "colab_type": "text"
      },
      "source": [
        "## 컴파일과 학습"
      ]
    },
    {
      "cell_type": "code",
      "metadata": {
        "id": "JG72Vl1YUIEr",
        "colab_type": "code",
        "outputId": "47ce8522-d60d-4476-c3ed-aa7965c24207",
        "colab": {
          "base_uri": "https://localhost:8080/",
          "height": 1000
        }
      },
      "source": [
        "model.compile(optimizer='adam',\n",
        "              loss='binary_crossentropy',\n",
        "              metrics=['accuracy'])\n",
        "\n",
        "history = model.fit(\n",
        "    train_x,\n",
        "    train_y,\n",
        "    epochs=30,\n",
        "    batch_size=512,\n",
        "    validation_split=0.2)"
      ],
      "execution_count": 0,
      "outputs": [
        {
          "output_type": "stream",
          "text": [
            "WARNING: Logging before flag parsing goes to stderr.\n",
            "W0724 17:00:48.140688 140202756298624 deprecation.py:323] From /usr/local/lib/python3.6/dist-packages/tensorflow/python/ops/math_grad.py:1250: add_dispatch_support.<locals>.wrapper (from tensorflow.python.ops.array_ops) is deprecated and will be removed in a future version.\n",
            "Instructions for updating:\n",
            "Use tf.where in 2.0, which has the same broadcast rule as np.where\n"
          ],
          "name": "stderr"
        },
        {
          "output_type": "stream",
          "text": [
            "Train on 20000 samples, validate on 5000 samples\n",
            "Epoch 1/30\n",
            "20000/20000 [==============================] - 2s 95us/sample - loss: 0.6922 - accuracy: 0.5422 - val_loss: 0.6910 - val_accuracy: 0.4956\n",
            "Epoch 2/30\n",
            "20000/20000 [==============================] - 1s 42us/sample - loss: 0.6877 - accuracy: 0.5742 - val_loss: 0.6835 - val_accuracy: 0.6842\n",
            "Epoch 3/30\n",
            "20000/20000 [==============================] - 1s 40us/sample - loss: 0.6764 - accuracy: 0.6908 - val_loss: 0.6676 - val_accuracy: 0.7300\n",
            "Epoch 4/30\n",
            "20000/20000 [==============================] - 1s 39us/sample - loss: 0.6548 - accuracy: 0.7404 - val_loss: 0.6405 - val_accuracy: 0.7644\n",
            "Epoch 5/30\n",
            "20000/20000 [==============================] - 1s 39us/sample - loss: 0.6210 - accuracy: 0.7821 - val_loss: 0.6011 - val_accuracy: 0.7822\n",
            "Epoch 6/30\n",
            "20000/20000 [==============================] - 1s 40us/sample - loss: 0.5757 - accuracy: 0.8049 - val_loss: 0.5546 - val_accuracy: 0.8076\n",
            "Epoch 7/30\n",
            "20000/20000 [==============================] - 1s 39us/sample - loss: 0.5265 - accuracy: 0.8271 - val_loss: 0.5087 - val_accuracy: 0.8264\n",
            "Epoch 8/30\n",
            "20000/20000 [==============================] - 1s 40us/sample - loss: 0.4773 - accuracy: 0.8487 - val_loss: 0.4671 - val_accuracy: 0.8352\n",
            "Epoch 9/30\n",
            "20000/20000 [==============================] - 1s 39us/sample - loss: 0.4337 - accuracy: 0.8622 - val_loss: 0.4303 - val_accuracy: 0.8512\n",
            "Epoch 10/30\n",
            "20000/20000 [==============================] - 1s 40us/sample - loss: 0.3958 - accuracy: 0.8745 - val_loss: 0.4016 - val_accuracy: 0.8580\n",
            "Epoch 11/30\n",
            "20000/20000 [==============================] - 1s 39us/sample - loss: 0.3645 - accuracy: 0.8821 - val_loss: 0.3781 - val_accuracy: 0.8684\n",
            "Epoch 12/30\n",
            "20000/20000 [==============================] - 1s 39us/sample - loss: 0.3391 - accuracy: 0.8878 - val_loss: 0.3607 - val_accuracy: 0.8690\n",
            "Epoch 13/30\n",
            "20000/20000 [==============================] - 1s 40us/sample - loss: 0.3175 - accuracy: 0.8933 - val_loss: 0.3459 - val_accuracy: 0.8714\n",
            "Epoch 14/30\n",
            "20000/20000 [==============================] - 1s 39us/sample - loss: 0.2989 - accuracy: 0.8992 - val_loss: 0.3341 - val_accuracy: 0.8738\n",
            "Epoch 15/30\n",
            "20000/20000 [==============================] - 1s 40us/sample - loss: 0.2844 - accuracy: 0.9038 - val_loss: 0.3249 - val_accuracy: 0.8754\n",
            "Epoch 16/30\n",
            "20000/20000 [==============================] - 1s 40us/sample - loss: 0.2702 - accuracy: 0.9075 - val_loss: 0.3225 - val_accuracy: 0.8724\n",
            "Epoch 17/30\n",
            "20000/20000 [==============================] - 1s 40us/sample - loss: 0.2581 - accuracy: 0.9122 - val_loss: 0.3109 - val_accuracy: 0.8806\n",
            "Epoch 18/30\n",
            "20000/20000 [==============================] - 1s 40us/sample - loss: 0.2465 - accuracy: 0.9162 - val_loss: 0.3046 - val_accuracy: 0.8832\n",
            "Epoch 19/30\n",
            "20000/20000 [==============================] - 1s 40us/sample - loss: 0.2364 - accuracy: 0.9194 - val_loss: 0.3000 - val_accuracy: 0.8850\n",
            "Epoch 20/30\n",
            "20000/20000 [==============================] - 1s 40us/sample - loss: 0.2271 - accuracy: 0.9209 - val_loss: 0.2969 - val_accuracy: 0.8844\n",
            "Epoch 21/30\n",
            "20000/20000 [==============================] - 1s 40us/sample - loss: 0.2192 - accuracy: 0.9240 - val_loss: 0.2926 - val_accuracy: 0.8874\n",
            "Epoch 22/30\n",
            "20000/20000 [==============================] - 1s 39us/sample - loss: 0.2130 - accuracy: 0.9260 - val_loss: 0.2903 - val_accuracy: 0.8900\n",
            "Epoch 23/30\n",
            "20000/20000 [==============================] - 1s 39us/sample - loss: 0.2048 - accuracy: 0.9298 - val_loss: 0.2887 - val_accuracy: 0.8882\n",
            "Epoch 24/30\n",
            "20000/20000 [==============================] - 1s 39us/sample - loss: 0.1977 - accuracy: 0.9326 - val_loss: 0.2854 - val_accuracy: 0.8908\n",
            "Epoch 25/30\n",
            "20000/20000 [==============================] - 1s 40us/sample - loss: 0.1910 - accuracy: 0.9334 - val_loss: 0.2848 - val_accuracy: 0.8900\n",
            "Epoch 26/30\n",
            "20000/20000 [==============================] - 1s 40us/sample - loss: 0.1858 - accuracy: 0.9355 - val_loss: 0.2841 - val_accuracy: 0.8900\n",
            "Epoch 27/30\n",
            "20000/20000 [==============================] - 1s 39us/sample - loss: 0.1802 - accuracy: 0.9387 - val_loss: 0.2838 - val_accuracy: 0.8904\n",
            "Epoch 28/30\n",
            "20000/20000 [==============================] - 1s 41us/sample - loss: 0.1747 - accuracy: 0.9410 - val_loss: 0.2812 - val_accuracy: 0.8924\n",
            "Epoch 29/30\n",
            "20000/20000 [==============================] - 1s 40us/sample - loss: 0.1690 - accuracy: 0.9438 - val_loss: 0.2809 - val_accuracy: 0.8938\n",
            "Epoch 30/30\n",
            "20000/20000 [==============================] - 1s 41us/sample - loss: 0.1642 - accuracy: 0.9450 - val_loss: 0.2830 - val_accuracy: 0.8900\n"
          ],
          "name": "stdout"
        }
      ]
    },
    {
      "cell_type": "markdown",
      "metadata": {
        "id": "ZhzkUBIdbF2y",
        "colab_type": "text"
      },
      "source": [
        "## 학습된 경과 보기"
      ]
    },
    {
      "cell_type": "code",
      "metadata": {
        "id": "-BCwMf6SaXnX",
        "colab_type": "code",
        "outputId": "7c49a510-c004-4ea5-f595-34056d32f210",
        "colab": {
          "base_uri": "https://localhost:8080/",
          "height": 1000
        }
      },
      "source": [
        "import matplotlib.pyplot as plt\n",
        "\n",
        "history_dict = history.history\n",
        "\n",
        "acc = history_dict['accuracy']\n",
        "val_acc = history_dict['val_accuracy']\n",
        "loss = history_dict['loss']\n",
        "val_loss = history_dict['val_loss']\n",
        "\n",
        "epochs = range(1, len(acc) + 1)\n",
        "\n",
        "plt.figure(figsize=(12,9))\n",
        "plt.plot(epochs, loss, 'bo', label='Training loss')\n",
        "plt.plot(epochs, val_loss, 'b', label='Validation loss')\n",
        "plt.title('Training and validation loss')\n",
        "plt.xlabel('Epochs')\n",
        "plt.ylabel('Loss')\n",
        "plt.legend()\n",
        "plt.show()\n",
        "\n",
        "plt.figure(figsize=(12,9))\n",
        "plt.plot(epochs, acc, 'bo', label='Training acc')\n",
        "plt.plot(epochs, val_acc, 'b', label='Validation acc')\n",
        "plt.title('Training and validation accuracy')\n",
        "plt.xlabel('Epochs')\n",
        "plt.ylabel('Accuracy')\n",
        "plt.legend(loc='lower right')\n",
        "plt.ylim((0.5,1))\n",
        "plt.show()"
      ],
      "execution_count": 0,
      "outputs": [
        {
          "output_type": "display_data",
          "data": {
            "image/png": "[encoded data removed]",
            "text/plain": [
              "<Figure size 864x648 with 1 Axes>"
            ]
          },
          "metadata": {
            "tags": []
          }
        },
        {
          "output_type": "display_data",
          "data": {
            "image/png": "[encoded data removed]",
            "text/plain": [
              "<Figure size 864x648 with 1 Axes>"
            ]
          },
          "metadata": {
            "tags": []
          }
        }
      ]
    },
    {
      "cell_type": "markdown",
      "metadata": {
        "id": "9YTTUjbJbIxE",
        "colab_type": "text"
      },
      "source": [
        "## 학습된 엠베딩 레이어 저장"
      ]
    },
    {
      "cell_type": "code",
      "metadata": {
        "id": "1HrIxNi4aYCy",
        "colab_type": "code",
        "outputId": "a25c4080-2398-40ed-e296-738d7f415cfd",
        "colab": {
          "base_uri": "https://localhost:8080/",
          "height": 34
        }
      },
      "source": [
        "e = model.layers[0]\n",
        "weights = e.get_weights()[0]\n",
        "print(weights.shape) # shape: (vocab_size, embedding_dim)"
      ],
      "execution_count": 0,
      "outputs": [
        {
          "output_type": "stream",
          "text": [
            "(10000, 16)\n"
          ],
          "name": "stdout"
        }
      ]
    },
    {
      "cell_type": "code",
      "metadata": {
        "id": "DV7AhasybsRR",
        "colab_type": "code",
        "outputId": "f414018d-e276-4113-8599-24d9a8b0177e",
        "colab": {
          "base_uri": "https://localhost:8080/",
          "height": 118
        }
      },
      "source": [
        "print(weights[:2])"
      ],
      "execution_count": 0,
      "outputs": [
        {
          "output_type": "stream",
          "text": [
            "[[-0.10519645  0.02601438 -0.03589638 -0.04159676 -0.00630289  0.01067254\n",
            "  -0.08444013 -0.14282434  0.10908168  0.02843845  0.07084362 -0.07750085\n",
            "   0.04026233 -0.00285249  0.00148675  0.00705654]\n",
            " [-0.21924274 -0.10208757 -0.20475861 -0.20929669 -0.12212997  0.13573556\n",
            "   0.02725823 -0.3272152  -0.03742281  0.1866745  -0.11218011  0.05175062\n",
            "  -0.07533959 -0.12325685  0.11895816 -0.05506928]]\n"
          ],
          "name": "stdout"
        }
      ]
    },
    {
      "cell_type": "code",
      "metadata": {
        "id": "wM-qGuNvbSkq",
        "colab_type": "code",
        "colab": {}
      },
      "source": [
        "import io\n",
        "\n",
        "out_v = io.open('vecs.tsv', 'w', encoding='utf-8')\n",
        "out_m = io.open('meta.tsv', 'w', encoding='utf-8')\n",
        "for word_num in range(vocab_size):\n",
        "  word = reverse_word_index[word_num]\n",
        "  embeddings = weights[word_num]\n",
        "  out_m.write(word + \"\\n\")\n",
        "  out_v.write('\\t'.join([str(x) for x in embeddings]) + \"\\n\")\n",
        "out_v.close()\n",
        "out_m.close()"
      ],
      "execution_count": 0,
      "outputs": []
    },
    {
      "cell_type": "code",
      "metadata": {
        "id": "JvFTtO-ebff7",
        "colab_type": "code",
        "outputId": "7bf57671-4f36-4bbb-bf10-c0fd9345d7fc",
        "colab": {
          "base_uri": "https://localhost:8080/",
          "height": 373
        }
      },
      "source": [
        "!head -10 meta.tsv\n",
        "!head -10 vecs.tsv\n",
        "\n",
        "# meta.tsv의 첫번째 줄은 첫번째 단어 \"<PAD>\"이다. 1줄에 1개 단어\n",
        "# vecs.tsv의 첫번째 줄은 첫번째 단어 \"<PAD>\"의 임베딩된 16개 숫자이다. 1줄에 1개 단어에 대한 임베딩 값\n",
        "\n",
        "# meta.tsv와 vecs.tsv는 전부 10,000개 라인이다. 10,000 단어.\n"
      ],
      "execution_count": 0,
      "outputs": [
        {
          "output_type": "stream",
          "text": [
            "<PAD>\n",
            "<START>\n",
            "<UNK>\n",
            "<UNUSED>\n",
            "the\n",
            "and\n",
            "a\n",
            "of\n",
            "to\n",
            "is\n",
            "-0.105196446\t0.02601438\t-0.035896383\t-0.041596755\t-0.0063028936\t0.01067254\t-0.084440134\t-0.14282434\t0.10908168\t0.028438447\t0.07084362\t-0.07750085\t0.040262334\t-0.0028524916\t0.0014867507\t0.0070565366\n",
            "-0.21924274\t-0.10208757\t-0.20475861\t-0.20929669\t-0.12212997\t0.13573556\t0.027258227\t-0.3272152\t-0.03742281\t0.1866745\t-0.11218011\t0.051750623\t-0.075339586\t-0.123256855\t0.11895816\t-0.055069275\n",
            "-0.13533321\t0.02014535\t-0.08650416\t-0.12672815\t-0.039044768\t0.066818155\t-0.08035953\t-0.27581075\t0.049472943\t0.025564073\t-0.00045114406\t-0.0025824\t-0.05112539\t-0.097483076\t-0.0180933\t0.02109213\n",
            "-0.037949312\t0.011959292\t-0.035487402\t0.008877993\t-0.036445677\t0.007905327\t0.047110725\t0.010368802\t0.036801945\t-0.005430937\t-0.038824044\t-0.03255143\t0.026136007\t0.0025493875\t-0.03180162\t-0.01309048\n",
            "-0.086491555\t0.12589002\t0.01776377\t-0.07602925\t0.03901517\t-0.05387093\t-0.20683573\t-0.2261408\t0.23216315\t-0.016633287\t0.1629396\t-0.11606267\t0.122230686\t-0.051595934\t-0.09925245\t0.040653933\n",
            "0.023234516\t0.14077687\t0.09728332\t0.13763432\t0.18588468\t-0.10957742\t-0.22518572\t-0.06927413\t0.23788606\t-0.12941986\t0.24040742\t-0.23846337\t0.13352494\t0.086084425\t-0.1278152\t0.21753003\n",
            "-0.12837127\t0.01766791\t-0.049557276\t-0.11017016\t0.02257575\t-0.0359175\t-0.16340235\t-0.27967185\t0.2339479\t-0.0469648\t0.046095535\t-0.07820939\t0.039857298\t-0.03896782\t-0.020664167\t0.055735365\n",
            "-0.22269575\t-0.04892079\t-0.037869435\t-0.08785523\t-0.06429785\t0.047241285\t-0.07795325\t-0.34351867\t0.1032568\t0.056709863\t0.05813041\t-0.027123801\t0.03915464\t-0.07409907\t-0.026763272\t-0.018226573\n",
            "-0.23626933\t-0.024880622\t-0.06600841\t-0.12739599\t-0.07098274\t0.04541652\t-0.1210283\t-0.3089284\t0.14583604\t0.07943915\t0.020563908\t-0.022522135\t-0.0046330476\t-0.076557525\t0.050242025\t0.02750334\n",
            "-0.062849715\t0.11511265\t0.03158525\t0.007685939\t0.06418138\t-0.12516172\t-0.16427267\t-0.092282966\t0.235683\t-0.045210514\t0.12580797\t-0.14304689\t0.17390339\t0.08325841\t-0.0744166\t0.14531006\n"
          ],
          "name": "stdout"
        }
      ]
    },
    {
      "cell_type": "markdown",
      "metadata": {
        "id": "y6YphukJcp5y",
        "colab_type": "text"
      },
      "source": [
        "## Embedding Projector\n",
        "\n",
        "http://projector.tensorflow.org/"
      ]
    },
    {
      "cell_type": "code",
      "metadata": {
        "id": "PrMsPtkfctVJ",
        "colab_type": "code",
        "colab": {}
      },
      "source": [
        ""
      ],
      "execution_count": 0,
      "outputs": []
    },
    {
      "cell_type": "code",
      "metadata": {
        "id": "rMMgg5GCdE80",
        "colab_type": "code",
        "colab": {}
      },
      "source": [
        ""
      ],
      "execution_count": 0,
      "outputs": []
    },
    {
      "cell_type": "code",
      "metadata": {
        "id": "xSuC6_QvdE_p",
        "colab_type": "code",
        "colab": {}
      },
      "source": [
        ""
      ],
      "execution_count": 0,
      "outputs": []
    },
    {
      "cell_type": "markdown",
      "metadata": {
        "id": "GEZGSQ9Lkt1n",
        "colab_type": "text"
      },
      "source": [
        "# RNN을 사용한 텍스트 분류"
      ]
    },
    {
      "cell_type": "code",
      "metadata": {
        "id": "i_Cp8wnfdFCG",
        "colab_type": "code",
        "colab": {}
      },
      "source": [
        "import tensorflow_datasets as tfds\n",
        "import tensorflow as tf"
      ],
      "execution_count": 0,
      "outputs": []
    },
    {
      "cell_type": "code",
      "metadata": {
        "id": "LDiSG9hrdFFK",
        "colab_type": "code",
        "colab": {}
      },
      "source": [
        "import matplotlib.pyplot as plt\n",
        "\n",
        "\n",
        "def plot_graphs(history, string):\n",
        "  plt.plot(history.history[string])\n",
        "  plt.plot(history.history['val_'+string])\n",
        "  plt.xlabel(\"Epochs\")\n",
        "  plt.ylabel(string)\n",
        "  plt.legend([string, 'val_'+string])\n",
        "  plt.show()"
      ],
      "execution_count": 0,
      "outputs": []
    },
    {
      "cell_type": "code",
      "metadata": {
        "id": "6-eh2NrJdFcq",
        "colab_type": "code",
        "outputId": "da8e36ce-f2d2-4853-81c5-b525de6831e7",
        "colab": {
          "base_uri": "https://localhost:8080/",
          "height": 70
        }
      },
      "source": [
        "dataset, info = tfds.load('imdb_reviews/subwords8k', with_info=True, as_supervised=True)\n",
        "train_dataset, test_dataset = dataset['train'], dataset['test']"
      ],
      "execution_count": 0,
      "outputs": [
        {
          "output_type": "stream",
          "text": [
            "WARNING: Logging before flag parsing goes to stderr.\n",
            "W0724 23:20:04.905671 140578298750848 dataset_builder.py:397] Warning: Setting shuffle_files=True because split=TRAIN and shuffle_files=None. This behavior will be deprecated on 2019-08-06, at which point shuffle_files=False will be the default for all splits.\n"
          ],
          "name": "stderr"
        }
      ]
    },
    {
      "cell_type": "code",
      "metadata": {
        "id": "KM6_8tVQdHvn",
        "colab_type": "code",
        "colab": {}
      },
      "source": [
        "tokenizer = info.features['text'].encoder"
      ],
      "execution_count": 0,
      "outputs": []
    },
    {
      "cell_type": "code",
      "metadata": {
        "id": "V2YJxjeydYfX",
        "colab_type": "code",
        "outputId": "16e499bf-7f23-4a37-c102-bc0d5a4c5005",
        "colab": {
          "base_uri": "https://localhost:8080/",
          "height": 34
        }
      },
      "source": [
        "print ('Vocabulary size: {}'.format(tokenizer.vocab_size))"
      ],
      "execution_count": 0,
      "outputs": [
        {
          "output_type": "stream",
          "text": [
            "Vocabulary size: 8185\n"
          ],
          "name": "stdout"
        }
      ]
    },
    {
      "cell_type": "code",
      "metadata": {
        "id": "1E-EARXudZFH",
        "colab_type": "code",
        "colab": {}
      },
      "source": [
        ""
      ],
      "execution_count": 0,
      "outputs": []
    },
    {
      "cell_type": "markdown",
      "metadata": {
        "id": "SQ_CV4xElbsR",
        "colab_type": "text"
      },
      "source": [
        "## 문장을 숫자열로 인코딩"
      ]
    },
    {
      "cell_type": "code",
      "metadata": {
        "id": "ZxfUZR1EdZIH",
        "colab_type": "code",
        "outputId": "77160cee-67a1-4188-e2e5-1b2d6cbbc206",
        "colab": {
          "base_uri": "https://localhost:8080/",
          "height": 50
        }
      },
      "source": [
        "sample_string = 'TensorFlow is cool.'\n",
        "\n",
        "tokenized_string = tokenizer.encode(sample_string)\n",
        "print ('Tokenized string is {}'.format(tokenized_string))\n",
        "\n",
        "original_string = tokenizer.decode(tokenized_string)\n",
        "print ('The original string: {}'.format(original_string))\n",
        "\n",
        "assert original_string == sample_string"
      ],
      "execution_count": 0,
      "outputs": [
        {
          "output_type": "stream",
          "text": [
            "Tokenized string is [6307, 2327, 4043, 4265, 9, 2724, 7975]\n",
            "The original string: TensorFlow is cool.\n"
          ],
          "name": "stdout"
        }
      ]
    },
    {
      "cell_type": "code",
      "metadata": {
        "id": "RmAJTiWvdZNk",
        "colab_type": "code",
        "outputId": "2d873ef4-550c-46ed-a556-d8a27a68c830",
        "colab": {
          "base_uri": "https://localhost:8080/",
          "height": 134
        }
      },
      "source": [
        "for ts in tokenized_string:\n",
        "  print ('{} ----> {}'.format(ts, tokenizer.decode([ts])))"
      ],
      "execution_count": 0,
      "outputs": [
        {
          "output_type": "stream",
          "text": [
            "6307 ----> Ten\n",
            "2327 ----> sor\n",
            "4043 ----> Fl\n",
            "4265 ----> ow \n",
            "9 ----> is \n",
            "2724 ----> cool\n",
            "7975 ----> .\n"
          ],
          "name": "stdout"
        }
      ]
    },
    {
      "cell_type": "code",
      "metadata": {
        "id": "UL6QmNcidZSd",
        "colab_type": "code",
        "colab": {}
      },
      "source": [
        "BUFFER_SIZE = 10000\n",
        "BATCH_SIZE = 64"
      ],
      "execution_count": 0,
      "outputs": []
    },
    {
      "cell_type": "code",
      "metadata": {
        "id": "pGSvL79le5-E",
        "colab_type": "code",
        "outputId": "62c45a3c-e41b-4b4e-9884-b51c1db34b7b",
        "colab": {
          "base_uri": "https://localhost:8080/",
          "height": 104
        }
      },
      "source": [
        "print(type(train_dataset))\n",
        "print(dir(train_dataset))\n",
        "print(train_dataset.output_shapes)\n",
        "print(tokenizer.vocab_size)\n"
      ],
      "execution_count": 0,
      "outputs": [
        {
          "output_type": "stream",
          "text": [
            "<class 'tensorflow.python.data.ops.dataset_ops._OptionsDataset'>\n",
            "['_GeneratorState', '__abstractmethods__', '__class__', '__delattr__', '__dict__', '__dir__', '__doc__', '__eq__', '__format__', '__ge__', '__getattribute__', '__gt__', '__hash__', '__init__', '__init_subclass__', '__iter__', '__le__', '__lt__', '__module__', '__ne__', '__new__', '__reduce__', '__reduce_ex__', '__repr__', '__setattr__', '__sizeof__', '__str__', '__subclasshook__', '__weakref__', '_abc_cache', '_abc_negative_cache', '_abc_negative_cache_version', '_abc_registry', '_add_variable_with_custom_getter', '_apply_options', '_as_serialized_graph', '_checkpoint_dependencies', '_component_metadata', '_consumers', '_deferred_dependencies', '_element_structure', '_from_components', '_functions', '_gather_saveables_for_checkpoint', '_graph', '_graph_attr', '_handle_deferred_dependencies', '_has_captured_ref', '_input_dataset', '_inputs', '_is_graph_tensor', '_list_extra_dependencies_for_serialization', '_list_functions_for_serialization', '_lookup_dependency', '_maybe_initialize_trackable', '_name_based_attribute_restore', '_name_based_restores', '_no_dependency', '_object_identifier', '_options', '_preload_simple_restoration', '_restore_from_checkpoint_position', '_self_name_based_restores', '_self_setattr_tracking', '_self_unconditional_checkpoint_dependencies', '_self_unconditional_deferred_dependencies', '_self_unconditional_dependency_names', '_self_update_uid', '_setattr_tracking', '_shape_invariant_to_components', '_single_restoration_from_checkpoint_position', '_tf_api_names', '_tf_api_names_v1', '_to_components', '_trace_variant_creation', '_track_trackable', '_tracking_metadata', '_unconditional_checkpoint_dependencies', '_unconditional_dependency_names', '_update_uid', '_variant_tensor', '_variant_tensor_attr', '_variant_tracker', 'apply', 'batch', 'cache', 'concatenate', 'enumerate', 'filter', 'flat_map', 'from_generator', 'from_tensor_slices', 'from_tensors', 'interleave', 'list_files', 'map', 'options', 'output_shapes', 'output_types', 'padded_batch', 'prefetch', 'range', 'reduce', 'repeat', 'shard', 'shuffle', 'skip', 'take', 'unbatch', 'window', 'with_options', 'zip']\n",
            "(TensorShape([None]), TensorShape([]))\n",
            "8185\n"
          ],
          "name": "stdout"
        }
      ]
    },
    {
      "cell_type": "code",
      "metadata": {
        "id": "iDoZ5KSadZVv",
        "colab_type": "code",
        "colab": {}
      },
      "source": [
        "train_dataset = train_dataset.shuffle(BUFFER_SIZE)\n",
        "train_dataset = train_dataset.padded_batch(BATCH_SIZE, train_dataset.output_shapes)\n",
        "\n",
        "test_dataset = test_dataset.padded_batch(BATCH_SIZE, test_dataset.output_shapes)"
      ],
      "execution_count": 0,
      "outputs": []
    },
    {
      "cell_type": "code",
      "metadata": {
        "id": "Ti_e5LrQexvH",
        "colab_type": "code",
        "colab": {}
      },
      "source": [
        ""
      ],
      "execution_count": 0,
      "outputs": []
    },
    {
      "cell_type": "markdown",
      "metadata": {
        "id": "WA2sUymflkwz",
        "colab_type": "text"
      },
      "source": [
        "## 모델 정의\n",
        " \n",
        " LSTM을 사용한 Bidirectional RNN이 사용되었다."
      ]
    },
    {
      "cell_type": "code",
      "metadata": {
        "id": "zEiVO6WDex1z",
        "colab_type": "code",
        "colab": {}
      },
      "source": [
        "model = tf.keras.Sequential([\n",
        "    tf.keras.layers.Embedding(tokenizer.vocab_size, 64),\n",
        "    tf.keras.layers.Bidirectional(tf.keras.layers.LSTM(64)),\n",
        "    tf.keras.layers.Dense(64, activation='relu'),\n",
        "    tf.keras.layers.Dense(1, activation='sigmoid')\n",
        "])"
      ],
      "execution_count": 0,
      "outputs": []
    },
    {
      "cell_type": "code",
      "metadata": {
        "id": "f88e5LfXfrsx",
        "colab_type": "code",
        "outputId": "64cd8da3-be8d-48ad-a05e-00db14b2fdda",
        "colab": {
          "base_uri": "https://localhost:8080/",
          "height": 286
        }
      },
      "source": [
        "model.summary()"
      ],
      "execution_count": 0,
      "outputs": [
        {
          "output_type": "stream",
          "text": [
            "Model: \"sequential\"\n",
            "_________________________________________________________________\n",
            "Layer (type)                 Output Shape              Param #   \n",
            "=================================================================\n",
            "embedding (Embedding)        (None, None, 64)          523840    \n",
            "_________________________________________________________________\n",
            "bidirectional (Bidirectional (None, 128)               66048     \n",
            "_________________________________________________________________\n",
            "dense (Dense)                (None, 64)                8256      \n",
            "_________________________________________________________________\n",
            "dense_1 (Dense)              (None, 1)                 65        \n",
            "=================================================================\n",
            "Total params: 598,209\n",
            "Trainable params: 598,209\n",
            "Non-trainable params: 0\n",
            "_________________________________________________________________\n"
          ],
          "name": "stdout"
        }
      ]
    },
    {
      "cell_type": "code",
      "metadata": {
        "id": "EScEX8cQex5A",
        "colab_type": "code",
        "colab": {}
      },
      "source": [
        "model.compile(loss='binary_crossentropy',\n",
        "              optimizer='adam',\n",
        "              metrics=['accuracy'])"
      ],
      "execution_count": 0,
      "outputs": []
    },
    {
      "cell_type": "code",
      "metadata": {
        "id": "gsw8Hg8ueyCA",
        "colab_type": "code",
        "outputId": "e1b4ee35-8001-461b-bc4f-522445bf8a2e",
        "colab": {
          "base_uri": "https://localhost:8080/",
          "height": 423
        }
      },
      "source": [
        "history = model.fit(train_dataset, epochs=10,\n",
        "                    validation_data=test_dataset)"
      ],
      "execution_count": 0,
      "outputs": [
        {
          "output_type": "stream",
          "text": [
            "Epoch 1/10\n"
          ],
          "name": "stdout"
        },
        {
          "output_type": "stream",
          "text": [
            "W0724 23:21:01.567274 140578298750848 deprecation.py:323] From /usr/local/lib/python3.6/dist-packages/tensorflow/python/ops/math_grad.py:1250: add_dispatch_support.<locals>.wrapper (from tensorflow.python.ops.array_ops) is deprecated and will be removed in a future version.\n",
            "Instructions for updating:\n",
            "Use tf.where in 2.0, which has the same broadcast rule as np.where\n"
          ],
          "name": "stderr"
        },
        {
          "output_type": "stream",
          "text": [
            "391/391 [==============================] - 308s 788ms/step - loss: 0.5875 - accuracy: 0.6796 - val_loss: 0.0000e+00 - val_accuracy: 0.0000e+00\n",
            "Epoch 2/10\n",
            "391/391 [==============================] - 127s 325ms/step - loss: 0.4285 - accuracy: 0.8208 - val_loss: 0.4496 - val_accuracy: 0.7973\n",
            "Epoch 3/10\n",
            "391/391 [==============================] - 103s 264ms/step - loss: 0.3538 - accuracy: 0.8566 - val_loss: 0.4916 - val_accuracy: 0.7826\n",
            "Epoch 4/10\n",
            "391/391 [==============================] - 97s 248ms/step - loss: 0.3328 - accuracy: 0.8707 - val_loss: 0.4265 - val_accuracy: 0.8121\n",
            "Epoch 5/10\n",
            "391/391 [==============================] - 92s 235ms/step - loss: 0.2623 - accuracy: 0.9026 - val_loss: 0.5090 - val_accuracy: 0.8308\n",
            "Epoch 6/10\n",
            "391/391 [==============================] - 88s 224ms/step - loss: 0.4130 - accuracy: 0.8123 - val_loss: 0.4967 - val_accuracy: 0.8019\n",
            "Epoch 7/10\n",
            "391/391 [==============================] - 86s 219ms/step - loss: 0.2323 - accuracy: 0.9145 - val_loss: 0.4722 - val_accuracy: 0.8328\n",
            "Epoch 8/10\n",
            "391/391 [==============================] - 85s 218ms/step - loss: 0.2296 - accuracy: 0.9162 - val_loss: 0.4833 - val_accuracy: 0.8122\n",
            "Epoch 9/10\n",
            "391/391 [==============================] - 86s 220ms/step - loss: 0.2668 - accuracy: 0.8926 - val_loss: 0.4861 - val_accuracy: 0.8128\n",
            "Epoch 10/10\n",
            "391/391 [==============================] - 86s 219ms/step - loss: 0.1955 - accuracy: 0.9294 - val_loss: 0.5390 - val_accuracy: 0.8119\n"
          ],
          "name": "stdout"
        }
      ]
    },
    {
      "cell_type": "code",
      "metadata": {
        "id": "_-YD3segPeuz",
        "colab_type": "code",
        "colab": {}
      },
      "source": [
        "model.save(\"my_model.h5\")\n",
        "new_model = keras.models.load_model('my_model.h5')"
      ],
      "execution_count": 0,
      "outputs": []
    },
    {
      "cell_type": "code",
      "metadata": {
        "id": "h16yzgINeyHC",
        "colab_type": "code",
        "outputId": "751c3a70-cacb-42f4-a6e3-6fc6e77a0356",
        "colab": {
          "base_uri": "https://localhost:8080/",
          "height": 50
        }
      },
      "source": [
        "test_loss, test_acc = model.evaluate(test_dataset)\n",
        "\n",
        "print('Test Loss: {}'.format(test_loss))\n",
        "print('Test Accuracy: {}'.format(test_acc))"
      ],
      "execution_count": 0,
      "outputs": [
        {
          "output_type": "stream",
          "text": [
            "    391/Unknown - 27s 68ms/step - loss: 0.5390 - accuracy: 0.8119Test Loss: 0.5389929194279643\n",
            "Test Accuracy: 0.8119199872016907\n"
          ],
          "name": "stdout"
        }
      ]
    },
    {
      "cell_type": "code",
      "metadata": {
        "id": "R6o3IKSIex_7",
        "colab_type": "code",
        "colab": {}
      },
      "source": [
        "def pad_to_size(vec, size):\n",
        "  zeros = [0] * (size - len(vec))\n",
        "  vec.extend(zeros)\n",
        "  return vec"
      ],
      "execution_count": 0,
      "outputs": []
    },
    {
      "cell_type": "code",
      "metadata": {
        "id": "GlnJWzYzex-G",
        "colab_type": "code",
        "colab": {}
      },
      "source": [
        "def sample_predict(sentence, pad):\n",
        "  tokenized_sentence = tokenizer.encode(sentence)\n",
        "\n",
        "  if pad:\n",
        "    tokenized_sentence = pad_to_size(tokenized_sentence, 64)\n",
        "\n",
        "  predictions = model.predict(tf.expand_dims(tokenized_sentence, 0))\n",
        "\n",
        "  return (predictions)"
      ],
      "execution_count": 0,
      "outputs": []
    },
    {
      "cell_type": "code",
      "metadata": {
        "id": "IY7t3eERex7p",
        "colab_type": "code",
        "outputId": "923ea304-ac4d-44df-ade4-bf45b274ec2c",
        "colab": {
          "base_uri": "https://localhost:8080/",
          "height": 34
        }
      },
      "source": [
        "# predict on a sample text without padding.\n",
        "\n",
        "sample_pred_text = ('The movie was cool. The animation and the graphics '\n",
        "                    'were out of this world. I would recommend this movie.')\n",
        "predictions = sample_predict(sample_pred_text, pad=False)\n",
        "print (predictions)"
      ],
      "execution_count": 0,
      "outputs": [
        {
          "output_type": "stream",
          "text": [
            "[[0.7565246]]\n"
          ],
          "name": "stdout"
        }
      ]
    },
    {
      "cell_type": "code",
      "metadata": {
        "id": "BWVUdQfhextG",
        "colab_type": "code",
        "colab": {}
      },
      "source": [
        ""
      ],
      "execution_count": 0,
      "outputs": []
    },
    {
      "cell_type": "code",
      "metadata": {
        "id": "EOEO1vxHexqG",
        "colab_type": "code",
        "outputId": "8f87a75e-d01a-41bc-ba11-71d3a5db9bd8",
        "colab": {
          "base_uri": "https://localhost:8080/",
          "height": 34
        }
      },
      "source": [
        "# predict on a sample text with padding\n",
        "\n",
        "sample_pred_text = ('The movie was cool. The animation and the graphics '\n",
        "                    'were out of this world. I would recommend this movie.')\n",
        "predictions = sample_predict(sample_pred_text, pad=True)\n",
        "print (predictions)"
      ],
      "execution_count": 0,
      "outputs": [
        {
          "output_type": "stream",
          "text": [
            "[[0.7901717]]\n"
          ],
          "name": "stdout"
        }
      ]
    },
    {
      "cell_type": "code",
      "metadata": {
        "id": "uf2fVDEQkAnm",
        "colab_type": "code",
        "outputId": "6f55a1bd-3e26-4120-d24f-d38ea821da88",
        "colab": {
          "base_uri": "https://localhost:8080/",
          "height": 283
        }
      },
      "source": [
        "plot_graphs(history, 'accuracy')"
      ],
      "execution_count": 0,
      "outputs": [
        {
          "output_type": "display_data",
          "data": {
            "image/png": "[encoded data removed]",
            "text/plain": [
              "<Figure size 432x288 with 1 Axes>"
            ]
          },
          "metadata": {
            "tags": []
          }
        }
      ]
    },
    {
      "cell_type": "code",
      "metadata": {
        "id": "9I006oYckAsK",
        "colab_type": "code",
        "outputId": "44bb6f86-8d28-4c69-cfe1-abd7bbe6f1c0",
        "colab": {
          "base_uri": "https://localhost:8080/",
          "height": 283
        }
      },
      "source": [
        "plot_graphs(history, 'loss')"
      ],
      "execution_count": 0,
      "outputs": [
        {
          "output_type": "display_data",
          "data": {
            "image/png": "[encoded data removed]",
            "text/plain": [
              "<Figure size 432x288 with 1 Axes>"
            ]
          },
          "metadata": {
            "tags": []
          }
        }
      ]
    },
    {
      "cell_type": "code",
      "metadata": {
        "id": "yi1C6mSrkAz5",
        "colab_type": "code",
        "colab": {}
      },
      "source": [
        ""
      ],
      "execution_count": 0,
      "outputs": []
    },
    {
      "cell_type": "markdown",
      "metadata": {
        "id": "7ivTO2RzkKGV",
        "colab_type": "text"
      },
      "source": [
        "# 2개 LSTM 레이어"
      ]
    },
    {
      "cell_type": "code",
      "metadata": {
        "id": "nyNSIVAJkA_J",
        "colab_type": "code",
        "colab": {}
      },
      "source": [
        "model = tf.keras.Sequential([\n",
        "    tf.keras.layers.Embedding(tokenizer.vocab_size, 64),\n",
        "    tf.keras.layers.Bidirectional(tf.keras.layers.LSTM(\n",
        "        64, return_sequences=True)),\n",
        "    tf.keras.layers.Bidirectional(tf.keras.layers.LSTM(32)),\n",
        "    tf.keras.layers.Dense(64, activation='relu'),\n",
        "    tf.keras.layers.Dense(1, activation='sigmoid')\n",
        "])"
      ],
      "execution_count": 0,
      "outputs": []
    },
    {
      "cell_type": "code",
      "metadata": {
        "id": "DgLBeu75kA7T",
        "colab_type": "code",
        "colab": {}
      },
      "source": [
        "model.compile(loss='binary_crossentropy',\n",
        "              optimizer='adam',\n",
        "              metrics=['accuracy'])"
      ],
      "execution_count": 0,
      "outputs": []
    },
    {
      "cell_type": "code",
      "metadata": {
        "id": "-ymXWDGnkAxo",
        "colab_type": "code",
        "outputId": "4304f7a4-1cce-448a-94e5-8299282c9441",
        "colab": {
          "base_uri": "https://localhost:8080/",
          "height": 104
        }
      },
      "source": [
        "history = model.fit(train_dataset, epochs=10,\n",
        "                    validation_data=test_dataset)"
      ],
      "execution_count": 0,
      "outputs": [
        {
          "output_type": "stream",
          "text": [
            "Epoch 1/10\n",
            "391/391 [==============================] - 542s 1s/step - loss: 0.5207 - accuracy: 0.7364 - val_loss: 0.0000e+00 - val_accuracy: 0.0000e+00\n",
            "Epoch 2/10\n",
            " 46/391 [==>...........................] - ETA: 5:38 - loss: 0.4070 - accuracy: 0.8271"
          ],
          "name": "stdout"
        }
      ]
    },
    {
      "cell_type": "code",
      "metadata": {
        "id": "zZOaVal8XE18",
        "colab_type": "code",
        "colab": {}
      },
      "source": [
        "model.save(\"my_model2.h5\")\n",
        "new_model = keras.models.load_model('my_model2.h5')"
      ],
      "execution_count": 0,
      "outputs": []
    },
    {
      "cell_type": "code",
      "metadata": {
        "id": "u01JQFSfkAvp",
        "colab_type": "code",
        "colab": {}
      },
      "source": [
        "test_loss, test_acc = model.evaluate(test_dataset)\n",
        "\n",
        "print('Test Loss: {}'.format(test_loss))\n",
        "print('Test Accuracy: {}'.format(test_acc))"
      ],
      "execution_count": 0,
      "outputs": []
    },
    {
      "cell_type": "code",
      "metadata": {
        "id": "KBMzgV8LkAke",
        "colab_type": "code",
        "colab": {}
      },
      "source": [
        "# predict on a sample text without padding.\n",
        "\n",
        "sample_pred_text = ('The movie was not good. The animation and the graphics '\n",
        "                    'were terrible. I would not recommend this movie.')\n",
        "predictions = sample_predict(sample_pred_text, pad=False)\n",
        "print (predictions)"
      ],
      "execution_count": 0,
      "outputs": []
    },
    {
      "cell_type": "code",
      "metadata": {
        "id": "CBXpHAMCkUTM",
        "colab_type": "code",
        "colab": {}
      },
      "source": [
        "# predict on a sample text with padding\n",
        "\n",
        "sample_pred_text = ('The movie was not good. The animation and the graphics '\n",
        "                    'were terrible. I would not recommend this movie.')\n",
        "predictions = sample_predict(sample_pred_text, pad=True)\n",
        "print (predictions)"
      ],
      "execution_count": 0,
      "outputs": []
    },
    {
      "cell_type": "code",
      "metadata": {
        "id": "dJFyXa06kUYs",
        "colab_type": "code",
        "colab": {}
      },
      "source": [
        ""
      ],
      "execution_count": 0,
      "outputs": []
    },
    {
      "cell_type": "code",
      "metadata": {
        "id": "mhisSHNykUea",
        "colab_type": "code",
        "colab": {}
      },
      "source": [
        ""
      ],
      "execution_count": 0,
      "outputs": []
    },
    {
      "cell_type": "code",
      "metadata": {
        "id": "sRa1JvcrkUcM",
        "colab_type": "code",
        "colab": {}
      },
      "source": [
        ""
      ],
      "execution_count": 0,
      "outputs": []
    },
    {
      "cell_type": "code",
      "metadata": {
        "id": "0Q7jxMLmkUWr",
        "colab_type": "code",
        "colab": {}
      },
      "source": [
        ""
      ],
      "execution_count": 0,
      "outputs": []
    }
  ]
}