{
  "nbformat": 4,
  "nbformat_minor": 0,
  "metadata": {
    "colab": {
      "name": "mnist_cnn_practice.ipynb",
      "version": "0.3.2",
      "provenance": [],
      "collapsed_sections": []
    },
    "kernelspec": {
      "name": "python3",
      "display_name": "Python 3"
    }
  },
  "cells": [
    {
      "cell_type": "code",
      "metadata": {
        "id": "Smdt2qgBYLKe",
        "colab_type": "code",
        "colab": {}
      },
      "source": [
        "import numpy as np\n",
        "import matplotlib.pyplot as plt\n",
        "\n",
        "import tensorflow as tf\n",
        "from tensorflow import keras\n",
        "from tensorflow.keras import optimizers\n",
        "from tensorflow.keras.layers import Dense, Flatten\n",
        "\n",
        "import time"
      ],
      "execution_count": 0,
      "outputs": []
    },
    {
      "cell_type": "code",
      "metadata": {
        "id": "norR-zGbYR7r",
        "colab_type": "code",
        "colab": {}
      },
      "source": [
        "(raw_train_x, raw_train_y), (raw_test_x, raw_test_y) = tf.keras.datasets.mnist.load_data()\n",
        "\n",
        "train_x = raw_train_x/255\n",
        "test_x = raw_test_x/255\n",
        "\n",
        "train_y = raw_train_y\n",
        "test_y = raw_test_y"
      ],
      "execution_count": 0,
      "outputs": []
    },
    {
      "cell_type": "code",
      "metadata": {
        "id": "gtZalUG4YR-L",
        "colab_type": "code",
        "outputId": "a92c79a0-2b53-4455-d8dc-6e7cce289a8d",
        "colab": {
          "base_uri": "https://localhost:8080/",
          "height": 807
        }
      },
      "source": [
        "\n",
        "model = keras.Sequential()\n",
        "\n",
        "\n",
        "\n",
        "model.add(Flatten(input_shape=(28,28)))\n",
        "model.add(Dense(10, activation='relu', input_shape=(train_x.shape[1],)))\n",
        "model.add(Dense(10, activation='relu'))\n",
        "model.add(Dense(10, activation='softmax'))\n",
        "\n",
        "model.compile(optimizer=\"adam\", loss=\"sparse_categorical_crossentropy\", metrics=[\"accuracy\"])\n",
        "model.summary()\n",
        "\n",
        "\n",
        "model.fit(train_x, train_y, epochs=10, verbose=1, batch_size=128)\n",
        "\n",
        "\n",
        "loss, acc = model.evaluate(test_x, test_y)\n",
        "print(\"loss=\",loss)\n",
        "print(\"acc=\",acc)\n",
        "\n",
        "y_ = model.predict(test_x)\n",
        "predicted = np.argmax(y_, axis=1)\n",
        "\n",
        "print(predicted)"
      ],
      "execution_count": 0,
      "outputs": [
        {
          "output_type": "stream",
          "text": [
            "WARNING: Logging before flag parsing goes to stderr.\n",
            "W0723 05:52:37.230757 140033099896704 deprecation.py:506] From /usr/local/lib/python3.6/dist-packages/tensorflow/python/ops/init_ops.py:1251: calling VarianceScaling.__init__ (from tensorflow.python.ops.init_ops) with dtype is deprecated and will be removed in a future version.\n",
            "Instructions for updating:\n",
            "Call initializer instance with the dtype argument instead of passing it to the constructor\n"
          ],
          "name": "stderr"
        },
        {
          "output_type": "stream",
          "text": [
            "Model: \"sequential\"\n",
            "_________________________________________________________________\n",
            "Layer (type)                 Output Shape              Param #   \n",
            "=================================================================\n",
            "flatten (Flatten)            (None, 784)               0         \n",
            "_________________________________________________________________\n",
            "dense (Dense)                (None, 10)                7850      \n",
            "_________________________________________________________________\n",
            "dense_1 (Dense)              (None, 10)                110       \n",
            "_________________________________________________________________\n",
            "dense_2 (Dense)              (None, 10)                110       \n",
            "=================================================================\n",
            "Total params: 8,070\n",
            "Trainable params: 8,070\n",
            "Non-trainable params: 0\n",
            "_________________________________________________________________\n",
            "Epoch 1/10\n",
            "60000/60000 [==============================] - 1s 24us/sample - loss: 0.8564 - acc: 0.7322\n",
            "Epoch 2/10\n",
            "60000/60000 [==============================] - 1s 22us/sample - loss: 0.3601 - acc: 0.8978\n",
            "Epoch 3/10\n",
            "60000/60000 [==============================] - 1s 21us/sample - loss: 0.3071 - acc: 0.9125\n",
            "Epoch 4/10\n",
            "60000/60000 [==============================] - 1s 21us/sample - loss: 0.2833 - acc: 0.9194\n",
            "Epoch 5/10\n",
            "60000/60000 [==============================] - 1s 21us/sample - loss: 0.2695 - acc: 0.9238\n",
            "Epoch 6/10\n",
            "60000/60000 [==============================] - 1s 20us/sample - loss: 0.2607 - acc: 0.9251\n",
            "Epoch 7/10\n",
            "60000/60000 [==============================] - 1s 21us/sample - loss: 0.2523 - acc: 0.9279\n",
            "Epoch 8/10\n",
            "60000/60000 [==============================] - 1s 21us/sample - loss: 0.2469 - acc: 0.9288\n",
            "Epoch 9/10\n",
            "60000/60000 [==============================] - 1s 20us/sample - loss: 0.2410 - acc: 0.9312\n",
            "Epoch 10/10\n",
            "60000/60000 [==============================] - 1s 20us/sample - loss: 0.2370 - acc: 0.9319\n",
            "10000/10000 [==============================] - 0s 28us/sample - loss: 0.2438 - acc: 0.9303\n",
            "loss= 0.24378577706068755\n",
            "acc= 0.9303\n",
            "[7 2 1 ... 4 5 6]\n"
          ],
          "name": "stdout"
        }
      ]
    },
    {
      "cell_type": "code",
      "metadata": {
        "id": "eox2q3fGY6Zb",
        "colab_type": "code",
        "colab": {}
      },
      "source": [
        "train_x = train_x.reshape((60000,28,28,1)) # ADDED\n",
        "test_x = test_x.reshape((10000,28,28,1)) # ADDED\n"
      ],
      "execution_count": 0,
      "outputs": []
    },
    {
      "cell_type": "code",
      "metadata": {
        "id": "NiGZFn1XY6cS",
        "colab_type": "code",
        "outputId": "f21599fa-0767-4535-b666-05bde5e406ef",
        "colab": {
          "base_uri": "https://localhost:8080/",
          "height": 892
        }
      },
      "source": [
        "from tensorflow.keras.layers import Conv2D, MaxPooling2D # ADDED\n",
        "\n",
        "model = keras.Sequential()\n",
        "\n",
        "model.add(Conv2D(32, (3, 3), activation='relu', input_shape=(28, 28, 1))) # ADDED\n",
        "model.add(MaxPooling2D((2, 2))) # ADDED\n",
        "model.add(Conv2D(64, (3, 3), activation='relu')) # ADDED\n",
        "model.add(MaxPooling2D((2, 2))) # ADDED\n",
        "model.add(Conv2D(64, (3, 3), activation='relu')) # ADDED\n",
        "# model.add(Flatten(input_shape=(28,28)))\n",
        "model.add(Flatten())\n",
        "\n",
        "model.add(Dense(10, activation='relu'))\n",
        "model.add(Dense(10, activation='relu'))\n",
        "model.add(Dense(10, activation='softmax'))\n",
        "\n",
        "model.compile(optimizer=\"adam\", loss=\"sparse_categorical_crossentropy\", metrics=[\"accuracy\"])\n",
        "model.summary()\n",
        "\n",
        "\n",
        "model.fit(train_x, train_y, epochs=10, verbose=1, batch_size=128)\n",
        "\n",
        "\n",
        "loss, acc = model.evaluate(test_x, test_y)\n",
        "print(\"loss=\",loss)\n",
        "print(\"acc=\",acc)\n",
        "\n",
        "y_ = model.predict(test_x)\n",
        "predicted = np.argmax(y_, axis=1)\n",
        "\n",
        "print(predicted)"
      ],
      "execution_count": 0,
      "outputs": [
        {
          "output_type": "stream",
          "text": [
            "Model: \"sequential_2\"\n",
            "_________________________________________________________________\n",
            "Layer (type)                 Output Shape              Param #   \n",
            "=================================================================\n",
            "conv2d_3 (Conv2D)            (None, 26, 26, 32)        320       \n",
            "_________________________________________________________________\n",
            "max_pooling2d_2 (MaxPooling2 (None, 13, 13, 32)        0         \n",
            "_________________________________________________________________\n",
            "conv2d_4 (Conv2D)            (None, 11, 11, 64)        18496     \n",
            "_________________________________________________________________\n",
            "max_pooling2d_3 (MaxPooling2 (None, 5, 5, 64)          0         \n",
            "_________________________________________________________________\n",
            "conv2d_5 (Conv2D)            (None, 3, 3, 64)          36928     \n",
            "_________________________________________________________________\n",
            "flatten_2 (Flatten)          (None, 576)               0         \n",
            "_________________________________________________________________\n",
            "dense_6 (Dense)              (None, 10)                5770      \n",
            "_________________________________________________________________\n",
            "dense_7 (Dense)              (None, 10)                110       \n",
            "_________________________________________________________________\n",
            "dense_8 (Dense)              (None, 10)                110       \n",
            "=================================================================\n",
            "Total params: 61,734\n",
            "Trainable params: 61,734\n",
            "Non-trainable params: 0\n",
            "_________________________________________________________________\n",
            "Epoch 1/10\n",
            "60000/60000 [==============================] - 50s 834us/sample - loss: 0.4945 - acc: 0.8429\n",
            "Epoch 2/10\n",
            "60000/60000 [==============================] - 50s 833us/sample - loss: 0.1125 - acc: 0.9665\n",
            "Epoch 3/10\n",
            "60000/60000 [==============================] - 50s 827us/sample - loss: 0.0762 - acc: 0.9772\n",
            "Epoch 4/10\n",
            "60000/60000 [==============================] - 50s 825us/sample - loss: 0.0607 - acc: 0.9818\n",
            "Epoch 5/10\n",
            "60000/60000 [==============================] - 50s 832us/sample - loss: 0.0503 - acc: 0.9848\n",
            "Epoch 6/10\n",
            "60000/60000 [==============================] - 51s 852us/sample - loss: 0.0405 - acc: 0.9876\n",
            "Epoch 7/10\n",
            "60000/60000 [==============================] - 52s 861us/sample - loss: 0.0364 - acc: 0.9887\n",
            "Epoch 8/10\n",
            "60000/60000 [==============================] - 52s 862us/sample - loss: 0.0311 - acc: 0.9903\n",
            "Epoch 9/10\n",
            "60000/60000 [==============================] - 52s 862us/sample - loss: 0.0274 - acc: 0.9913\n",
            "Epoch 10/10\n",
            "60000/60000 [==============================] - 52s 864us/sample - loss: 0.0236 - acc: 0.9926\n",
            "10000/10000 [==============================] - 3s 331us/sample - loss: 0.0331 - acc: 0.9904\n",
            "loss= 0.03311722781997523\n",
            "acc= 0.9904\n",
            "[7 2 1 ... 4 5 6]\n"
          ],
          "name": "stdout"
        }
      ]
    },
    {
      "cell_type": "code",
      "metadata": {
        "id": "-CTHgiGcY6e8",
        "colab_type": "code",
        "outputId": "8d8fb613-aaa9-4e68-a68c-b45e453042f1",
        "colab": {
          "base_uri": "https://localhost:8080/",
          "height": 997
        }
      },
      "source": [
        "from tensorflow.keras.layers import Conv2D, MaxPooling2D\n",
        "from tensorflow.keras.layers import Conv2D, BatchNormalization # ADDED\n",
        "\n",
        "model = keras.Sequential()\n",
        "\n",
        "model.add(Conv2D(32, (3, 3), activation='relu', input_shape=(28, 28, 1)))\n",
        "model.add(BatchNormalization()) # ADDED\n",
        "model.add(MaxPooling2D((2, 2)))\n",
        "model.add(Conv2D(64, (3, 3), activation='relu'))\n",
        "model.add(BatchNormalization()) # ADDED\n",
        "model.add(MaxPooling2D((2, 2))) \n",
        "model.add(Conv2D(64, (3, 3), activation='relu'))\n",
        "model.add(BatchNormalization()) # ADDED\n",
        "model.add(Flatten())\n",
        "\n",
        "model.add(Dense(10, activation='relu'))\n",
        "model.add(Dense(10, activation='relu'))\n",
        "model.add(Dense(10, activation='softmax'))\n",
        "\n",
        "model.compile(optimizer=\"adam\", loss=\"sparse_categorical_crossentropy\", metrics=[\"accuracy\"])\n",
        "model.summary()\n",
        "\n",
        "\n",
        "# model.fit(train_x, train_y, epochs=10, verbose=1, batch_size=128)\n",
        "model.fit(train_x[:10000], train_y[:10000], epochs=10, verbose=1, batch_size=128)\n",
        "\n",
        "\n",
        "loss, acc = model.evaluate(test_x, test_y)\n",
        "print(\"loss=\",loss)\n",
        "print(\"acc=\",acc)\n",
        "\n",
        "y_ = model.predict(test_x)\n",
        "predicted = np.argmax(y_, axis=1)\n",
        "\n",
        "print(predicted)"
      ],
      "execution_count": 0,
      "outputs": [
        {
          "output_type": "stream",
          "text": [
            "Model: \"sequential_3\"\n",
            "_________________________________________________________________\n",
            "Layer (type)                 Output Shape              Param #   \n",
            "=================================================================\n",
            "conv2d_6 (Conv2D)            (None, 26, 26, 32)        320       \n",
            "_________________________________________________________________\n",
            "batch_normalization (BatchNo (None, 26, 26, 32)        128       \n",
            "_________________________________________________________________\n",
            "max_pooling2d_4 (MaxPooling2 (None, 13, 13, 32)        0         \n",
            "_________________________________________________________________\n",
            "conv2d_7 (Conv2D)            (None, 11, 11, 64)        18496     \n",
            "_________________________________________________________________\n",
            "batch_normalization_1 (Batch (None, 11, 11, 64)        256       \n",
            "_________________________________________________________________\n",
            "max_pooling2d_5 (MaxPooling2 (None, 5, 5, 64)          0         \n",
            "_________________________________________________________________\n",
            "conv2d_8 (Conv2D)            (None, 3, 3, 64)          36928     \n",
            "_________________________________________________________________\n",
            "batch_normalization_2 (Batch (None, 3, 3, 64)          256       \n",
            "_________________________________________________________________\n",
            "flatten_3 (Flatten)          (None, 576)               0         \n",
            "_________________________________________________________________\n",
            "dense_9 (Dense)              (None, 10)                5770      \n",
            "_________________________________________________________________\n",
            "dense_10 (Dense)             (None, 10)                110       \n",
            "_________________________________________________________________\n",
            "dense_11 (Dense)             (None, 10)                110       \n",
            "=================================================================\n",
            "Total params: 62,374\n",
            "Trainable params: 62,054\n",
            "Non-trainable params: 320\n",
            "_________________________________________________________________\n",
            "Epoch 1/10\n",
            "10000/10000 [==============================] - 18s 2ms/sample - loss: 1.5468 - acc: 0.3898\n",
            "Epoch 2/10\n",
            "10000/10000 [==============================] - 18s 2ms/sample - loss: 0.8023 - acc: 0.7045\n",
            "Epoch 3/10\n",
            "10000/10000 [==============================] - 18s 2ms/sample - loss: 0.3151 - acc: 0.9060\n",
            "Epoch 4/10\n",
            "10000/10000 [==============================] - 17s 2ms/sample - loss: 0.1034 - acc: 0.9775\n",
            "Epoch 5/10\n",
            "10000/10000 [==============================] - 18s 2ms/sample - loss: 0.0537 - acc: 0.9880\n",
            "Epoch 6/10\n",
            "10000/10000 [==============================] - 18s 2ms/sample - loss: 0.0300 - acc: 0.9940\n",
            "Epoch 7/10\n",
            "10000/10000 [==============================] - 18s 2ms/sample - loss: 0.0215 - acc: 0.9957\n",
            "Epoch 8/10\n",
            "10000/10000 [==============================] - 18s 2ms/sample - loss: 0.0179 - acc: 0.9965\n",
            "Epoch 9/10\n",
            "10000/10000 [==============================] - 17s 2ms/sample - loss: 0.0075 - acc: 0.9991\n",
            "Epoch 10/10\n",
            "10000/10000 [==============================] - 18s 2ms/sample - loss: 0.0036 - acc: 0.9996\n",
            "10000/10000 [==============================] - 5s 497us/sample - loss: 0.0949 - acc: 0.9789\n",
            "loss= 0.09493897351687774\n",
            "acc= 0.9789\n",
            "[7 2 1 ... 4 5 6]\n"
          ],
          "name": "stdout"
        }
      ]
    },
    {
      "cell_type": "markdown",
      "metadata": {
        "id": "yHUxsQvlegNw",
        "colab_type": "text"
      },
      "source": [
        ""
      ]
    },
    {
      "cell_type": "code",
      "metadata": {
        "id": "Fcrk85yXY6hr",
        "colab_type": "code",
        "colab": {}
      },
      "source": [
        ""
      ],
      "execution_count": 0,
      "outputs": []
    },
    {
      "cell_type": "code",
      "metadata": {
        "id": "ufmhAT_UY6kK",
        "colab_type": "code",
        "outputId": "2aad451a-22dd-4ddb-c811-70993af0c0ea",
        "colab": {
          "base_uri": "https://localhost:8080/",
          "height": 1000
        }
      },
      "source": [
        "# (raw_train_x, raw_train_y), (raw_test_x, raw_test_y) = tf.keras.datasets.mnist.load_data()\n",
        "(raw_train_x, raw_train_y), (raw_test_x, raw_test_y) = tf.keras.datasets.cifar10.load_data()\n",
        "\n",
        "\n",
        "print(raw_train_x.shape)\n",
        "print(raw_train_y.shape)\n",
        "print(raw_test_x.shape)\n",
        "print(raw_test_y.shape)\n",
        "\n",
        "labels = [\"airplane\", \"automobile\", \"bird\", \"cat\", \"deer\", \"dog\", \"frog\", \"horse\", \"ship\", \"truck\"]\n",
        "\n",
        "for i in [1,5,10,15]:\n",
        "  class_index = int(raw_train_y[i])\n",
        "  print(class_index, labels[class_index])\n",
        "  plt.imshow(raw_train_x[i])\n",
        "  plt.show()\n",
        "  \n",
        "train_x = raw_train_x/255\n",
        "test_x = raw_test_x/255\n",
        "\n",
        "train_y = raw_train_y\n",
        "test_y = raw_test_y"
      ],
      "execution_count": 0,
      "outputs": [
        {
          "output_type": "stream",
          "text": [
            "(50000, 32, 32, 3)\n",
            "(50000, 1)\n",
            "(10000, 32, 32, 3)\n",
            "(10000, 1)\n",
            "9 truck\n"
          ],
          "name": "stdout"
        },
        {
          "output_type": "display_data",
          "data": {
            "image/png": "[encoded data removed]",
            "text/plain": [
              "<Figure size 432x288 with 1 Axes>"
            ]
          },
          "metadata": {
            "tags": []
          }
        },
        {
          "output_type": "stream",
          "text": [
            "1 automobile\n"
          ],
          "name": "stdout"
        },
        {
          "output_type": "display_data",
          "data": {
            "image/png": "[encoded data removed]",
            "text/plain": [
              "<Figure size 432x288 with 1 Axes>"
            ]
          },
          "metadata": {
            "tags": []
          }
        },
        {
          "output_type": "stream",
          "text": [
            "4 deer\n"
          ],
          "name": "stdout"
        },
        {
          "output_type": "display_data",
          "data": {
            "image/png": "[encoded data removed]",
            "text/plain": [
              "<Figure size 432x288 with 1 Axes>"
            ]
          },
          "metadata": {
            "tags": []
          }
        },
        {
          "output_type": "stream",
          "text": [
            "9 truck\n"
          ],
          "name": "stdout"
        },
        {
          "output_type": "display_data",
          "data": {
            "image/png": "[encoded data removed]",
            "text/plain": [
              "<Figure size 432x288 with 1 Axes>"
            ]
          },
          "metadata": {
            "tags": []
          }
        }
      ]
    },
    {
      "cell_type": "code",
      "metadata": {
        "id": "cz9dmthjiTD6",
        "colab_type": "code",
        "outputId": "ea7f4644-68fa-4e73-a508-03abed8631fa",
        "colab": {
          "base_uri": "https://localhost:8080/",
          "height": 892
        }
      },
      "source": [
        "from tensorflow.keras.layers import Conv2D, MaxPooling2D\n",
        "\n",
        "model = keras.Sequential()\n",
        "\n",
        "# model.add(Conv2D(32, (3, 3), activation='relu', input_shape=(28, 28, 1)))\n",
        "model.add(Conv2D(32, (3, 3), activation='relu', input_shape=(32, 32, 3)))\n",
        "model.add(MaxPooling2D((2, 2)))\n",
        "model.add(Conv2D(64, (3, 3), activation='relu'))\n",
        "model.add(MaxPooling2D((2, 2))) \n",
        "model.add(Conv2D(64, (3, 3), activation='relu'))\n",
        "model.add(Flatten())\n",
        "\n",
        "model.add(Dense(10, activation='relu'))\n",
        "model.add(Dense(10, activation='relu'))\n",
        "model.add(Dense(10, activation='softmax'))\n",
        "\n",
        "model.compile(optimizer=\"adam\", loss=\"sparse_categorical_crossentropy\", metrics=[\"accuracy\"])\n",
        "model.summary()\n",
        "\n",
        "\n",
        "# model.fit(train_x, train_y, epochs=10, verbose=1, batch_size=128)\n",
        "model.fit(train_x[:10000], train_y[:10000], epochs=10, verbose=1, batch_size=128)\n",
        "\n",
        "\n",
        "loss, acc = model.evaluate(test_x, test_y)\n",
        "print(\"loss=\",loss)\n",
        "print(\"acc=\",acc)\n",
        "\n",
        "y_ = model.predict(test_x)\n",
        "predicted = np.argmax(y_, axis=1)\n",
        "\n",
        "print(predicted)"
      ],
      "execution_count": 0,
      "outputs": [
        {
          "output_type": "stream",
          "text": [
            "Model: \"sequential_6\"\n",
            "_________________________________________________________________\n",
            "Layer (type)                 Output Shape              Param #   \n",
            "=================================================================\n",
            "conv2d_15 (Conv2D)           (None, 30, 30, 32)        896       \n",
            "_________________________________________________________________\n",
            "max_pooling2d_10 (MaxPooling (None, 15, 15, 32)        0         \n",
            "_________________________________________________________________\n",
            "conv2d_16 (Conv2D)           (None, 13, 13, 64)        18496     \n",
            "_________________________________________________________________\n",
            "max_pooling2d_11 (MaxPooling (None, 6, 6, 64)          0         \n",
            "_________________________________________________________________\n",
            "conv2d_17 (Conv2D)           (None, 4, 4, 64)          36928     \n",
            "_________________________________________________________________\n",
            "flatten_6 (Flatten)          (None, 1024)              0         \n",
            "_________________________________________________________________\n",
            "dense_18 (Dense)             (None, 10)                10250     \n",
            "_________________________________________________________________\n",
            "dense_19 (Dense)             (None, 10)                110       \n",
            "_________________________________________________________________\n",
            "dense_20 (Dense)             (None, 10)                110       \n",
            "=================================================================\n",
            "Total params: 66,790\n",
            "Trainable params: 66,790\n",
            "Non-trainable params: 0\n",
            "_________________________________________________________________\n",
            "Epoch 1/10\n",
            "10000/10000 [==============================] - 12s 1ms/sample - loss: 2.2815 - acc: 0.1255\n",
            "Epoch 2/10\n",
            "10000/10000 [==============================] - 12s 1ms/sample - loss: 2.1182 - acc: 0.2127\n",
            "Epoch 3/10\n",
            "10000/10000 [==============================] - 12s 1ms/sample - loss: 1.9298 - acc: 0.2885\n",
            "Epoch 4/10\n",
            "10000/10000 [==============================] - 12s 1ms/sample - loss: 1.7921 - acc: 0.3191\n",
            "Epoch 5/10\n",
            "10000/10000 [==============================] - 12s 1ms/sample - loss: 1.7185 - acc: 0.3461\n",
            "Epoch 6/10\n",
            "10000/10000 [==============================] - 12s 1ms/sample - loss: 1.6650 - acc: 0.3742\n",
            "Epoch 7/10\n",
            "10000/10000 [==============================] - 12s 1ms/sample - loss: 1.5887 - acc: 0.4102\n",
            "Epoch 8/10\n",
            "10000/10000 [==============================] - 12s 1ms/sample - loss: 1.5120 - acc: 0.4420\n",
            "Epoch 9/10\n",
            "10000/10000 [==============================] - 12s 1ms/sample - loss: 1.4544 - acc: 0.4602\n",
            "Epoch 10/10\n",
            "10000/10000 [==============================] - 12s 1ms/sample - loss: 1.3884 - acc: 0.4808\n",
            "10000/10000 [==============================] - 5s 470us/sample - loss: 1.4285 - acc: 0.4681\n",
            "loss= 1.4285078786849976\n",
            "acc= 0.4681\n",
            "[5 8 8 ... 5 2 7]\n"
          ],
          "name": "stdout"
        }
      ]
    },
    {
      "cell_type": "code",
      "metadata": {
        "id": "zJQhXNFkj6E6",
        "colab_type": "code",
        "colab": {}
      },
      "source": [
        ""
      ],
      "execution_count": 0,
      "outputs": []
    },
    {
      "cell_type": "markdown",
      "metadata": {
        "id": "KDqRrX2vj699",
        "colab_type": "text"
      },
      "source": [
        "Cifar10 데이터 1만개와 랜덤하게 생성한 1만개.\n",
        "\n",
        "진짜 데이터인지, 랜덤 데이터인지 구별한다.\n",
        "\n",
        "\n",
        "HINT)\n",
        "\n",
        "x = 기본 train_x 5만개에서 1만개 추린다.\n",
        "y = 1만개의 1 어레이 생성\n",
        "x에다가 1만개의 (32,32,3) 모양의 랜덤값을 추가.\n",
        "y에다가 1만개의 0을 추가한다.\n",
        "\n",
        "x,y에서 임의의 것 1만개를 뽑아서 train_x, train_y\n",
        "나머지가 test_x, test_y\n",
        "\n",
        "입력 사이즈는 32x32x3\n",
        "출력 사이즈는 2\n",
        "\n",
        "\n",
        "\n",
        "\n",
        "\n",
        "\n",
        "\n"
      ]
    },
    {
      "cell_type": "markdown",
      "metadata": {
        "id": "AWpZqKg8lmAw",
        "colab_type": "text"
      },
      "source": [
        "# Quiz\n",
        "\n",
        "a = np.ones(10:3)\n",
        "\n",
        "a의 [5:]을 전부 0으로 채우시오\n",
        "\n",
        "```\n",
        "1 1 1   # 1째줄\n",
        "1 1 1   # 2째줄\n",
        "1 1 1    # 3째줄\n",
        "....\n",
        "1 1 1     # 5째줄\n",
        "1 1 1     # 6째줄\n",
        "...\n",
        "1 1 1    # 10째줄\n",
        "\n",
        "1 1 1   # 1째줄\n",
        "1 1 1   # 2째줄\n",
        "1 1 1    # 3째줄\n",
        "....\n",
        "1 1 1     # 5째줄\n",
        "0 0 0     # 6째줄\n",
        "...\n",
        "0 0 0    # 10째줄\n",
        "```\n"
      ]
    },
    {
      "cell_type": "code",
      "metadata": {
        "id": "ThlL2gqpmJtl",
        "colab_type": "code",
        "outputId": "98728f8c-6e5e-4be8-e323-8d7464b13494",
        "colab": {
          "base_uri": "https://localhost:8080/",
          "height": 367
        }
      },
      "source": [
        "a = np.ones((10,3))\n",
        "print(a)\n",
        "\n",
        "a[5:,] = 0\n",
        "print(a)"
      ],
      "execution_count": 0,
      "outputs": [
        {
          "output_type": "stream",
          "text": [
            "[[1. 1. 1.]\n",
            " [1. 1. 1.]\n",
            " [1. 1. 1.]\n",
            " [1. 1. 1.]\n",
            " [1. 1. 1.]\n",
            " [1. 1. 1.]\n",
            " [1. 1. 1.]\n",
            " [1. 1. 1.]\n",
            " [1. 1. 1.]\n",
            " [1. 1. 1.]]\n",
            "[[1. 1. 1.]\n",
            " [1. 1. 1.]\n",
            " [1. 1. 1.]\n",
            " [1. 1. 1.]\n",
            " [1. 1. 1.]\n",
            " [0. 0. 0.]\n",
            " [0. 0. 0.]\n",
            " [0. 0. 0.]\n",
            " [0. 0. 0.]\n",
            " [0. 0. 0.]]\n"
          ],
          "name": "stdout"
        }
      ]
    },
    {
      "cell_type": "markdown",
      "metadata": {
        "id": "y7iMhrobnEEf",
        "colab_type": "text"
      },
      "source": [
        "# Quiz\n",
        "\n",
        "a = np.ones((10,3))\n",
        "\n",
        "(5,3) 사이즈의 랜덤한 값이 있는 b를 생성\n",
        "\n",
        "a[5:] 를 b의 값으로 설정\n",
        "\n",
        "<br>\n",
        "\n",
        "a = np.ones((10,3))\n",
        "\n",
        "a의 [5:]을 전부 random한 값으로 채우시오."
      ]
    },
    {
      "cell_type": "code",
      "metadata": {
        "id": "m7rqUZ1ynU1O",
        "colab_type": "code",
        "outputId": "4c2534a2-8544-4b18-ee51-b4906f37b45f",
        "colab": {
          "base_uri": "https://localhost:8080/",
          "height": 279
        }
      },
      "source": [
        "a = np.ones((10,3))\n",
        "b = np.random.rand(5,3)\n",
        "print(b)\n",
        "a[5:] = b\n",
        "print(a)"
      ],
      "execution_count": 0,
      "outputs": [
        {
          "output_type": "stream",
          "text": [
            "[[0.24636324 0.00253155 0.78049448]\n",
            " [0.83422174 0.42922968 0.32781212]\n",
            " [0.75197958 0.337961   0.63922061]\n",
            " [0.10908851 0.25692579 0.67621361]\n",
            " [0.22700143 0.39319909 0.95774487]]\n",
            "[[1.         1.         1.        ]\n",
            " [1.         1.         1.        ]\n",
            " [1.         1.         1.        ]\n",
            " [1.         1.         1.        ]\n",
            " [1.         1.         1.        ]\n",
            " [0.24636324 0.00253155 0.78049448]\n",
            " [0.83422174 0.42922968 0.32781212]\n",
            " [0.75197958 0.337961   0.63922061]\n",
            " [0.10908851 0.25692579 0.67621361]\n",
            " [0.22700143 0.39319909 0.95774487]]\n"
          ],
          "name": "stdout"
        }
      ]
    },
    {
      "cell_type": "markdown",
      "metadata": {
        "id": "Sx-7wPjImtqw",
        "colab_type": "text"
      },
      "source": [
        "# Quiz\n",
        "\n",
        "a = np.ones((10,3,3,2))\n",
        "\n",
        "a의 [5:]을 전부 random한 값으로 채우시오."
      ]
    },
    {
      "cell_type": "code",
      "metadata": {
        "id": "5sVsNk7BogiG",
        "colab_type": "code",
        "outputId": "bbed2c06-2999-4db0-a89e-287d21b412b0",
        "colab": {
          "base_uri": "https://localhost:8080/",
          "height": 402
        }
      },
      "source": [
        "a = np.ones((10,3,3,2))\n",
        "b = np.random.rand(5,3,3,2)\n",
        "a[5:] = b\n",
        "print(a[4])\n",
        "print(a[5])\n"
      ],
      "execution_count": 0,
      "outputs": [
        {
          "output_type": "stream",
          "text": [
            "[[[1. 1.]\n",
            "  [1. 1.]\n",
            "  [1. 1.]]\n",
            "\n",
            " [[1. 1.]\n",
            "  [1. 1.]\n",
            "  [1. 1.]]\n",
            "\n",
            " [[1. 1.]\n",
            "  [1. 1.]\n",
            "  [1. 1.]]]\n",
            "[[[0.36846778 0.36223628]\n",
            "  [0.19307139 0.51882105]\n",
            "  [0.44771242 0.83720245]]\n",
            "\n",
            " [[0.64374457 0.14239245]\n",
            "  [0.54637209 0.33807349]\n",
            "  [0.00922192 0.51817823]]\n",
            "\n",
            " [[0.32477197 0.41528386]\n",
            "  [0.02176642 0.84079146]\n",
            "  [0.86974116 0.24100274]]]\n"
          ],
          "name": "stdout"
        }
      ]
    },
    {
      "cell_type": "markdown",
      "metadata": {
        "id": "csd9kLGepf6n",
        "colab_type": "text"
      },
      "source": [
        "# Quiz\n",
        "```\n",
        "a = [0,1,2,3,4,5]\n",
        "b = [0,2,4,6,8,10]\n",
        "```\n",
        "\n",
        "a와 b를 동시에 섞는다.\n",
        "```\n",
        "[3 5  1  0 4 2]\n",
        "[6 10 2 0 8 4]\n",
        "```\n",
        "```\n",
        "index = [3 1 2 ]\n",
        "a[index] ---> [a[3], a[1], a[2]] --> [2 0 3]\n",
        "b[index] ---> [b[3], b[1], b[2]] --> [4 0 6]\n",
        "```\n",
        "\n",
        "\n",
        "\n",
        "\n",
        "\n"
      ]
    },
    {
      "cell_type": "code",
      "metadata": {
        "id": "r7kSAdgaqIgc",
        "colab_type": "code",
        "outputId": "758b5f86-e687-4425-dd44-16e27c471b8a",
        "colab": {
          "base_uri": "https://localhost:8080/",
          "height": 52
        }
      },
      "source": [
        "a = np.arange(6)\n",
        "b = np.arange(6)*2\n",
        "\n",
        "i = np.arange(6)\n",
        "np.random.shuffle(i)\n",
        "\n",
        "a = a[i]\n",
        "b = b[i]\n",
        "print(a)\n",
        "print(b)"
      ],
      "execution_count": 0,
      "outputs": [
        {
          "output_type": "stream",
          "text": [
            "[1 0 3 4 2 5]\n",
            "[ 2  0  6  8  4 10]\n"
          ],
          "name": "stdout"
        }
      ]
    }
  ]
}