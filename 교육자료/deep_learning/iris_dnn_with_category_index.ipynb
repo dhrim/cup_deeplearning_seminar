{
  "nbformat": 4,
  "nbformat_minor": 0,
  "metadata": {
    "colab": {
      "name": "iris_dnn_and_optimizer.ipynb",
      "version": "0.3.2",
      "provenance": [],
      "collapsed_sections": []
    },
    "kernelspec": {
      "name": "python3",
      "display_name": "Python 3"
    }
  },
  "cells": [
    {
      "cell_type": "code",
      "metadata": {
        "id": "nPqzpGCsB1BF",
        "colab_type": "code",
        "colab": {}
      },
      "source": [
        "import numpy as np\n",
        "import pandas as pd\n",
        "import matplotlib.pyplot as plt\n",
        "\n",
        "import tensorflow as tf\n",
        "\n",
        "from tensorflow import keras\n",
        "from tensorflow.keras import optimizers\n",
        "from tensorflow.keras.layers import Dense"
      ],
      "execution_count": 0,
      "outputs": []
    },
    {
      "cell_type": "code",
      "metadata": {
        "id": "Sr9ALNDi_yMg",
        "colab_type": "code",
        "outputId": "2b34c4b7-9c7e-4f5f-f17e-6c6aff2571e5",
        "colab": {
          "base_uri": "https://localhost:8080/",
          "height": 222
        }
      },
      "source": [
        "!wget https://raw.githubusercontent.com/dhrim/cup_deeplearning_seminar/master/%EA%B5%90%EC%9C%A1%EC%9E%90%EB%A3%8C/deep_learning/iris.csv"
      ],
      "execution_count": 0,
      "outputs": [
        {
          "output_type": "stream",
          "text": [
            "--2019-07-22 11:52:57--  https://raw.githubusercontent.com/dhrim/cup_deeplearning_seminar/master/%EA%B5%90%EC%9C%A1%EC%9E%90%EB%A3%8C/deep_learning/iris.csv\n",
            "Resolving raw.githubusercontent.com (raw.githubusercontent.com)... 151.101.0.133, 151.101.64.133, 151.101.128.133, ...\n",
            "Connecting to raw.githubusercontent.com (raw.githubusercontent.com)|151.101.0.133|:443... connected.\n",
            "HTTP request sent, awaiting response... 200 OK\n",
            "Length: 2720 (2.7K) [text/plain]\n",
            "Saving to: ‘iris.csv’\n",
            "\n",
            "\riris.csv              0%[                    ]       0  --.-KB/s               \riris.csv            100%[===================>]   2.66K  --.-KB/s    in 0s      \n",
            "\n",
            "2019-07-22 11:52:57 (59.9 MB/s) - ‘iris.csv’ saved [2720/2720]\n",
            "\n"
          ],
          "name": "stdout"
        }
      ]
    },
    {
      "cell_type": "code",
      "metadata": {
        "id": "5AzjW3DD4BEO",
        "colab_type": "code",
        "outputId": "3393fe93-0b2c-4929-caa6-13f50c902fa4",
        "colab": {
          "base_uri": "https://localhost:8080/",
          "height": 195
        }
      },
      "source": [
        "iris = pd.read_csv(\"iris.csv\")\n",
        "iris.head()"
      ],
      "execution_count": 0,
      "outputs": [
        {
          "output_type": "execute_result",
          "data": {
            "text/html": [
              "<div>\n",
              "<style scoped>\n",
              "    .dataframe tbody tr th:only-of-type {\n",
              "        vertical-align: middle;\n",
              "    }\n",
              "\n",
              "    .dataframe tbody tr th {\n",
              "        vertical-align: top;\n",
              "    }\n",
              "\n",
              "    .dataframe thead th {\n",
              "        text-align: right;\n",
              "    }\n",
              "</style>\n",
              "<table border=\"1\" class=\"dataframe\">\n",
              "  <thead>\n",
              "    <tr style=\"text-align: right;\">\n",
              "      <th></th>\n",
              "      <th>septal_length</th>\n",
              "      <th>septal_width</th>\n",
              "      <th>petal_length</th>\n",
              "      <th>petal_width</th>\n",
              "      <th>setosa</th>\n",
              "      <th>versicolor</th>\n",
              "      <th>virginica</th>\n",
              "    </tr>\n",
              "  </thead>\n",
              "  <tbody>\n",
              "    <tr>\n",
              "      <th>0</th>\n",
              "      <td>6.4</td>\n",
              "      <td>2.8</td>\n",
              "      <td>5.6</td>\n",
              "      <td>2.2</td>\n",
              "      <td>0</td>\n",
              "      <td>0</td>\n",
              "      <td>1</td>\n",
              "    </tr>\n",
              "    <tr>\n",
              "      <th>1</th>\n",
              "      <td>5.0</td>\n",
              "      <td>2.3</td>\n",
              "      <td>3.3</td>\n",
              "      <td>1.0</td>\n",
              "      <td>0</td>\n",
              "      <td>1</td>\n",
              "      <td>0</td>\n",
              "    </tr>\n",
              "    <tr>\n",
              "      <th>2</th>\n",
              "      <td>4.9</td>\n",
              "      <td>2.5</td>\n",
              "      <td>4.5</td>\n",
              "      <td>1.7</td>\n",
              "      <td>0</td>\n",
              "      <td>0</td>\n",
              "      <td>1</td>\n",
              "    </tr>\n",
              "    <tr>\n",
              "      <th>3</th>\n",
              "      <td>4.9</td>\n",
              "      <td>3.1</td>\n",
              "      <td>1.5</td>\n",
              "      <td>0.1</td>\n",
              "      <td>1</td>\n",
              "      <td>0</td>\n",
              "      <td>0</td>\n",
              "    </tr>\n",
              "    <tr>\n",
              "      <th>4</th>\n",
              "      <td>5.7</td>\n",
              "      <td>3.8</td>\n",
              "      <td>1.7</td>\n",
              "      <td>0.3</td>\n",
              "      <td>1</td>\n",
              "      <td>0</td>\n",
              "      <td>0</td>\n",
              "    </tr>\n",
              "  </tbody>\n",
              "</table>\n",
              "</div>"
            ],
            "text/plain": [
              "   septal_length  septal_width  petal_length  ...  setosa  versicolor  virginica\n",
              "0            6.4           2.8           5.6  ...       0           0          1\n",
              "1            5.0           2.3           3.3  ...       0           1          0\n",
              "2            4.9           2.5           4.5  ...       0           0          1\n",
              "3            4.9           3.1           1.5  ...       1           0          0\n",
              "4            5.7           3.8           1.7  ...       1           0          0\n",
              "\n",
              "[5 rows x 7 columns]"
            ]
          },
          "metadata": {
            "tags": []
          },
          "execution_count": 5
        }
      ]
    },
    {
      "cell_type": "code",
      "metadata": {
        "id": "84J6VStQ4BG0",
        "colab_type": "code",
        "outputId": "8aa7d807-b2e2-4f65-da10-6e1306abb135",
        "colab": {
          "base_uri": "https://localhost:8080/",
          "height": 218
        }
      },
      "source": [
        "iris.info()"
      ],
      "execution_count": 0,
      "outputs": [
        {
          "output_type": "stream",
          "text": [
            "<class 'pandas.core.frame.DataFrame'>\n",
            "RangeIndex: 120 entries, 0 to 119\n",
            "Data columns (total 7 columns):\n",
            "septal_length    120 non-null float64\n",
            "septal_width     120 non-null float64\n",
            "petal_length     120 non-null float64\n",
            "petal_width      120 non-null float64\n",
            "setosa           120 non-null int64\n",
            "versicolor       120 non-null int64\n",
            "virginica        120 non-null int64\n",
            "dtypes: float64(4), int64(3)\n",
            "memory usage: 6.6 KB\n"
          ],
          "name": "stdout"
        }
      ]
    },
    {
      "cell_type": "code",
      "metadata": {
        "id": "jxSyc1l54BJm",
        "colab_type": "code",
        "outputId": "43432b36-ac6a-49a1-b96f-a69a7a79758d",
        "colab": {
          "base_uri": "https://localhost:8080/",
          "height": 118
        }
      },
      "source": [
        "data = iris.to_numpy()\n",
        "print(data.shape)\n",
        "print(data[:5])"
      ],
      "execution_count": 0,
      "outputs": [
        {
          "output_type": "stream",
          "text": [
            "(120, 7)\n",
            "[[6.4 2.8 5.6 2.2 0.  0.  1. ]\n",
            " [5.  2.3 3.3 1.  0.  1.  0. ]\n",
            " [4.9 2.5 4.5 1.7 0.  0.  1. ]\n",
            " [4.9 3.1 1.5 0.1 1.  0.  0. ]\n",
            " [5.7 3.8 1.7 0.3 1.  0.  0. ]]\n"
          ],
          "name": "stdout"
        }
      ]
    },
    {
      "cell_type": "code",
      "metadata": {
        "id": "Mb9j8N5YiDwQ",
        "colab_type": "code",
        "colab": {}
      },
      "source": [
        "x = data[:,:4]\n",
        "y = data[:,4:]\n",
        "\n",
        "split_index = 100\n",
        "\n",
        "train_x, test_x = x[:split_index], x[split_index:]\n",
        "train_y, test_y = y[:split_index], y[split_index:]"
      ],
      "execution_count": 0,
      "outputs": []
    },
    {
      "cell_type": "code",
      "metadata": {
        "id": "SJmp-8zD5gR2",
        "colab_type": "code",
        "colab": {}
      },
      "source": [
        "model = keras.Sequential([\n",
        "    keras.layers.Dense(10, activation='relu', input_shape=(train_x.shape[1],)),\n",
        "    keras.layers.Dense(10, activation='relu'),\n",
        "    keras.layers.Dense(train_y.shape[1], activation='softmax')\n",
        "])"
      ],
      "execution_count": 0,
      "outputs": []
    },
    {
      "cell_type": "code",
      "metadata": {
        "id": "dqazsLAq5st-",
        "colab_type": "code",
        "colab": {}
      },
      "source": [
        "model.compile(optimizer='adam',\n",
        "              loss='categorical_crossentropy',\n",
        "              metrics=['accuracy'])"
      ],
      "execution_count": 0,
      "outputs": []
    },
    {
      "cell_type": "code",
      "metadata": {
        "id": "za5XB-365gU3",
        "colab_type": "code",
        "outputId": "ac7cb015-f58b-4ec0-cd6b-0c55b262177c",
        "colab": {
          "base_uri": "https://localhost:8080/",
          "height": 34
        }
      },
      "source": [
        "model.fit(train_x, train_y, epochs=200, verbose=0)"
      ],
      "execution_count": 0,
      "outputs": [
        {
          "output_type": "execute_result",
          "data": {
            "text/plain": [
              "<tensorflow.python.keras.callbacks.History at 0x7f50c190f6d8>"
            ]
          },
          "metadata": {
            "tags": []
          },
          "execution_count": 28
        }
      ]
    },
    {
      "cell_type": "code",
      "metadata": {
        "id": "76wFgAkT7Axp",
        "colab_type": "code",
        "outputId": "77b3739c-2f01-42af-f1cc-c7b23a5279ea",
        "colab": {
          "base_uri": "https://localhost:8080/",
          "height": 67
        }
      },
      "source": [
        "loss, acc = model.evaluate(test_x, test_y)\n",
        "\n",
        "print(\"loss :\", loss)\n",
        "print(\"acc :\", acc)\n"
      ],
      "execution_count": 0,
      "outputs": [
        {
          "output_type": "stream",
          "text": [
            "\r20/20 [==============================] - 0s 180us/sample - loss: 0.2087 - acc: 1.0000\n",
            "loss : 0.20874568819999695\n",
            "acc : 1.0\n"
          ],
          "name": "stdout"
        }
      ]
    },
    {
      "cell_type": "code",
      "metadata": {
        "id": "vYQYwQh67OuV",
        "colab_type": "code",
        "outputId": "ef11b484-abc3-44fc-974c-e22acc743962",
        "colab": {
          "base_uri": "https://localhost:8080/",
          "height": 370
        }
      },
      "source": [
        "y_ = model.predict(test_x)\n",
        "print(y_)\n",
        "print(np.argmax(y_, axis=1))"
      ],
      "execution_count": 0,
      "outputs": [
        {
          "output_type": "stream",
          "text": [
            "[[9.5934635e-01 4.0229280e-02 4.2442654e-04]\n",
            " [9.3170352e-02 6.6391361e-01 2.4291605e-01]\n",
            " [9.1371399e-01 8.4611416e-02 1.6745505e-03]\n",
            " [4.5848995e-02 7.0195627e-01 2.5219467e-01]\n",
            " [9.4871980e-01 5.0555121e-02 7.2511053e-04]\n",
            " [9.6779346e-01 3.1962518e-02 2.4399521e-04]\n",
            " [9.7017729e-01 2.9602863e-02 2.1990167e-04]\n",
            " [9.6535349e-01 3.4321785e-02 3.2473583e-04]\n",
            " [7.1442954e-02 6.8595731e-01 2.4259977e-01]\n",
            " [9.4780815e-01 5.1459871e-02 7.3201093e-04]\n",
            " [1.8324244e-03 3.5613698e-01 6.4203054e-01]\n",
            " [2.5649322e-02 6.1223996e-01 3.6211076e-01]\n",
            " [9.4642758e-01 5.2929152e-02 6.4314855e-04]\n",
            " [2.8999939e-05 6.4928144e-02 9.3504286e-01]\n",
            " [9.3536097e-01 6.3459702e-02 1.1793859e-03]\n",
            " [1.1778355e-02 5.1212680e-01 4.7609481e-01]\n",
            " [3.1942356e-02 6.2877226e-01 3.3928540e-01]\n",
            " [9.4823027e-01 5.0878275e-02 8.9150609e-04]\n",
            " [9.6014363e-01 3.9455928e-02 4.0032656e-04]\n",
            " [6.1469343e-02 7.0579487e-01 2.3273575e-01]]\n",
            "[0 1 0 1 0 0 0 0 1 0 2 1 0 2 0 1 1 0 0 1]\n"
          ],
          "name": "stdout"
        }
      ]
    },
    {
      "cell_type": "code",
      "metadata": {
        "id": "14su9wKZBfBf",
        "colab_type": "code",
        "colab": {}
      },
      "source": [
        ""
      ],
      "execution_count": 0,
      "outputs": []
    },
    {
      "cell_type": "markdown",
      "metadata": {
        "id": "JXzTn2SiB5uH",
        "colab_type": "text"
      },
      "source": [
        "# Optimzer\n",
        "\n",
        "- 'SGD' or tf.keras.optimizers.SGD()\n",
        "- 'Adam' or tf.keras.optimizers.Adam()\n",
        "- 'Adagrad' or tf.keras.optimizers.Adagrad()\n",
        "- 'RMSprop' or tf.keras.optimizers.RMSprop()\n",
        "\n",
        "\n",
        "```\n",
        "SGD(lr=0.001)\n",
        "Adam(lr=0.001, beta_1=0.9, beta_2=0.999, epsilon=1e-07)\n",
        "Adagrad(lr=0.001, epsilon=1e-06)\n",
        "RMSprop(lr=0.001, rho=0.9, decay=0.9)\n",
        "```\n",
        "\n",
        "\n",
        "\n",
        "\n"
      ]
    },
    {
      "cell_type": "code",
      "metadata": {
        "id": "eP_bMMSQBfGW",
        "colab_type": "code",
        "colab": {}
      },
      "source": [
        "def train(optimizer, loss, epochs=10):\n",
        "  \n",
        "  model = keras.Sequential([\n",
        "      keras.layers.Dense(10, activation='relu'),\n",
        "      keras.layers.Dense(10, activation='relu'),\n",
        "      keras.layers.Dense(3, activation='softmax')\n",
        "  ])\n",
        "\n",
        "  model.compile(optimizer=optimizer,\n",
        "                loss=loss,\n",
        "                metrics=['accuracy'])\n",
        "\n",
        "  model.fit(train_x, train_y, epochs=epochs)\n",
        "\n",
        "  loss, acc = model.evaluate(test_x, test_y)\n",
        "\n",
        "  print(\"loss :\", loss)\n",
        "  print(\"acc :\", acc)\n"
      ],
      "execution_count": 0,
      "outputs": []
    },
    {
      "cell_type": "markdown",
      "metadata": {
        "id": "IzGgjZ8ZIj93",
        "colab_type": "text"
      },
      "source": [
        "## optimizer - SGD"
      ]
    },
    {
      "cell_type": "code",
      "metadata": {
        "id": "q_SZjYIjIlNZ",
        "colab_type": "code",
        "outputId": "ea2d4e72-d77b-4c93-be1a-837ba0ab9f42",
        "colab": {
          "base_uri": "https://localhost:8080/",
          "height": 403
        }
      },
      "source": [
        "optimizer = \"SGD\"\n",
        "loss = \"categorical_crossentropy\"\n",
        "\n",
        "train(optimizer, loss, 10)"
      ],
      "execution_count": 0,
      "outputs": [
        {
          "output_type": "stream",
          "text": [
            "Epoch 1/10\n",
            "100/100 [==============================] - 0s 526us/sample - loss: 1.9635 - acc: 0.3100\n",
            "Epoch 2/10\n",
            "100/100 [==============================] - 0s 92us/sample - loss: 0.8568 - acc: 0.5900\n",
            "Epoch 3/10\n",
            "100/100 [==============================] - 0s 106us/sample - loss: 0.7941 - acc: 0.8800\n",
            "Epoch 4/10\n",
            "100/100 [==============================] - 0s 123us/sample - loss: 0.7820 - acc: 0.9100\n",
            "Epoch 5/10\n",
            "100/100 [==============================] - 0s 105us/sample - loss: 0.7720 - acc: 0.8300\n",
            "Epoch 6/10\n",
            "100/100 [==============================] - 0s 102us/sample - loss: 0.7647 - acc: 0.8200\n",
            "Epoch 7/10\n",
            "100/100 [==============================] - 0s 196us/sample - loss: 0.7556 - acc: 0.8900\n",
            "Epoch 8/10\n",
            "100/100 [==============================] - 0s 104us/sample - loss: 0.7491 - acc: 0.8400\n",
            "Epoch 9/10\n",
            "100/100 [==============================] - 0s 117us/sample - loss: 0.7435 - acc: 0.9000\n",
            "Epoch 10/10\n",
            "100/100 [==============================] - 0s 98us/sample - loss: 0.7397 - acc: 0.9100\n",
            "20/20 [==============================] - 0s 1ms/sample - loss: 0.5188 - acc: 0.8500\n",
            "loss : 0.5187689065933228\n",
            "acc : 0.85\n"
          ],
          "name": "stdout"
        }
      ]
    },
    {
      "cell_type": "code",
      "metadata": {
        "id": "_vu9a0lPBfLs",
        "colab_type": "code",
        "outputId": "4c687a25-7f9a-4074-ad23-7c6f8033a64b",
        "colab": {
          "base_uri": "https://localhost:8080/",
          "height": 403
        }
      },
      "source": [
        "optimizer = tf.keras.optimizers.SGD(lr=0.01)\n",
        "loss = \"categorical_crossentropy\"\n",
        "\n",
        "train(optimizer, loss, 10)"
      ],
      "execution_count": 0,
      "outputs": [
        {
          "output_type": "stream",
          "text": [
            "Epoch 1/10\n",
            "100/100 [==============================] - 0s 537us/sample - loss: 3.4895 - acc: 0.2900\n",
            "Epoch 2/10\n",
            "100/100 [==============================] - 0s 192us/sample - loss: 1.6425 - acc: 0.2900\n",
            "Epoch 3/10\n",
            "100/100 [==============================] - 0s 147us/sample - loss: 1.3700 - acc: 0.2900\n",
            "Epoch 4/10\n",
            "100/100 [==============================] - 0s 99us/sample - loss: 1.1276 - acc: 0.4000\n",
            "Epoch 5/10\n",
            "100/100 [==============================] - 0s 91us/sample - loss: 1.0648 - acc: 0.3800\n",
            "Epoch 6/10\n",
            "100/100 [==============================] - 0s 112us/sample - loss: 1.0382 - acc: 0.4000\n",
            "Epoch 7/10\n",
            "100/100 [==============================] - 0s 96us/sample - loss: 1.0211 - acc: 0.4000\n",
            "Epoch 8/10\n",
            "100/100 [==============================] - 0s 104us/sample - loss: 1.0149 - acc: 0.4000\n",
            "Epoch 9/10\n",
            "100/100 [==============================] - 0s 112us/sample - loss: 1.0092 - acc: 0.4000\n",
            "Epoch 10/10\n",
            "100/100 [==============================] - 0s 95us/sample - loss: 0.9937 - acc: 0.4000\n",
            "20/20 [==============================] - 0s 2ms/sample - loss: 1.0961 - acc: 0.1500\n",
            "loss : 1.096100926399231\n",
            "acc : 0.15\n"
          ],
          "name": "stdout"
        }
      ]
    },
    {
      "cell_type": "markdown",
      "metadata": {
        "id": "gR9iDWJII3US",
        "colab_type": "text"
      },
      "source": [
        "## optimizer - Adam"
      ]
    },
    {
      "cell_type": "code",
      "metadata": {
        "id": "RKuvGiwKJAXl",
        "colab_type": "code",
        "outputId": "b3950c33-1405-4498-a032-0006e2928d19",
        "colab": {
          "base_uri": "https://localhost:8080/",
          "height": 403
        }
      },
      "source": [
        "optimizer = \"Adam\"\n",
        "loss = \"categorical_crossentropy\"\n",
        "\n",
        "train(optimizer, loss, 10)"
      ],
      "execution_count": 0,
      "outputs": [
        {
          "output_type": "stream",
          "text": [
            "Epoch 1/10\n",
            "100/100 [==============================] - 0s 842us/sample - loss: 0.9752 - acc: 0.4000\n",
            "Epoch 2/10\n",
            "100/100 [==============================] - 0s 126us/sample - loss: 0.9416 - acc: 0.4000\n",
            "Epoch 3/10\n",
            "100/100 [==============================] - 0s 124us/sample - loss: 0.9126 - acc: 0.4000\n",
            "Epoch 4/10\n",
            "100/100 [==============================] - 0s 117us/sample - loss: 0.8839 - acc: 0.4000\n",
            "Epoch 5/10\n",
            "100/100 [==============================] - 0s 115us/sample - loss: 0.8631 - acc: 0.4000\n",
            "Epoch 6/10\n",
            "100/100 [==============================] - 0s 156us/sample - loss: 0.8435 - acc: 0.4000\n",
            "Epoch 7/10\n",
            "100/100 [==============================] - 0s 114us/sample - loss: 0.8261 - acc: 0.4000\n",
            "Epoch 8/10\n",
            "100/100 [==============================] - 0s 124us/sample - loss: 0.8096 - acc: 0.4000\n",
            "Epoch 9/10\n",
            "100/100 [==============================] - 0s 126us/sample - loss: 0.7936 - acc: 0.6200\n",
            "Epoch 10/10\n",
            "100/100 [==============================] - 0s 117us/sample - loss: 0.7787 - acc: 0.7100\n",
            "20/20 [==============================] - 0s 2ms/sample - loss: 1.0001 - acc: 0.6500\n",
            "loss : 1.0001156330108643\n",
            "acc : 0.65\n"
          ],
          "name": "stdout"
        }
      ]
    },
    {
      "cell_type": "code",
      "metadata": {
        "id": "AC6GLYy3BfOh",
        "colab_type": "code",
        "outputId": "01facf03-9c5a-41c0-85a6-a63becac9083",
        "colab": {
          "base_uri": "https://localhost:8080/",
          "height": 403
        }
      },
      "source": [
        "optimizer = tf.keras.optimizers.Adam(lr=0.01, beta_1=0.9, beta_2=0.999, epsilon=1e-07)\n",
        "loss = \"categorical_crossentropy\"\n",
        "\n",
        "train(optimizer, loss, 10)"
      ],
      "execution_count": 0,
      "outputs": [
        {
          "output_type": "stream",
          "text": [
            "Epoch 1/10\n",
            "100/100 [==============================] - 0s 845us/sample - loss: 2.7961 - acc: 0.3100\n",
            "Epoch 2/10\n",
            "100/100 [==============================] - 0s 85us/sample - loss: 1.2273 - acc: 0.3400\n",
            "Epoch 3/10\n",
            "100/100 [==============================] - 0s 87us/sample - loss: 1.0475 - acc: 0.2900\n",
            "Epoch 4/10\n",
            "100/100 [==============================] - 0s 135us/sample - loss: 0.9624 - acc: 0.3100\n",
            "Epoch 5/10\n",
            "100/100 [==============================] - 0s 107us/sample - loss: 0.8140 - acc: 0.5700\n",
            "Epoch 6/10\n",
            "100/100 [==============================] - 0s 98us/sample - loss: 0.6927 - acc: 0.7100\n",
            "Epoch 7/10\n",
            "100/100 [==============================] - 0s 99us/sample - loss: 0.6350 - acc: 0.7100\n",
            "Epoch 8/10\n",
            "100/100 [==============================] - 0s 89us/sample - loss: 0.5763 - acc: 0.7100\n",
            "Epoch 9/10\n",
            "100/100 [==============================] - 0s 88us/sample - loss: 0.5298 - acc: 0.7100\n",
            "Epoch 10/10\n",
            "100/100 [==============================] - 0s 93us/sample - loss: 0.5132 - acc: 0.7100\n",
            "20/20 [==============================] - 0s 2ms/sample - loss: 0.4807 - acc: 0.6500\n",
            "loss : 0.4806707501411438\n",
            "acc : 0.65\n"
          ],
          "name": "stdout"
        }
      ]
    },
    {
      "cell_type": "code",
      "metadata": {
        "id": "tWdYuaIBBfRa",
        "colab_type": "code",
        "outputId": "8f0c24f1-bd83-405c-cf55-e66e5d3aba46",
        "colab": {
          "base_uri": "https://localhost:8080/",
          "height": 474
        }
      },
      "source": [
        "optimizer = tf.keras.optimizers.Adagrad(lr=0.01, epsilon=1e-06)\n",
        "loss = \"categorical_crossentropy\"\n",
        "\n",
        "train(optimizer, loss, 10)"
      ],
      "execution_count": 0,
      "outputs": [
        {
          "output_type": "stream",
          "text": [
            "W0722 12:00:19.237971 139985903482752 deprecation.py:506] From /usr/local/lib/python3.6/dist-packages/tensorflow/python/keras/optimizer_v2/adagrad.py:105: calling Constant.__init__ (from tensorflow.python.ops.init_ops) with dtype is deprecated and will be removed in a future version.\n",
            "Instructions for updating:\n",
            "Call initializer instance with the dtype argument instead of passing it to the constructor\n"
          ],
          "name": "stderr"
        },
        {
          "output_type": "stream",
          "text": [
            "Epoch 1/10\n",
            "100/100 [==============================] - 0s 871us/sample - loss: 1.9206 - acc: 0.3100\n",
            "Epoch 2/10\n",
            "100/100 [==============================] - 0s 86us/sample - loss: 1.6465 - acc: 0.0300\n",
            "Epoch 3/10\n",
            "100/100 [==============================] - 0s 76us/sample - loss: 1.4907 - acc: 0.0100\n",
            "Epoch 4/10\n",
            "100/100 [==============================] - 0s 117us/sample - loss: 1.4023 - acc: 0.3900\n",
            "Epoch 5/10\n",
            "100/100 [==============================] - 0s 77us/sample - loss: 1.3220 - acc: 0.2500\n",
            "Epoch 6/10\n",
            "100/100 [==============================] - 0s 88us/sample - loss: 1.2698 - acc: 0.3100\n",
            "Epoch 7/10\n",
            "100/100 [==============================] - 0s 90us/sample - loss: 1.2222 - acc: 0.3800\n",
            "Epoch 8/10\n",
            "100/100 [==============================] - 0s 105us/sample - loss: 1.1824 - acc: 0.5500\n",
            "Epoch 9/10\n",
            "100/100 [==============================] - 0s 65us/sample - loss: 1.1520 - acc: 0.4400\n",
            "Epoch 10/10\n",
            "100/100 [==============================] - 0s 85us/sample - loss: 1.1269 - acc: 0.4300\n",
            "20/20 [==============================] - 0s 2ms/sample - loss: 1.1730 - acc: 0.1000\n",
            "loss : 1.1729729175567627\n",
            "acc : 0.1\n"
          ],
          "name": "stdout"
        }
      ]
    },
    {
      "cell_type": "code",
      "metadata": {
        "id": "8NHjYG2eGhBb",
        "colab_type": "code",
        "outputId": "a57bb546-684e-402f-cd02-2e2fd62abcf3",
        "colab": {
          "base_uri": "https://localhost:8080/",
          "height": 403
        }
      },
      "source": [
        "optimizer = tf.keras.optimizers.RMSprop(lr=0.01, rho=0.9, decay=0.9)\n",
        "loss = \"categorical_crossentropy\"\n",
        "\n",
        "train(optimizer, loss, 10)"
      ],
      "execution_count": 0,
      "outputs": [
        {
          "output_type": "stream",
          "text": [
            "Epoch 1/10\n",
            "100/100 [==============================] - 0s 1ms/sample - loss: 1.0161 - acc: 0.5300\n",
            "Epoch 2/10\n",
            "100/100 [==============================] - 0s 90us/sample - loss: 0.8675 - acc: 0.8500\n",
            "Epoch 3/10\n",
            "100/100 [==============================] - 0s 81us/sample - loss: 0.8359 - acc: 0.7300\n",
            "Epoch 4/10\n",
            "100/100 [==============================] - 0s 92us/sample - loss: 0.8212 - acc: 0.7200\n",
            "Epoch 5/10\n",
            "100/100 [==============================] - 0s 89us/sample - loss: 0.8133 - acc: 0.7200\n",
            "Epoch 6/10\n",
            "100/100 [==============================] - 0s 92us/sample - loss: 0.8062 - acc: 0.7200\n",
            "Epoch 7/10\n",
            "100/100 [==============================] - 0s 91us/sample - loss: 0.8005 - acc: 0.7200\n",
            "Epoch 8/10\n",
            "100/100 [==============================] - 0s 100us/sample - loss: 0.7973 - acc: 0.7300\n",
            "Epoch 9/10\n",
            "100/100 [==============================] - 0s 89us/sample - loss: 0.7915 - acc: 0.7200\n",
            "Epoch 10/10\n",
            "100/100 [==============================] - 0s 84us/sample - loss: 0.7859 - acc: 0.7200\n",
            "20/20 [==============================] - 0s 3ms/sample - loss: 0.8703 - acc: 0.7500\n",
            "loss : 0.8702801465988159\n",
            "acc : 0.75\n"
          ],
          "name": "stdout"
        }
      ]
    },
    {
      "cell_type": "code",
      "metadata": {
        "id": "302bUQciGhHP",
        "colab_type": "code",
        "colab": {}
      },
      "source": [
        ""
      ],
      "execution_count": 0,
      "outputs": []
    },
    {
      "cell_type": "code",
      "metadata": {
        "id": "coOMzBvAGhMk",
        "colab_type": "code",
        "colab": {}
      },
      "source": [
        "\n"
      ],
      "execution_count": 0,
      "outputs": []
    },
    {
      "cell_type": "code",
      "metadata": {
        "id": "886tuCxtBfE1",
        "colab_type": "code",
        "colab": {}
      },
      "source": [
        ""
      ],
      "execution_count": 0,
      "outputs": []
    }
  ]
}