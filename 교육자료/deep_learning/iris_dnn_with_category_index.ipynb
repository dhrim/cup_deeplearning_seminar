{
  "nbformat": 4,
  "nbformat_minor": 0,
  "metadata": {
    "colab": {
      "name": "iris_dnn_with_category_index.ipynb",
      "version": "0.3.2",
      "provenance": [],
      "collapsed_sections": []
    },
    "kernelspec": {
      "name": "python3",
      "display_name": "Python 3"
    }
  },
  "cells": [
    {
      "cell_type": "markdown",
      "metadata": {
        "id": "38gRCmyDr2gg",
        "colab_type": "text"
      },
      "source": [
        "# loss categorical_crossentropy\n",
        "\n",
        "2개의 사용 방법 \n",
        "\n",
        "- categorical_crossentropy\n",
        "- sparse_categorical_crossentropy\n",
        "\n",
        "## categorical_crossentropy\n",
        "\n",
        "y의 값이 one hot encoding인 경우\n",
        "\n",
        "```\n",
        "1,0,0\n",
        "0,1,0\n",
        "0,0,1\n",
        "```\n",
        "\n",
        "출력 레이어 설정\n",
        "```\n",
        "model.add(Dense(3, activation="softmax")) # 출력 레이어\n",
        "```\n",
        "\n",
        "loss 설정\n",
        "```\n",
        "model.compile(..., loss='categorical_crossentropy')\n",
        "```\n",
        "\n",
        "\n",
        "## sparse_categorical_crossentropy\n",
        "\n",
        "y의 값이 숫자 하나이며, category index 인 경우\n",
        "\n",
        "```\n",
        "0\n",
        "1\n",
        "2\n",
        "```\n",
        "\n",
        "출력 레이어 설정\n",
        "```\n",
        "model.add(Dense(3, activation="softmax")) # 출력 레이어. 1 이 아니라 3으로 설정\n",
        "```\n",
        "\n",
        "loss 설정\n",
        "```\n",
        "model.compile(..., loss='sparse_categorical_crossentropy')\n",
        "```\n",
        "\n",
        "\n",
        "\n",
        "\n",
        "\n"
      ]
    },
    {
      "cell_type": "markdown",
      "metadata": {
        "id": "r6oT_amTteM7",
        "colab_type": "text"
      },
      "source": [
        "# iris_dnn with category index\n",
        "\n",
        "아래의 코드는 iris_dnn_and_optimizer.ipynb의 코드를 기반으로 한다."
      ]
    },
    {
      "cell_type": "code",
      "metadata": {
        "id": "nPqzpGCsB1BF",
        "colab_type": "code",
        "colab": {}
      },
      "source": [
        "import numpy as np\n",
        "import pandas as pd\n",
        "import matplotlib.pyplot as plt\n",
        "\n",
        "import tensorflow as tf\n",
        "\n",
        "from tensorflow import keras\n",
        "from tensorflow.keras import optimizers\n",
        "from tensorflow.keras.layers import Dense"
      ],
      "execution_count": 0,
      "outputs": []
    },
    {
      "cell_type": "code",
      "metadata": {
        "id": "Sr9ALNDi_yMg",
        "colab_type": "code",
        "outputId": "2b34c4b7-9c7e-4f5f-f17e-6c6aff2571e5",
        "colab": {
          "base_uri": "https://localhost:8080/",
          "height": 222
        }
      },
      "source": [
        "#!wget https://raw.githubusercontent.com/dhrim/cup_deeplearning_seminar/master/%EA%B5%90%EC%9C%A1%EC%9E%90%EB%A3%8C/deep_learning/iris.csv\n",
        "!wget https://raw.githubusercontent.com/dhrim/cup_deeplearning_seminar/master/%EA%B5%90%EC%9C%A1%EC%9E%90%EB%A3%8C/deep_learning/iris_dnn_with_category_index.csv"
      ],
      "execution_count": 0,
      "outputs": [
        {
          "output_type": "stream",
          "text": [
            "--2019-07-22 11:52:57--  https://raw.githubusercontent.com/dhrim/cup_deeplearning_seminar/master/%EA%B5%90%EC%9C%A1%EC%9E%90%EB%A3%8C/deep_learning/iris.csv\n",
            "Resolving raw.githubusercontent.com (raw.githubusercontent.com)... 151.101.0.133, 151.101.64.133, 151.101.128.133, ...\n",
            "Connecting to raw.githubusercontent.com (raw.githubusercontent.com)|151.101.0.133|:443... connected.\n",
            "HTTP request sent, awaiting response... 200 OK\n",
            "Length: 2720 (2.7K) [text/plain]\n",
            "Saving to: ‘iris.csv’\n",
            "\n",
            "\riris.csv              0%[                    ]       0  --.-KB/s               \riris.csv            100%[===================>]   2.66K  --.-KB/s    in 0s      \n",
            "\n",
            "2019-07-22 11:52:57 (59.9 MB/s) - ‘iris.csv’ saved [2720/2720]\n",
            "\n"
          ],
          "name": "stdout"
        }
      ]
    },
    {
      "cell_type": "code",
      "metadata": {
        "id": "5AzjW3DD4BEO",
        "colab_type": "code",
        "outputId": "00337e76-723b-40e4-cdd5-be46ca100024",
        "colab": {
          "base_uri": "https://localhost:8080/",
          "height": 195
        }
      },
      "source": [
        "#iris = pd.read_csv(\"iris.csv\")\n",
        "iris = pd.read_csv(\"iris_with_category_index.csv\")\n",
        "iris.head()"
      ],
      "execution_count": 0,
      "outputs": [
        {
          "output_type": "execute_result",
          "data": {
            "text/html": [
              "<div>\n",
              "<style scoped>\n",
              "    .dataframe tbody tr th:only-of-type {\n",
              "        vertical-align: middle;\n",
              "    }\n",
              "\n",
              "    .dataframe tbody tr th {\n",
              "        vertical-align: top;\n",
              "    }\n",
              "\n",
              "    .dataframe thead th {\n",
              "        text-align: right;\n",
              "    }\n",
              "</style>\n",
              "<table border=\"1\" class=\"dataframe\">\n",
              "  <thead>\n",
              "    <tr style=\"text-align: right;\">\n",
              "      <th></th>\n",
              "      <th>septal_length</th>\n",
              "      <th>septal_width</th>\n",
              "      <th>petal_length</th>\n",
              "      <th>petal_width</th>\n",
              "      <th>class</th>\n",
              "    </tr>\n",
              "  </thead>\n",
              "  <tbody>\n",
              "    <tr>\n",
              "      <th>0</th>\n",
              "      <td>6.4</td>\n",
              "      <td>2.8</td>\n",
              "      <td>5.6</td>\n",
              "      <td>2.2</td>\n",
              "      <td>2</td>\n",
              "    </tr>\n",
              "    <tr>\n",
              "      <th>1</th>\n",
              "      <td>5.0</td>\n",
              "      <td>2.3</td>\n",
              "      <td>3.3</td>\n",
              "      <td>1.0</td>\n",
              "      <td>1</td>\n",
              "    </tr>\n",
              "    <tr>\n",
              "      <th>2</th>\n",
              "      <td>4.9</td>\n",
              "      <td>2.5</td>\n",
              "      <td>4.5</td>\n",
              "      <td>1.7</td>\n",
              "      <td>2</td>\n",
              "    </tr>\n",
              "    <tr>\n",
              "      <th>3</th>\n",
              "      <td>4.9</td>\n",
              "      <td>3.1</td>\n",
              "      <td>1.5</td>\n",
              "      <td>0.1</td>\n",
              "      <td>0</td>\n",
              "    </tr>\n",
              "    <tr>\n",
              "      <th>4</th>\n",
              "      <td>5.7</td>\n",
              "      <td>3.8</td>\n",
              "      <td>1.7</td>\n",
              "      <td>0.3</td>\n",
              "      <td>0</td>\n",
              "    </tr>\n",
              "  </tbody>\n",
              "</table>\n",
              "</div>"
            ],
            "text/plain": [
              "   septal_length  septal_width  petal_length  petal_width  class\n",
              "0            6.4           2.8           5.6          2.2      2\n",
              "1            5.0           2.3           3.3          1.0      1\n",
              "2            4.9           2.5           4.5          1.7      2\n",
              "3            4.9           3.1           1.5          0.1      0\n",
              "4            5.7           3.8           1.7          0.3      0"
            ]
          },
          "metadata": {
            "tags": []
          },
          "execution_count": 3
        }
      ]
    },
    {
      "cell_type": "code",
      "metadata": {
        "id": "84J6VStQ4BG0",
        "colab_type": "code",
        "outputId": "8aa7d807-b2e2-4f65-da10-6e1306abb135",
        "colab": {
          "base_uri": "https://localhost:8080/",
          "height": 218
        }
      },
      "source": [
        "iris.info()"
      ],
      "execution_count": 0,
      "outputs": [
        {
          "output_type": "stream",
          "text": [
            "<class 'pandas.core.frame.DataFrame'>\n",
            "RangeIndex: 120 entries, 0 to 119\n",
            "Data columns (total 7 columns):\n",
            "septal_length    120 non-null float64\n",
            "septal_width     120 non-null float64\n",
            "petal_length     120 non-null float64\n",
            "petal_width      120 non-null float64\n",
            "setosa           120 non-null int64\n",
            "versicolor       120 non-null int64\n",
            "virginica        120 non-null int64\n",
            "dtypes: float64(4), int64(3)\n",
            "memory usage: 6.6 KB\n"
          ],
          "name": "stdout"
        }
      ]
    },
    {
      "cell_type": "code",
      "metadata": {
        "id": "jxSyc1l54BJm",
        "colab_type": "code",
        "outputId": "3a70491f-3e7d-4f6f-a007-d9abe1504744",
        "colab": {
          "base_uri": "https://localhost:8080/",
          "height": 118
        }
      },
      "source": [
        "data = iris.to_numpy()\n",
        "print(data.shape)\n",
        "print(data[:5])"
      ],
      "execution_count": 0,
      "outputs": [
        {
          "output_type": "stream",
          "text": [
            "(120, 5)\n",
            "[[6.4 2.8 5.6 2.2 2. ]\n",
            " [5.  2.3 3.3 1.  1. ]\n",
            " [4.9 2.5 4.5 1.7 2. ]\n",
            " [4.9 3.1 1.5 0.1 0. ]\n",
            " [5.7 3.8 1.7 0.3 0. ]]\n"
          ],
          "name": "stdout"
        }
      ]
    },
    {
      "cell_type": "code",
      "metadata": {
        "id": "Mb9j8N5YiDwQ",
        "colab_type": "code",
        "colab": {}
      },
      "source": [
        "x = data[:,:4]\n",
        "y = data[:,4:]\n",
        "#y = data[:,4]\n",
        "\n",
        "split_index = 100\n",
        "\n",
        "train_x, test_x = x[:split_index], x[split_index:]\n",
        "train_y, test_y = y[:split_index], y[split_index:]"
      ],
      "execution_count": 0,
      "outputs": []
    },
    {
      "cell_type": "code",
      "metadata": {
        "id": "SJmp-8zD5gR2",
        "colab_type": "code",
        "outputId": "5e288362-6f1f-48e9-a705-ac02465ddace",
        "colab": {
          "base_uri": "https://localhost:8080/",
          "height": 104
        }
      },
      "source": [
        "model = keras.Sequential([\n",
        "    keras.layers.Dense(10, activation='relu', input_shape=(train_x.shape[1],)),\n",
        "    keras.layers.Dense(10, activation='relu'),\n",
        "#    keras.layers.Dense(train_y.shape[1], activation='softmax')\n",
        "    keras.layers.Dense(3, activation='softmax')\n",
        "])"
      ],
      "execution_count": 0,
      "outputs": [
        {
          "output_type": "stream",
          "text": [
            "WARNING: Logging before flag parsing goes to stderr.\n",
            "W0722 12:35:19.378892 139724613220224 deprecation.py:506] From /usr/local/lib/python3.6/dist-packages/tensorflow/python/ops/init_ops.py:1251: calling VarianceScaling.__init__ (from tensorflow.python.ops.init_ops) with dtype is deprecated and will be removed in a future version.\n",
            "Instructions for updating:\n",
            "Call initializer instance with the dtype argument instead of passing it to the constructor\n"
          ],
          "name": "stderr"
        }
      ]
    },
    {
      "cell_type": "code",
      "metadata": {
        "id": "dqazsLAq5st-",
        "colab_type": "code",
        "colab": {}
      },
      "source": [
        "model.compile(optimizer='adam',\n",
        "#               loss='categorical_crossentropy',\n",
        "              loss='sparse_categorical_crossentropy',\n",
        "              metrics=['accuracy'])"
      ],
      "execution_count": 0,
      "outputs": []
    },
    {
      "cell_type": "code",
      "metadata": {
        "id": "za5XB-365gU3",
        "colab_type": "code",
        "outputId": "382b1ed1-f002-41f3-ada1-875e83000fd3",
        "colab": {
          "base_uri": "https://localhost:8080/",
          "height": 34
        }
      },
      "source": [
        "model.fit(train_x, train_y, epochs=200, verbose=0)"
      ],
      "execution_count": 0,
      "outputs": [
        {
          "output_type": "execute_result",
          "data": {
            "text/plain": [
              "<tensorflow.python.keras.callbacks.History at 0x7f13f1afaba8>"
            ]
          },
          "metadata": {
            "tags": []
          },
          "execution_count": 11
        }
      ]
    },
    {
      "cell_type": "code",
      "metadata": {
        "id": "76wFgAkT7Axp",
        "colab_type": "code",
        "outputId": "0fc4df44-7b90-4ef0-b0df-a176d2003eca",
        "colab": {
          "base_uri": "https://localhost:8080/",
          "height": 67
        }
      },
      "source": [
        "loss, acc = model.evaluate(test_x, test_y)\n",
        "\n",
        "print(\"loss :\", loss)\n",
        "print(\"acc :\", acc)\n"
      ],
      "execution_count": 0,
      "outputs": [
        {
          "output_type": "stream",
          "text": [
            "\r20/20 [==============================] - 0s 75us/sample - loss: 0.2224 - acc: 1.0000\n",
            "loss : 0.222386434674263\n",
            "acc : 1.0\n"
          ],
          "name": "stdout"
        }
      ]
    },
    {
      "cell_type": "code",
      "metadata": {
        "id": "vYQYwQh67OuV",
        "colab_type": "code",
        "outputId": "7778c49a-4794-4e6a-c371-2163f703f018",
        "colab": {
          "base_uri": "https://localhost:8080/",
          "height": 370
        }
      },
      "source": [
        "y_ = model.predict(test_x)\n",
        "print(y_)\n",
        "print(np.argmax(y_, axis=1))"
      ],
      "execution_count": 0,
      "outputs": [
        {
          "output_type": "stream",
          "text": [
            "[[9.83112037e-01 1.21990135e-02 4.68893023e-03]\n",
            " [3.51981446e-02 6.53293073e-01 3.11508745e-01]\n",
            " [9.56817687e-01 3.17955725e-02 1.13868117e-02]\n",
            " [1.18341278e-02 6.41884029e-01 3.46281856e-01]\n",
            " [9.83308613e-01 1.23865549e-02 4.30476945e-03]\n",
            " [9.90568697e-01 6.73002610e-03 2.70135887e-03]\n",
            " [9.92695689e-01 5.22216875e-03 2.08212901e-03]\n",
            " [9.91470516e-01 6.07919227e-03 2.45022168e-03]\n",
            " [2.79240329e-02 6.54778779e-01 3.17297161e-01]\n",
            " [9.79820192e-01 1.48314172e-02 5.34841465e-03]\n",
            " [4.87401674e-04 4.60171938e-01 5.39340675e-01]\n",
            " [7.57463276e-03 6.16679013e-01 3.75746369e-01]\n",
            " [9.79911625e-01 1.47526432e-02 5.33569045e-03]\n",
            " [3.53508003e-05 3.35786790e-01 6.64177895e-01]\n",
            " [9.81027365e-01 1.42981410e-02 4.67454782e-03]\n",
            " [3.77878919e-03 5.76549470e-01 4.19671744e-01]\n",
            " [1.07322903e-02 6.43777132e-01 3.45490515e-01]\n",
            " [9.75427806e-01 1.79068893e-02 6.66528894e-03]\n",
            " [9.84111965e-01 1.13834459e-02 4.50456794e-03]\n",
            " [1.50933964e-02 6.37648165e-01 3.47258419e-01]]\n",
            "[0 1 0 1 0 0 0 0 1 0 2 1 0 2 0 1 1 0 0 1]\n"
          ],
          "name": "stdout"
        }
      ]
    },
    {
      "cell_type": "code",
      "metadata": {
        "id": "14su9wKZBfBf",
        "colab_type": "code",
        "colab": {}
      },
      "source": [
        ""
      ],
      "execution_count": 0,
      "outputs": []
    }
  ]
}