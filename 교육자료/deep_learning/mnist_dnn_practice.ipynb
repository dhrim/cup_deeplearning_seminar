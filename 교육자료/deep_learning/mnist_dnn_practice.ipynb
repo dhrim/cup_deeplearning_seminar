{
  "nbformat": 4,
  "nbformat_minor": 0,
  "metadata": {
    "colab": {
      "name": "mnist_dnn_practice.ipynb",
      "version": "0.3.2",
      "provenance": [],
      "collapsed_sections": []
    },
    "kernelspec": {
      "name": "python3",
      "display_name": "Python 3"
    }
  },
  "cells": [
    {
      "cell_type": "code",
      "metadata": {
        "id": "yDybtDkXLNam",
        "colab_type": "code",
        "colab": {}
      },
      "source": [
        "\n",
        "import numpy as np\n",
        "import matplotlib.pyplot as plt\n",
        "\n",
        "import tensorflow as tf\n",
        "from tensorflow import keras\n",
        "from tensorflow.keras import optimizers\n",
        "from tensorflow.keras.layers import Dense, Flatten\n",
        "\n",
        "import time"
      ],
      "execution_count": 0,
      "outputs": []
    },
    {
      "cell_type": "code",
      "metadata": {
        "id": "cNxu4mfvLTWQ",
        "colab_type": "code",
        "outputId": "98573a6e-c759-48da-ed73-196ef15334b2",
        "colab": {
          "base_uri": "https://localhost:8080/",
          "height": 52
        }
      },
      "source": [
        "(raw_train_x, raw_train_y), (raw_test_x, raw_test_y) = tf.keras.datasets.mnist.load_data()"
      ],
      "execution_count": 0,
      "outputs": [
        {
          "output_type": "stream",
          "text": [
            "Downloading data from https://storage.googleapis.com/tensorflow/tf-keras-datasets/mnist.npz\n",
            "11493376/11490434 [==============================] - 0s 0us/step\n"
          ],
          "name": "stdout"
        }
      ]
    },
    {
      "cell_type": "code",
      "metadata": {
        "id": "m30UThxcL26d",
        "colab_type": "code",
        "outputId": "6d0bdeb9-eae7-44e8-8ab1-ff6d69601fe2",
        "colab": {
          "base_uri": "https://localhost:8080/",
          "height": 87
        }
      },
      "source": [
        "print(raw_train_x.shape)\n",
        "print(raw_train_y.shape)\n",
        "print(raw_test_x.shape)\n",
        "print(raw_test_y.shape)\n"
      ],
      "execution_count": 0,
      "outputs": [
        {
          "output_type": "stream",
          "text": [
            "(60000, 28, 28)\n",
            "(60000,)\n",
            "(10000, 28, 28)\n",
            "(10000,)\n"
          ],
          "name": "stdout"
        }
      ]
    },
    {
      "cell_type": "code",
      "metadata": {
        "id": "VMeOZWXOMNHr",
        "colab_type": "code",
        "outputId": "41833979-9e15-48c0-c365-5c8a04dc8f74",
        "colab": {
          "base_uri": "https://localhost:8080/",
          "height": 1000
        }
      },
      "source": [
        "for i in [1,10,20,50]:\n",
        "  print(raw_train_y[i])\n",
        "  plt.imshow(raw_train_x[i], cmap=plt.cm.binary)\n",
        "  plt.show()"
      ],
      "execution_count": 0,
      "outputs": [
        {
          "output_type": "stream",
          "text": [
            "0\n"
          ],
          "name": "stdout"
        },
        {
          "output_type": "display_data",
          "data": {
            "image/png": "[encoded data removed]",
            "text/plain": [
              "<Figure size 432x288 with 1 Axes>"
            ]
          },
          "metadata": {
            "tags": []
          }
        },
        {
          "output_type": "stream",
          "text": [
            "3\n"
          ],
          "name": "stdout"
        },
        {
          "output_type": "display_data",
          "data": {
            "image/png": "[encoded data removed]",
            "text/plain": [
              "<Figure size 432x288 with 1 Axes>"
            ]
          },
          "metadata": {
            "tags": []
          }
        },
        {
          "output_type": "stream",
          "text": [
            "4\n"
          ],
          "name": "stdout"
        },
        {
          "output_type": "display_data",
          "data": {
            "image/png": "[encoded data removed]",
            "text/plain": [
              "<Figure size 432x288 with 1 Axes>"
            ]
          },
          "metadata": {
            "tags": []
          }
        },
        {
          "output_type": "stream",
          "text": [
            "3\n"
          ],
          "name": "stdout"
        },
        {
          "output_type": "display_data",
          "data": {
            "image/png": "[encoded data removed]",
            "text/plain": [
              "<Figure size 432x288 with 1 Axes>"
            ]
          },
          "metadata": {
            "tags": []
          }
        }
      ]
    },
    {
      "cell_type": "code",
      "metadata": {
        "id": "BUUw8YzeM6UW",
        "colab_type": "code",
        "outputId": "ed470203-568f-4590-973d-251a6f5bfd38",
        "colab": {
          "base_uri": "https://localhost:8080/",
          "height": 1000
        }
      },
      "source": [
        "print(np.max(raw_train_x))\n",
        "print(np.max(raw_train_y))\n",
        "print(raw_train_x[0])\n",
        "\n",
        "train_x = raw_train_x / 255\n",
        "test_x = raw_test_x /255\n",
        "\n",
        "train_y = raw_train_y\n",
        "test_y = raw_test_y\n"
      ],
      "execution_count": 0,
      "outputs": [
        {
          "output_type": "stream",
          "text": [
            "255\n",
            "9\n",
            "[[  0   0   0   0   0   0   0   0   0   0   0   0   0   0   0   0   0   0\n",
            "    0   0   0   0   0   0   0   0   0   0]\n",
            " [  0   0   0   0   0   0   0   0   0   0   0   0   0   0   0   0   0   0\n",
            "    0   0   0   0   0   0   0   0   0   0]\n",
            " [  0   0   0   0   0   0   0   0   0   0   0   0   0   0   0   0   0   0\n",
            "    0   0   0   0   0   0   0   0   0   0]\n",
            " [  0   0   0   0   0   0   0   0   0   0   0   0   0   0   0   0   0   0\n",
            "    0   0   0   0   0   0   0   0   0   0]\n",
            " [  0   0   0   0   0   0   0   0   0   0   0   0   0   0   0   0   0   0\n",
            "    0   0   0   0   0   0   0   0   0   0]\n",
            " [  0   0   0   0   0   0   0   0   0   0   0   0   3  18  18  18 126 136\n",
            "  175  26 166 255 247 127   0   0   0   0]\n",
            " [  0   0   0   0   0   0   0   0  30  36  94 154 170 253 253 253 253 253\n",
            "  225 172 253 242 195  64   0   0   0   0]\n",
            " [  0   0   0   0   0   0   0  49 238 253 253 253 253 253 253 253 253 251\n",
            "   93  82  82  56  39   0   0   0   0   0]\n",
            " [  0   0   0   0   0   0   0  18 219 253 253 253 253 253 198 182 247 241\n",
            "    0   0   0   0   0   0   0   0   0   0]\n",
            " [  0   0   0   0   0   0   0   0  80 156 107 253 253 205  11   0  43 154\n",
            "    0   0   0   0   0   0   0   0   0   0]\n",
            " [  0   0   0   0   0   0   0   0   0  14   1 154 253  90   0   0   0   0\n",
            "    0   0   0   0   0   0   0   0   0   0]\n",
            " [  0   0   0   0   0   0   0   0   0   0   0 139 253 190   2   0   0   0\n",
            "    0   0   0   0   0   0   0   0   0   0]\n",
            " [  0   0   0   0   0   0   0   0   0   0   0  11 190 253  70   0   0   0\n",
            "    0   0   0   0   0   0   0   0   0   0]\n",
            " [  0   0   0   0   0   0   0   0   0   0   0   0  35 241 225 160 108   1\n",
            "    0   0   0   0   0   0   0   0   0   0]\n",
            " [  0   0   0   0   0   0   0   0   0   0   0   0   0  81 240 253 253 119\n",
            "   25   0   0   0   0   0   0   0   0   0]\n",
            " [  0   0   0   0   0   0   0   0   0   0   0   0   0   0  45 186 253 253\n",
            "  150  27   0   0   0   0   0   0   0   0]\n",
            " [  0   0   0   0   0   0   0   0   0   0   0   0   0   0   0  16  93 252\n",
            "  253 187   0   0   0   0   0   0   0   0]\n",
            " [  0   0   0   0   0   0   0   0   0   0   0   0   0   0   0   0   0 249\n",
            "  253 249  64   0   0   0   0   0   0   0]\n",
            " [  0   0   0   0   0   0   0   0   0   0   0   0   0   0  46 130 183 253\n",
            "  253 207   2   0   0   0   0   0   0   0]\n",
            " [  0   0   0   0   0   0   0   0   0   0   0   0  39 148 229 253 253 253\n",
            "  250 182   0   0   0   0   0   0   0   0]\n",
            " [  0   0   0   0   0   0   0   0   0   0  24 114 221 253 253 253 253 201\n",
            "   78   0   0   0   0   0   0   0   0   0]\n",
            " [  0   0   0   0   0   0   0   0  23  66 213 253 253 253 253 198  81   2\n",
            "    0   0   0   0   0   0   0   0   0   0]\n",
            " [  0   0   0   0   0   0  18 171 219 253 253 253 253 195  80   9   0   0\n",
            "    0   0   0   0   0   0   0   0   0   0]\n",
            " [  0   0   0   0  55 172 226 253 253 253 253 244 133  11   0   0   0   0\n",
            "    0   0   0   0   0   0   0   0   0   0]\n",
            " [  0   0   0   0 136 253 253 253 212 135 132  16   0   0   0   0   0   0\n",
            "    0   0   0   0   0   0   0   0   0   0]\n",
            " [  0   0   0   0   0   0   0   0   0   0   0   0   0   0   0   0   0   0\n",
            "    0   0   0   0   0   0   0   0   0   0]\n",
            " [  0   0   0   0   0   0   0   0   0   0   0   0   0   0   0   0   0   0\n",
            "    0   0   0   0   0   0   0   0   0   0]\n",
            " [  0   0   0   0   0   0   0   0   0   0   0   0   0   0   0   0   0   0\n",
            "    0   0   0   0   0   0   0   0   0   0]]\n"
          ],
          "name": "stdout"
        }
      ]
    },
    {
      "cell_type": "code",
      "metadata": {
        "id": "n5SHUM7XNux7",
        "colab_type": "code",
        "outputId": "140cfca7-11f5-4ad3-fc8a-ded44ce6193b",
        "colab": {
          "base_uri": "https://localhost:8080/",
          "height": 52
        }
      },
      "source": [
        "train_x = train_x.reshape((60000,28*28))\n",
        "test_x = test_x.reshape((10000,28*28))\n",
        "\n",
        "print(train_x.shape)\n",
        "print(test_x.shape)"
      ],
      "execution_count": 0,
      "outputs": [
        {
          "output_type": "stream",
          "text": [
            "(60000, 784)\n",
            "(10000, 784)\n"
          ],
          "name": "stdout"
        }
      ]
    },
    {
      "cell_type": "code",
      "metadata": {
        "id": "L0cbzDFZOOI-",
        "colab_type": "code",
        "outputId": "e8c1c580-47dd-4f92-d69b-148bfb6f3361",
        "colab": {
          "base_uri": "https://localhost:8080/",
          "height": 1000
        }
      },
      "source": [
        "model = keras.Sequential()\n",
        "# model.add(Dense(10, activation='relu', input_shape=(4,)))\n",
        "model.add(Dense(10, activation='relu', input_shape=(784,)))\n",
        "model.add(Dense(10, activation='relu'))\n",
        "# model.add(Dense(3, activation=\"softmax\"))\n",
        "model.add(Dense(10, activation=\"softmax\"))\n",
        "\n",
        "model.compile(optimizer=\"SGD\", loss=\"sparse_categorical_crossentropy\", metrics=[\"accuracy\"])\n",
        "model.summary()\n",
        "\n",
        "# model.fit(train_x, train_y, epochs=1000, verbose=0, batch_size=20)\n",
        "model.fit(train_x, train_y, epochs=100, verbose=1, batch_size=128)\n",
        "\n",
        "loss, acc = model.evaluate(test_x, test_y)\n",
        "print(\"loss=\", loss)\n",
        "print(\"acc=\", acc)"
      ],
      "execution_count": 0,
      "outputs": [
        {
          "output_type": "stream",
          "text": [
            "Model: \"sequential_2\"\n",
            "_________________________________________________________________\n",
            "Layer (type)                 Output Shape              Param #   \n",
            "=================================================================\n",
            "dense_6 (Dense)              (None, 10)                7850      \n",
            "_________________________________________________________________\n",
            "dense_7 (Dense)              (None, 10)                110       \n",
            "_________________________________________________________________\n",
            "dense_8 (Dense)              (None, 10)                110       \n",
            "=================================================================\n",
            "Total params: 8,070\n",
            "Trainable params: 8,070\n",
            "Non-trainable params: 0\n",
            "_________________________________________________________________\n",
            "Epoch 1/100\n",
            "60000/60000 [==============================] - 1s 20us/sample - loss: 2.0762 - acc: 0.2613\n",
            "Epoch 2/100\n",
            "60000/60000 [==============================] - 1s 20us/sample - loss: 1.2628 - acc: 0.6193\n",
            "Epoch 3/100\n",
            "60000/60000 [==============================] - 1s 20us/sample - loss: 0.7393 - acc: 0.7926\n",
            "Epoch 4/100\n",
            "60000/60000 [==============================] - 1s 20us/sample - loss: 0.5553 - acc: 0.8416\n",
            "Epoch 5/100\n",
            "60000/60000 [==============================] - 1s 20us/sample - loss: 0.4702 - acc: 0.8670\n",
            "Epoch 6/100\n",
            "60000/60000 [==============================] - 1s 20us/sample - loss: 0.4181 - acc: 0.8806\n",
            "Epoch 7/100\n",
            "60000/60000 [==============================] - 1s 21us/sample - loss: 0.3855 - acc: 0.8903\n",
            "Epoch 8/100\n",
            "60000/60000 [==============================] - 1s 20us/sample - loss: 0.3639 - acc: 0.8957\n",
            "Epoch 9/100\n",
            "60000/60000 [==============================] - 1s 19us/sample - loss: 0.3482 - acc: 0.8997\n",
            "Epoch 10/100\n",
            "60000/60000 [==============================] - 1s 19us/sample - loss: 0.3365 - acc: 0.9033\n",
            "Epoch 11/100\n",
            "60000/60000 [==============================] - 1s 20us/sample - loss: 0.3264 - acc: 0.9060\n",
            "Epoch 12/100\n",
            "60000/60000 [==============================] - 1s 19us/sample - loss: 0.3178 - acc: 0.9081\n",
            "Epoch 13/100\n",
            "60000/60000 [==============================] - 1s 20us/sample - loss: 0.3106 - acc: 0.9097\n",
            "Epoch 14/100\n",
            "60000/60000 [==============================] - 1s 20us/sample - loss: 0.3043 - acc: 0.9119\n",
            "Epoch 15/100\n",
            "60000/60000 [==============================] - 1s 20us/sample - loss: 0.2983 - acc: 0.9129\n",
            "Epoch 16/100\n",
            "60000/60000 [==============================] - 1s 20us/sample - loss: 0.2937 - acc: 0.9143\n",
            "Epoch 17/100\n",
            "60000/60000 [==============================] - 1s 20us/sample - loss: 0.2890 - acc: 0.9158\n",
            "Epoch 18/100\n",
            "60000/60000 [==============================] - 1s 20us/sample - loss: 0.2847 - acc: 0.9163\n",
            "Epoch 19/100\n",
            "60000/60000 [==============================] - 1s 20us/sample - loss: 0.2808 - acc: 0.9183\n",
            "Epoch 20/100\n",
            "60000/60000 [==============================] - 1s 20us/sample - loss: 0.2771 - acc: 0.9196\n",
            "Epoch 21/100\n",
            "60000/60000 [==============================] - 1s 20us/sample - loss: 0.2736 - acc: 0.9208\n",
            "Epoch 22/100\n",
            "60000/60000 [==============================] - 1s 20us/sample - loss: 0.2706 - acc: 0.9218\n",
            "Epoch 23/100\n",
            "60000/60000 [==============================] - 1s 19us/sample - loss: 0.2678 - acc: 0.9221\n",
            "Epoch 24/100\n",
            "60000/60000 [==============================] - 1s 19us/sample - loss: 0.2648 - acc: 0.9228\n",
            "Epoch 25/100\n",
            "60000/60000 [==============================] - 1s 19us/sample - loss: 0.2625 - acc: 0.9235\n",
            "Epoch 26/100\n",
            "60000/60000 [==============================] - 1s 19us/sample - loss: 0.2600 - acc: 0.9245\n",
            "Epoch 27/100\n",
            "60000/60000 [==============================] - 1s 20us/sample - loss: 0.2577 - acc: 0.9251\n",
            "Epoch 28/100\n",
            "60000/60000 [==============================] - 1s 19us/sample - loss: 0.2555 - acc: 0.9257\n",
            "Epoch 29/100\n",
            "60000/60000 [==============================] - 1s 20us/sample - loss: 0.2535 - acc: 0.9262\n",
            "Epoch 30/100\n",
            "60000/60000 [==============================] - 1s 21us/sample - loss: 0.2513 - acc: 0.9270\n",
            "Epoch 31/100\n",
            "60000/60000 [==============================] - 1s 19us/sample - loss: 0.2493 - acc: 0.9274\n",
            "Epoch 32/100\n",
            "60000/60000 [==============================] - 1s 20us/sample - loss: 0.2476 - acc: 0.9278\n",
            "Epoch 33/100\n",
            "60000/60000 [==============================] - 1s 20us/sample - loss: 0.2458 - acc: 0.9288\n",
            "Epoch 34/100\n",
            "60000/60000 [==============================] - 1s 21us/sample - loss: 0.2443 - acc: 0.9288\n",
            "Epoch 35/100\n",
            "60000/60000 [==============================] - 1s 19us/sample - loss: 0.2427 - acc: 0.9289\n",
            "Epoch 36/100\n",
            "60000/60000 [==============================] - 1s 19us/sample - loss: 0.2410 - acc: 0.9303\n",
            "Epoch 37/100\n",
            "60000/60000 [==============================] - 1s 19us/sample - loss: 0.2393 - acc: 0.9305\n",
            "Epoch 38/100\n",
            "60000/60000 [==============================] - 1s 19us/sample - loss: 0.2383 - acc: 0.9304\n",
            "Epoch 39/100\n",
            "60000/60000 [==============================] - 1s 19us/sample - loss: 0.2368 - acc: 0.9315\n",
            "Epoch 40/100\n",
            "60000/60000 [==============================] - 1s 19us/sample - loss: 0.2356 - acc: 0.9315\n",
            "Epoch 41/100\n",
            "60000/60000 [==============================] - 1s 19us/sample - loss: 0.2342 - acc: 0.9317\n",
            "Epoch 42/100\n",
            "60000/60000 [==============================] - 1s 20us/sample - loss: 0.2330 - acc: 0.9324\n",
            "Epoch 43/100\n",
            "60000/60000 [==============================] - 1s 19us/sample - loss: 0.2319 - acc: 0.9325\n",
            "Epoch 44/100\n",
            "60000/60000 [==============================] - 1s 19us/sample - loss: 0.2305 - acc: 0.9329\n",
            "Epoch 45/100\n",
            "60000/60000 [==============================] - 1s 19us/sample - loss: 0.2292 - acc: 0.9340\n",
            "Epoch 46/100\n",
            "60000/60000 [==============================] - 1s 20us/sample - loss: 0.2281 - acc: 0.9342\n",
            "Epoch 47/100\n",
            "60000/60000 [==============================] - 1s 19us/sample - loss: 0.2270 - acc: 0.9344\n",
            "Epoch 48/100\n",
            "60000/60000 [==============================] - 1s 19us/sample - loss: 0.2259 - acc: 0.9347\n",
            "Epoch 49/100\n",
            "60000/60000 [==============================] - 1s 19us/sample - loss: 0.2249 - acc: 0.9344\n",
            "Epoch 50/100\n",
            "60000/60000 [==============================] - 1s 19us/sample - loss: 0.2240 - acc: 0.9346\n",
            "Epoch 51/100\n",
            "60000/60000 [==============================] - 1s 19us/sample - loss: 0.2229 - acc: 0.9349\n",
            "Epoch 52/100\n",
            "60000/60000 [==============================] - 1s 19us/sample - loss: 0.2218 - acc: 0.9355\n",
            "Epoch 53/100\n",
            "60000/60000 [==============================] - 1s 19us/sample - loss: 0.2209 - acc: 0.9354\n",
            "Epoch 54/100\n",
            "60000/60000 [==============================] - 1s 19us/sample - loss: 0.2198 - acc: 0.9362\n",
            "Epoch 55/100\n",
            "60000/60000 [==============================] - 1s 19us/sample - loss: 0.2188 - acc: 0.9363\n",
            "Epoch 56/100\n",
            "60000/60000 [==============================] - 1s 20us/sample - loss: 0.2182 - acc: 0.9362\n",
            "Epoch 57/100\n",
            "60000/60000 [==============================] - 1s 20us/sample - loss: 0.2174 - acc: 0.9367\n",
            "Epoch 58/100\n",
            "60000/60000 [==============================] - 1s 20us/sample - loss: 0.2165 - acc: 0.9373\n",
            "Epoch 59/100\n",
            "60000/60000 [==============================] - 1s 20us/sample - loss: 0.2152 - acc: 0.9376\n",
            "Epoch 60/100\n",
            "60000/60000 [==============================] - 1s 21us/sample - loss: 0.2146 - acc: 0.9375\n",
            "Epoch 61/100\n",
            "60000/60000 [==============================] - 1s 21us/sample - loss: 0.2136 - acc: 0.9373\n",
            "Epoch 62/100\n",
            "60000/60000 [==============================] - 1s 20us/sample - loss: 0.2129 - acc: 0.9381\n",
            "Epoch 63/100\n",
            "60000/60000 [==============================] - 1s 20us/sample - loss: 0.2120 - acc: 0.9385\n",
            "Epoch 64/100\n",
            "60000/60000 [==============================] - 1s 19us/sample - loss: 0.2111 - acc: 0.9385\n",
            "Epoch 65/100\n",
            "60000/60000 [==============================] - 1s 19us/sample - loss: 0.2102 - acc: 0.9387\n",
            "Epoch 66/100\n",
            "60000/60000 [==============================] - 1s 20us/sample - loss: 0.2094 - acc: 0.9391\n",
            "Epoch 67/100\n",
            "60000/60000 [==============================] - 1s 19us/sample - loss: 0.2088 - acc: 0.9394\n",
            "Epoch 68/100\n",
            "60000/60000 [==============================] - 1s 19us/sample - loss: 0.2079 - acc: 0.9396\n",
            "Epoch 69/100\n",
            "60000/60000 [==============================] - 1s 20us/sample - loss: 0.2070 - acc: 0.9398\n",
            "Epoch 70/100\n",
            "60000/60000 [==============================] - 1s 19us/sample - loss: 0.2065 - acc: 0.9402\n",
            "Epoch 71/100\n",
            "60000/60000 [==============================] - 1s 19us/sample - loss: 0.2054 - acc: 0.9399\n",
            "Epoch 72/100\n",
            "60000/60000 [==============================] - 1s 19us/sample - loss: 0.2047 - acc: 0.9399\n",
            "Epoch 73/100\n",
            "60000/60000 [==============================] - 1s 20us/sample - loss: 0.2042 - acc: 0.9406\n",
            "Epoch 74/100\n",
            "60000/60000 [==============================] - 1s 21us/sample - loss: 0.2032 - acc: 0.9410\n",
            "Epoch 75/100\n",
            "60000/60000 [==============================] - 1s 20us/sample - loss: 0.2027 - acc: 0.9412\n",
            "Epoch 76/100\n",
            "60000/60000 [==============================] - 1s 20us/sample - loss: 0.2021 - acc: 0.9411\n",
            "Epoch 77/100\n",
            "60000/60000 [==============================] - 1s 20us/sample - loss: 0.2016 - acc: 0.9415\n",
            "Epoch 78/100\n",
            "60000/60000 [==============================] - 1s 19us/sample - loss: 0.2008 - acc: 0.9415\n",
            "Epoch 79/100\n",
            "60000/60000 [==============================] - 1s 20us/sample - loss: 0.2001 - acc: 0.9416\n",
            "Epoch 80/100\n",
            "60000/60000 [==============================] - 1s 20us/sample - loss: 0.1995 - acc: 0.9419\n",
            "Epoch 81/100\n",
            "60000/60000 [==============================] - 1s 20us/sample - loss: 0.1989 - acc: 0.9427\n",
            "Epoch 82/100\n",
            "60000/60000 [==============================] - 1s 20us/sample - loss: 0.1980 - acc: 0.9431\n",
            "Epoch 83/100\n",
            "60000/60000 [==============================] - 1s 21us/sample - loss: 0.1975 - acc: 0.9423\n",
            "Epoch 84/100\n",
            "60000/60000 [==============================] - 1s 21us/sample - loss: 0.1969 - acc: 0.9431\n",
            "Epoch 85/100\n",
            "60000/60000 [==============================] - 1s 20us/sample - loss: 0.1966 - acc: 0.9431\n",
            "Epoch 86/100\n",
            "60000/60000 [==============================] - 1s 20us/sample - loss: 0.1960 - acc: 0.9435\n",
            "Epoch 87/100\n",
            "60000/60000 [==============================] - 1s 20us/sample - loss: 0.1954 - acc: 0.9438\n",
            "Epoch 88/100\n",
            "60000/60000 [==============================] - 1s 19us/sample - loss: 0.1946 - acc: 0.9438\n",
            "Epoch 89/100\n",
            "60000/60000 [==============================] - 1s 20us/sample - loss: 0.1943 - acc: 0.9439\n",
            "Epoch 90/100\n",
            "60000/60000 [==============================] - 1s 19us/sample - loss: 0.1937 - acc: 0.9442\n",
            "Epoch 91/100\n",
            "60000/60000 [==============================] - 1s 19us/sample - loss: 0.1934 - acc: 0.9439\n",
            "Epoch 92/100\n",
            "60000/60000 [==============================] - 1s 20us/sample - loss: 0.1925 - acc: 0.9450\n",
            "Epoch 93/100\n",
            "60000/60000 [==============================] - 1s 19us/sample - loss: 0.1918 - acc: 0.9447\n",
            "Epoch 94/100\n",
            "60000/60000 [==============================] - 1s 19us/sample - loss: 0.1914 - acc: 0.9445\n",
            "Epoch 95/100\n",
            "60000/60000 [==============================] - 1s 19us/sample - loss: 0.1912 - acc: 0.9452\n",
            "Epoch 96/100\n",
            "60000/60000 [==============================] - 1s 20us/sample - loss: 0.1904 - acc: 0.9453\n",
            "Epoch 97/100\n",
            "60000/60000 [==============================] - 1s 20us/sample - loss: 0.1899 - acc: 0.9449\n",
            "Epoch 98/100\n",
            "60000/60000 [==============================] - 1s 19us/sample - loss: 0.1896 - acc: 0.9455\n",
            "Epoch 99/100\n",
            "60000/60000 [==============================] - 1s 21us/sample - loss: 0.1892 - acc: 0.9458\n",
            "Epoch 100/100\n",
            "60000/60000 [==============================] - 1s 21us/sample - loss: 0.1888 - acc: 0.9459\n",
            "10000/10000 [==============================] - 0s 30us/sample - loss: 0.2131 - acc: 0.9360\n",
            "loss= 0.21307309305220842\n",
            "acc= 0.936\n"
          ],
          "name": "stdout"
        }
      ]
    },
    {
      "cell_type": "code",
      "metadata": {
        "id": "PMF1Xy90Pk3K",
        "colab_type": "code",
        "outputId": "73f9808b-1150-40b4-fa1e-7dce67723f1b",
        "colab": {
          "base_uri": "https://localhost:8080/",
          "height": 1000
        }
      },
      "source": [
        "y_ = model.predict(test_x)\n",
        "print(y_.shape)\n",
        "print(y_[0])\n",
        "\n",
        "predicted = np.argmax(y_, axis=1)\n",
        "print(predicted[:10])\n",
        "\n",
        "for i in range(4):\n",
        "  print(predicted[i])\n",
        "  plt.imshow(raw_test_x[i], cmap=plt.cm.binary)\n",
        "  plt.show()\n",
        "  "
      ],
      "execution_count": 0,
      "outputs": [
        {
          "output_type": "stream",
          "text": [
            "(10000, 10)\n",
            "[1.1588650e-04 8.7778899e-05 2.7769133e-03 9.5209392e-04 3.3289940e-08\n",
            " 1.7881715e-05 4.3176915e-10 9.9585754e-01 5.5175847e-06 1.8631772e-04]\n",
            "[7 2 1 0 4 1 4 9 6 9]\n",
            "7\n"
          ],
          "name": "stdout"
        },
        {
          "output_type": "display_data",
          "data": {
            "image/png": "[encoded data removed]",
            "text/plain": [
              "<Figure size 432x288 with 1 Axes>"
            ]
          },
          "metadata": {
            "tags": []
          }
        },
        {
          "output_type": "stream",
          "text": [
            "2\n"
          ],
          "name": "stdout"
        },
        {
          "output_type": "display_data",
          "data": {
            "image/png": "[encoded data removed]",
            "text/plain": [
              "<Figure size 432x288 with 1 Axes>"
            ]
          },
          "metadata": {
            "tags": []
          }
        },
        {
          "output_type": "stream",
          "text": [
            "1\n"
          ],
          "name": "stdout"
        },
        {
          "output_type": "display_data",
          "data": {
            "image/png": "[encoded data removed]",
            "text/plain": [
              "<Figure size 432x288 with 1 Axes>"
            ]
          },
          "metadata": {
            "tags": []
          }
        },
        {
          "output_type": "stream",
          "text": [
            "0\n"
          ],
          "name": "stdout"
        },
        {
          "output_type": "display_data",
          "data": {
            "image/png": "[encoded data removed]",
            "text/plain": [
              "<Figure size 432x288 with 1 Axes>"
            ]
          },
          "metadata": {
            "tags": []
          }
        }
      ]
    },
    {
      "cell_type": "code",
      "metadata": {
        "id": "njjOlXjcRO9s",
        "colab_type": "code",
        "colab": {}
      },
      "source": [
        "(raw_train_x, raw_train_y), (raw_test_x, raw_test_y) = tf.keras.datasets.mnist.load_data()\n",
        "\n",
        "train_x = raw_train_x/255\n",
        "test_x = raw_test_x/255\n",
        "\n",
        "train_y = raw_train_y\n",
        "test_y = raw_test_y\n",
        "\n",
        "# data_count = train_x.shape[0]\n",
        "# data_size = train_x.shape[1]*train_x.shape[2]\n",
        "# train_x = train_x.reshape((data_count, data_size))\n",
        "\n",
        "# data_count = test_x.shape[0]\n",
        "# test_x = test_x.reshape((data_count, data_size))"
      ],
      "execution_count": 0,
      "outputs": []
    },
    {
      "cell_type": "code",
      "metadata": {
        "id": "0OCufCkRRPp3",
        "colab_type": "code",
        "outputId": "44c05e8c-600e-4eec-a611-65f8a3a96568",
        "colab": {
          "base_uri": "https://localhost:8080/",
          "height": 542
        }
      },
      "source": [
        "from tensorflow.keras.layers import Flatten # ADD\n",
        "\n",
        "model = keras.Sequential()\n",
        "model.add(Flatten(input_shape=(28,28))) # ADD\n",
        "model.add(Dense(10, activation='relu', input_shape=(train_x.shape[1],)))\n",
        "model.add(Dense(10, activation='relu'))\n",
        "model.add(Dense(10, activation='softmax'))\n",
        "\n",
        "model.compile(optimizer=\"adam\", loss=\"sparse_categorical_crossentropy\", metrics=[\"accuracy\"])\n",
        "model.summary()\n",
        "\n",
        "\n",
        "model.fit(train_x, train_y, epochs=5, verbose=1, batch_size=128)\n",
        "\n",
        "\n",
        "loss, acc = model.evaluate(test_x, test_y)\n",
        "print(\"loss=\",loss)\n",
        "print(\"acc=\",acc)\n",
        "\n",
        "y_ = model.predict(test_x)\n",
        "predicted = np.argmax(y_, axis=1)\n",
        "\n",
        "print(predicted)"
      ],
      "execution_count": 0,
      "outputs": [
        {
          "output_type": "stream",
          "text": [
            "Model: \"sequential_5\"\n",
            "_________________________________________________________________\n",
            "Layer (type)                 Output Shape              Param #   \n",
            "=================================================================\n",
            "flatten (Flatten)            (None, 784)               0         \n",
            "_________________________________________________________________\n",
            "dense_9 (Dense)              (None, 10)                7850      \n",
            "_________________________________________________________________\n",
            "dense_10 (Dense)             (None, 10)                110       \n",
            "_________________________________________________________________\n",
            "dense_11 (Dense)             (None, 10)                110       \n",
            "=================================================================\n",
            "Total params: 8,070\n",
            "Trainable params: 8,070\n",
            "Non-trainable params: 0\n",
            "_________________________________________________________________\n",
            "Epoch 1/5\n",
            "60000/60000 [==============================] - 1s 22us/sample - loss: 0.8173 - acc: 0.7608\n",
            "Epoch 2/5\n",
            "60000/60000 [==============================] - 1s 23us/sample - loss: 0.3772 - acc: 0.8924\n",
            "Epoch 3/5\n",
            "60000/60000 [==============================] - 1s 22us/sample - loss: 0.3316 - acc: 0.9053\n",
            "Epoch 4/5\n",
            "60000/60000 [==============================] - 1s 22us/sample - loss: 0.3056 - acc: 0.9136\n",
            "Epoch 5/5\n",
            "60000/60000 [==============================] - 1s 22us/sample - loss: 0.2867 - acc: 0.9181\n",
            "10000/10000 [==============================] - 0s 30us/sample - loss: 0.2798 - acc: 0.9206\n",
            "loss= 0.27978701683580876\n",
            "acc= 0.9206\n",
            "[7 2 1 ... 4 5 6]\n"
          ],
          "name": "stdout"
        }
      ]
    }
  ]
}