{
  "nbformat": 4,
  "nbformat_minor": 0,
  "metadata": {
    "colab": {
      "name": "iris_dnn_short.ipynb",
      "version": "0.3.2",
      "provenance": [],
      "collapsed_sections": []
    },
    "kernelspec": {
      "name": "python3",
      "display_name": "Python 3"
    }
  },
  "cells": [
    {
      "cell_type": "code",
      "metadata": {
        "id": "nPqzpGCsB1BF",
        "colab_type": "code",
        "colab": {}
      },
      "source": [
        "import csv\n",
        "import numpy as np\n",
        "import pandas as pd"
      ],
      "execution_count": 0,
      "outputs": []
    },
    {
      "cell_type": "code",
      "metadata": {
        "id": "jxSyc1l54BJm",
        "colab_type": "code",
        "colab": {}
      },
      "source": [
        "iris = pd.read_csv(\"iris.csv\")\n",
        "\n",
        "data = iris.to_numpy()\n",
        "\n",
        "train, test = data[:100], data[100:]\n",
        "\n",
        "train_input, train_output = train[:,:4], train[:,4:]\n",
        "test_input, test_output = test[:,:4], test[:,4:]"
      ],
      "execution_count": 0,
      "outputs": []
    },
    {
      "cell_type": "code",
      "metadata": {
        "id": "cFe0BehG51mP",
        "colab_type": "code",
        "colab": {}
      },
      "source": [
        "import tensorflow as tf\n",
        "from tensorflow import keras\n",
        "\n",
        "import numpy as np\n",
        "import matplotlib.pyplot as plt"
      ],
      "execution_count": 0,
      "outputs": []
    },
    {
      "cell_type": "code",
      "metadata": {
        "id": "SJmp-8zD5gR2",
        "colab_type": "code",
        "colab": {}
      },
      "source": [
        "model = keras.Sequential([\n",
        "    keras.layers.Dense(10, activation='relu'),\n",
        "    keras.layers.Dense(10, activation='relu'),\n",
        "    keras.layers.Dense(3, activation='softmax')\n",
        "])\n",
        "\n",
        "model.compile(optimizer='adam', loss='categorical_crossentropy', metrics=['accuracy'])"
      ],
      "execution_count": 0,
      "outputs": []
    },
    {
      "cell_type": "code",
      "metadata": {
        "id": "za5XB-365gU3",
        "colab_type": "code",
        "colab": {
          "base_uri": "https://localhost:8080/",
          "height": 370
        },
        "outputId": "9f650e97-7083-40c4-d3fd-36aa5de3f802"
      },
      "source": [
        "model.fit(train_input, train_output, epochs=10)"
      ],
      "execution_count": 109,
      "outputs": [
        {
          "output_type": "stream",
          "text": [
            "Epoch 1/10\n",
            "100/100 [==============================] - 0s 123us/sample - loss: 0.0601 - acc: 0.9800\n",
            "Epoch 2/10\n",
            "100/100 [==============================] - 0s 112us/sample - loss: 0.0593 - acc: 0.9900\n",
            "Epoch 3/10\n",
            "100/100 [==============================] - 0s 94us/sample - loss: 0.0590 - acc: 0.9800\n",
            "Epoch 4/10\n",
            "100/100 [==============================] - 0s 91us/sample - loss: 0.0587 - acc: 0.9900\n",
            "Epoch 5/10\n",
            "100/100 [==============================] - 0s 102us/sample - loss: 0.0600 - acc: 0.9800\n",
            "Epoch 6/10\n",
            "100/100 [==============================] - 0s 94us/sample - loss: 0.0602 - acc: 0.9800\n",
            "Epoch 7/10\n",
            "100/100 [==============================] - 0s 100us/sample - loss: 0.0595 - acc: 0.9800\n",
            "Epoch 8/10\n",
            "100/100 [==============================] - 0s 93us/sample - loss: 0.0597 - acc: 0.9800\n",
            "Epoch 9/10\n",
            "100/100 [==============================] - 0s 95us/sample - loss: 0.0606 - acc: 0.9900\n",
            "Epoch 10/10\n",
            "100/100 [==============================] - 0s 101us/sample - loss: 0.0660 - acc: 0.9800\n"
          ],
          "name": "stdout"
        },
        {
          "output_type": "execute_result",
          "data": {
            "text/plain": [
              "<tensorflow.python.keras.callbacks.History at 0x7f52fa666cc0>"
            ]
          },
          "metadata": {
            "tags": []
          },
          "execution_count": 109
        }
      ]
    },
    {
      "cell_type": "code",
      "metadata": {
        "id": "76wFgAkT7Axp",
        "colab_type": "code",
        "colab": {
          "base_uri": "https://localhost:8080/",
          "height": 67
        },
        "outputId": "1ea36e28-edf0-4171-a911-46d942a0bd4a"
      },
      "source": [
        "test_loss, test_acc = model.evaluate(test_input, test_output)\n",
        "\n",
        "print(\"test_loss :\", test_loss)\n",
        "print(\"test_acc :\", test_acc)\n"
      ],
      "execution_count": 107,
      "outputs": [
        {
          "output_type": "stream",
          "text": [
            "\r20/20 [==============================] - 0s 130us/sample - loss: 0.0102 - acc: 1.0000\n",
            "test_loss : 0.010219873860478401\n",
            "test_acc : 1.0\n"
          ],
          "name": "stdout"
        }
      ]
    },
    {
      "cell_type": "code",
      "metadata": {
        "id": "WNRhH55m8Vo6",
        "colab_type": "code",
        "colab": {
          "base_uri": "https://localhost:8080/",
          "height": 50
        },
        "outputId": "dc4b9579-6bd8-47e7-8b74-b27c8b19eb41"
      },
      "source": [
        "test_prediction = model.predict(test_input)\n",
        "print(np.argmax(test_output, axis=1))\n",
        "print(np.argmax(test_prediction, axis=1))\n"
      ],
      "execution_count": 108,
      "outputs": [
        {
          "output_type": "stream",
          "text": [
            "[0 1 0 1 0 0 0 0 1 0 2 1 0 2 0 1 1 0 0 1]\n",
            "[0 1 0 1 0 0 0 0 1 0 2 1 0 2 0 1 1 0 0 1]\n"
          ],
          "name": "stdout"
        }
      ]
    }
  ]
}