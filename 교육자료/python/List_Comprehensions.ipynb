{
  "nbformat": 4,
  "nbformat_minor": 0,
  "metadata": {
    "colab": {
      "name": "List_Comprehensions.ipynb",
      "version": "0.3.2",
      "provenance": []
    },
    "language_info": {
      "codemirror_mode": {
        "name": "ipython",
        "version": 2
      },
      "file_extension": ".py",
      "mimetype": "text/x-python",
      "name": "python",
      "nbconvert_exporter": "python",
      "pygments_lexer": "ipython2",
      "version": "2.7.10"
    },
    "kernelspec": {
      "display_name": "Python 2",
      "language": "python",
      "name": "python2"
    }
  },
  "cells": [
    {
      "cell_type": "markdown",
      "metadata": {
        "id": "LO3yQJvSxMQb",
        "colab_type": "text"
      },
      "source": [
        "copy from https://github.com/jmportilla/Complete-Python-Bootcamp/blob/master/List%20Comprehensions.ipynb"
      ]
    },
    {
      "cell_type": "markdown",
      "metadata": {
        "collapsed": true,
        "id": "lPFfnZ2FxKh-",
        "colab_type": "text"
      },
      "source": [
        "#Comprehensions\n",
        "\n",
        "In addition to sequence operations and list methods, Python includes a more advanced operation called a list comprehension.\n",
        "\n",
        "List comprehensions allow us to build out lists using a different notation. You can think of it as essentially a one line for loop built inside of brackets. For a simple example:\n",
        "##Example 1"
      ]
    },
    {
      "cell_type": "code",
      "metadata": {
        "id": "mTsuGJ13xKh_",
        "colab_type": "code",
        "colab": {}
      },
      "source": [
        "# Grab every letter in string\n",
        "lst = [x for x in 'word']"
      ],
      "execution_count": 0,
      "outputs": []
    },
    {
      "cell_type": "code",
      "metadata": {
        "id": "II2WqYq6xKiD",
        "colab_type": "code",
        "colab": {
          "base_uri": "https://localhost:8080/",
          "height": 34
        },
        "outputId": "44c34880-62e8-4c5b-8b05-f647f2f713aa"
      },
      "source": [
        "# Check\n",
        "lst"
      ],
      "execution_count": 2,
      "outputs": [
        {
          "output_type": "execute_result",
          "data": {
            "text/plain": [
              "['w', 'o', 'r', 'd']"
            ]
          },
          "metadata": {
            "tags": []
          },
          "execution_count": 2
        }
      ]
    },
    {
      "cell_type": "markdown",
      "metadata": {
        "id": "O_GiFb8rxKiI",
        "colab_type": "text"
      },
      "source": [
        "This is the basic idea of a list comprehension. If you're familiar with mathematical notation this format should feel familiar for example: x^2 : x in { 0,1,2...10} \n",
        "\n",
        "Lets see a few more example of list comprehensions in Python:\n",
        "##Example 2"
      ]
    },
    {
      "cell_type": "code",
      "metadata": {
        "id": "I1jQ5WvExKiJ",
        "colab_type": "code",
        "colab": {}
      },
      "source": [
        "# Square numbers in range and turn into list\n",
        "lst = [x**2 for x in range(0,11)]"
      ],
      "execution_count": 0,
      "outputs": []
    },
    {
      "cell_type": "code",
      "metadata": {
        "id": "oWNUKdZQxKiN",
        "colab_type": "code",
        "colab": {
          "base_uri": "https://localhost:8080/",
          "height": 34
        },
        "outputId": "3ffb2c09-c6ba-4df0-c68c-45fc5141c0fa"
      },
      "source": [
        "lst"
      ],
      "execution_count": 4,
      "outputs": [
        {
          "output_type": "execute_result",
          "data": {
            "text/plain": [
              "[0, 1, 4, 9, 16, 25, 36, 49, 64, 81, 100]"
            ]
          },
          "metadata": {
            "tags": []
          },
          "execution_count": 4
        }
      ]
    },
    {
      "cell_type": "markdown",
      "metadata": {
        "id": "uEMoULljxKiR",
        "colab_type": "text"
      },
      "source": [
        "##Example 3\n",
        "Lets see how to add in if statements:"
      ]
    },
    {
      "cell_type": "code",
      "metadata": {
        "id": "VMYKwWaxxKiS",
        "colab_type": "code",
        "colab": {}
      },
      "source": [
        "# Check for even numbers in a range\n",
        "lst = [x for x in range(11) if x % 2 == 0]"
      ],
      "execution_count": 0,
      "outputs": []
    },
    {
      "cell_type": "code",
      "metadata": {
        "id": "b2MJe6BOxKiV",
        "colab_type": "code",
        "colab": {
          "base_uri": "https://localhost:8080/",
          "height": 34
        },
        "outputId": "4333a50b-1b40-46cb-c8b5-77768df80a2d"
      },
      "source": [
        "lst"
      ],
      "execution_count": 6,
      "outputs": [
        {
          "output_type": "execute_result",
          "data": {
            "text/plain": [
              "[0, 2, 4, 6, 8, 10]"
            ]
          },
          "metadata": {
            "tags": []
          },
          "execution_count": 6
        }
      ]
    },
    {
      "cell_type": "markdown",
      "metadata": {
        "id": "B53l2_LuxKiZ",
        "colab_type": "text"
      },
      "source": [
        "##Example 4\n",
        "Can also do more complicated arithmetic:"
      ]
    },
    {
      "cell_type": "code",
      "metadata": {
        "id": "8yFx3j0oxKia",
        "colab_type": "code",
        "colab": {
          "base_uri": "https://localhost:8080/",
          "height": 34
        },
        "outputId": "f7518b7b-6a7a-46d0-960f-5e0d315683dd"
      },
      "source": [
        "# Convert Celsius to Fahrenheit\n",
        "celsius = [0,10,20.1,34.5]\n",
        "\n",
        "fahrenheit = [ ((float(9)/5)*temp + 32) for temp in celsius ]\n",
        "\n",
        "fahrenheit"
      ],
      "execution_count": 8,
      "outputs": [
        {
          "output_type": "execute_result",
          "data": {
            "text/plain": [
              "[32.0, 50.0, 68.18, 94.1]"
            ]
          },
          "metadata": {
            "tags": []
          },
          "execution_count": 8
        }
      ]
    },
    {
      "cell_type": "markdown",
      "metadata": {
        "id": "jqrZgZcZxKig",
        "colab_type": "text"
      },
      "source": [
        "##Example 5\n",
        "We can also perform nested list comprehensions, for example:"
      ]
    },
    {
      "cell_type": "code",
      "metadata": {
        "id": "a91jU8YvxKij",
        "colab_type": "code",
        "colab": {
          "base_uri": "https://localhost:8080/",
          "height": 34
        },
        "outputId": "2acb7b1f-90b2-4462-eafc-d5a215200a5b"
      },
      "source": [
        "lst = [ x**2 for x in [x**2 for x in range(11)]]\n",
        "lst"
      ],
      "execution_count": 9,
      "outputs": [
        {
          "output_type": "execute_result",
          "data": {
            "text/plain": [
              "[0, 1, 16, 81, 256, 625, 1296, 2401, 4096, 6561, 10000]"
            ]
          },
          "metadata": {
            "tags": []
          },
          "execution_count": 9
        }
      ]
    },
    {
      "cell_type": "markdown",
      "metadata": {
        "id": "I-GKpKj3xKis",
        "colab_type": "text"
      },
      "source": [
        "Later on in the course we will learn about generator comprehensions. After this lecture you should feel comfortable reading and writing basic list comprehensions."
      ]
    },
    {
      "cell_type": "code",
      "metadata": {
        "id": "J1Ll5u8ExUMB",
        "colab_type": "code",
        "colab": {}
      },
      "source": [
        ""
      ],
      "execution_count": 0,
      "outputs": []
    }
  ]
}