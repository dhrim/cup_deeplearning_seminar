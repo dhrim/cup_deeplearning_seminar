{
  "nbformat": 4,
  "nbformat_minor": 0,
  "metadata": {
    "colab": {
      "name": "python.ipynb",
      "version": "0.3.2",
      "provenance": [],
      "collapsed_sections": []
    },
    "kernelspec": {
      "name": "python3",
      "display_name": "Python 3"
    }
  },
  "cells": [
    {
      "cell_type": "code",
      "metadata": {
        "id": "yeNQdAlQ-5ZE",
        "colab_type": "code",
        "colab": {}
      },
      "source": [
        ""
      ],
      "execution_count": 0,
      "outputs": []
    },
    {
      "cell_type": "markdown",
      "metadata": {
        "id": "eUH4Q_08Amm_",
        "colab_type": "text"
      },
      "source": [
        "# 숫자 연산"
      ]
    },
    {
      "cell_type": "code",
      "metadata": {
        "id": "OEfqduAPApc_",
        "colab_type": "code",
        "colab": {
          "base_uri": "https://localhost:8080/",
          "height": 34
        },
        "outputId": "874cc241-d5b6-4b48-ed53-a23037ffc16c"
      },
      "source": [
        "2+2"
      ],
      "execution_count": 1,
      "outputs": [
        {
          "output_type": "execute_result",
          "data": {
            "text/plain": [
              "4"
            ]
          },
          "metadata": {
            "tags": []
          },
          "execution_count": 1
        }
      ]
    },
    {
      "cell_type": "code",
      "metadata": {
        "id": "PpWSw0lNA2dF",
        "colab_type": "code",
        "colab": {
          "base_uri": "https://localhost:8080/",
          "height": 34
        },
        "outputId": "584cc86a-5891-4a64-9308-f802b9aa7ff0"
      },
      "source": [
        "50 - 5 * 6"
      ],
      "execution_count": 2,
      "outputs": [
        {
          "output_type": "execute_result",
          "data": {
            "text/plain": [
              "20"
            ]
          },
          "metadata": {
            "tags": []
          },
          "execution_count": 2
        }
      ]
    },
    {
      "cell_type": "code",
      "metadata": {
        "id": "mbtopVBbA2fm",
        "colab_type": "code",
        "colab": {
          "base_uri": "https://localhost:8080/",
          "height": 34
        },
        "outputId": "d6206e8b-3362-43cf-d41c-be17de4f3449"
      },
      "source": [
        "(50 - 5 * 6)/4"
      ],
      "execution_count": 3,
      "outputs": [
        {
          "output_type": "execute_result",
          "data": {
            "text/plain": [
              "5.0"
            ]
          },
          "metadata": {
            "tags": []
          },
          "execution_count": 3
        }
      ]
    },
    {
      "cell_type": "code",
      "metadata": {
        "id": "C8qRtE5IA2iI",
        "colab_type": "code",
        "colab": {
          "base_uri": "https://localhost:8080/",
          "height": 34
        },
        "outputId": "29298a95-cba7-44f9-efe1-94debc8b2933"
      },
      "source": [
        "8/5"
      ],
      "execution_count": 4,
      "outputs": [
        {
          "output_type": "execute_result",
          "data": {
            "text/plain": [
              "1.6"
            ]
          },
          "metadata": {
            "tags": []
          },
          "execution_count": 4
        }
      ]
    },
    {
      "cell_type": "code",
      "metadata": {
        "id": "4VRuY0UrA2kz",
        "colab_type": "code",
        "colab": {
          "base_uri": "https://localhost:8080/",
          "height": 34
        },
        "outputId": "144f196a-50b0-4542-fe97-d33db3edf57e"
      },
      "source": [
        "17/3"
      ],
      "execution_count": 5,
      "outputs": [
        {
          "output_type": "execute_result",
          "data": {
            "text/plain": [
              "5.666666666666667"
            ]
          },
          "metadata": {
            "tags": []
          },
          "execution_count": 5
        }
      ]
    },
    {
      "cell_type": "code",
      "metadata": {
        "id": "0_YmFqrOA2pl",
        "colab_type": "code",
        "colab": {
          "base_uri": "https://localhost:8080/",
          "height": 34
        },
        "outputId": "c09e9417-8797-4aa6-8726-34cd3d31ca8e"
      },
      "source": [
        "17//3"
      ],
      "execution_count": 6,
      "outputs": [
        {
          "output_type": "execute_result",
          "data": {
            "text/plain": [
              "5"
            ]
          },
          "metadata": {
            "tags": []
          },
          "execution_count": 6
        }
      ]
    },
    {
      "cell_type": "code",
      "metadata": {
        "id": "5p3skdmqA2sC",
        "colab_type": "code",
        "colab": {
          "base_uri": "https://localhost:8080/",
          "height": 34
        },
        "outputId": "92e1d864-fb4c-411b-cd3b-7396c2e264bb"
      },
      "source": [
        "17%3"
      ],
      "execution_count": 7,
      "outputs": [
        {
          "output_type": "execute_result",
          "data": {
            "text/plain": [
              "2"
            ]
          },
          "metadata": {
            "tags": []
          },
          "execution_count": 7
        }
      ]
    },
    {
      "cell_type": "code",
      "metadata": {
        "id": "x3g7XRSVBD3h",
        "colab_type": "code",
        "colab": {
          "base_uri": "https://localhost:8080/",
          "height": 34
        },
        "outputId": "775995e0-238a-4ce3-a806-b0ed374e8baf"
      },
      "source": [
        "5 * 3 + 2"
      ],
      "execution_count": 8,
      "outputs": [
        {
          "output_type": "execute_result",
          "data": {
            "text/plain": [
              "17"
            ]
          },
          "metadata": {
            "tags": []
          },
          "execution_count": 8
        }
      ]
    },
    {
      "cell_type": "code",
      "metadata": {
        "id": "vLl8SPlKBD6Y",
        "colab_type": "code",
        "colab": {
          "base_uri": "https://localhost:8080/",
          "height": 34
        },
        "outputId": "ee90a895-89f2-49c1-a921-123131ff41e5"
      },
      "source": [
        "5 ** 2"
      ],
      "execution_count": 9,
      "outputs": [
        {
          "output_type": "execute_result",
          "data": {
            "text/plain": [
              "25"
            ]
          },
          "metadata": {
            "tags": []
          },
          "execution_count": 9
        }
      ]
    },
    {
      "cell_type": "code",
      "metadata": {
        "id": "qCuauAcUBD88",
        "colab_type": "code",
        "colab": {
          "base_uri": "https://localhost:8080/",
          "height": 34
        },
        "outputId": "4ceb8921-7f61-4d5b-cb70-baeb3f613e56"
      },
      "source": [
        "2 ** 7"
      ],
      "execution_count": 10,
      "outputs": [
        {
          "output_type": "execute_result",
          "data": {
            "text/plain": [
              "128"
            ]
          },
          "metadata": {
            "tags": []
          },
          "execution_count": 10
        }
      ]
    },
    {
      "cell_type": "code",
      "metadata": {
        "id": "ia1IJJgdBD_r",
        "colab_type": "code",
        "colab": {
          "base_uri": "https://localhost:8080/",
          "height": 34
        },
        "outputId": "063c4099-d8ef-4f91-ac4a-c51ab82ea54e"
      },
      "source": [
        "-3 ** 2"
      ],
      "execution_count": 11,
      "outputs": [
        {
          "output_type": "execute_result",
          "data": {
            "text/plain": [
              "-9"
            ]
          },
          "metadata": {
            "tags": []
          },
          "execution_count": 11
        }
      ]
    },
    {
      "cell_type": "code",
      "metadata": {
        "id": "iAa-m9ExBEEp",
        "colab_type": "code",
        "colab": {
          "base_uri": "https://localhost:8080/",
          "height": 34
        },
        "outputId": "f9d5461f-d8e2-4788-8d6e-1542303f6c65"
      },
      "source": [
        "(-3)**2"
      ],
      "execution_count": 12,
      "outputs": [
        {
          "output_type": "execute_result",
          "data": {
            "text/plain": [
              "9"
            ]
          },
          "metadata": {
            "tags": []
          },
          "execution_count": 12
        }
      ]
    },
    {
      "cell_type": "code",
      "metadata": {
        "id": "yKkPJhFKESAD",
        "colab_type": "code",
        "colab": {
          "base_uri": "https://localhost:8080/",
          "height": 34
        },
        "outputId": "e3c88895-102e-4ecd-c8bb-96d683eea076"
      },
      "source": [
        "3.5 + 3"
      ],
      "execution_count": 13,
      "outputs": [
        {
          "output_type": "execute_result",
          "data": {
            "text/plain": [
              "6.5"
            ]
          },
          "metadata": {
            "tags": []
          },
          "execution_count": 13
        }
      ]
    },
    {
      "cell_type": "code",
      "metadata": {
        "id": "C61JYKdTESFP",
        "colab_type": "code",
        "colab": {
          "base_uri": "https://localhost:8080/",
          "height": 34
        },
        "outputId": "f1a8d9e1-2d8f-4f83-963e-30438471a514"
      },
      "source": [
        "3.5 / 3"
      ],
      "execution_count": 14,
      "outputs": [
        {
          "output_type": "execute_result",
          "data": {
            "text/plain": [
              "1.1666666666666667"
            ]
          },
          "metadata": {
            "tags": []
          },
          "execution_count": 14
        }
      ]
    },
    {
      "cell_type": "markdown",
      "metadata": {
        "id": "JQ3Z6WMjBzHd",
        "colab_type": "text"
      },
      "source": [
        "# 스트링"
      ]
    },
    {
      "cell_type": "code",
      "metadata": {
        "id": "yX37ZP5GBECk",
        "colab_type": "code",
        "colab": {
          "base_uri": "https://localhost:8080/",
          "height": 67
        },
        "outputId": "a20261bc-19e5-44c1-f8f5-075cc34d74f5"
      },
      "source": [
        "print(\"hello\")\n",
        "print('hello')\n",
        "print(\"It's string\")"
      ],
      "execution_count": 15,
      "outputs": [
        {
          "output_type": "stream",
          "text": [
            "hello\n",
            "hello\n",
            "It's string\n"
          ],
          "name": "stdout"
        }
      ]
    },
    {
      "cell_type": "code",
      "metadata": {
        "id": "nVWD6OlsA2ua",
        "colab_type": "code",
        "colab": {
          "base_uri": "https://localhost:8080/",
          "height": 101
        },
        "outputId": "6f716423-e706-4f93-c0e0-84e976d6889d"
      },
      "source": [
        "\n",
        "print(\"\"\"\n",
        "Usage: thingy [OPTIONS]\n",
        "     -h                        Display this usage message\n",
        "     -H hostname               Hostname to connect to\n",
        "\"\"\")"
      ],
      "execution_count": 16,
      "outputs": [
        {
          "output_type": "stream",
          "text": [
            "\n",
            "Usage: thingy [OPTIONS]\n",
            "     -h                        Display this usage message\n",
            "     -H hostname               Hostname to connect to\n",
            "\n"
          ],
          "name": "stdout"
        }
      ]
    },
    {
      "cell_type": "code",
      "metadata": {
        "id": "dSB-2vm_Bqmp",
        "colab_type": "code",
        "colab": {
          "base_uri": "https://localhost:8080/",
          "height": 34
        },
        "outputId": "2aadaba9-ab78-4a57-b1ec-24402cffa4e8"
      },
      "source": [
        "3 * 'un' + 'ium'"
      ],
      "execution_count": 17,
      "outputs": [
        {
          "output_type": "execute_result",
          "data": {
            "text/plain": [
              "'unununium'"
            ]
          },
          "metadata": {
            "tags": []
          },
          "execution_count": 17
        }
      ]
    },
    {
      "cell_type": "markdown",
      "metadata": {
        "id": "uIU08ZacBUth",
        "colab_type": "text"
      },
      "source": [
        "# 변수"
      ]
    },
    {
      "cell_type": "code",
      "metadata": {
        "id": "QF_CAL8-Bqpe",
        "colab_type": "code",
        "colab": {
          "base_uri": "https://localhost:8080/",
          "height": 34
        },
        "outputId": "b0f2fd8e-b72c-47be-9d86-02a87890d9a2"
      },
      "source": [
        "a = 1\n",
        "b = 2\n",
        "c = a+b\n",
        "print(c)"
      ],
      "execution_count": 18,
      "outputs": [
        {
          "output_type": "stream",
          "text": [
            "3\n"
          ],
          "name": "stdout"
        }
      ]
    },
    {
      "cell_type": "code",
      "metadata": {
        "id": "kL3afYPCBEH8",
        "colab_type": "code",
        "colab": {
          "base_uri": "https://localhost:8080/",
          "height": 34
        },
        "outputId": "8323b9ab-d17e-42dc-8fcd-cf3b22716e7d"
      },
      "source": [
        "str1 = \"hi\"\n",
        "str2 = \"hello\"\n",
        "str3 = str1 + str2\n",
        "print(str3)\n"
      ],
      "execution_count": 19,
      "outputs": [
        {
          "output_type": "stream",
          "text": [
            "hihello\n"
          ],
          "name": "stdout"
        }
      ]
    },
    {
      "cell_type": "markdown",
      "metadata": {
        "id": "xoJRKKg7B9w3",
        "colab_type": "text"
      },
      "source": [
        "# List "
      ]
    },
    {
      "cell_type": "code",
      "metadata": {
        "id": "GZQTQf6lCD8G",
        "colab_type": "code",
        "colab": {
          "base_uri": "https://localhost:8080/",
          "height": 34
        },
        "outputId": "f6db01f5-121a-4281-88b8-c68a0a855226"
      },
      "source": [
        "l = [1,2,3,4,5]\n",
        "print(l)"
      ],
      "execution_count": 20,
      "outputs": [
        {
          "output_type": "stream",
          "text": [
            "[1, 2, 3, 4, 5]\n"
          ],
          "name": "stdout"
        }
      ]
    },
    {
      "cell_type": "code",
      "metadata": {
        "id": "jNRP9BreCD_J",
        "colab_type": "code",
        "colab": {
          "base_uri": "https://localhost:8080/",
          "height": 67
        },
        "outputId": "df2bfff6-80ce-4248-e3cb-c7b45016211f"
      },
      "source": [
        "print(l[0])\n",
        "print(l[1])\n",
        "print(l[4])"
      ],
      "execution_count": 21,
      "outputs": [
        {
          "output_type": "stream",
          "text": [
            "1\n",
            "2\n",
            "5\n"
          ],
          "name": "stdout"
        }
      ]
    },
    {
      "cell_type": "code",
      "metadata": {
        "id": "wDwVCv-jCEB5",
        "colab_type": "code",
        "colab": {
          "base_uri": "https://localhost:8080/",
          "height": 162
        },
        "outputId": "e0b83516-f8f5-44fd-92e6-86beb2b28b7c"
      },
      "source": [
        "print(l[5])"
      ],
      "execution_count": 22,
      "outputs": [
        {
          "output_type": "error",
          "ename": "IndexError",
          "evalue": "ignored",
          "traceback": [
            "\u001b[0;31m---------------------------------------------------------------------------\u001b[0m",
            "\u001b[0;31mIndexError\u001b[0m                                Traceback (most recent call last)",
            "\u001b[0;32m<ipython-input-22-6f1da3c3f1bb>\u001b[0m in \u001b[0;36m<module>\u001b[0;34m()\u001b[0m\n\u001b[0;32m----> 1\u001b[0;31m \u001b[0mprint\u001b[0m\u001b[0;34m(\u001b[0m\u001b[0ml\u001b[0m\u001b[0;34m[\u001b[0m\u001b[0;36m5\u001b[0m\u001b[0;34m]\u001b[0m\u001b[0;34m)\u001b[0m\u001b[0;34m\u001b[0m\u001b[0;34m\u001b[0m\u001b[0m\n\u001b[0m",
            "\u001b[0;31mIndexError\u001b[0m: list index out of range"
          ]
        }
      ]
    },
    {
      "cell_type": "code",
      "metadata": {
        "id": "8e3S4qzeCEG_",
        "colab_type": "code",
        "colab": {
          "base_uri": "https://localhost:8080/",
          "height": 101
        },
        "outputId": "8705c5d2-18bf-438f-ddd6-e1f01fb2cffe"
      },
      "source": [
        "print(l[-1])\n",
        "print(l[-2])\n",
        "print(l[-3])\n",
        "print(l[-4])\n",
        "print(l[-5])"
      ],
      "execution_count": 23,
      "outputs": [
        {
          "output_type": "stream",
          "text": [
            "5\n",
            "4\n",
            "3\n",
            "2\n",
            "1\n"
          ],
          "name": "stdout"
        }
      ]
    },
    {
      "cell_type": "code",
      "metadata": {
        "id": "bbvobKLuCEEk",
        "colab_type": "code",
        "colab": {
          "base_uri": "https://localhost:8080/",
          "height": 162
        },
        "outputId": "b1ddd50e-6f59-447a-9dc4-4f843832b22d"
      },
      "source": [
        "print(l[-6])"
      ],
      "execution_count": 24,
      "outputs": [
        {
          "output_type": "error",
          "ename": "IndexError",
          "evalue": "ignored",
          "traceback": [
            "\u001b[0;31m---------------------------------------------------------------------------\u001b[0m",
            "\u001b[0;31mIndexError\u001b[0m                                Traceback (most recent call last)",
            "\u001b[0;32m<ipython-input-24-1c6392390ebf>\u001b[0m in \u001b[0;36m<module>\u001b[0;34m()\u001b[0m\n\u001b[0;32m----> 1\u001b[0;31m \u001b[0mprint\u001b[0m\u001b[0;34m(\u001b[0m\u001b[0ml\u001b[0m\u001b[0;34m[\u001b[0m\u001b[0;34m-\u001b[0m\u001b[0;36m6\u001b[0m\u001b[0;34m]\u001b[0m\u001b[0;34m)\u001b[0m\u001b[0;34m\u001b[0m\u001b[0;34m\u001b[0m\u001b[0m\n\u001b[0m",
            "\u001b[0;31mIndexError\u001b[0m: list index out of range"
          ]
        }
      ]
    },
    {
      "cell_type": "code",
      "metadata": {
        "id": "WA6wcVL7CnOK",
        "colab_type": "code",
        "colab": {
          "base_uri": "https://localhost:8080/",
          "height": 101
        },
        "outputId": "b02486d1-2bdf-4c9f-b5dd-c0f624fcdd6a"
      },
      "source": [
        "print(l)\n",
        "print(l[1:3])\n",
        "print(l[:3])\n",
        "print(l[1:])\n",
        "print(l[:])"
      ],
      "execution_count": 25,
      "outputs": [
        {
          "output_type": "stream",
          "text": [
            "[1, 2, 3, 4, 5]\n",
            "[2, 3]\n",
            "[1, 2, 3]\n",
            "[2, 3, 4, 5]\n",
            "[1, 2, 3, 4, 5]\n"
          ],
          "name": "stdout"
        }
      ]
    },
    {
      "cell_type": "code",
      "metadata": {
        "id": "ARKGFM1ACnTx",
        "colab_type": "code",
        "colab": {
          "base_uri": "https://localhost:8080/",
          "height": 50
        },
        "outputId": "4ab0b159-240f-48b0-ec2e-9efc141b1f58"
      },
      "source": [
        "print(l[0:-1])\n",
        "print(l[0:])"
      ],
      "execution_count": 26,
      "outputs": [
        {
          "output_type": "stream",
          "text": [
            "[1, 2, 3, 4]\n",
            "[1, 2, 3, 4, 5]\n"
          ],
          "name": "stdout"
        }
      ]
    },
    {
      "cell_type": "code",
      "metadata": {
        "id": "geuEUqM1CpSA",
        "colab_type": "code",
        "colab": {
          "base_uri": "https://localhost:8080/",
          "height": 67
        },
        "outputId": "f43c0159-850f-40ca-c5be-1599febfc3c5"
      },
      "source": [
        "print(l[:])\n",
        "print(l[::1])\n",
        "print(l[::])"
      ],
      "execution_count": 27,
      "outputs": [
        {
          "output_type": "stream",
          "text": [
            "[1, 2, 3, 4, 5]\n",
            "[1, 2, 3, 4, 5]\n",
            "[1, 2, 3, 4, 5]\n"
          ],
          "name": "stdout"
        }
      ]
    },
    {
      "cell_type": "code",
      "metadata": {
        "id": "4X-q8mLICpVQ",
        "colab_type": "code",
        "colab": {
          "base_uri": "https://localhost:8080/",
          "height": 34
        },
        "outputId": "5b9d93d0-d7a6-48f2-f01d-702d1e8e9c32"
      },
      "source": [
        "print(l[::-1])"
      ],
      "execution_count": 28,
      "outputs": [
        {
          "output_type": "stream",
          "text": [
            "[5, 4, 3, 2, 1]\n"
          ],
          "name": "stdout"
        }
      ]
    },
    {
      "cell_type": "code",
      "metadata": {
        "id": "xr-spjrMCnRB",
        "colab_type": "code",
        "colab": {
          "base_uri": "https://localhost:8080/",
          "height": 50
        },
        "outputId": "978d0b69-c6f4-4194-9fe2-e4223f7482dc"
      },
      "source": [
        "l = [1,2,3,4,5]\n",
        "print(l)\n",
        "l[3] = 99\n",
        "print(l)"
      ],
      "execution_count": 29,
      "outputs": [
        {
          "output_type": "stream",
          "text": [
            "[1, 2, 3, 4, 5]\n",
            "[1, 2, 3, 99, 5]\n"
          ],
          "name": "stdout"
        }
      ]
    },
    {
      "cell_type": "code",
      "metadata": {
        "id": "K51Id5IiDMAO",
        "colab_type": "code",
        "colab": {
          "base_uri": "https://localhost:8080/",
          "height": 50
        },
        "outputId": "52579966-80a2-4a03-f8fa-26fde4b243b4"
      },
      "source": [
        "l = [1,2,3,4,5]\n",
        "print(l)\n",
        "l2 = l + [11,12,13]\n",
        "print(l2)"
      ],
      "execution_count": 30,
      "outputs": [
        {
          "output_type": "stream",
          "text": [
            "[1, 2, 3, 4, 5]\n",
            "[1, 2, 3, 4, 5, 11, 12, 13]\n"
          ],
          "name": "stdout"
        }
      ]
    },
    {
      "cell_type": "markdown",
      "metadata": {
        "id": "rFmVGDw0B94i",
        "colab_type": "text"
      },
      "source": [
        "# List 처럼 처리되는 String"
      ]
    },
    {
      "cell_type": "code",
      "metadata": {
        "id": "S-GgB_2qDMJD",
        "colab_type": "code",
        "colab": {
          "base_uri": "https://localhost:8080/",
          "height": 84
        },
        "outputId": "65ebec33-18b7-4943-add2-757e7721f461"
      },
      "source": [
        "s = \"abcde\"\n",
        "print(s)\n",
        "print(s[0])\n",
        "print(s[1])\n",
        "print(s[-1])"
      ],
      "execution_count": 31,
      "outputs": [
        {
          "output_type": "stream",
          "text": [
            "abcde\n",
            "a\n",
            "b\n",
            "e\n"
          ],
          "name": "stdout"
        }
      ]
    },
    {
      "cell_type": "code",
      "metadata": {
        "id": "gjjNcdalDMOb",
        "colab_type": "code",
        "colab": {
          "base_uri": "https://localhost:8080/",
          "height": 67
        },
        "outputId": "4f329b06-e8d3-4c86-fd89-f497667e31df"
      },
      "source": [
        "s = \"abcde\"\n",
        "print(s[:])\n",
        "print(s[1:4])\n",
        "print(s[::-1])"
      ],
      "execution_count": 32,
      "outputs": [
        {
          "output_type": "stream",
          "text": [
            "abcde\n",
            "bcd\n",
            "edcba\n"
          ],
          "name": "stdout"
        }
      ]
    },
    {
      "cell_type": "code",
      "metadata": {
        "id": "mo_d_F4yDMMF",
        "colab_type": "code",
        "colab": {
          "base_uri": "https://localhost:8080/",
          "height": 179
        },
        "outputId": "48f83a38-f2e4-4fb2-e0ba-27fea9ec885f"
      },
      "source": [
        "s = \"abcde\"\n",
        "s[3] = \"X\""
      ],
      "execution_count": 33,
      "outputs": [
        {
          "output_type": "error",
          "ename": "TypeError",
          "evalue": "ignored",
          "traceback": [
            "\u001b[0;31m---------------------------------------------------------------------------\u001b[0m",
            "\u001b[0;31mTypeError\u001b[0m                                 Traceback (most recent call last)",
            "\u001b[0;32m<ipython-input-33-d1a62f13422e>\u001b[0m in \u001b[0;36m<module>\u001b[0;34m()\u001b[0m\n\u001b[1;32m      1\u001b[0m \u001b[0ms\u001b[0m \u001b[0;34m=\u001b[0m \u001b[0;34m\"abcde\"\u001b[0m\u001b[0;34m\u001b[0m\u001b[0;34m\u001b[0m\u001b[0m\n\u001b[0;32m----> 2\u001b[0;31m \u001b[0ms\u001b[0m\u001b[0;34m[\u001b[0m\u001b[0;36m3\u001b[0m\u001b[0;34m]\u001b[0m \u001b[0;34m=\u001b[0m \u001b[0;34m\"X\"\u001b[0m\u001b[0;34m\u001b[0m\u001b[0;34m\u001b[0m\u001b[0m\n\u001b[0m",
            "\u001b[0;31mTypeError\u001b[0m: 'str' object does not support item assignment"
          ]
        }
      ]
    },
    {
      "cell_type": "markdown",
      "metadata": {
        "id": "vdx9L5DYD52I",
        "colab_type": "text"
      },
      "source": [
        "# Dictonary"
      ]
    },
    {
      "cell_type": "code",
      "metadata": {
        "id": "RwL0_w7rDMG0",
        "colab_type": "code",
        "colab": {
          "base_uri": "https://localhost:8080/",
          "height": 246
        },
        "outputId": "9cc75e98-e808-4115-b5f0-9efb2b37f35f"
      },
      "source": [
        "d = { \"a\":1, \"b\":2, \"c\":3 }\n",
        "print(d)\n",
        "print(d[\"a\"])\n",
        "print(d[\"b\"])\n",
        "print(d[\"x\"])"
      ],
      "execution_count": 34,
      "outputs": [
        {
          "output_type": "stream",
          "text": [
            "{'a': 1, 'b': 2, 'c': 3}\n",
            "1\n",
            "2\n"
          ],
          "name": "stdout"
        },
        {
          "output_type": "error",
          "ename": "KeyError",
          "evalue": "ignored",
          "traceback": [
            "\u001b[0;31m---------------------------------------------------------------------------\u001b[0m",
            "\u001b[0;31mKeyError\u001b[0m                                  Traceback (most recent call last)",
            "\u001b[0;32m<ipython-input-34-e4a3772c22da>\u001b[0m in \u001b[0;36m<module>\u001b[0;34m()\u001b[0m\n\u001b[1;32m      3\u001b[0m \u001b[0mprint\u001b[0m\u001b[0;34m(\u001b[0m\u001b[0md\u001b[0m\u001b[0;34m[\u001b[0m\u001b[0;34m\"a\"\u001b[0m\u001b[0;34m]\u001b[0m\u001b[0;34m)\u001b[0m\u001b[0;34m\u001b[0m\u001b[0;34m\u001b[0m\u001b[0m\n\u001b[1;32m      4\u001b[0m \u001b[0mprint\u001b[0m\u001b[0;34m(\u001b[0m\u001b[0md\u001b[0m\u001b[0;34m[\u001b[0m\u001b[0;34m\"b\"\u001b[0m\u001b[0;34m]\u001b[0m\u001b[0;34m)\u001b[0m\u001b[0;34m\u001b[0m\u001b[0;34m\u001b[0m\u001b[0m\n\u001b[0;32m----> 5\u001b[0;31m \u001b[0mprint\u001b[0m\u001b[0;34m(\u001b[0m\u001b[0md\u001b[0m\u001b[0;34m[\u001b[0m\u001b[0;34m\"x\"\u001b[0m\u001b[0;34m]\u001b[0m\u001b[0;34m)\u001b[0m\u001b[0;34m\u001b[0m\u001b[0;34m\u001b[0m\u001b[0m\n\u001b[0m",
            "\u001b[0;31mKeyError\u001b[0m: 'x'"
          ]
        }
      ]
    },
    {
      "cell_type": "code",
      "metadata": {
        "id": "WorRQUp5DMEM",
        "colab_type": "code",
        "colab": {
          "base_uri": "https://localhost:8080/",
          "height": 246
        },
        "outputId": "51979118-b209-4177-8e24-b8eaf6c95d40"
      },
      "source": [
        "d = { 1:\"a\", 2:\"b\", 3:\"c\" }\n",
        "print(d)\n",
        "print(d[1])\n",
        "print(d[2])\n",
        "print(d[0])"
      ],
      "execution_count": 35,
      "outputs": [
        {
          "output_type": "stream",
          "text": [
            "{1: 'a', 2: 'b', 3: 'c'}\n",
            "a\n",
            "b\n"
          ],
          "name": "stdout"
        },
        {
          "output_type": "error",
          "ename": "KeyError",
          "evalue": "ignored",
          "traceback": [
            "\u001b[0;31m---------------------------------------------------------------------------\u001b[0m",
            "\u001b[0;31mKeyError\u001b[0m                                  Traceback (most recent call last)",
            "\u001b[0;32m<ipython-input-35-09f61de87b28>\u001b[0m in \u001b[0;36m<module>\u001b[0;34m()\u001b[0m\n\u001b[1;32m      3\u001b[0m \u001b[0mprint\u001b[0m\u001b[0;34m(\u001b[0m\u001b[0md\u001b[0m\u001b[0;34m[\u001b[0m\u001b[0;36m1\u001b[0m\u001b[0;34m]\u001b[0m\u001b[0;34m)\u001b[0m\u001b[0;34m\u001b[0m\u001b[0;34m\u001b[0m\u001b[0m\n\u001b[1;32m      4\u001b[0m \u001b[0mprint\u001b[0m\u001b[0;34m(\u001b[0m\u001b[0md\u001b[0m\u001b[0;34m[\u001b[0m\u001b[0;36m2\u001b[0m\u001b[0;34m]\u001b[0m\u001b[0;34m)\u001b[0m\u001b[0;34m\u001b[0m\u001b[0;34m\u001b[0m\u001b[0m\n\u001b[0;32m----> 5\u001b[0;31m \u001b[0mprint\u001b[0m\u001b[0;34m(\u001b[0m\u001b[0md\u001b[0m\u001b[0;34m[\u001b[0m\u001b[0;36m0\u001b[0m\u001b[0;34m]\u001b[0m\u001b[0;34m)\u001b[0m\u001b[0;34m\u001b[0m\u001b[0;34m\u001b[0m\u001b[0m\n\u001b[0m",
            "\u001b[0;31mKeyError\u001b[0m: 0"
          ]
        }
      ]
    },
    {
      "cell_type": "code",
      "metadata": {
        "id": "T0Gj9ubcBqsI",
        "colab_type": "code",
        "colab": {
          "base_uri": "https://localhost:8080/",
          "height": 67
        },
        "outputId": "cd855780-b78b-46a0-dd7e-5536dbddcbf8"
      },
      "source": [
        "l = [1,2,3,4,5]\n",
        "print(l[1])\n",
        "print(l[2])\n",
        "print(l[0])"
      ],
      "execution_count": 36,
      "outputs": [
        {
          "output_type": "stream",
          "text": [
            "2\n",
            "3\n",
            "1\n"
          ],
          "name": "stdout"
        }
      ]
    },
    {
      "cell_type": "markdown",
      "metadata": {
        "id": "yUjv3n9iEzZF",
        "colab_type": "text"
      },
      "source": [
        "# 연산자\n",
        "\n",
        "- +\n",
        "- -\n",
        "- *\n",
        "- /\n",
        "- %\n",
        "- //\n",
        "- **\n",
        "\n",
        "## 비교\n",
        "\n",
        "- ==\n",
        "- !=\n",
        "- >\n",
        "- <\n",
        "- >=\n",
        "- <=\n",
        "\n",
        "## 논리\n",
        "\n",
        "- and\n",
        "- or\n",
        "- not\n",
        "\n",
        "## 증감\n",
        "\n",
        "- +=\n",
        "- -=\n",
        "- *=\n",
        "- /=\n",
        "- %=\n",
        "- //=\n",
        "- **=\n",
        "\n"
      ]
    },
    {
      "cell_type": "code",
      "metadata": {
        "id": "TF1oNY-0Fmk7",
        "colab_type": "code",
        "colab": {
          "base_uri": "https://localhost:8080/",
          "height": 50
        },
        "outputId": "b6c23010-81d9-492e-b51c-bb38294c2575"
      },
      "source": [
        "print(1==1)\n",
        "print(1!=1)"
      ],
      "execution_count": 37,
      "outputs": [
        {
          "output_type": "stream",
          "text": [
            "True\n",
            "False\n"
          ],
          "name": "stdout"
        }
      ]
    },
    {
      "cell_type": "code",
      "metadata": {
        "id": "jg97LNHwFnI6",
        "colab_type": "code",
        "colab": {
          "base_uri": "https://localhost:8080/",
          "height": 50
        },
        "outputId": "af6ae05a-d0e2-42fb-86bc-f1b7ffa05302"
      },
      "source": [
        "result = (1==1)\n",
        "print(result)\n",
        "result = False\n",
        "print(result)"
      ],
      "execution_count": 38,
      "outputs": [
        {
          "output_type": "stream",
          "text": [
            "True\n",
            "False\n"
          ],
          "name": "stdout"
        }
      ]
    },
    {
      "cell_type": "code",
      "metadata": {
        "id": "m1M7TmpmFnGH",
        "colab_type": "code",
        "colab": {}
      },
      "source": [
        ""
      ],
      "execution_count": 0,
      "outputs": []
    },
    {
      "cell_type": "markdown",
      "metadata": {
        "id": "axFQj9XIGEub",
        "colab_type": "text"
      },
      "source": [
        "# for 루프"
      ]
    },
    {
      "cell_type": "code",
      "metadata": {
        "id": "QcRFZ8m8GGN_",
        "colab_type": "code",
        "colab": {
          "base_uri": "https://localhost:8080/",
          "height": 269
        },
        "outputId": "5066ab8c-cc3b-479f-d876-602e84fe3a9e"
      },
      "source": [
        "print(1*2)\n",
        "print(2*2)\n",
        "print(3*2)\n",
        "print(4*2)\n",
        "print(5*2)\n",
        "\n",
        "i=1\n",
        "print(i*2)\n",
        "i=2\n",
        "print(i*2)\n",
        "i=3\n",
        "print(i*2)\n",
        "i=4\n",
        "print(i*2)\n",
        "i=5\n",
        "print(i*2)\n",
        "\n",
        "for i in [1,2,3,4,5]:\n",
        "  print(i*2)\n",
        "\n"
      ],
      "execution_count": 39,
      "outputs": [
        {
          "output_type": "stream",
          "text": [
            "2\n",
            "4\n",
            "6\n",
            "8\n",
            "10\n",
            "2\n",
            "4\n",
            "6\n",
            "8\n",
            "10\n",
            "2\n",
            "4\n",
            "6\n",
            "8\n",
            "10\n"
          ],
          "name": "stdout"
        }
      ]
    },
    {
      "cell_type": "code",
      "metadata": {
        "id": "St-p7UfXGGoN",
        "colab_type": "code",
        "colab": {
          "base_uri": "https://localhost:8080/",
          "height": 101
        },
        "outputId": "b02e8b4e-a12c-4f5c-c4dd-04f184cde1fa"
      },
      "source": [
        "l = [1,2,3,4,5]\n",
        "\n",
        "for i in l:\n",
        "  print(i*2)"
      ],
      "execution_count": 40,
      "outputs": [
        {
          "output_type": "stream",
          "text": [
            "2\n",
            "4\n",
            "6\n",
            "8\n",
            "10\n"
          ],
          "name": "stdout"
        }
      ]
    },
    {
      "cell_type": "code",
      "metadata": {
        "id": "eSD1dF0BGGwT",
        "colab_type": "code",
        "colab": {
          "base_uri": "https://localhost:8080/",
          "height": 202
        },
        "outputId": "81bd025b-18a5-4368-a7cf-31632cfba763"
      },
      "source": [
        "l = list(range(5))\n",
        "print(l)\n",
        "\n",
        "for i in l:\n",
        "  print(i)\n",
        "  \n",
        "for i in range(5):\n",
        "  print(i)"
      ],
      "execution_count": 41,
      "outputs": [
        {
          "output_type": "stream",
          "text": [
            "[0, 1, 2, 3, 4]\n",
            "0\n",
            "1\n",
            "2\n",
            "3\n",
            "4\n",
            "0\n",
            "1\n",
            "2\n",
            "3\n",
            "4\n"
          ],
          "name": "stdout"
        }
      ]
    },
    {
      "cell_type": "code",
      "metadata": {
        "id": "XHt7x7amGGti",
        "colab_type": "code",
        "colab": {
          "base_uri": "https://localhost:8080/",
          "height": 101
        },
        "outputId": "7a767f1a-0a76-4a9d-9508-909807547df6"
      },
      "source": [
        "for i in range(5): # 0에서 5 바로 전 4까지. 5개\n",
        "  print(i)"
      ],
      "execution_count": 42,
      "outputs": [
        {
          "output_type": "stream",
          "text": [
            "0\n",
            "1\n",
            "2\n",
            "3\n",
            "4\n"
          ],
          "name": "stdout"
        }
      ]
    },
    {
      "cell_type": "code",
      "metadata": {
        "id": "G5y2ZB-oGGrJ",
        "colab_type": "code",
        "colab": {
          "base_uri": "https://localhost:8080/",
          "height": 336
        },
        "outputId": "73a39378-3768-49fc-95c9-11bada878272"
      },
      "source": [
        "for i in range(3): # 3번\n",
        "  print(i)\n",
        "  \n",
        "for i in range(6): # 6번\n",
        "  print(i)\n",
        "  \n",
        "for i in range(10): # 10번\n",
        "  print(i)"
      ],
      "execution_count": 43,
      "outputs": [
        {
          "output_type": "stream",
          "text": [
            "0\n",
            "1\n",
            "2\n",
            "0\n",
            "1\n",
            "2\n",
            "3\n",
            "4\n",
            "5\n",
            "0\n",
            "1\n",
            "2\n",
            "3\n",
            "4\n",
            "5\n",
            "6\n",
            "7\n",
            "8\n",
            "9\n"
          ],
          "name": "stdout"
        }
      ]
    },
    {
      "cell_type": "code",
      "metadata": {
        "id": "PEqv8vIZG_dL",
        "colab_type": "code",
        "colab": {
          "base_uri": "https://localhost:8080/",
          "height": 168
        },
        "outputId": "9d3ccfb6-ad20-4199-e1bf-2d537c0ebfc6"
      },
      "source": [
        "for i in range(1,6): # 1부터 6 바로전 5까지.\n",
        "  print(i)\n",
        "  \n",
        "for i in range(2,6): # 2부터 6 바로전 5까지.  \n",
        "  print(i)"
      ],
      "execution_count": 44,
      "outputs": [
        {
          "output_type": "stream",
          "text": [
            "1\n",
            "2\n",
            "3\n",
            "4\n",
            "5\n",
            "2\n",
            "3\n",
            "4\n",
            "5\n"
          ],
          "name": "stdout"
        }
      ]
    },
    {
      "cell_type": "code",
      "metadata": {
        "id": "QTh8xXc2HONc",
        "colab_type": "code",
        "colab": {
          "base_uri": "https://localhost:8080/",
          "height": 84
        },
        "outputId": "2e8c379b-6050-4f0e-be5e-6d84229b2018"
      },
      "source": [
        "for i in range(1,9,2): # 1부터 9바로전 8까지, 2스텝으로\n",
        "  print(i)"
      ],
      "execution_count": 45,
      "outputs": [
        {
          "output_type": "stream",
          "text": [
            "1\n",
            "3\n",
            "5\n",
            "7\n"
          ],
          "name": "stdout"
        }
      ]
    },
    {
      "cell_type": "code",
      "metadata": {
        "id": "EdQoFGFdHVJ6",
        "colab_type": "code",
        "colab": {
          "base_uri": "https://localhost:8080/",
          "height": 101
        },
        "outputId": "cdea1cc7-0591-4c2b-a56e-a54bc30307c6"
      },
      "source": [
        "for i in range(0,9,2): # 0부터 9바로전 8까지, 2스템으로\n",
        "  print(i)\n",
        "  "
      ],
      "execution_count": 46,
      "outputs": [
        {
          "output_type": "stream",
          "text": [
            "0\n",
            "2\n",
            "4\n",
            "6\n",
            "8\n"
          ],
          "name": "stdout"
        }
      ]
    },
    {
      "cell_type": "markdown",
      "metadata": {
        "id": "IciQlSu7I6la",
        "colab_type": "text"
      },
      "source": [
        "# Quiz\n",
        "\n",
        "100에서 200까지 중에서 7로 나누어 지고 5의 배수인 숫자들의 리스트\n",
        "\n"
      ]
    },
    {
      "cell_type": "code",
      "metadata": {
        "id": "mkl8x0rjJF_a",
        "colab_type": "code",
        "colab": {
          "base_uri": "https://localhost:8080/",
          "height": 34
        },
        "outputId": "3d61ebc9-0d8d-471a-9086-381c7365f665"
      },
      "source": [
        "# 1500에서 1700까지 숫자를 출력\n",
        "# list l을 정의하고\n",
        "# (7로 나누어 지고) && (5로 나누어지면) l에 추가\n",
        "\n",
        "l = []\n",
        "\n",
        "for i in range(100,200+1):\n",
        "  if (i%7 == 0) and (i%5 == 0):\n",
        "    l.append(i)\n",
        "  \n",
        "print(l)"
      ],
      "execution_count": 47,
      "outputs": [
        {
          "output_type": "stream",
          "text": [
            "[105, 140, 175]\n"
          ],
          "name": "stdout"
        }
      ]
    },
    {
      "cell_type": "markdown",
      "metadata": {
        "id": "kqtK4OnIJV0v",
        "colab_type": "text"
      },
      "source": [
        "# Quiz. \n",
        "\n",
        "다음을 출력\n",
        "\n",
        "```\n",
        "*\n",
        "**\n",
        "***\n",
        "****\n",
        "*****\n",
        "```"
      ]
    },
    {
      "cell_type": "code",
      "metadata": {
        "id": "BqTHSG62JgK9",
        "colab_type": "code",
        "colab": {
          "base_uri": "https://localhost:8080/",
          "height": 269
        },
        "outputId": "7e7e2edc-c917-40ad-b217-4eb174d33f48"
      },
      "source": [
        "# 첫줄엔 1, 둣째 줄엔 2, 셋째줄에 3, 이렇게 5줄 출력\n",
        "\n",
        "for i in range(1,6):\n",
        "  print(i)\n",
        "  \n",
        "# i에 담긴 숫자만큼 별을 직는다.\n",
        "i = 1\n",
        "for j in range(i):\n",
        "  print(\"*\", end='')\n",
        "print()\n",
        "\n",
        "i = 2\n",
        "for j in range(i):\n",
        "  print(\"*\", end='')\n",
        "print()\n",
        "\n",
        "\n",
        "i = 3\n",
        "for j in range(i):\n",
        "  print(\"*\", end='')\n",
        "print()\n",
        "\n",
        "\n",
        "i = 4\n",
        "for j in range(i):\n",
        "  print(\"*\", end='')\n",
        "print()\n",
        "\n",
        "\n",
        "i = 5\n",
        "for j in range(i):\n",
        "  print(\"*\", end='')\n",
        "print()\n",
        "\n",
        "for i in range(1,6):\n",
        "  for j in range(i):\n",
        "    print(\"*\", end='')\n",
        "  print()"
      ],
      "execution_count": 48,
      "outputs": [
        {
          "output_type": "stream",
          "text": [
            "1\n",
            "2\n",
            "3\n",
            "4\n",
            "5\n",
            "*\n",
            "**\n",
            "***\n",
            "****\n",
            "*****\n",
            "*\n",
            "**\n",
            "***\n",
            "****\n",
            "*****\n"
          ],
          "name": "stdout"
        }
      ]
    },
    {
      "cell_type": "markdown",
      "metadata": {
        "id": "wBvMpmxyJuSe",
        "colab_type": "text"
      },
      "source": [
        "# Quiz\n",
        "\n",
        "[1,2,3,4,5,6,7,8,0]에서 짝수의 갯수, 홀수의 갯수"
      ]
    },
    {
      "cell_type": "code",
      "metadata": {
        "id": "bRnB8yFxJsvO",
        "colab_type": "code",
        "colab": {
          "base_uri": "https://localhost:8080/",
          "height": 50
        },
        "outputId": "cb2888a7-2d49-4cb2-bd73-e99ece039e3a"
      },
      "source": [
        "# event_count과 odd_count를 0으로 선언\n",
        "# 1~9 반복\n",
        "# 짝수면 even_count를 1 증가, 아니면 odd_count를 1 증가\n",
        "\n",
        "even_count = 0\n",
        "odd_count = 0\n",
        "\n",
        "for i in range(1,10):\n",
        "  if i%2==0:\n",
        "    even_count += 1\n",
        "  else:\n",
        "    odd_count += 1\n",
        "    \n",
        "print(even_count)\n",
        "print(odd_count)"
      ],
      "execution_count": 49,
      "outputs": [
        {
          "output_type": "stream",
          "text": [
            "4\n",
            "5\n"
          ],
          "name": "stdout"
        }
      ]
    },
    {
      "cell_type": "markdown",
      "metadata": {
        "id": "NvAOczD2J7J1",
        "colab_type": "text"
      },
      "source": [
        "# Quiz\n",
        "\n",
        "\"Python 3.7\"에서 알파벳의 갯수와 숫자의 갯수"
      ]
    },
    {
      "cell_type": "code",
      "metadata": {
        "id": "hnbLigWzJ5Qi",
        "colab_type": "code",
        "colab": {
          "base_uri": "https://localhost:8080/",
          "height": 50
        },
        "outputId": "e3442179-256f-478b-82dd-e24e24958aef"
      },
      "source": [
        "# letter_count, digit_count를 0으로 선언하고\n",
        "# \"Python 3.2\"의 각 char마다 루프\n",
        "# 각 char이 letter이면 letter_count를 1 증가, 숫자이면 digit_count를 1 증가\n",
        "\n",
        "letter_count = 0\n",
        "digit_count = 0\n",
        "\n",
        "import string\n",
        "\n",
        "letter_list = string.ascii_letters # 'abcdefghijklmnopqrstuvwxyzABCDEFGHIJKLMNOPQRSTUVWXYZ'\n",
        "digit_list = string.digits # '0123456789'\n",
        "\n",
        "for i in 'Python 3.7':\n",
        "  \n",
        "  if i in letter_list:\n",
        "    letter_count += 1\n",
        "  if i in digit_list:\n",
        "    digit_count += 1\n",
        "    \n",
        "print(letter_count)\n",
        "print(digit_count)"
      ],
      "execution_count": 50,
      "outputs": [
        {
          "output_type": "stream",
          "text": [
            "6\n",
            "2\n"
          ],
          "name": "stdout"
        }
      ]
    },
    {
      "cell_type": "code",
      "metadata": {
        "id": "9fnWXH6SKEz0",
        "colab_type": "code",
        "colab": {
          "base_uri": "https://localhost:8080/",
          "height": 87
        },
        "outputId": "ba2917a3-dfb8-40bf-c8d8-18ff40fad5aa"
      },
      "source": [
        "import string\n",
        "\n",
        "print(dir(string))\n",
        "print(string.ascii_letters)\n",
        "print(string.digits)"
      ],
      "execution_count": 51,
      "outputs": [
        {
          "output_type": "stream",
          "text": [
            "['Formatter', 'Template', '_ChainMap', '_TemplateMetaclass', '__all__', '__builtins__', '__cached__', '__doc__', '__file__', '__loader__', '__name__', '__package__', '__spec__', '_re', '_string', 'ascii_letters', 'ascii_lowercase', 'ascii_uppercase', 'capwords', 'digits', 'hexdigits', 'octdigits', 'printable', 'punctuation', 'whitespace']\n",
            "abcdefghijklmnopqrstuvwxyzABCDEFGHIJKLMNOPQRSTUVWXYZ\n",
            "0123456789\n"
          ],
          "name": "stdout"
        }
      ]
    },
    {
      "cell_type": "markdown",
      "metadata": {
        "id": "HdQMycUnHsGM",
        "colab_type": "text"
      },
      "source": [
        "# 조건문"
      ]
    },
    {
      "cell_type": "code",
      "metadata": {
        "id": "GweZ0byMHawr",
        "colab_type": "code",
        "colab": {
          "base_uri": "https://localhost:8080/",
          "height": 34
        },
        "outputId": "683263d2-cce5-4e4f-842f-1182d2368f0f"
      },
      "source": [
        "temp = 30\n",
        "if temp<10:\n",
        "  print(\"cold\")\n",
        "else:\n",
        "  print(\"good\")"
      ],
      "execution_count": 52,
      "outputs": [
        {
          "output_type": "stream",
          "text": [
            "good\n"
          ],
          "name": "stdout"
        }
      ]
    },
    {
      "cell_type": "code",
      "metadata": {
        "id": "g1dWokZQHt0G",
        "colab_type": "code",
        "colab": {
          "base_uri": "https://localhost:8080/",
          "height": 34
        },
        "outputId": "b7f66dd6-3544-4b32-ded6-80fbe97b13a9"
      },
      "source": [
        "temp = 30\n",
        "if temp<10:\n",
        "  print(\"cold\")\n",
        "elif temp<20:\n",
        "  print(\"good\")\n",
        "else:\n",
        "  print(\"hot\")"
      ],
      "execution_count": 53,
      "outputs": [
        {
          "output_type": "stream",
          "text": [
            "hot\n"
          ],
          "name": "stdout"
        }
      ]
    },
    {
      "cell_type": "code",
      "metadata": {
        "id": "kRwHJ3xvHt5U",
        "colab_type": "code",
        "colab": {
          "base_uri": "https://localhost:8080/",
          "height": 34
        },
        "outputId": "fa4e26a3-b689-42e1-808a-2cb81f57f10f"
      },
      "source": [
        "l = [1,2,3,4,5]\n",
        "if 3 in l:\n",
        "  print(\"exist\")\n",
        "else:\n",
        "  print(\"not exist\")"
      ],
      "execution_count": 54,
      "outputs": [
        {
          "output_type": "stream",
          "text": [
            "exist\n"
          ],
          "name": "stdout"
        }
      ]
    },
    {
      "cell_type": "code",
      "metadata": {
        "id": "H034KnkTHt8_",
        "colab_type": "code",
        "colab": {
          "base_uri": "https://localhost:8080/",
          "height": 34
        },
        "outputId": "a20ebb50-4530-4420-a123-7cb8f5d7898d"
      },
      "source": [
        "l = [1,2,3,4,5]\n",
        "if not 3 in l:\n",
        "  print(\"not exist\")\n",
        "else:\n",
        "  print(\"exist\")"
      ],
      "execution_count": 55,
      "outputs": [
        {
          "output_type": "stream",
          "text": [
            "exist\n"
          ],
          "name": "stdout"
        }
      ]
    },
    {
      "cell_type": "markdown",
      "metadata": {
        "id": "qKb0-PR6--ay",
        "colab_type": "text"
      },
      "source": [
        "# Comprehisive List"
      ]
    },
    {
      "cell_type": "code",
      "metadata": {
        "id": "wpmomkQ8_B9R",
        "colab_type": "code",
        "colab": {
          "base_uri": "https://localhost:8080/",
          "height": 67
        },
        "outputId": "1526ef36-922f-49f6-efb5-af660eb8d483"
      },
      "source": [
        "l = [1,2,3,4,5]\n",
        "print(l)\n",
        "\n",
        "l2 = []\n",
        "for i in l:\n",
        "  l2.append(i*2)\n",
        "  \n",
        "print(l2)\n",
        "\n",
        "l2 = [ i*2 for i in l ]\n",
        "print(l2)"
      ],
      "execution_count": 56,
      "outputs": [
        {
          "output_type": "stream",
          "text": [
            "[1, 2, 3, 4, 5]\n",
            "[2, 4, 6, 8, 10]\n",
            "[2, 4, 6, 8, 10]\n"
          ],
          "name": "stdout"
        }
      ]
    },
    {
      "cell_type": "code",
      "metadata": {
        "id": "QsbcolS4_bnJ",
        "colab_type": "code",
        "colab": {
          "base_uri": "https://localhost:8080/",
          "height": 50
        },
        "outputId": "bf88f7c8-20d9-466a-84e5-15769e933ffe"
      },
      "source": [
        "l = [1,2,3,4,5]\n",
        "\n",
        "l2 = []\n",
        "for i in l:\n",
        "  if i%2==0:\n",
        "    l2.append(i)\n",
        "print(l2)\n",
        "\n",
        "l2 = [ i for i in l if i%2==0 ]\n",
        "print(l2)"
      ],
      "execution_count": 57,
      "outputs": [
        {
          "output_type": "stream",
          "text": [
            "[2, 4]\n",
            "[2, 4]\n"
          ],
          "name": "stdout"
        }
      ]
    },
    {
      "cell_type": "code",
      "metadata": {
        "id": "7CxqXzaN_wle",
        "colab_type": "code",
        "colab": {
          "base_uri": "https://localhost:8080/",
          "height": 84
        },
        "outputId": "5272b61d-2346-4561-c39c-b3b6a284eda2"
      },
      "source": [
        "l1 = [1,2,3,4,5]\n",
        "\n",
        "print(l1)\n",
        "\n",
        "l2 = [ i*2 for i in l1 ]\n",
        "print(l2)\n",
        "l3 = [ i**2 for i in l2 ]\n",
        "print(l3)\n",
        "\n",
        "\n",
        "l3 = [ i**2 for i in [ i*2 for i in l1] ]\n",
        "print(l3)"
      ],
      "execution_count": 58,
      "outputs": [
        {
          "output_type": "stream",
          "text": [
            "[1, 2, 3, 4, 5]\n",
            "[2, 4, 6, 8, 10]\n",
            "[4, 16, 36, 64, 100]\n",
            "[4, 16, 36, 64, 100]\n"
          ],
          "name": "stdout"
        }
      ]
    },
    {
      "cell_type": "markdown",
      "metadata": {
        "id": "3ezMZz4CIaQb",
        "colab_type": "text"
      },
      "source": [
        "# 타입"
      ]
    },
    {
      "cell_type": "code",
      "metadata": {
        "id": "SJxe7njAIbpR",
        "colab_type": "code",
        "colab": {
          "base_uri": "https://localhost:8080/",
          "height": 118
        },
        "outputId": "03c2d889-700a-463d-955c-59ef8da365b8"
      },
      "source": [
        "print(type( 1 ))\n",
        "print(type( 1.0 ))\n",
        "print(type( \"hi\" ))\n",
        "print(type( 1==1 ))\n",
        "print(type( [1,2,3,4,5] ))\n",
        "print(type( {\"a\":1, \"b\":2 }))\n"
      ],
      "execution_count": 59,
      "outputs": [
        {
          "output_type": "stream",
          "text": [
            "<class 'int'>\n",
            "<class 'float'>\n",
            "<class 'str'>\n",
            "<class 'bool'>\n",
            "<class 'list'>\n",
            "<class 'dict'>\n"
          ],
          "name": "stdout"
        }
      ]
    },
    {
      "cell_type": "markdown",
      "metadata": {
        "id": "QrAkhx1FKL3r",
        "colab_type": "text"
      },
      "source": [
        "# 내장 함수\n",
        "\n",
        "## str(), int(), float()"
      ]
    },
    {
      "cell_type": "code",
      "metadata": {
        "id": "Z9hq-SvJIcoj",
        "colab_type": "code",
        "colab": {
          "base_uri": "https://localhost:8080/",
          "height": 101
        },
        "outputId": "f04a7a8b-abb1-4163-d768-5ede62485bfc"
      },
      "source": [
        "v = 3\n",
        "hi = \"hi\"\n",
        "\n",
        "print(v+5)\n",
        "print(hi +\" hello\")\n",
        "\n",
        "print(hi + str(v)) # 'hi3'\n",
        "\n",
        "print(int(v)+3) # 6\n",
        "\n",
        "print(float('3.5')+3) # 3.5+3 -> 6.5"
      ],
      "execution_count": 60,
      "outputs": [
        {
          "output_type": "stream",
          "text": [
            "8\n",
            "hi hello\n",
            "hi3\n",
            "6\n",
            "6.5\n"
          ],
          "name": "stdout"
        }
      ]
    },
    {
      "cell_type": "markdown",
      "metadata": {
        "id": "VLPBiQuxL4TK",
        "colab_type": "text"
      },
      "source": [
        "## list(), set()"
      ]
    },
    {
      "cell_type": "code",
      "metadata": {
        "id": "6k9rl3EuIciP",
        "colab_type": "code",
        "colab": {
          "base_uri": "https://localhost:8080/",
          "height": 84
        },
        "outputId": "605b5431-7f9f-4bdf-b5d1-d627a6ce7295"
      },
      "source": [
        "l = list()\n",
        "l.append(1)\n",
        "l.append(1)\n",
        "l.append(2)\n",
        "print(l)\n",
        "\n",
        "s = set()\n",
        "s.add(1)\n",
        "s.add(1)\n",
        "s.add(2)\n",
        "print(s)\n",
        "\n",
        "new_set = set(l)\n",
        "print(new_set)\n",
        "\n",
        "new_list = list(s)\n",
        "print(new_list)"
      ],
      "execution_count": 61,
      "outputs": [
        {
          "output_type": "stream",
          "text": [
            "[1, 1, 2]\n",
            "{1, 2}\n",
            "{1, 2}\n",
            "[1, 2]\n"
          ],
          "name": "stdout"
        }
      ]
    },
    {
      "cell_type": "code",
      "metadata": {
        "id": "TvJI9d57Ly7O",
        "colab_type": "code",
        "colab": {}
      },
      "source": [
        ""
      ],
      "execution_count": 0,
      "outputs": []
    },
    {
      "cell_type": "markdown",
      "metadata": {
        "id": "6sxFZai3MI0s",
        "colab_type": "text"
      },
      "source": [
        "# 2차원 리스트"
      ]
    },
    {
      "cell_type": "code",
      "metadata": {
        "id": "VYbQ-QpmMMbl",
        "colab_type": "code",
        "colab": {
          "base_uri": "https://localhost:8080/",
          "height": 67
        },
        "outputId": "07df9e27-27f4-4e4f-fc51-22fc1c7d2f9a"
      },
      "source": [
        "l = [ \n",
        "      [1,2,3],\n",
        "      [4,5,6],\n",
        "      [7,8,9],\n",
        "      [10,11,12]\n",
        "    ]\n",
        "\n",
        "print(l)\n",
        "print(l[0])\n",
        "print(l[0][0])"
      ],
      "execution_count": 62,
      "outputs": [
        {
          "output_type": "stream",
          "text": [
            "[[1, 2, 3], [4, 5, 6], [7, 8, 9], [10, 11, 12]]\n",
            "[1, 2, 3]\n",
            "1\n"
          ],
          "name": "stdout"
        }
      ]
    },
    {
      "cell_type": "markdown",
      "metadata": {
        "id": "TAuaQyxEMP94",
        "colab_type": "text"
      },
      "source": [
        "# Quiz\n",
        "\n",
        "['abc', 'xyz', 'aba', '1221'] 에서 길이가 2보다 크고, 맨앞과 맨끝 글자가 같은것"
      ]
    },
    {
      "cell_type": "code",
      "metadata": {
        "id": "jAalsCSgMNG-",
        "colab_type": "code",
        "colab": {
          "base_uri": "https://localhost:8080/",
          "height": 34
        },
        "outputId": "10cc7f0f-3716-44cd-9834-9d7028232c4b"
      },
      "source": [
        "# 리스트 항목 마다 루프돌면서\n",
        "# 문자열의 길이를 체크\n",
        "# 문자열 첫번재와 마지막 같음 비교\n",
        "# 2가지 모두 만족하면 카우트 증가\n",
        "\n",
        "l =  ['abc', 'xyz', 'aba', '1221']\n",
        "count = 0\n",
        "\n",
        "for i in l:\n",
        "  if len(i)>2 and i[0]==i[-1]:\n",
        "    count += 1\n",
        "\n",
        "print(count)"
      ],
      "execution_count": 63,
      "outputs": [
        {
          "output_type": "stream",
          "text": [
            "2\n"
          ],
          "name": "stdout"
        }
      ]
    },
    {
      "cell_type": "markdown",
      "metadata": {
        "id": "r8Z-K_yxMc14",
        "colab_type": "text"
      },
      "source": [
        "# Quiz\n",
        "\n",
        "[1,2,3, [1,2],4,5] 가 list를 포함하고 있는지 여부"
      ]
    },
    {
      "cell_type": "code",
      "metadata": {
        "id": "rrPB_ULVMPOx",
        "colab_type": "code",
        "colab": {
          "base_uri": "https://localhost:8080/",
          "height": 101
        },
        "outputId": "9629773a-8ac4-418a-abdd-ad202ed4f33f"
      },
      "source": [
        "l = [1,2,3, [1,2],4,5]\n",
        "\n",
        "# 각 항목마다 루프\n",
        "# 타입이 list인지 체크\n",
        "\n",
        "has_list = False\n",
        "for i in l:\n",
        "  print(i)\n",
        "  if type(i) is list:\n",
        "    has_list = True\n",
        "    break\n",
        "    \n",
        "print(has_list)"
      ],
      "execution_count": 64,
      "outputs": [
        {
          "output_type": "stream",
          "text": [
            "1\n",
            "2\n",
            "3\n",
            "[1, 2]\n",
            "True\n"
          ],
          "name": "stdout"
        }
      ]
    },
    {
      "cell_type": "markdown",
      "metadata": {
        "id": "PRGJvr1CMumk",
        "colab_type": "text"
      },
      "source": [
        "# Quiz\n",
        "\n",
        "리스트 ['p','q']를 가지고 다음을 생성\n",
        "\n",
        "\n",
        "['p1', 'q1', 'p2', 'q2', 'p3', 'q3', 'p4', 'q4', 'p5', 'q5']"
      ]
    },
    {
      "cell_type": "code",
      "metadata": {
        "id": "uSyRAKTZMcCQ",
        "colab_type": "code",
        "colab": {
          "base_uri": "https://localhost:8080/",
          "height": 34
        },
        "outputId": "7c07881c-360d-493c-cb10-c16528d10155"
      },
      "source": [
        "# 빈 결과 리스트 생성\n",
        "# 1~5까지 루프\n",
        "# 각 list 항목 마다 숫자를 추가해서 결과 리스트에 추가\n",
        "\n",
        "source = ['p','q']\n",
        "result = []\n",
        "\n",
        "for i in range(1,6):\n",
        "  for j in source:\n",
        "    result.append(j+str(i))\n",
        "    \n",
        "print(result)"
      ],
      "execution_count": 65,
      "outputs": [
        {
          "output_type": "stream",
          "text": [
            "['p1', 'q1', 'p2', 'q2', 'p3', 'q3', 'p4', 'q4', 'p5', 'q5']\n"
          ],
          "name": "stdout"
        }
      ]
    },
    {
      "cell_type": "code",
      "metadata": {
        "id": "TQ3zAt70MkwV",
        "colab_type": "code",
        "colab": {}
      },
      "source": [
        ""
      ],
      "execution_count": 0,
      "outputs": []
    },
    {
      "cell_type": "markdown",
      "metadata": {
        "id": "Qt54Mofes2Zx",
        "colab_type": "text"
      },
      "source": [
        "# 함수"
      ]
    },
    {
      "cell_type": "code",
      "metadata": {
        "id": "wtPHcsYRs4LI",
        "colab_type": "code",
        "colab": {
          "base_uri": "https://localhost:8080/",
          "height": 50
        },
        "outputId": "5e04c55c-b0fa-45c6-d253-272303a40c59"
      },
      "source": [
        "print(\"hi\")\n",
        "\n",
        "print(len(\"hi\"))"
      ],
      "execution_count": 68,
      "outputs": [
        {
          "output_type": "stream",
          "text": [
            "hi\n",
            "2\n"
          ],
          "name": "stdout"
        }
      ]
    },
    {
      "cell_type": "code",
      "metadata": {
        "id": "W_Vayuecybhx",
        "colab_type": "code",
        "colab": {
          "base_uri": "https://localhost:8080/",
          "height": 84
        },
        "outputId": "0f0dd5dc-fd86-441e-8a06-42d4dd95d687"
      },
      "source": [
        "l = [1,2,3,4,5]\n",
        "\n",
        "sum = 0\n",
        "for i in l:\n",
        "  sum += i\n",
        "  \n",
        "print(sum) \n",
        "\n",
        "k = [6,7,8,9,10]\n",
        "sum = 0\n",
        "for i in k:\n",
        "  sum += i\n",
        "print(sum)\n",
        "\n",
        "  \n",
        "\n",
        "def my_sum(list):\n",
        "  sum = 0\n",
        "  for i in list:\n",
        "    sum += i\n",
        "  return sum\n",
        "\n",
        "\n",
        "print(my_sum(l))\n",
        "print(my_sum(k))\n"
      ],
      "execution_count": 78,
      "outputs": [
        {
          "output_type": "stream",
          "text": [
            "15\n",
            "40\n",
            "15\n",
            "40\n"
          ],
          "name": "stdout"
        }
      ]
    },
    {
      "cell_type": "code",
      "metadata": {
        "id": "dSbaV3nUs8Yz",
        "colab_type": "code",
        "colab": {
          "base_uri": "https://localhost:8080/",
          "height": 84
        },
        "outputId": "f6d93a58-ec00-444d-850c-02e2122b12cb"
      },
      "source": [
        "l = [1,2,3,4,5]\n",
        "\n",
        "for i in l:\n",
        "  if i%2==0: # 짝수이면\n",
        "    print(i)\n",
        "    \n",
        "    \n",
        "def is_even(v):\n",
        "  return (i%2==0)\n",
        "\n",
        "for i in l:\n",
        "  if is_even(i):\n",
        "    print(i)"
      ],
      "execution_count": 71,
      "outputs": [
        {
          "output_type": "stream",
          "text": [
            "2\n",
            "4\n",
            "2\n",
            "4\n"
          ],
          "name": "stdout"
        }
      ]
    },
    {
      "cell_type": "code",
      "metadata": {
        "id": "ceLj3FSwxsCm",
        "colab_type": "code",
        "colab": {
          "base_uri": "https://localhost:8080/",
          "height": 353
        },
        "outputId": "2160cd01-ff52-46ad-a59c-1391317eb223"
      },
      "source": [
        "for i in range(1,6):\n",
        "  for j in range(i):\n",
        "    print(\"*\", end='')\n",
        "  print()\n",
        "  \n",
        "for i in range(5,0,-1):\n",
        "  for j in range(i):\n",
        "    print(\"*\", end='')\n",
        "  print()\n",
        "  \n",
        "  \n",
        "  \n",
        "  \n",
        "def print_star_of_length(length):\n",
        "  for j in range(length):\n",
        "    print(\"*\", end='')\n",
        "  print()\n",
        "  \n",
        "  \n",
        "for i in range(1,6):\n",
        "  print_star_of_length(i)\n",
        "  \n",
        "for i in range(5,0,-1):\n",
        "  print_star_of_length(i)\n",
        "  "
      ],
      "execution_count": 74,
      "outputs": [
        {
          "output_type": "stream",
          "text": [
            "*\n",
            "**\n",
            "***\n",
            "****\n",
            "*****\n",
            "*****\n",
            "****\n",
            "***\n",
            "**\n",
            "*\n",
            "*\n",
            "**\n",
            "***\n",
            "****\n",
            "*****\n",
            "*****\n",
            "****\n",
            "***\n",
            "**\n",
            "*\n"
          ],
          "name": "stdout"
        }
      ]
    },
    {
      "cell_type": "code",
      "metadata": {
        "id": "QInS-QyayIEZ",
        "colab_type": "code",
        "colab": {
          "base_uri": "https://localhost:8080/",
          "height": 34
        },
        "outputId": "2ebb9c53-453f-4eee-e069-a2bab4572a23"
      },
      "source": [
        "def my_sum2(a, b):\n",
        "  return a+b\n",
        "\n",
        "print(my_sum2(1,2))\n"
      ],
      "execution_count": 79,
      "outputs": [
        {
          "output_type": "stream",
          "text": [
            "3\n"
          ],
          "name": "stdout"
        }
      ]
    },
    {
      "cell_type": "code",
      "metadata": {
        "id": "s-E7wManzZZj",
        "colab_type": "code",
        "colab": {
          "base_uri": "https://localhost:8080/",
          "height": 151
        },
        "outputId": "aae1bcd0-9cc3-441d-b1f6-6c1c69b656cd"
      },
      "source": [
        "print(\"{} + {} = {}\".format(1,2,(1+2)))\n",
        "print(\"{} + {} = {}\".format(1,5,(1+5)))\n",
        "print(\"{} + {} = {}\".format(5,2,(5+2)))\n",
        "print(\"{} + {} = {}\".format(11,12,(11+12)))\n",
        "\n",
        "\n",
        "def print_sum(a,b):\n",
        "  print(\"{} + {} = {}\".format(a,b,(a+b)))\n",
        "\n",
        "print_sum(1,2)\n",
        "print_sum(1,5)\n",
        "print_sum(5,2)\n",
        "print_sum(11,12)\n"
      ],
      "execution_count": 84,
      "outputs": [
        {
          "output_type": "stream",
          "text": [
            "1 + 2 = 3\n",
            "1 + 5 = 6\n",
            "5 + 2 = 7\n",
            "11 + 12 = 23\n",
            "1 + 2 = 3\n",
            "1 + 5 = 6\n",
            "5 + 2 = 7\n",
            "11 + 12 = 23\n"
          ],
          "name": "stdout"
        }
      ]
    },
    {
      "cell_type": "code",
      "metadata": {
        "id": "-6pCsYElzyY-",
        "colab_type": "code",
        "colab": {
          "base_uri": "https://localhost:8080/",
          "height": 118
        },
        "outputId": "9fead93b-b881-4661-c0a0-31f23443acae"
      },
      "source": [
        "def nsquare(x, n):\n",
        "  return x**n\n",
        "\n",
        "print(nsquare(2,2))\n",
        "print(nsquare(2,3))\n",
        "print(nsquare(2,4))\n",
        "\n",
        "def nsquare2(x, n=2):\n",
        "  return x**n\n",
        "\n",
        "print(nsquare2(2))\n",
        "print(nsquare2(2,3))\n",
        "print(nsquare2(2,4))\n"
      ],
      "execution_count": 87,
      "outputs": [
        {
          "output_type": "stream",
          "text": [
            "4\n",
            "8\n",
            "16\n",
            "4\n",
            "8\n",
            "16\n"
          ],
          "name": "stdout"
        }
      ]
    },
    {
      "cell_type": "code",
      "metadata": {
        "id": "Gok7NVvT0l20",
        "colab_type": "code",
        "colab": {
          "base_uri": "https://localhost:8080/",
          "height": 84
        },
        "outputId": "8eab0507-eef6-4de8-ff16-c946791353e9"
      },
      "source": [
        "def print_list(list, seperator=\",\", with_parenthesis=True):\n",
        "  string = seperator.join(str(x) for x in list)\n",
        "  if with_parenthesis:\n",
        "    string = \"[\"+string+\"]\"\n",
        "  print(string)\n",
        "  \n",
        "  \n",
        "l = [1,2,3,4,5]  \n",
        "print_list(l)  \n",
        "print_list(l, '|')\n",
        "print_list(l, with_parenthesis=False)\n",
        "print_list(l, with_parenthesis=False, seperator='|')\n",
        "\n",
        "  "
      ],
      "execution_count": 94,
      "outputs": [
        {
          "output_type": "stream",
          "text": [
            "[1,2,3,4,5]\n",
            "[1|2|3|4|5]\n",
            "1,2,3,4,5\n",
            "1|2|3|4|5\n"
          ],
          "name": "stdout"
        }
      ]
    },
    {
      "cell_type": "code",
      "metadata": {
        "id": "MhXGOB7b1Yez",
        "colab_type": "code",
        "colab": {
          "base_uri": "https://localhost:8080/",
          "height": 84
        },
        "outputId": "2abc734d-9b63-4026-e1d2-00e43a9aa3e0"
      },
      "source": [
        "def div_and_mod(a,b):\n",
        "  div = a//b\n",
        "  mod = a%b\n",
        "  return div, mod\n",
        "\n",
        "def div_and_mod2(a,b):\n",
        "  div = a//b\n",
        "  mod = a%b\n",
        "  return div, mod\n",
        "\n",
        "d, m = div_and_mod(7,3)\n",
        "print(d,m)\n",
        "\n",
        "(d, m) = div_and_mod(7,3)\n",
        "print(d,m)\n",
        "\n",
        "d, m = div_and_mod2(7,3)\n",
        "print(d,m)\n",
        "\n",
        "(d, m) = div_and_mod2(7,3)\n",
        "print(d,m)\n"
      ],
      "execution_count": 100,
      "outputs": [
        {
          "output_type": "stream",
          "text": [
            "2 1\n",
            "2 1\n",
            "2 1\n",
            "2 1\n"
          ],
          "name": "stdout"
        }
      ]
    },
    {
      "cell_type": "code",
      "metadata": {
        "id": "xe-gWtHN21l4",
        "colab_type": "code",
        "colab": {
          "base_uri": "https://localhost:8080/",
          "height": 297
        },
        "outputId": "956cd46f-012c-4874-9cb0-20f077ffb017"
      },
      "source": [
        "def div_and_mod(a,b):\n",
        "  div = a//b\n",
        "  mod = a%b\n",
        "  return div, mod\n",
        "\n",
        "d = div_and_mod(7,3)\n",
        "print(type(d))\n",
        "print(d)\n"
      ],
      "execution_count": 105,
      "outputs": [
        {
          "output_type": "stream",
          "text": [
            "<class 'tuple'>\n",
            "(2, 1)\n",
            "<class 'int'>\n",
            "2\n"
          ],
          "name": "stdout"
        },
        {
          "output_type": "error",
          "ename": "ValueError",
          "evalue": "ignored",
          "traceback": [
            "\u001b[0;31m---------------------------------------------------------------------------\u001b[0m",
            "\u001b[0;31mValueError\u001b[0m                                Traceback (most recent call last)",
            "\u001b[0;32m<ipython-input-105-87a6bd4b8577>\u001b[0m in \u001b[0;36m<module>\u001b[0;34m()\u001b[0m\n\u001b[1;32m     12\u001b[0m \u001b[0mprint\u001b[0m\u001b[0;34m(\u001b[0m\u001b[0md\u001b[0m\u001b[0;34m)\u001b[0m\u001b[0;34m\u001b[0m\u001b[0;34m\u001b[0m\u001b[0m\n\u001b[1;32m     13\u001b[0m \u001b[0;34m\u001b[0m\u001b[0m\n\u001b[0;32m---> 14\u001b[0;31m \u001b[0md\u001b[0m\u001b[0;34m,\u001b[0m  \u001b[0;34m=\u001b[0m \u001b[0mdiv_and_mod\u001b[0m\u001b[0;34m(\u001b[0m\u001b[0;36m7\u001b[0m\u001b[0;34m,\u001b[0m\u001b[0;36m3\u001b[0m\u001b[0;34m)\u001b[0m\u001b[0;34m\u001b[0m\u001b[0;34m\u001b[0m\u001b[0m\n\u001b[0m\u001b[1;32m     15\u001b[0m \u001b[0mprint\u001b[0m\u001b[0;34m(\u001b[0m\u001b[0mtype\u001b[0m\u001b[0;34m(\u001b[0m\u001b[0md\u001b[0m\u001b[0;34m)\u001b[0m\u001b[0;34m)\u001b[0m\u001b[0;34m\u001b[0m\u001b[0;34m\u001b[0m\u001b[0m\n\u001b[1;32m     16\u001b[0m \u001b[0mprint\u001b[0m\u001b[0;34m(\u001b[0m\u001b[0md\u001b[0m\u001b[0;34m)\u001b[0m\u001b[0;34m\u001b[0m\u001b[0;34m\u001b[0m\u001b[0m\n",
            "\u001b[0;31mValueError\u001b[0m: too many values to unpack (expected 1)"
          ]
        }
      ]
    },
    {
      "cell_type": "code",
      "metadata": {
        "id": "3ejz8If83Vhp",
        "colab_type": "code",
        "colab": {
          "base_uri": "https://localhost:8080/",
          "height": 213
        },
        "outputId": "bb9e87dc-54c4-4807-b6b9-39e04b3235f1"
      },
      "source": [
        "def div_and_mod(a,b):\n",
        "  div = a//b\n",
        "  mod = a%b\n",
        "  return div, mod\n",
        "\n",
        "d,  = div_and_mod(7,3)\n",
        "print(d)"
      ],
      "execution_count": 107,
      "outputs": [
        {
          "output_type": "error",
          "ename": "ValueError",
          "evalue": "ignored",
          "traceback": [
            "\u001b[0;31m---------------------------------------------------------------------------\u001b[0m",
            "\u001b[0;31mValueError\u001b[0m                                Traceback (most recent call last)",
            "\u001b[0;32m<ipython-input-107-a76c524c2269>\u001b[0m in \u001b[0;36m<module>\u001b[0;34m()\u001b[0m\n\u001b[1;32m      4\u001b[0m   \u001b[0;32mreturn\u001b[0m \u001b[0mdiv\u001b[0m\u001b[0;34m,\u001b[0m \u001b[0mmod\u001b[0m\u001b[0;34m\u001b[0m\u001b[0;34m\u001b[0m\u001b[0m\n\u001b[1;32m      5\u001b[0m \u001b[0;34m\u001b[0m\u001b[0m\n\u001b[0;32m----> 6\u001b[0;31m \u001b[0md\u001b[0m\u001b[0;34m,\u001b[0m  \u001b[0;34m=\u001b[0m \u001b[0mdiv_and_mod\u001b[0m\u001b[0;34m(\u001b[0m\u001b[0;36m7\u001b[0m\u001b[0;34m,\u001b[0m\u001b[0;36m3\u001b[0m\u001b[0;34m)\u001b[0m\u001b[0;34m\u001b[0m\u001b[0;34m\u001b[0m\u001b[0m\n\u001b[0m\u001b[1;32m      7\u001b[0m \u001b[0mprint\u001b[0m\u001b[0;34m(\u001b[0m\u001b[0md\u001b[0m\u001b[0;34m)\u001b[0m\u001b[0;34m\u001b[0m\u001b[0;34m\u001b[0m\u001b[0m\n",
            "\u001b[0;31mValueError\u001b[0m: too many values to unpack (expected 1)"
          ]
        }
      ]
    },
    {
      "cell_type": "code",
      "metadata": {
        "id": "kKwWKzz33pUs",
        "colab_type": "code",
        "colab": {
          "base_uri": "https://localhost:8080/",
          "height": 34
        },
        "outputId": "16824d9f-86e2-4adc-9f52-791bcb6f8fbc"
      },
      "source": [
        "def div_and_mod(a,b):\n",
        "  div = a//b\n",
        "  mod = a%b\n",
        "  return div, mod\n",
        "\n",
        "d, _ = div_and_mod(7,3)\n",
        "print(d)"
      ],
      "execution_count": 108,
      "outputs": [
        {
          "output_type": "stream",
          "text": [
            "2\n"
          ],
          "name": "stdout"
        }
      ]
    },
    {
      "cell_type": "code",
      "metadata": {
        "id": "RC0wfGBp31Ob",
        "colab_type": "code",
        "colab": {
          "base_uri": "https://localhost:8080/",
          "height": 151
        },
        "outputId": "97080b32-5a9f-4607-e993-aaa31a15fd3a"
      },
      "source": [
        "def get_data():\n",
        "  train_x = 1\n",
        "  train_y = 2\n",
        "  test_x = 11\n",
        "  test_y = 12\n",
        "  return (train_x, train_y), (test_x, test_y)\n",
        "\n",
        "train, test = get_data()\n",
        "print(type(train))\n",
        "print(train)\n",
        "print(type(test))\n",
        "print(test)\n",
        "\n",
        "train_x, train_y = train\n",
        "test_x, test_y = test\n",
        "\n",
        "print(train_x, train_y)\n",
        "print(test_x, test_y)\n",
        "\n",
        "\n",
        "(train_x, train_y), (test_x, test_y) = get_data()\n",
        "print(train_x, train_y)\n",
        "print(test_x, test_y)\n"
      ],
      "execution_count": 113,
      "outputs": [
        {
          "output_type": "stream",
          "text": [
            "<class 'tuple'>\n",
            "(1, 2)\n",
            "<class 'tuple'>\n",
            "(11, 12)\n",
            "1 2\n",
            "11 12\n",
            "1 2\n",
            "11 12\n"
          ],
          "name": "stdout"
        }
      ]
    },
    {
      "cell_type": "markdown",
      "metadata": {
        "id": "bF69EK345mVz",
        "colab_type": "text"
      },
      "source": [
        "# 모듈\n"
      ]
    },
    {
      "cell_type": "markdown",
      "metadata": {
        "id": "PXm1GEcm7VBH",
        "colab_type": "text"
      },
      "source": [
        "## 모듈 설치 방법 - pip\n",
        "\n",
        "pypy에 올려진 패키지"
      ]
    },
    {
      "cell_type": "code",
      "metadata": {
        "id": "i5IXYFkR9HwB",
        "colab_type": "code",
        "colab": {
          "base_uri": "https://localhost:8080/",
          "height": 1000
        },
        "outputId": "6cefe652-7b8d-4e4c-9d25-faa1994a9497"
      },
      "source": [
        "!pip list"
      ],
      "execution_count": 121,
      "outputs": [
        {
          "output_type": "stream",
          "text": [
            "Package                  Version              \n",
            "------------------------ ---------------------\n",
            "absl-py                  0.7.1                \n",
            "alabaster                0.7.12               \n",
            "albumentations           0.1.12               \n",
            "altair                   3.1.0                \n",
            "astor                    0.8.0                \n",
            "astropy                  3.0.5                \n",
            "atari-py                 0.1.15               \n",
            "atomicwrites             1.3.0                \n",
            "attrs                    19.1.0               \n",
            "audioread                2.1.8                \n",
            "autograd                 1.2                  \n",
            "Babel                    2.7.0                \n",
            "backcall                 0.1.0                \n",
            "backports.tempfile       1.0                  \n",
            "backports.weakref        1.0.post1            \n",
            "beautifulsoup4           4.6.3                \n",
            "bleach                   3.1.0                \n",
            "blis                     0.2.4                \n",
            "bokeh                    1.0.4                \n",
            "boto                     2.49.0               \n",
            "boto3                    1.9.185              \n",
            "botocore                 1.12.185             \n",
            "Bottleneck               1.2.1                \n",
            "branca                   0.3.1                \n",
            "bs4                      0.0.1                \n",
            "bz2file                  0.98                 \n",
            "cachetools               3.1.1                \n",
            "certifi                  2019.6.16            \n",
            "cffi                     1.12.3               \n",
            "chainer                  5.4.0                \n",
            "chardet                  3.0.4                \n",
            "Click                    7.0                  \n",
            "cloudpickle              0.6.1                \n",
            "cmake                    3.12.0               \n",
            "colorlover               0.3.0                \n",
            "community                1.0.0b1              \n",
            "contextlib2              0.5.5                \n",
            "convertdate              2.1.3                \n",
            "coverage                 3.7.1                \n",
            "coveralls                0.5                  \n",
            "crcmod                   1.7                  \n",
            "cufflinks                0.14.6               \n",
            "cvxopt                   1.2.3                \n",
            "cvxpy                    1.0.15               \n",
            "cycler                   0.10.0               \n",
            "cymem                    2.0.2                \n",
            "Cython                   0.29.12              \n",
            "daft                     0.0.4                \n",
            "dask                     1.1.5                \n",
            "dataclasses              0.6                  \n",
            "datascience              0.10.6               \n",
            "decorator                4.4.0                \n",
            "defusedxml               0.6.0                \n",
            "descartes                1.1.0                \n",
            "dill                     0.3.0                \n",
            "distributed              1.25.3               \n",
            "Django                   2.2.3                \n",
            "dlib                     19.16.0              \n",
            "dm-sonnet                1.34                 \n",
            "docopt                   0.6.2                \n",
            "docutils                 0.14                 \n",
            "dopamine-rl              1.0.5                \n",
            "easydict                 1.9                  \n",
            "ecos                     2.0.7.post1          \n",
            "editdistance             0.5.3                \n",
            "en-core-web-sm           2.1.0                \n",
            "entrypoints              0.3                  \n",
            "enum34                   1.1.6                \n",
            "ephem                    3.7.6.0              \n",
            "et-xmlfile               1.0.1                \n",
            "fa2                      0.3.5                \n",
            "fancyimpute              0.4.3                \n",
            "fastai                   1.0.54               \n",
            "fastcache                1.1.0                \n",
            "fastdtw                  0.3.2                \n",
            "fastprogress             0.1.21               \n",
            "fastrlock                0.4                  \n",
            "fbprophet                0.5                  \n",
            "feather-format           0.4.0                \n",
            "featuretools             0.4.1                \n",
            "filelock                 3.0.12               \n",
            "fix-yahoo-finance        0.0.22               \n",
            "Flask                    1.1.1                \n",
            "folium                   0.8.3                \n",
            "future                   0.16.0               \n",
            "gast                     0.2.2                \n",
            "GDAL                     2.2.2                \n",
            "gdown                    3.6.4                \n",
            "gensim                   3.6.0                \n",
            "geographiclib            1.49                 \n",
            "geopy                    1.17.0               \n",
            "gevent                   1.4.0                \n",
            "gin-config               0.1.4                \n",
            "glob2                    0.7                  \n",
            "google                   2.0.2                \n",
            "google-api-core          1.13.0               \n",
            "google-api-python-client 1.7.9                \n",
            "google-auth              1.4.2                \n",
            "google-auth-httplib2     0.0.3                \n",
            "google-auth-oauthlib     0.4.0                \n",
            "google-cloud-bigquery    1.14.0               \n",
            "google-cloud-core        1.0.2                \n",
            "google-cloud-datastore   1.8.0                \n",
            "google-cloud-language    1.2.0                \n",
            "google-cloud-storage     1.16.1               \n",
            "google-cloud-translate   1.5.0                \n",
            "google-colab             1.0.0                \n",
            "google-pasta             0.1.7                \n",
            "google-resumable-media   0.3.2                \n",
            "googleapis-common-protos 1.6.0                \n",
            "googledrivedownloader    0.4                  \n",
            "graph-nets               1.0.4                \n",
            "graphviz                 0.10.1               \n",
            "greenlet                 0.4.15               \n",
            "grpcio                   1.15.0               \n",
            "gspread                  3.0.1                \n",
            "gspread-dataframe        3.0.2                \n",
            "gunicorn                 19.9.0               \n",
            "gym                      0.10.11              \n",
            "h5py                     2.8.0                \n",
            "HeapDict                 1.0.0                \n",
            "holidays                 0.9.10               \n",
            "html5lib                 1.0.1                \n",
            "httpimport               0.5.16               \n",
            "httplib2                 0.11.3               \n",
            "humanize                 0.5.1                \n",
            "hyperopt                 0.1.2                \n",
            "ideep4py                 2.0.0.post3          \n",
            "idna                     2.8                  \n",
            "image                    1.5.27               \n",
            "imageio                  2.4.1                \n",
            "imagesize                1.1.0                \n",
            "imbalanced-learn         0.4.3                \n",
            "imblearn                 0.0                  \n",
            "imgaug                   0.2.9                \n",
            "importlib-metadata       0.18                 \n",
            "imutils                  0.5.2                \n",
            "inflect                  2.1.0                \n",
            "intel-openmp             2019.0               \n",
            "intervaltree             2.1.0                \n",
            "ipykernel                4.6.1                \n",
            "ipython                  5.5.0                \n",
            "ipython-genutils         0.2.0                \n",
            "ipython-sql              0.3.9                \n",
            "ipywidgets               7.5.0                \n",
            "itsdangerous             1.1.0                \n",
            "jdcal                    1.4.1                \n",
            "jedi                     0.14.0               \n",
            "jieba                    0.39                 \n",
            "Jinja2                   2.10.1               \n",
            "jmespath                 0.9.4                \n",
            "joblib                   0.13.2               \n",
            "jpeg4py                  0.1.4                \n",
            "jsonschema               2.6.0                \n",
            "jupyter                  1.0.0                \n",
            "jupyter-client           5.3.1                \n",
            "jupyter-console          6.0.0                \n",
            "jupyter-core             4.5.0                \n",
            "kaggle                   1.5.4                \n",
            "kapre                    0.1.3.1              \n",
            "Keras                    2.2.4                \n",
            "Keras-Applications       1.0.8                \n",
            "Keras-Preprocessing      1.1.0                \n",
            "keras-vis                0.4.1                \n",
            "kiwisolver               1.1.0                \n",
            "knnimpute                0.1.0                \n",
            "librosa                  0.6.3                \n",
            "lightgbm                 2.2.3                \n",
            "llvmlite                 0.29.0               \n",
            "lmdb                     0.95                 \n",
            "lucid                    0.3.8                \n",
            "lunardate                0.2.0                \n",
            "lxml                     4.2.6                \n",
            "magenta                  0.3.19               \n",
            "Markdown                 3.1.1                \n",
            "MarkupSafe               1.1.1                \n",
            "matplotlib               3.0.3                \n",
            "matplotlib-venn          0.11.5               \n",
            "mesh-tensorflow          0.0.5                \n",
            "mido                     1.2.6                \n",
            "mir-eval                 0.5                  \n",
            "missingno                0.4.2                \n",
            "mistune                  0.8.4                \n",
            "mizani                   0.5.4                \n",
            "mkl                      2019.0               \n",
            "mlxtend                  0.14.0               \n",
            "more-itertools           7.1.0                \n",
            "moviepy                  0.2.3.5              \n",
            "mpi4py                   3.0.2                \n",
            "mpmath                   1.1.0                \n",
            "msgpack                  0.5.6                \n",
            "multiprocess             0.70.8               \n",
            "multitasking             0.0.9                \n",
            "murmurhash               1.0.2                \n",
            "music21                  5.5.0                \n",
            "natsort                  5.5.0                \n",
            "nbconvert                5.5.0                \n",
            "nbformat                 4.4.0                \n",
            "networkx                 2.3                  \n",
            "nibabel                  2.3.3                \n",
            "nltk                     3.2.5                \n",
            "nose                     1.3.7                \n",
            "notebook                 5.2.2                \n",
            "np-utils                 0.5.10.0             \n",
            "numba                    0.40.1               \n",
            "numexpr                  2.6.9                \n",
            "numpy                    1.16.4               \n",
            "nvidia-ml-py3            7.352.0              \n",
            "oauth2client             4.1.3                \n",
            "oauthlib                 3.0.2                \n",
            "okgrade                  0.4.3                \n",
            "olefile                  0.46                 \n",
            "opencv-contrib-python    3.4.3.18             \n",
            "opencv-python            3.4.5.20             \n",
            "openpyxl                 2.5.9                \n",
            "osqp                     0.5.0                \n",
            "packaging                19.0                 \n",
            "palettable               3.1.1                \n",
            "pandas                   0.24.2               \n",
            "pandas-datareader        0.7.0                \n",
            "pandas-gbq               0.4.1                \n",
            "pandas-profiling         1.4.1                \n",
            "pandocfilters            1.4.2                \n",
            "parso                    0.5.0                \n",
            "pathlib                  1.0.1                \n",
            "patsy                    0.5.1                \n",
            "pexpect                  4.7.0                \n",
            "pickleshare              0.7.5                \n",
            "Pillow                   4.3.0                \n",
            "pip                      19.1.1               \n",
            "pip-tools                3.6.1                \n",
            "plac                     0.9.6                \n",
            "plotly                   3.6.1                \n",
            "plotnine                 0.5.1                \n",
            "pluggy                   0.7.1                \n",
            "portpicker               1.2.0                \n",
            "prefetch-generator       1.0.1                \n",
            "preshed                  2.0.1                \n",
            "pretty-midi              0.2.8                \n",
            "prettytable              0.7.2                \n",
            "progressbar2             3.38.0               \n",
            "prometheus-client        0.7.1                \n",
            "promise                  2.2.1                \n",
            "prompt-toolkit           1.0.16               \n",
            "protobuf                 3.7.1                \n",
            "psutil                   5.4.8                \n",
            "psycopg2                 2.7.6.1              \n",
            "ptyprocess               0.6.0                \n",
            "py                       1.8.0                \n",
            "pyarrow                  0.14.0               \n",
            "pyasn1                   0.4.5                \n",
            "pyasn1-modules           0.2.5                \n",
            "pycocotools              2.0.0                \n",
            "pycparser                2.19                 \n",
            "pydot                    1.3.0                \n",
            "pydot-ng                 2.0.0                \n",
            "pydotplus                2.0.2                \n",
            "pyemd                    0.5.1                \n",
            "pyglet                   1.4.1                \n",
            "Pygments                 2.1.3                \n",
            "pygobject                3.26.1               \n",
            "pymc3                    3.7                  \n",
            "pymongo                  3.8.0                \n",
            "pymystem3                0.2.0                \n",
            "PyOpenGL                 3.1.0                \n",
            "pyparsing                2.4.0                \n",
            "pyrsistent               0.15.3               \n",
            "pysndfile                1.3.3                \n",
            "PySocks                  1.7.0                \n",
            "pystan                   2.19.0.0             \n",
            "pytest                   3.6.4                \n",
            "python-apt               1.6.4                \n",
            "python-chess             0.23.11              \n",
            "python-dateutil          2.5.3                \n",
            "python-louvain           0.13                 \n",
            "python-rtmidi            1.3.0                \n",
            "python-slugify           3.0.2                \n",
            "python-utils             2.3.0                \n",
            "pytz                     2018.9               \n",
            "PyWavelets               1.0.3                \n",
            "PyYAML                   3.13                 \n",
            "pyzmq                    17.0.0               \n",
            "qtconsole                4.5.1                \n",
            "requests                 2.21.0               \n",
            "requests-oauthlib        1.2.0                \n",
            "resampy                  0.2.1                \n",
            "retrying                 1.3.3                \n",
            "rpy2                     2.9.5                \n",
            "rsa                      4.0                  \n",
            "s3fs                     0.2.2                \n",
            "s3transfer               0.2.1                \n",
            "scikit-image             0.15.0               \n",
            "scikit-learn             0.21.2               \n",
            "scipy                    1.3.0                \n",
            "screen-resolution-extra  0.0.0                \n",
            "scs                      2.1.1.post2          \n",
            "seaborn                  0.9.0                \n",
            "semantic-version         2.6.0                \n",
            "Send2Trash               1.5.0                \n",
            "setuptools               41.0.1               \n",
            "setuptools-git           1.2                  \n",
            "Shapely                  1.6.4.post2          \n",
            "simplegeneric            0.8.1                \n",
            "siphash                  0.0.1                \n",
            "six                      1.12.0               \n",
            "sklearn                  0.0                  \n",
            "sklearn-pandas           1.8.0                \n",
            "smart-open               1.8.4                \n",
            "snowballstemmer          1.9.0                \n",
            "sortedcontainers         2.1.0                \n",
            "spacy                    2.1.4                \n",
            "Sphinx                   1.8.5                \n",
            "sphinxcontrib-websupport 1.1.2                \n",
            "SQLAlchemy               1.3.5                \n",
            "sqlparse                 0.3.0                \n",
            "srsly                    0.0.7                \n",
            "stable-baselines         2.2.1                \n",
            "statsmodels              0.10.0               \n",
            "sympy                    1.1.1                \n",
            "tables                   3.4.4                \n",
            "tabulate                 0.8.3                \n",
            "tblib                    1.4.0                \n",
            "tensor2tensor            1.11.0               \n",
            "tensorboard              1.14.0               \n",
            "tensorboardcolab         0.0.22               \n",
            "tensorflow               1.14.0               \n",
            "tensorflow-estimator     1.14.0               \n",
            "tensorflow-hub           0.5.0                \n",
            "tensorflow-metadata      0.13.0               \n",
            "tensorflow-probability   0.7.0                \n",
            "termcolor                1.1.0                \n",
            "terminado                0.8.2                \n",
            "testpath                 0.4.2                \n",
            "text-unidecode           1.2                  \n",
            "textblob                 0.15.3               \n",
            "textgenrnn               1.4.1                \n",
            "tfds-nightly             1.0.2.dev201907090105\n",
            "tflearn                  0.3.2                \n",
            "Theano                   1.0.4                \n",
            "thinc                    7.0.4                \n",
            "toolz                    0.9.0                \n",
            "torch                    1.1.0                \n",
            "torchsummary             1.5.1                \n",
            "torchtext                0.3.1                \n",
            "torchvision              0.3.0                \n",
            "tornado                  4.5.3                \n",
            "tqdm                     4.28.1               \n",
            "traitlets                4.3.2                \n",
            "tweepy                   3.6.0                \n",
            "typing                   3.7.4                \n",
            "tzlocal                  1.5.1                \n",
            "umap-learn               0.3.9                \n",
            "uritemplate              3.0.0                \n",
            "urllib3                  1.24.3               \n",
            "vega-datasets            0.7.0                \n",
            "wasabi                   0.2.2                \n",
            "wcwidth                  0.1.7                \n",
            "webencodings             0.5.1                \n",
            "Werkzeug                 0.15.4               \n",
            "wheel                    0.33.4               \n",
            "widgetsnbextension       3.5.0                \n",
            "wordcloud                1.5.0                \n",
            "wrapt                    1.11.2               \n",
            "xarray                   0.11.3               \n",
            "xgboost                  0.90                 \n",
            "xkit                     0.0.0                \n",
            "xlrd                     1.1.0                \n",
            "xlwt                     1.3.0                \n",
            "yellowbrick              0.9.1                \n",
            "zict                     1.0.0                \n",
            "zipp                     0.5.2                \n",
            "zmq                      0.0.0                \n"
          ],
          "name": "stdout"
        }
      ]
    },
    {
      "cell_type": "code",
      "metadata": {
        "id": "SM-KmkkrA_xX",
        "colab_type": "code",
        "colab": {}
      },
      "source": [
        "import editdistance"
      ],
      "execution_count": 0,
      "outputs": []
    },
    {
      "cell_type": "code",
      "metadata": {
        "id": "EpSWxnpqBN8T",
        "colab_type": "code",
        "colab": {
          "base_uri": "https://localhost:8080/",
          "height": 87
        },
        "outputId": "4b74a263-73ac-44c7-e5ec-4c5da3e800ef"
      },
      "source": [
        "!pip install editdistance\n",
        "import editdistance\n",
        "print(editdistance)\n",
        "print(dir(editdistance))"
      ],
      "execution_count": 29,
      "outputs": [
        {
          "output_type": "stream",
          "text": [
            "Requirement already satisfied: editdistance in /usr/local/lib/python3.6/dist-packages (0.5.3)\n",
            "<module 'editdistance' from '/usr/local/lib/python3.6/dist-packages/editdistance/__init__.py'>\n",
            "['__all__', '__builtins__', '__cached__', '__doc__', '__file__', '__loader__', '__name__', '__package__', '__path__', '__spec__', 'bycython', 'distance', 'eval']\n"
          ],
          "name": "stdout"
        }
      ]
    },
    {
      "cell_type": "code",
      "metadata": {
        "id": "e9r4HVywEu3w",
        "colab_type": "code",
        "colab": {
          "base_uri": "https://localhost:8080/",
          "height": 34
        },
        "outputId": "93368585-a4df-4b90-d485-2b2856c0ba20"
      },
      "source": [
        "from editdistance import distance, eval\n",
        "\n",
        "eval([], [])"
      ],
      "execution_count": 34,
      "outputs": [
        {
          "output_type": "execute_result",
          "data": {
            "text/plain": [
              "0"
            ]
          },
          "metadata": {
            "tags": []
          },
          "execution_count": 34
        }
      ]
    },
    {
      "cell_type": "markdown",
      "metadata": {
        "id": "FvJPjDI1GcWI",
        "colab_type": "text"
      },
      "source": [
        "## 모듈 설치 방법 - 수동\n",
        "\n",
        "임의의 프로젝트"
      ]
    },
    {
      "cell_type": "code",
      "metadata": {
        "id": "hXAif_oc34Uh",
        "colab_type": "code",
        "colab": {
          "base_uri": "https://localhost:8080/",
          "height": 470
        },
        "outputId": "bef66349-4155-4450-b6be-1ba705690042"
      },
      "source": [
        "!ls -al\n",
        "!git clone https://github.com/kennethreitz/samplemod\n",
        "!ls -al \n",
        "!ls -al samplemod"
      ],
      "execution_count": 36,
      "outputs": [
        {
          "output_type": "stream",
          "text": [
            "total 20\n",
            "drwxr-xr-x 1 root root 4096 Jul 15 14:44 .\n",
            "drwxr-xr-x 1 root root 4096 Jul 15 14:14 ..\n",
            "drwxr-xr-x 1 root root 4096 Jul 11 16:05 .config\n",
            "drwxr-xr-x 1 root root 4096 Jul  3 16:14 sample_data\n",
            "drwxr-xr-x 6 root root 4096 Jul 15 14:44 samplemod\n",
            "fatal: destination path 'samplemod' already exists and is not an empty directory.\n",
            "total 20\n",
            "drwxr-xr-x 1 root root 4096 Jul 15 14:44 .\n",
            "drwxr-xr-x 1 root root 4096 Jul 15 14:14 ..\n",
            "drwxr-xr-x 1 root root 4096 Jul 11 16:05 .config\n",
            "drwxr-xr-x 1 root root 4096 Jul  3 16:14 sample_data\n",
            "drwxr-xr-x 6 root root 4096 Jul 15 14:44 samplemod\n",
            "total 52\n",
            "drwxr-xr-x 6 root root 4096 Jul 15 14:44 .\n",
            "drwxr-xr-x 1 root root 4096 Jul 15 14:44 ..\n",
            "drwxr-xr-x 2 root root 4096 Jul 15 14:44 docs\n",
            "drwxr-xr-x 8 root root 4096 Jul 15 14:44 .git\n",
            "-rw-r--r-- 1 root root 1052 Jul 15 14:44 .gitignore\n",
            "-rw-r--r-- 1 root root 1285 Jul 15 14:44 LICENSE\n",
            "-rw-r--r-- 1 root root   63 Jul 15 14:44 Makefile\n",
            "-rw-r--r-- 1 root root   16 Jul 15 14:44 MANIFEST.in\n",
            "-rw-r--r-- 1 root root  351 Jul 15 14:44 README.rst\n",
            "-rw-r--r-- 1 root root   11 Jul 15 14:44 requirements.txt\n",
            "drwxr-xr-x 2 root root 4096 Jul 15 14:44 sample\n",
            "-rwxr-xr-x 1 root root  561 Jul 15 14:44 setup.py\n",
            "drwxr-xr-x 2 root root 4096 Jul 15 14:44 tests\n"
          ],
          "name": "stdout"
        }
      ]
    },
    {
      "cell_type": "code",
      "metadata": {
        "id": "dmOmCJQp9yfg",
        "colab_type": "code",
        "colab": {
          "base_uri": "https://localhost:8080/",
          "height": 722
        },
        "outputId": "c636597c-968c-4642-a3da-969b0d77d8db"
      },
      "source": [
        "# tree 프로그램 설치\n",
        "!apt-get install tree\n",
        "\n",
        "# samplemod의 내부 모양 보기\n",
        "!tree samplemod"
      ],
      "execution_count": 38,
      "outputs": [
        {
          "output_type": "stream",
          "text": [
            "Reading package lists... Done\n",
            "Building dependency tree       \n",
            "Reading state information... Done\n",
            "The following package was automatically installed and is no longer required:\n",
            "  libnvidia-common-410\n",
            "Use 'apt autoremove' to remove it.\n",
            "The following NEW packages will be installed:\n",
            "  tree\n",
            "0 upgraded, 1 newly installed, 0 to remove and 4 not upgraded.\n",
            "Need to get 40.7 kB of archives.\n",
            "After this operation, 105 kB of additional disk space will be used.\n",
            "Get:1 http://archive.ubuntu.com/ubuntu bionic/universe amd64 tree amd64 1.7.0-5 [40.7 kB]\n",
            "Fetched 40.7 kB in 0s (113 kB/s)\n",
            "Selecting previously unselected package tree.\n",
            "(Reading database ... 130963 files and directories currently installed.)\n",
            "Preparing to unpack .../tree_1.7.0-5_amd64.deb ...\n",
            "Unpacking tree (1.7.0-5) ...\n",
            "Setting up tree (1.7.0-5) ...\n",
            "Processing triggers for man-db (2.8.3-2ubuntu0.1) ...\n",
            "samplemod\n",
            "├── docs\n",
            "│   ├── conf.py\n",
            "│   ├── index.rst\n",
            "│   ├── make.bat\n",
            "│   └── Makefile\n",
            "├── LICENSE\n",
            "├── Makefile\n",
            "├── MANIFEST.in\n",
            "├── README.rst\n",
            "├── requirements.txt\n",
            "├── sample\n",
            "│   ├── core.py\n",
            "│   ├── helpers.py\n",
            "│   └── __init__.py\n",
            "├── setup.py\n",
            "└── tests\n",
            "    ├── context.py\n",
            "    ├── __init__.py\n",
            "    ├── test_advanced.py\n",
            "    └── test_basic.py\n",
            "\n",
            "3 directories, 17 files\n"
          ],
          "name": "stdout"
        }
      ]
    },
    {
      "cell_type": "code",
      "metadata": {
        "id": "G55wbKwGG4VF",
        "colab_type": "code",
        "colab": {
          "base_uri": "https://localhost:8080/",
          "height": 297
        },
        "outputId": "7ac1cfbb-001f-47c0-8e49-c937d064db67"
      },
      "source": [
        "import sample"
      ],
      "execution_count": 40,
      "outputs": [
        {
          "output_type": "error",
          "ename": "ModuleNotFoundError",
          "evalue": "ignored",
          "traceback": [
            "\u001b[0;31m---------------------------------------------------------------------------\u001b[0m",
            "\u001b[0;31mModuleNotFoundError\u001b[0m                       Traceback (most recent call last)",
            "\u001b[0;32m<ipython-input-40-c4ef148c3e21>\u001b[0m in \u001b[0;36m<module>\u001b[0;34m()\u001b[0m\n\u001b[0;32m----> 1\u001b[0;31m \u001b[0;32mimport\u001b[0m \u001b[0msample\u001b[0m\u001b[0;34m\u001b[0m\u001b[0;34m\u001b[0m\u001b[0m\n\u001b[0m",
            "\u001b[0;31mModuleNotFoundError\u001b[0m: No module named 'sample'",
            "",
            "\u001b[0;31m---------------------------------------------------------------------------\u001b[0;32m\nNOTE: If your import is failing due to a missing package, you can\nmanually install dependencies using either !pip or !apt.\n\nTo view examples of installing some common dependencies, click the\n\"Open Examples\" button below.\n\u001b[0;31m---------------------------------------------------------------------------\u001b[0m\n"
          ]
        }
      ]
    },
    {
      "cell_type": "code",
      "metadata": {
        "id": "wkJ50ReGHTkH",
        "colab_type": "code",
        "colab": {
          "base_uri": "https://localhost:8080/",
          "height": 104
        },
        "outputId": "5a079614-7e8e-4f61-d739-b9cabf06e4f8"
      },
      "source": [
        "import os\n",
        "cwd = os.getcwd()\n",
        "print(cwd)\n",
        "sampple_mod_path = cwd+'/samplemod'\n",
        "print(sampple_mod_path)\n",
        "\n",
        "# 외부 명령어 python에 적용되기 위해\n",
        "os.environ['PYTHONPATH'] = sampple_mod_path\n",
        "\n",
        "\n",
        "# jupyter에서 적용되기 위해\n",
        "import sys\n",
        "if not sampple_mod_path in sys.path:\n",
        "  sys.path.append(cwd+'/samplemod')\n",
        "\n",
        "  \n",
        "from sample import core\n",
        "print(core)\n",
        "print(dir(core))"
      ],
      "execution_count": 57,
      "outputs": [
        {
          "output_type": "stream",
          "text": [
            "/content\n",
            "/content/samplemod\n",
            "<module 'sample.core' from '/content/samplemod/sample/core.py'>\n",
            "['__builtins__', '__cached__', '__doc__', '__file__', '__loader__', '__name__', '__package__', '__spec__', 'get_hmm', 'helpers', 'hmm']\n"
          ],
          "name": "stdout"
        }
      ]
    },
    {
      "cell_type": "markdown",
      "metadata": {
        "id": "4tEh-lhXNAhA",
        "colab_type": "text"
      },
      "source": [
        "## 모듈 사용"
      ]
    },
    {
      "cell_type": "code",
      "metadata": {
        "id": "rJtadgsiLYue",
        "colab_type": "code",
        "colab": {
          "base_uri": "https://localhost:8080/",
          "height": 67
        },
        "outputId": "8799a5de-5c6a-4df1-e5dc-9879fa0e05ee"
      },
      "source": [
        "import sample.core\n",
        "\n",
        "print(sample.core.get_hmm())\n",
        "\n",
        "\n",
        "from sample import core\n",
        "\n",
        "print(core.get_hmm())\n",
        "\n",
        "\n",
        "from sample.core import get_hmm\n",
        "\n",
        "print(get_hmm())"
      ],
      "execution_count": 68,
      "outputs": [
        {
          "output_type": "stream",
          "text": [
            "hmmm...\n",
            "hmmm...\n",
            "hmmm...\n"
          ],
          "name": "stdout"
        }
      ]
    },
    {
      "cell_type": "code",
      "metadata": {
        "id": "H54uf2BwMA5b",
        "colab_type": "code",
        "colab": {
          "base_uri": "https://localhost:8080/",
          "height": 70
        },
        "outputId": "3118ab5d-23fe-4254-e23b-2a4d40718b03"
      },
      "source": [
        "import os\n",
        "print(dir(os))\n",
        "\n",
        "from os import listdir\n",
        "listdir()"
      ],
      "execution_count": 65,
      "outputs": [
        {
          "output_type": "stream",
          "text": [
            "['CLD_CONTINUED', 'CLD_DUMPED', 'CLD_EXITED', 'CLD_TRAPPED', 'DirEntry', 'EX_CANTCREAT', 'EX_CONFIG', 'EX_DATAERR', 'EX_IOERR', 'EX_NOHOST', 'EX_NOINPUT', 'EX_NOPERM', 'EX_NOUSER', 'EX_OK', 'EX_OSERR', 'EX_OSFILE', 'EX_PROTOCOL', 'EX_SOFTWARE', 'EX_TEMPFAIL', 'EX_UNAVAILABLE', 'EX_USAGE', 'F_LOCK', 'F_OK', 'F_TEST', 'F_TLOCK', 'F_ULOCK', 'GRND_NONBLOCK', 'GRND_RANDOM', 'MutableMapping', 'NGROUPS_MAX', 'O_ACCMODE', 'O_APPEND', 'O_ASYNC', 'O_CLOEXEC', 'O_CREAT', 'O_DIRECT', 'O_DIRECTORY', 'O_DSYNC', 'O_EXCL', 'O_LARGEFILE', 'O_NDELAY', 'O_NOATIME', 'O_NOCTTY', 'O_NOFOLLOW', 'O_NONBLOCK', 'O_PATH', 'O_RDONLY', 'O_RDWR', 'O_RSYNC', 'O_SYNC', 'O_TMPFILE', 'O_TRUNC', 'O_WRONLY', 'POSIX_FADV_DONTNEED', 'POSIX_FADV_NOREUSE', 'POSIX_FADV_NORMAL', 'POSIX_FADV_RANDOM', 'POSIX_FADV_SEQUENTIAL', 'POSIX_FADV_WILLNEED', 'PRIO_PGRP', 'PRIO_PROCESS', 'PRIO_USER', 'P_ALL', 'P_NOWAIT', 'P_NOWAITO', 'P_PGID', 'P_PID', 'P_WAIT', 'PathLike', 'RTLD_DEEPBIND', 'RTLD_GLOBAL', 'RTLD_LAZY', 'RTLD_LOCAL', 'RTLD_NODELETE', 'RTLD_NOLOAD', 'RTLD_NOW', 'R_OK', 'SCHED_BATCH', 'SCHED_FIFO', 'SCHED_IDLE', 'SCHED_OTHER', 'SCHED_RESET_ON_FORK', 'SCHED_RR', 'SEEK_CUR', 'SEEK_DATA', 'SEEK_END', 'SEEK_HOLE', 'SEEK_SET', 'ST_APPEND', 'ST_MANDLOCK', 'ST_NOATIME', 'ST_NODEV', 'ST_NODIRATIME', 'ST_NOEXEC', 'ST_NOSUID', 'ST_RDONLY', 'ST_RELATIME', 'ST_SYNCHRONOUS', 'ST_WRITE', 'TMP_MAX', 'WCONTINUED', 'WCOREDUMP', 'WEXITED', 'WEXITSTATUS', 'WIFCONTINUED', 'WIFEXITED', 'WIFSIGNALED', 'WIFSTOPPED', 'WNOHANG', 'WNOWAIT', 'WSTOPPED', 'WSTOPSIG', 'WTERMSIG', 'WUNTRACED', 'W_OK', 'XATTR_CREATE', 'XATTR_REPLACE', 'XATTR_SIZE_MAX', 'X_OK', '_Environ', '__all__', '__builtins__', '__cached__', '__doc__', '__file__', '__loader__', '__name__', '__package__', '__spec__', '_execvpe', '_exists', '_exit', '_fspath', '_fwalk', '_get_exports_list', '_putenv', '_spawnvef', '_unsetenv', '_wrap_close', 'abc', 'abort', 'access', 'altsep', 'chdir', 'chmod', 'chown', 'chroot', 'close', 'closerange', 'confstr', 'confstr_names', 'cpu_count', 'ctermid', 'curdir', 'defpath', 'device_encoding', 'devnull', 'dup', 'dup2', 'environ', 'environb', 'errno', 'error', 'execl', 'execle', 'execlp', 'execlpe', 'execv', 'execve', 'execvp', 'execvpe', 'extsep', 'fchdir', 'fchmod', 'fchown', 'fdatasync', 'fdopen', 'fork', 'forkpty', 'fpathconf', 'fsdecode', 'fsencode', 'fspath', 'fstat', 'fstatvfs', 'fsync', 'ftruncate', 'fwalk', 'get_blocking', 'get_exec_path', 'get_inheritable', 'get_terminal_size', 'getcwd', 'getcwdb', 'getegid', 'getenv', 'getenvb', 'geteuid', 'getgid', 'getgrouplist', 'getgroups', 'getloadavg', 'getlogin', 'getpgid', 'getpgrp', 'getpid', 'getppid', 'getpriority', 'getrandom', 'getresgid', 'getresuid', 'getsid', 'getuid', 'getxattr', 'initgroups', 'isatty', 'kill', 'killpg', 'lchown', 'linesep', 'link', 'listdir', 'listxattr', 'lockf', 'lseek', 'lstat', 'major', 'makedev', 'makedirs', 'minor', 'mkdir', 'mkfifo', 'mknod', 'name', 'nice', 'open', 'openpty', 'pardir', 'path', 'pathconf', 'pathconf_names', 'pathsep', 'pipe', 'pipe2', 'popen', 'posix_fadvise', 'posix_fallocate', 'pread', 'putenv', 'pwrite', 'read', 'readlink', 'readv', 'remove', 'removedirs', 'removexattr', 'rename', 'renames', 'replace', 'rmdir', 'scandir', 'sched_get_priority_max', 'sched_get_priority_min', 'sched_getaffinity', 'sched_getparam', 'sched_getscheduler', 'sched_param', 'sched_rr_get_interval', 'sched_setaffinity', 'sched_setparam', 'sched_setscheduler', 'sched_yield', 'sendfile', 'sep', 'set_blocking', 'set_inheritable', 'setegid', 'seteuid', 'setgid', 'setgroups', 'setpgid', 'setpgrp', 'setpriority', 'setregid', 'setresgid', 'setresuid', 'setreuid', 'setsid', 'setuid', 'setxattr', 'spawnl', 'spawnle', 'spawnlp', 'spawnlpe', 'spawnv', 'spawnve', 'spawnvp', 'spawnvpe', 'st', 'stat', 'stat_float_times', 'stat_result', 'statvfs', 'statvfs_result', 'strerror', 'supports_bytes_environ', 'supports_dir_fd', 'supports_effective_ids', 'supports_fd', 'supports_follow_symlinks', 'symlink', 'sync', 'sys', 'sysconf', 'sysconf_names', 'system', 'tcgetpgrp', 'tcsetpgrp', 'terminal_size', 'times', 'times_result', 'truncate', 'ttyname', 'umask', 'uname', 'uname_result', 'unlink', 'unsetenv', 'urandom', 'utime', 'wait', 'wait3', 'wait4', 'waitid', 'waitid_result', 'waitpid', 'walk', 'write', 'writev']\n"
          ],
          "name": "stdout"
        },
        {
          "output_type": "execute_result",
          "data": {
            "text/plain": [
              "['.config', 'samplemod', 'sample_data']"
            ]
          },
          "metadata": {
            "tags": []
          },
          "execution_count": 65
        }
      ]
    },
    {
      "cell_type": "markdown",
      "metadata": {
        "id": "T1Dyc_V4Nw9-",
        "colab_type": "text"
      },
      "source": [
        "## __future__ 모듈\n",
        "\n",
        "python 3.0에 추가된 모듈.\n",
        "\n",
        "그래서 python 2.0으로 실행하면 실패한다. import하는 초기 부터 실패하게 한다."
      ]
    },
    {
      "cell_type": "code",
      "metadata": {
        "id": "AsLhXT7NMDa1",
        "colab_type": "code",
        "colab": {}
      },
      "source": [
        "from __future__ import absolute_import, division, print_function, unicode_literals"
      ],
      "execution_count": 0,
      "outputs": []
    },
    {
      "cell_type": "markdown",
      "metadata": {
        "id": "qRrBh1ReNKC4",
        "colab_type": "text"
      },
      "source": [
        "# 특수 변수 __name__\n",
        "\n",
        "외부 명령어 python으로 실행된 모듈은 변수 __name__에 '__main__'의 값을 같는다.\n",
        "\n",
        "이를 사용하여 특정 모듈이 import 될 수도 있고, 실행 될 수도 있다.\n",
        "\n",
        "\n",
        "그래서 보통 모듈은 다음의 코드 모양을 갖는다.\n",
        "```\n",
        "def main():\n",
        "  ...\n",
        "  \n",
        "if __name__==\"__main__\"\n",
        "  main()\n",
        "```\n"
      ]
    },
    {
      "cell_type": "markdown",
      "metadata": {
        "id": "PCiKvJG0Nf6k",
        "colab_type": "text"
      },
      "source": [
        "# 클래스\n",
        "\n",
        "함수는 상태를 갖지 않는데. 같은 입력을 넘기면 항상 출력이 동일하다.\n",
        "\n",
        "\n",
        "클래스는 상태를 갖는 연산단위라고 생각하면 편하다.(정확히는 아니다))"
      ]
    },
    {
      "cell_type": "code",
      "metadata": {
        "id": "SJa3L9vcNjP7",
        "colab_type": "code",
        "colab": {
          "base_uri": "https://localhost:8080/",
          "height": 121
        },
        "outputId": "ef64091a-cee6-4f77-94db-20b08528f1eb"
      },
      "source": [
        "l = list([1,2,3,4])\n",
        "print(type(l))\n",
        "print(dir(l))\n",
        "\n",
        "print(type(l.append))\n",
        "print(type(l.count))\n",
        "print(type(l.clear))\n"
      ],
      "execution_count": 75,
      "outputs": [
        {
          "output_type": "stream",
          "text": [
            "<class 'list'>\n",
            "['__add__', '__class__', '__contains__', '__delattr__', '__delitem__', '__dir__', '__doc__', '__eq__', '__format__', '__ge__', '__getattribute__', '__getitem__', '__gt__', '__hash__', '__iadd__', '__imul__', '__init__', '__init_subclass__', '__iter__', '__le__', '__len__', '__lt__', '__mul__', '__ne__', '__new__', '__reduce__', '__reduce_ex__', '__repr__', '__reversed__', '__rmul__', '__setattr__', '__setitem__', '__sizeof__', '__str__', '__subclasshook__', 'append', 'clear', 'copy', 'count', 'extend', 'index', 'insert', 'pop', 'remove', 'reverse', 'sort']\n",
            "<class 'builtin_function_or_method'>\n",
            "<class 'builtin_function_or_method'>\n",
            "<class 'builtin_function_or_method'>\n"
          ],
          "name": "stdout"
        }
      ]
    },
    {
      "cell_type": "code",
      "metadata": {
        "id": "PO3qpjboOOn6",
        "colab_type": "code",
        "colab": {
          "base_uri": "https://localhost:8080/",
          "height": 205
        },
        "outputId": "6e316ddb-9678-4773-faca-fb7b828d1089"
      },
      "source": [
        "from tensorflow import keras\n",
        "\n",
        "model = keras.Sequential()\n",
        "print(model)\n",
        "print(type(model))\n",
        "print(dir(model))\n",
        "\n",
        "print(model.to_yaml())"
      ],
      "execution_count": 78,
      "outputs": [
        {
          "output_type": "stream",
          "text": [
            "<tensorflow.python.keras.engine.sequential.Sequential object at 0x7f3710ebbfd0>\n",
            "<class 'tensorflow.python.keras.engine.sequential.Sequential'>\n",
            "['_TF_MODULE_IGNORED_PROPERTIES', '__call__', '__class__', '__delattr__', '__dict__', '__dir__', '__doc__', '__eq__', '__format__', '__ge__', '__getattribute__', '__gt__', '__hash__', '__init__', '__init_subclass__', '__le__', '__lt__', '__module__', '__ne__', '__new__', '__reduce__', '__reduce_ex__', '__repr__', '__setattr__', '__sizeof__', '__str__', '__subclasshook__', '__weakref__', '_activity_regularizer', '_add_inbound_node', '_add_unique_metric_name', '_add_variable_with_custom_getter', '_all_metrics_tensors', '_assert_compile_was_called', '_assert_weights_created', '_base_init', '_build_input_shape', '_cache_output_metric_attributes', '_call_convention', '_call_fn_args', '_call_metric_fn', '_callable_losses', '_check_trainable_weights_consistency', '_checkpoint_dependencies', '_ckpt_saved_epoch', '_clear_losses', '_compile_distribution', '_compile_eagerly', '_compile_weights_loss_and_weighted_metrics', '_compute_output_and_mask_jointly', '_deferred_dependencies', '_determine_call_convention', '_distribution_standardize_user_data', '_distribution_strategy', '_dtype', '_dynamic', '_eager_add_metric', '_eager_losses', '_expects_training_arg', '_feed_loss_fns', '_feed_output_names', '_feed_output_shapes', '_feed_sample_weights', '_feed_targets', '_flatten', '_gather_children_attribute', '_gather_saveables_for_checkpoint', '_get_callback_model', '_get_existing_metric', '_get_node_attribute_at_index', '_graph', '_handle_activity_regularization', '_handle_deferred_dependencies', '_handle_metrics', '_handle_per_output_metrics', '_handle_weight_regularization', '_inbound_nodes', '_init_graph_network', '_init_metric_attributes', '_init_set_name', '_init_subclassed_network', '_inputs_from_call_args', '_insert_layers', '_is_compiled', '_is_graph_network', '_is_layer', '_keras_api_names', '_keras_api_names_v1', '_layer_call_argspecs', '_layers', '_list_functions_for_serialization', '_lookup_dependency', '_loss_weights_list', '_losses', '_make_callback_model', '_make_execution_function', '_make_predict_function', '_make_test_function', '_make_train_function', '_maybe_build', '_maybe_create_attribute', '_maybe_initialize_trackable', '_maybe_load_initial_epoch_from_ckpt', '_metrics', '_metrics_tensors', '_mixed_precision_policy', '_name', '_name_based_attribute_restore', '_name_based_restores', '_name_scope', '_no_dependency', '_non_trainable_weights', '_obj_reference_counts', '_outbound_nodes', '_output_loss_metrics', '_preload_simple_restoration', '_prepare_output_masks', '_prepare_sample_weights', '_prepare_skip_target_masks', '_prepare_total_loss', '_process_target_tensor_for_compile', '_recompile_weights_loss_and_weighted_metrics', '_restore_from_checkpoint_position', '_reuse', '_run_eagerly', '_run_internal_graph', '_sample_weight_modes', '_scope', '_self_setattr_tracking', '_set_connectivity_metadata_', '_set_dtype_and_policy', '_set_input_attrs', '_set_inputs', '_set_mask_metadata', '_set_metric_attributes', '_set_output_attrs', '_set_output_names', '_set_per_output_metric_attributes', '_setattr_tracking', '_should_compute_mask', '_single_restoration_from_checkpoint_position', '_standardize_user_data', '_symbolic_add_metric', '_symbolic_call', '_targets', '_tf_api_names', '_tf_api_names_v1', '_track_layers', '_track_trackable', '_trackable_saver', '_trainable', '_trainable_weights', '_unconditional_checkpoint_dependencies', '_unconditional_dependency_names', '_unpack_validation_data', '_update_sample_weight_modes', '_update_uid', '_updated_config', '_updates', '_validate_compile_param_for_distribution_strategy', '_validate_graph_inputs_and_outputs', '_validate_or_infer_batch_size', 'activity_regularizer', 'add', 'add_loss', 'add_metric', 'add_update', 'add_variable', 'add_weight', 'apply', 'build', 'built', 'call', 'compile', 'compute_mask', 'compute_output_shape', 'count_params', 'dtype', 'dynamic', 'evaluate', 'evaluate_generator', 'fit', 'fit_generator', 'from_config', 'get_config', 'get_input_at', 'get_input_mask_at', 'get_input_shape_at', 'get_layer', 'get_losses_for', 'get_output_at', 'get_output_mask_at', 'get_output_shape_at', 'get_updates_for', 'get_weights', 'inbound_nodes', 'input', 'input_mask', 'input_shape', 'input_spec', 'inputs', 'layers', 'load_weights', 'losses', 'metrics', 'metrics_names', 'name', 'name_scope', 'non_trainable_variables', 'non_trainable_weights', 'optimizer', 'outbound_nodes', 'output', 'output_mask', 'output_shape', 'outputs', 'pop', 'predict', 'predict_classes', 'predict_generator', 'predict_on_batch', 'predict_proba', 'reset_metrics', 'reset_states', 'run_eagerly', 'sample_weights', 'save', 'save_weights', 'set_weights', 'state_updates', 'stateful', 'submodules', 'summary', 'supports_masking', 'test_on_batch', 'to_json', 'to_yaml', 'train_on_batch', 'trainable', 'trainable_variables', 'trainable_weights', 'updates', 'variables', 'weights', 'with_name_scope']\n",
            "backend: tensorflow\n",
            "class_name: Sequential\n",
            "config:\n",
            "  layers: []\n",
            "  name: sequential_6\n",
            "keras_version: 2.2.4-tf\n",
            "\n"
          ],
          "name": "stdout"
        }
      ]
    },
    {
      "cell_type": "code",
      "metadata": {
        "id": "i2lFKLJuSg_u",
        "colab_type": "code",
        "colab": {
          "base_uri": "https://localhost:8080/",
          "height": 84
        },
        "outputId": "5156ba52-5e28-4467-9d81-305e525db4cf"
      },
      "source": [
        "def add(a,b):\n",
        "  return a+b\n",
        "def minus(a,b):\n",
        "  return a-b\n",
        "\n",
        "result = 0\n",
        "print(result)\n",
        "\n",
        "result = add(result, 1)\n",
        "print(result)\n",
        "\n",
        "result = add(result, 5)\n",
        "print(result)\n",
        "\n",
        "result = minus(result, 2)\n",
        "print(result)\n",
        "\n",
        "result = 0\n",
        "print(result)\n",
        "\n"
      ],
      "execution_count": 83,
      "outputs": [
        {
          "output_type": "stream",
          "text": [
            "1\n",
            "6\n",
            "4\n",
            "0\n"
          ],
          "name": "stdout"
        }
      ]
    },
    {
      "cell_type": "code",
      "metadata": {
        "id": "Mrc1cVlbPB2k",
        "colab_type": "code",
        "colab": {
          "base_uri": "https://localhost:8080/",
          "height": 101
        },
        "outputId": "eae3efc7-6b3e-4a8e-9eda-72c99c653eae"
      },
      "source": [
        "class Caculator:\n",
        "  result = 0\n",
        "  def add(self, v):\n",
        "    self.result += v\n",
        "    return self.result\n",
        "  def minus(self, v):\n",
        "    self.result -= v\n",
        "    return self.result\n",
        "  def clear(self):\n",
        "    self.result = 0\n",
        "    \n",
        "\n",
        "cal = Caculator() \n",
        "print(cal.result)\n",
        "\n",
        "cal.add(1)\n",
        "print(cal.result)\n",
        "\n",
        "cal.add(5)\n",
        "print(cal.result)\n",
        "\n",
        "cal.minus(2)\n",
        "print(cal.result)\n",
        "\n",
        "cal.clear()\n",
        "print(cal.result)\n",
        "\n",
        "  "
      ],
      "execution_count": 84,
      "outputs": [
        {
          "output_type": "stream",
          "text": [
            "0\n",
            "1\n",
            "6\n",
            "4\n",
            "0\n"
          ],
          "name": "stdout"
        }
      ]
    },
    {
      "cell_type": "code",
      "metadata": {
        "id": "yOYcEU1ESQKY",
        "colab_type": "code",
        "colab": {}
      },
      "source": [
        ""
      ],
      "execution_count": 0,
      "outputs": []
    }
  ]
}