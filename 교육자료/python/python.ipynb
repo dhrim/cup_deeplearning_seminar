{
  "nbformat": 4,
  "nbformat_minor": 0,
  "metadata": {
    "colab": {
      "name": "python.ipynb",
      "version": "0.3.2",
      "provenance": [],
      "collapsed_sections": []
    },
    "kernelspec": {
      "name": "python3",
      "display_name": "Python 3"
    }
  },
  "cells": [
    {
      "cell_type": "code",
      "metadata": {
        "id": "yeNQdAlQ-5ZE",
        "colab_type": "code",
        "colab": {}
      },
      "source": [
        ""
      ],
      "execution_count": 0,
      "outputs": []
    },
    {
      "cell_type": "markdown",
      "metadata": {
        "id": "eUH4Q_08Amm_",
        "colab_type": "text"
      },
      "source": [
        "# 숫자 연산"
      ]
    },
    {
      "cell_type": "code",
      "metadata": {
        "id": "OEfqduAPApc_",
        "colab_type": "code",
        "colab": {
          "base_uri": "https://localhost:8080/",
          "height": 34
        },
        "outputId": "874cc241-d5b6-4b48-ed53-a23037ffc16c"
      },
      "source": [
        "2+2"
      ],
      "execution_count": 1,
      "outputs": [
        {
          "output_type": "execute_result",
          "data": {
            "text/plain": [
              "4"
            ]
          },
          "metadata": {
            "tags": []
          },
          "execution_count": 1
        }
      ]
    },
    {
      "cell_type": "code",
      "metadata": {
        "id": "PpWSw0lNA2dF",
        "colab_type": "code",
        "colab": {
          "base_uri": "https://localhost:8080/",
          "height": 34
        },
        "outputId": "584cc86a-5891-4a64-9308-f802b9aa7ff0"
      },
      "source": [
        "50 - 5 * 6"
      ],
      "execution_count": 2,
      "outputs": [
        {
          "output_type": "execute_result",
          "data": {
            "text/plain": [
              "20"
            ]
          },
          "metadata": {
            "tags": []
          },
          "execution_count": 2
        }
      ]
    },
    {
      "cell_type": "code",
      "metadata": {
        "id": "mbtopVBbA2fm",
        "colab_type": "code",
        "colab": {
          "base_uri": "https://localhost:8080/",
          "height": 34
        },
        "outputId": "d6206e8b-3362-43cf-d41c-be17de4f3449"
      },
      "source": [
        "(50 - 5 * 6)/4"
      ],
      "execution_count": 3,
      "outputs": [
        {
          "output_type": "execute_result",
          "data": {
            "text/plain": [
              "5.0"
            ]
          },
          "metadata": {
            "tags": []
          },
          "execution_count": 3
        }
      ]
    },
    {
      "cell_type": "code",
      "metadata": {
        "id": "C8qRtE5IA2iI",
        "colab_type": "code",
        "colab": {
          "base_uri": "https://localhost:8080/",
          "height": 34
        },
        "outputId": "29298a95-cba7-44f9-efe1-94debc8b2933"
      },
      "source": [
        "8/5"
      ],
      "execution_count": 4,
      "outputs": [
        {
          "output_type": "execute_result",
          "data": {
            "text/plain": [
              "1.6"
            ]
          },
          "metadata": {
            "tags": []
          },
          "execution_count": 4
        }
      ]
    },
    {
      "cell_type": "code",
      "metadata": {
        "id": "4VRuY0UrA2kz",
        "colab_type": "code",
        "colab": {
          "base_uri": "https://localhost:8080/",
          "height": 34
        },
        "outputId": "144f196a-50b0-4542-fe97-d33db3edf57e"
      },
      "source": [
        "17/3"
      ],
      "execution_count": 5,
      "outputs": [
        {
          "output_type": "execute_result",
          "data": {
            "text/plain": [
              "5.666666666666667"
            ]
          },
          "metadata": {
            "tags": []
          },
          "execution_count": 5
        }
      ]
    },
    {
      "cell_type": "code",
      "metadata": {
        "id": "0_YmFqrOA2pl",
        "colab_type": "code",
        "colab": {
          "base_uri": "https://localhost:8080/",
          "height": 34
        },
        "outputId": "c09e9417-8797-4aa6-8726-34cd3d31ca8e"
      },
      "source": [
        "17//3"
      ],
      "execution_count": 6,
      "outputs": [
        {
          "output_type": "execute_result",
          "data": {
            "text/plain": [
              "5"
            ]
          },
          "metadata": {
            "tags": []
          },
          "execution_count": 6
        }
      ]
    },
    {
      "cell_type": "code",
      "metadata": {
        "id": "5p3skdmqA2sC",
        "colab_type": "code",
        "colab": {
          "base_uri": "https://localhost:8080/",
          "height": 34
        },
        "outputId": "92e1d864-fb4c-411b-cd3b-7396c2e264bb"
      },
      "source": [
        "17%3"
      ],
      "execution_count": 7,
      "outputs": [
        {
          "output_type": "execute_result",
          "data": {
            "text/plain": [
              "2"
            ]
          },
          "metadata": {
            "tags": []
          },
          "execution_count": 7
        }
      ]
    },
    {
      "cell_type": "code",
      "metadata": {
        "id": "x3g7XRSVBD3h",
        "colab_type": "code",
        "colab": {
          "base_uri": "https://localhost:8080/",
          "height": 34
        },
        "outputId": "775995e0-238a-4ce3-a806-b0ed374e8baf"
      },
      "source": [
        "5 * 3 + 2"
      ],
      "execution_count": 8,
      "outputs": [
        {
          "output_type": "execute_result",
          "data": {
            "text/plain": [
              "17"
            ]
          },
          "metadata": {
            "tags": []
          },
          "execution_count": 8
        }
      ]
    },
    {
      "cell_type": "code",
      "metadata": {
        "id": "vLl8SPlKBD6Y",
        "colab_type": "code",
        "colab": {
          "base_uri": "https://localhost:8080/",
          "height": 34
        },
        "outputId": "ee90a895-89f2-49c1-a921-123131ff41e5"
      },
      "source": [
        "5 ** 2"
      ],
      "execution_count": 9,
      "outputs": [
        {
          "output_type": "execute_result",
          "data": {
            "text/plain": [
              "25"
            ]
          },
          "metadata": {
            "tags": []
          },
          "execution_count": 9
        }
      ]
    },
    {
      "cell_type": "code",
      "metadata": {
        "id": "qCuauAcUBD88",
        "colab_type": "code",
        "colab": {
          "base_uri": "https://localhost:8080/",
          "height": 34
        },
        "outputId": "4ceb8921-7f61-4d5b-cb70-baeb3f613e56"
      },
      "source": [
        "2 ** 7"
      ],
      "execution_count": 10,
      "outputs": [
        {
          "output_type": "execute_result",
          "data": {
            "text/plain": [
              "128"
            ]
          },
          "metadata": {
            "tags": []
          },
          "execution_count": 10
        }
      ]
    },
    {
      "cell_type": "code",
      "metadata": {
        "id": "ia1IJJgdBD_r",
        "colab_type": "code",
        "colab": {
          "base_uri": "https://localhost:8080/",
          "height": 34
        },
        "outputId": "063c4099-d8ef-4f91-ac4a-c51ab82ea54e"
      },
      "source": [
        "-3 ** 2"
      ],
      "execution_count": 11,
      "outputs": [
        {
          "output_type": "execute_result",
          "data": {
            "text/plain": [
              "-9"
            ]
          },
          "metadata": {
            "tags": []
          },
          "execution_count": 11
        }
      ]
    },
    {
      "cell_type": "code",
      "metadata": {
        "id": "iAa-m9ExBEEp",
        "colab_type": "code",
        "colab": {
          "base_uri": "https://localhost:8080/",
          "height": 34
        },
        "outputId": "f9d5461f-d8e2-4788-8d6e-1542303f6c65"
      },
      "source": [
        "(-3)**2"
      ],
      "execution_count": 12,
      "outputs": [
        {
          "output_type": "execute_result",
          "data": {
            "text/plain": [
              "9"
            ]
          },
          "metadata": {
            "tags": []
          },
          "execution_count": 12
        }
      ]
    },
    {
      "cell_type": "code",
      "metadata": {
        "id": "yKkPJhFKESAD",
        "colab_type": "code",
        "colab": {
          "base_uri": "https://localhost:8080/",
          "height": 34
        },
        "outputId": "e3c88895-102e-4ecd-c8bb-96d683eea076"
      },
      "source": [
        "3.5 + 3"
      ],
      "execution_count": 13,
      "outputs": [
        {
          "output_type": "execute_result",
          "data": {
            "text/plain": [
              "6.5"
            ]
          },
          "metadata": {
            "tags": []
          },
          "execution_count": 13
        }
      ]
    },
    {
      "cell_type": "code",
      "metadata": {
        "id": "C61JYKdTESFP",
        "colab_type": "code",
        "colab": {
          "base_uri": "https://localhost:8080/",
          "height": 34
        },
        "outputId": "f1a8d9e1-2d8f-4f83-963e-30438471a514"
      },
      "source": [
        "3.5 / 3"
      ],
      "execution_count": 14,
      "outputs": [
        {
          "output_type": "execute_result",
          "data": {
            "text/plain": [
              "1.1666666666666667"
            ]
          },
          "metadata": {
            "tags": []
          },
          "execution_count": 14
        }
      ]
    },
    {
      "cell_type": "markdown",
      "metadata": {
        "id": "JQ3Z6WMjBzHd",
        "colab_type": "text"
      },
      "source": [
        "# 스트링"
      ]
    },
    {
      "cell_type": "code",
      "metadata": {
        "id": "yX37ZP5GBECk",
        "colab_type": "code",
        "colab": {
          "base_uri": "https://localhost:8080/",
          "height": 67
        },
        "outputId": "a20261bc-19e5-44c1-f8f5-075cc34d74f5"
      },
      "source": [
        "print(\"hello\")\n",
        "print('hello')\n",
        "print(\"It's string\")"
      ],
      "execution_count": 15,
      "outputs": [
        {
          "output_type": "stream",
          "text": [
            "hello\n",
            "hello\n",
            "It's string\n"
          ],
          "name": "stdout"
        }
      ]
    },
    {
      "cell_type": "code",
      "metadata": {
        "id": "nVWD6OlsA2ua",
        "colab_type": "code",
        "colab": {
          "base_uri": "https://localhost:8080/",
          "height": 101
        },
        "outputId": "6f716423-e706-4f93-c0e0-84e976d6889d"
      },
      "source": [
        "\n",
        "print(\"\"\"\n",
        "Usage: thingy [OPTIONS]\n",
        "     -h                        Display this usage message\n",
        "     -H hostname               Hostname to connect to\n",
        "\"\"\")"
      ],
      "execution_count": 16,
      "outputs": [
        {
          "output_type": "stream",
          "text": [
            "\n",
            "Usage: thingy [OPTIONS]\n",
            "     -h                        Display this usage message\n",
            "     -H hostname               Hostname to connect to\n",
            "\n"
          ],
          "name": "stdout"
        }
      ]
    },
    {
      "cell_type": "code",
      "metadata": {
        "id": "dSB-2vm_Bqmp",
        "colab_type": "code",
        "colab": {
          "base_uri": "https://localhost:8080/",
          "height": 34
        },
        "outputId": "2aadaba9-ab78-4a57-b1ec-24402cffa4e8"
      },
      "source": [
        "3 * 'un' + 'ium'"
      ],
      "execution_count": 17,
      "outputs": [
        {
          "output_type": "execute_result",
          "data": {
            "text/plain": [
              "'unununium'"
            ]
          },
          "metadata": {
            "tags": []
          },
          "execution_count": 17
        }
      ]
    },
    {
      "cell_type": "markdown",
      "metadata": {
        "id": "uIU08ZacBUth",
        "colab_type": "text"
      },
      "source": [
        "# 변수"
      ]
    },
    {
      "cell_type": "code",
      "metadata": {
        "id": "QF_CAL8-Bqpe",
        "colab_type": "code",
        "colab": {
          "base_uri": "https://localhost:8080/",
          "height": 34
        },
        "outputId": "b0f2fd8e-b72c-47be-9d86-02a87890d9a2"
      },
      "source": [
        "a = 1\n",
        "b = 2\n",
        "c = a+b\n",
        "print(c)"
      ],
      "execution_count": 18,
      "outputs": [
        {
          "output_type": "stream",
          "text": [
            "3\n"
          ],
          "name": "stdout"
        }
      ]
    },
    {
      "cell_type": "code",
      "metadata": {
        "id": "kL3afYPCBEH8",
        "colab_type": "code",
        "colab": {
          "base_uri": "https://localhost:8080/",
          "height": 34
        },
        "outputId": "8323b9ab-d17e-42dc-8fcd-cf3b22716e7d"
      },
      "source": [
        "str1 = \"hi\"\n",
        "str2 = \"hello\"\n",
        "str3 = str1 + str2\n",
        "print(str3)\n"
      ],
      "execution_count": 19,
      "outputs": [
        {
          "output_type": "stream",
          "text": [
            "hihello\n"
          ],
          "name": "stdout"
        }
      ]
    },
    {
      "cell_type": "markdown",
      "metadata": {
        "id": "xoJRKKg7B9w3",
        "colab_type": "text"
      },
      "source": [
        "# List "
      ]
    },
    {
      "cell_type": "code",
      "metadata": {
        "id": "GZQTQf6lCD8G",
        "colab_type": "code",
        "colab": {
          "base_uri": "https://localhost:8080/",
          "height": 34
        },
        "outputId": "f6db01f5-121a-4281-88b8-c68a0a855226"
      },
      "source": [
        "l = [1,2,3,4,5]\n",
        "print(l)"
      ],
      "execution_count": 20,
      "outputs": [
        {
          "output_type": "stream",
          "text": [
            "[1, 2, 3, 4, 5]\n"
          ],
          "name": "stdout"
        }
      ]
    },
    {
      "cell_type": "code",
      "metadata": {
        "id": "jNRP9BreCD_J",
        "colab_type": "code",
        "colab": {
          "base_uri": "https://localhost:8080/",
          "height": 67
        },
        "outputId": "df2bfff6-80ce-4248-e3cb-c7b45016211f"
      },
      "source": [
        "print(l[0])\n",
        "print(l[1])\n",
        "print(l[4])"
      ],
      "execution_count": 21,
      "outputs": [
        {
          "output_type": "stream",
          "text": [
            "1\n",
            "2\n",
            "5\n"
          ],
          "name": "stdout"
        }
      ]
    },
    {
      "cell_type": "code",
      "metadata": {
        "id": "wDwVCv-jCEB5",
        "colab_type": "code",
        "colab": {
          "base_uri": "https://localhost:8080/",
          "height": 162
        },
        "outputId": "e0b83516-f8f5-44fd-92e6-86beb2b28b7c"
      },
      "source": [
        "print(l[5])"
      ],
      "execution_count": 22,
      "outputs": [
        {
          "output_type": "error",
          "ename": "IndexError",
          "evalue": "ignored",
          "traceback": [
            "\u001b[0;31m---------------------------------------------------------------------------\u001b[0m",
            "\u001b[0;31mIndexError\u001b[0m                                Traceback (most recent call last)",
            "\u001b[0;32m<ipython-input-22-6f1da3c3f1bb>\u001b[0m in \u001b[0;36m<module>\u001b[0;34m()\u001b[0m\n\u001b[0;32m----> 1\u001b[0;31m \u001b[0mprint\u001b[0m\u001b[0;34m(\u001b[0m\u001b[0ml\u001b[0m\u001b[0;34m[\u001b[0m\u001b[0;36m5\u001b[0m\u001b[0;34m]\u001b[0m\u001b[0;34m)\u001b[0m\u001b[0;34m\u001b[0m\u001b[0;34m\u001b[0m\u001b[0m\n\u001b[0m",
            "\u001b[0;31mIndexError\u001b[0m: list index out of range"
          ]
        }
      ]
    },
    {
      "cell_type": "code",
      "metadata": {
        "id": "8e3S4qzeCEG_",
        "colab_type": "code",
        "colab": {
          "base_uri": "https://localhost:8080/",
          "height": 101
        },
        "outputId": "8705c5d2-18bf-438f-ddd6-e1f01fb2cffe"
      },
      "source": [
        "print(l[-1])\n",
        "print(l[-2])\n",
        "print(l[-3])\n",
        "print(l[-4])\n",
        "print(l[-5])"
      ],
      "execution_count": 23,
      "outputs": [
        {
          "output_type": "stream",
          "text": [
            "5\n",
            "4\n",
            "3\n",
            "2\n",
            "1\n"
          ],
          "name": "stdout"
        }
      ]
    },
    {
      "cell_type": "code",
      "metadata": {
        "id": "bbvobKLuCEEk",
        "colab_type": "code",
        "colab": {
          "base_uri": "https://localhost:8080/",
          "height": 162
        },
        "outputId": "b1ddd50e-6f59-447a-9dc4-4f843832b22d"
      },
      "source": [
        "print(l[-6])"
      ],
      "execution_count": 24,
      "outputs": [
        {
          "output_type": "error",
          "ename": "IndexError",
          "evalue": "ignored",
          "traceback": [
            "\u001b[0;31m---------------------------------------------------------------------------\u001b[0m",
            "\u001b[0;31mIndexError\u001b[0m                                Traceback (most recent call last)",
            "\u001b[0;32m<ipython-input-24-1c6392390ebf>\u001b[0m in \u001b[0;36m<module>\u001b[0;34m()\u001b[0m\n\u001b[0;32m----> 1\u001b[0;31m \u001b[0mprint\u001b[0m\u001b[0;34m(\u001b[0m\u001b[0ml\u001b[0m\u001b[0;34m[\u001b[0m\u001b[0;34m-\u001b[0m\u001b[0;36m6\u001b[0m\u001b[0;34m]\u001b[0m\u001b[0;34m)\u001b[0m\u001b[0;34m\u001b[0m\u001b[0;34m\u001b[0m\u001b[0m\n\u001b[0m",
            "\u001b[0;31mIndexError\u001b[0m: list index out of range"
          ]
        }
      ]
    },
    {
      "cell_type": "code",
      "metadata": {
        "id": "WA6wcVL7CnOK",
        "colab_type": "code",
        "colab": {
          "base_uri": "https://localhost:8080/",
          "height": 101
        },
        "outputId": "b02486d1-2bdf-4c9f-b5dd-c0f624fcdd6a"
      },
      "source": [
        "print(l)\n",
        "print(l[1:3])\n",
        "print(l[:3])\n",
        "print(l[1:])\n",
        "print(l[:])"
      ],
      "execution_count": 25,
      "outputs": [
        {
          "output_type": "stream",
          "text": [
            "[1, 2, 3, 4, 5]\n",
            "[2, 3]\n",
            "[1, 2, 3]\n",
            "[2, 3, 4, 5]\n",
            "[1, 2, 3, 4, 5]\n"
          ],
          "name": "stdout"
        }
      ]
    },
    {
      "cell_type": "code",
      "metadata": {
        "id": "ARKGFM1ACnTx",
        "colab_type": "code",
        "colab": {
          "base_uri": "https://localhost:8080/",
          "height": 50
        },
        "outputId": "4ab0b159-240f-48b0-ec2e-9efc141b1f58"
      },
      "source": [
        "print(l[0:-1])\n",
        "print(l[0:])"
      ],
      "execution_count": 26,
      "outputs": [
        {
          "output_type": "stream",
          "text": [
            "[1, 2, 3, 4]\n",
            "[1, 2, 3, 4, 5]\n"
          ],
          "name": "stdout"
        }
      ]
    },
    {
      "cell_type": "code",
      "metadata": {
        "id": "geuEUqM1CpSA",
        "colab_type": "code",
        "colab": {
          "base_uri": "https://localhost:8080/",
          "height": 67
        },
        "outputId": "f43c0159-850f-40ca-c5be-1599febfc3c5"
      },
      "source": [
        "print(l[:])\n",
        "print(l[::1])\n",
        "print(l[::])"
      ],
      "execution_count": 27,
      "outputs": [
        {
          "output_type": "stream",
          "text": [
            "[1, 2, 3, 4, 5]\n",
            "[1, 2, 3, 4, 5]\n",
            "[1, 2, 3, 4, 5]\n"
          ],
          "name": "stdout"
        }
      ]
    },
    {
      "cell_type": "code",
      "metadata": {
        "id": "4X-q8mLICpVQ",
        "colab_type": "code",
        "colab": {
          "base_uri": "https://localhost:8080/",
          "height": 34
        },
        "outputId": "5b9d93d0-d7a6-48f2-f01d-702d1e8e9c32"
      },
      "source": [
        "print(l[::-1])"
      ],
      "execution_count": 28,
      "outputs": [
        {
          "output_type": "stream",
          "text": [
            "[5, 4, 3, 2, 1]\n"
          ],
          "name": "stdout"
        }
      ]
    },
    {
      "cell_type": "code",
      "metadata": {
        "id": "xr-spjrMCnRB",
        "colab_type": "code",
        "colab": {
          "base_uri": "https://localhost:8080/",
          "height": 50
        },
        "outputId": "978d0b69-c6f4-4194-9fe2-e4223f7482dc"
      },
      "source": [
        "l = [1,2,3,4,5]\n",
        "print(l)\n",
        "l[3] = 99\n",
        "print(l)"
      ],
      "execution_count": 29,
      "outputs": [
        {
          "output_type": "stream",
          "text": [
            "[1, 2, 3, 4, 5]\n",
            "[1, 2, 3, 99, 5]\n"
          ],
          "name": "stdout"
        }
      ]
    },
    {
      "cell_type": "code",
      "metadata": {
        "id": "K51Id5IiDMAO",
        "colab_type": "code",
        "colab": {
          "base_uri": "https://localhost:8080/",
          "height": 50
        },
        "outputId": "52579966-80a2-4a03-f8fa-26fde4b243b4"
      },
      "source": [
        "l = [1,2,3,4,5]\n",
        "print(l)\n",
        "l2 = l + [11,12,13]\n",
        "print(l2)"
      ],
      "execution_count": 30,
      "outputs": [
        {
          "output_type": "stream",
          "text": [
            "[1, 2, 3, 4, 5]\n",
            "[1, 2, 3, 4, 5, 11, 12, 13]\n"
          ],
          "name": "stdout"
        }
      ]
    },
    {
      "cell_type": "markdown",
      "metadata": {
        "id": "rFmVGDw0B94i",
        "colab_type": "text"
      },
      "source": [
        "# List 처럼 처리되는 String"
      ]
    },
    {
      "cell_type": "code",
      "metadata": {
        "id": "S-GgB_2qDMJD",
        "colab_type": "code",
        "colab": {
          "base_uri": "https://localhost:8080/",
          "height": 84
        },
        "outputId": "65ebec33-18b7-4943-add2-757e7721f461"
      },
      "source": [
        "s = \"abcde\"\n",
        "print(s)\n",
        "print(s[0])\n",
        "print(s[1])\n",
        "print(s[-1])"
      ],
      "execution_count": 31,
      "outputs": [
        {
          "output_type": "stream",
          "text": [
            "abcde\n",
            "a\n",
            "b\n",
            "e\n"
          ],
          "name": "stdout"
        }
      ]
    },
    {
      "cell_type": "code",
      "metadata": {
        "id": "gjjNcdalDMOb",
        "colab_type": "code",
        "colab": {
          "base_uri": "https://localhost:8080/",
          "height": 67
        },
        "outputId": "4f329b06-e8d3-4c86-fd89-f497667e31df"
      },
      "source": [
        "s = \"abcde\"\n",
        "print(s[:])\n",
        "print(s[1:4])\n",
        "print(s[::-1])"
      ],
      "execution_count": 32,
      "outputs": [
        {
          "output_type": "stream",
          "text": [
            "abcde\n",
            "bcd\n",
            "edcba\n"
          ],
          "name": "stdout"
        }
      ]
    },
    {
      "cell_type": "code",
      "metadata": {
        "id": "mo_d_F4yDMMF",
        "colab_type": "code",
        "colab": {
          "base_uri": "https://localhost:8080/",
          "height": 179
        },
        "outputId": "48f83a38-f2e4-4fb2-e0ba-27fea9ec885f"
      },
      "source": [
        "s = \"abcde\"\n",
        "s[3] = \"X\""
      ],
      "execution_count": 33,
      "outputs": [
        {
          "output_type": "error",
          "ename": "TypeError",
          "evalue": "ignored",
          "traceback": [
            "\u001b[0;31m---------------------------------------------------------------------------\u001b[0m",
            "\u001b[0;31mTypeError\u001b[0m                                 Traceback (most recent call last)",
            "\u001b[0;32m<ipython-input-33-d1a62f13422e>\u001b[0m in \u001b[0;36m<module>\u001b[0;34m()\u001b[0m\n\u001b[1;32m      1\u001b[0m \u001b[0ms\u001b[0m \u001b[0;34m=\u001b[0m \u001b[0;34m\"abcde\"\u001b[0m\u001b[0;34m\u001b[0m\u001b[0;34m\u001b[0m\u001b[0m\n\u001b[0;32m----> 2\u001b[0;31m \u001b[0ms\u001b[0m\u001b[0;34m[\u001b[0m\u001b[0;36m3\u001b[0m\u001b[0;34m]\u001b[0m \u001b[0;34m=\u001b[0m \u001b[0;34m\"X\"\u001b[0m\u001b[0;34m\u001b[0m\u001b[0;34m\u001b[0m\u001b[0m\n\u001b[0m",
            "\u001b[0;31mTypeError\u001b[0m: 'str' object does not support item assignment"
          ]
        }
      ]
    },
    {
      "cell_type": "markdown",
      "metadata": {
        "id": "vdx9L5DYD52I",
        "colab_type": "text"
      },
      "source": [
        "# Dictonary"
      ]
    },
    {
      "cell_type": "code",
      "metadata": {
        "id": "RwL0_w7rDMG0",
        "colab_type": "code",
        "colab": {
          "base_uri": "https://localhost:8080/",
          "height": 246
        },
        "outputId": "9cc75e98-e808-4115-b5f0-9efb2b37f35f"
      },
      "source": [
        "d = { \"a\":1, \"b\":2, \"c\":3 }\n",
        "print(d)\n",
        "print(d[\"a\"])\n",
        "print(d[\"b\"])\n",
        "print(d[\"x\"])"
      ],
      "execution_count": 34,
      "outputs": [
        {
          "output_type": "stream",
          "text": [
            "{'a': 1, 'b': 2, 'c': 3}\n",
            "1\n",
            "2\n"
          ],
          "name": "stdout"
        },
        {
          "output_type": "error",
          "ename": "KeyError",
          "evalue": "ignored",
          "traceback": [
            "\u001b[0;31m---------------------------------------------------------------------------\u001b[0m",
            "\u001b[0;31mKeyError\u001b[0m                                  Traceback (most recent call last)",
            "\u001b[0;32m<ipython-input-34-e4a3772c22da>\u001b[0m in \u001b[0;36m<module>\u001b[0;34m()\u001b[0m\n\u001b[1;32m      3\u001b[0m \u001b[0mprint\u001b[0m\u001b[0;34m(\u001b[0m\u001b[0md\u001b[0m\u001b[0;34m[\u001b[0m\u001b[0;34m\"a\"\u001b[0m\u001b[0;34m]\u001b[0m\u001b[0;34m)\u001b[0m\u001b[0;34m\u001b[0m\u001b[0;34m\u001b[0m\u001b[0m\n\u001b[1;32m      4\u001b[0m \u001b[0mprint\u001b[0m\u001b[0;34m(\u001b[0m\u001b[0md\u001b[0m\u001b[0;34m[\u001b[0m\u001b[0;34m\"b\"\u001b[0m\u001b[0;34m]\u001b[0m\u001b[0;34m)\u001b[0m\u001b[0;34m\u001b[0m\u001b[0;34m\u001b[0m\u001b[0m\n\u001b[0;32m----> 5\u001b[0;31m \u001b[0mprint\u001b[0m\u001b[0;34m(\u001b[0m\u001b[0md\u001b[0m\u001b[0;34m[\u001b[0m\u001b[0;34m\"x\"\u001b[0m\u001b[0;34m]\u001b[0m\u001b[0;34m)\u001b[0m\u001b[0;34m\u001b[0m\u001b[0;34m\u001b[0m\u001b[0m\n\u001b[0m",
            "\u001b[0;31mKeyError\u001b[0m: 'x'"
          ]
        }
      ]
    },
    {
      "cell_type": "code",
      "metadata": {
        "id": "WorRQUp5DMEM",
        "colab_type": "code",
        "colab": {
          "base_uri": "https://localhost:8080/",
          "height": 246
        },
        "outputId": "51979118-b209-4177-8e24-b8eaf6c95d40"
      },
      "source": [
        "d = { 1:\"a\", 2:\"b\", 3:\"c\" }\n",
        "print(d)\n",
        "print(d[1])\n",
        "print(d[2])\n",
        "print(d[0])"
      ],
      "execution_count": 35,
      "outputs": [
        {
          "output_type": "stream",
          "text": [
            "{1: 'a', 2: 'b', 3: 'c'}\n",
            "a\n",
            "b\n"
          ],
          "name": "stdout"
        },
        {
          "output_type": "error",
          "ename": "KeyError",
          "evalue": "ignored",
          "traceback": [
            "\u001b[0;31m---------------------------------------------------------------------------\u001b[0m",
            "\u001b[0;31mKeyError\u001b[0m                                  Traceback (most recent call last)",
            "\u001b[0;32m<ipython-input-35-09f61de87b28>\u001b[0m in \u001b[0;36m<module>\u001b[0;34m()\u001b[0m\n\u001b[1;32m      3\u001b[0m \u001b[0mprint\u001b[0m\u001b[0;34m(\u001b[0m\u001b[0md\u001b[0m\u001b[0;34m[\u001b[0m\u001b[0;36m1\u001b[0m\u001b[0;34m]\u001b[0m\u001b[0;34m)\u001b[0m\u001b[0;34m\u001b[0m\u001b[0;34m\u001b[0m\u001b[0m\n\u001b[1;32m      4\u001b[0m \u001b[0mprint\u001b[0m\u001b[0;34m(\u001b[0m\u001b[0md\u001b[0m\u001b[0;34m[\u001b[0m\u001b[0;36m2\u001b[0m\u001b[0;34m]\u001b[0m\u001b[0;34m)\u001b[0m\u001b[0;34m\u001b[0m\u001b[0;34m\u001b[0m\u001b[0m\n\u001b[0;32m----> 5\u001b[0;31m \u001b[0mprint\u001b[0m\u001b[0;34m(\u001b[0m\u001b[0md\u001b[0m\u001b[0;34m[\u001b[0m\u001b[0;36m0\u001b[0m\u001b[0;34m]\u001b[0m\u001b[0;34m)\u001b[0m\u001b[0;34m\u001b[0m\u001b[0;34m\u001b[0m\u001b[0m\n\u001b[0m",
            "\u001b[0;31mKeyError\u001b[0m: 0"
          ]
        }
      ]
    },
    {
      "cell_type": "code",
      "metadata": {
        "id": "T0Gj9ubcBqsI",
        "colab_type": "code",
        "colab": {
          "base_uri": "https://localhost:8080/",
          "height": 67
        },
        "outputId": "cd855780-b78b-46a0-dd7e-5536dbddcbf8"
      },
      "source": [
        "l = [1,2,3,4,5]\n",
        "print(l[1])\n",
        "print(l[2])\n",
        "print(l[0])"
      ],
      "execution_count": 36,
      "outputs": [
        {
          "output_type": "stream",
          "text": [
            "2\n",
            "3\n",
            "1\n"
          ],
          "name": "stdout"
        }
      ]
    },
    {
      "cell_type": "markdown",
      "metadata": {
        "id": "yUjv3n9iEzZF",
        "colab_type": "text"
      },
      "source": [
        "# 연산자\n",
        "\n",
        "- +\n",
        "- -\n",
        "- *\n",
        "- /\n",
        "- %\n",
        "- //\n",
        "- **\n",
        "\n",
        "## 비교\n",
        "\n",
        "- ==\n",
        "- !=\n",
        "- >\n",
        "- <\n",
        "- >=\n",
        "- <=\n",
        "\n",
        "## 논리\n",
        "\n",
        "- and\n",
        "- or\n",
        "- not\n",
        "\n",
        "## 증감\n",
        "\n",
        "- +=\n",
        "- -=\n",
        "- *=\n",
        "- /=\n",
        "- %=\n",
        "- //=\n",
        "- **=\n",
        "\n"
      ]
    },
    {
      "cell_type": "code",
      "metadata": {
        "id": "TF1oNY-0Fmk7",
        "colab_type": "code",
        "colab": {
          "base_uri": "https://localhost:8080/",
          "height": 50
        },
        "outputId": "b6c23010-81d9-492e-b51c-bb38294c2575"
      },
      "source": [
        "print(1==1)\n",
        "print(1!=1)"
      ],
      "execution_count": 37,
      "outputs": [
        {
          "output_type": "stream",
          "text": [
            "True\n",
            "False\n"
          ],
          "name": "stdout"
        }
      ]
    },
    {
      "cell_type": "code",
      "metadata": {
        "id": "jg97LNHwFnI6",
        "colab_type": "code",
        "colab": {
          "base_uri": "https://localhost:8080/",
          "height": 50
        },
        "outputId": "af6ae05a-d0e2-42fb-86bc-f1b7ffa05302"
      },
      "source": [
        "result = (1==1)\n",
        "print(result)\n",
        "result = False\n",
        "print(result)"
      ],
      "execution_count": 38,
      "outputs": [
        {
          "output_type": "stream",
          "text": [
            "True\n",
            "False\n"
          ],
          "name": "stdout"
        }
      ]
    },
    {
      "cell_type": "code",
      "metadata": {
        "id": "m1M7TmpmFnGH",
        "colab_type": "code",
        "colab": {}
      },
      "source": [
        ""
      ],
      "execution_count": 0,
      "outputs": []
    },
    {
      "cell_type": "markdown",
      "metadata": {
        "id": "axFQj9XIGEub",
        "colab_type": "text"
      },
      "source": [
        "# for 루프"
      ]
    },
    {
      "cell_type": "code",
      "metadata": {
        "id": "QcRFZ8m8GGN_",
        "colab_type": "code",
        "colab": {
          "base_uri": "https://localhost:8080/",
          "height": 269
        },
        "outputId": "5066ab8c-cc3b-479f-d876-602e84fe3a9e"
      },
      "source": [
        "print(1*2)\n",
        "print(2*2)\n",
        "print(3*2)\n",
        "print(4*2)\n",
        "print(5*2)\n",
        "\n",
        "i=1\n",
        "print(i*2)\n",
        "i=2\n",
        "print(i*2)\n",
        "i=3\n",
        "print(i*2)\n",
        "i=4\n",
        "print(i*2)\n",
        "i=5\n",
        "print(i*2)\n",
        "\n",
        "for i in [1,2,3,4,5]:\n",
        "  print(i*2)\n",
        "\n"
      ],
      "execution_count": 39,
      "outputs": [
        {
          "output_type": "stream",
          "text": [
            "2\n",
            "4\n",
            "6\n",
            "8\n",
            "10\n",
            "2\n",
            "4\n",
            "6\n",
            "8\n",
            "10\n",
            "2\n",
            "4\n",
            "6\n",
            "8\n",
            "10\n"
          ],
          "name": "stdout"
        }
      ]
    },
    {
      "cell_type": "code",
      "metadata": {
        "id": "St-p7UfXGGoN",
        "colab_type": "code",
        "colab": {
          "base_uri": "https://localhost:8080/",
          "height": 101
        },
        "outputId": "b02e8b4e-a12c-4f5c-c4dd-04f184cde1fa"
      },
      "source": [
        "l = [1,2,3,4,5]\n",
        "\n",
        "for i in l:\n",
        "  print(i*2)"
      ],
      "execution_count": 40,
      "outputs": [
        {
          "output_type": "stream",
          "text": [
            "2\n",
            "4\n",
            "6\n",
            "8\n",
            "10\n"
          ],
          "name": "stdout"
        }
      ]
    },
    {
      "cell_type": "code",
      "metadata": {
        "id": "eSD1dF0BGGwT",
        "colab_type": "code",
        "colab": {
          "base_uri": "https://localhost:8080/",
          "height": 202
        },
        "outputId": "81bd025b-18a5-4368-a7cf-31632cfba763"
      },
      "source": [
        "l = list(range(5))\n",
        "print(l)\n",
        "\n",
        "for i in l:\n",
        "  print(i)\n",
        "  \n",
        "for i in range(5):\n",
        "  print(i)"
      ],
      "execution_count": 41,
      "outputs": [
        {
          "output_type": "stream",
          "text": [
            "[0, 1, 2, 3, 4]\n",
            "0\n",
            "1\n",
            "2\n",
            "3\n",
            "4\n",
            "0\n",
            "1\n",
            "2\n",
            "3\n",
            "4\n"
          ],
          "name": "stdout"
        }
      ]
    },
    {
      "cell_type": "code",
      "metadata": {
        "id": "XHt7x7amGGti",
        "colab_type": "code",
        "colab": {
          "base_uri": "https://localhost:8080/",
          "height": 101
        },
        "outputId": "7a767f1a-0a76-4a9d-9508-909807547df6"
      },
      "source": [
        "for i in range(5): # 0에서 5 바로 전 4까지. 5개\n",
        "  print(i)"
      ],
      "execution_count": 42,
      "outputs": [
        {
          "output_type": "stream",
          "text": [
            "0\n",
            "1\n",
            "2\n",
            "3\n",
            "4\n"
          ],
          "name": "stdout"
        }
      ]
    },
    {
      "cell_type": "code",
      "metadata": {
        "id": "G5y2ZB-oGGrJ",
        "colab_type": "code",
        "colab": {
          "base_uri": "https://localhost:8080/",
          "height": 336
        },
        "outputId": "73a39378-3768-49fc-95c9-11bada878272"
      },
      "source": [
        "for i in range(3): # 3번\n",
        "  print(i)\n",
        "  \n",
        "for i in range(6): # 6번\n",
        "  print(i)\n",
        "  \n",
        "for i in range(10): # 10번\n",
        "  print(i)"
      ],
      "execution_count": 43,
      "outputs": [
        {
          "output_type": "stream",
          "text": [
            "0\n",
            "1\n",
            "2\n",
            "0\n",
            "1\n",
            "2\n",
            "3\n",
            "4\n",
            "5\n",
            "0\n",
            "1\n",
            "2\n",
            "3\n",
            "4\n",
            "5\n",
            "6\n",
            "7\n",
            "8\n",
            "9\n"
          ],
          "name": "stdout"
        }
      ]
    },
    {
      "cell_type": "code",
      "metadata": {
        "id": "PEqv8vIZG_dL",
        "colab_type": "code",
        "colab": {
          "base_uri": "https://localhost:8080/",
          "height": 168
        },
        "outputId": "9d3ccfb6-ad20-4199-e1bf-2d537c0ebfc6"
      },
      "source": [
        "for i in range(1,6): # 1부터 6 바로전 5까지.\n",
        "  print(i)\n",
        "  \n",
        "for i in range(2,6): # 2부터 6 바로전 5까지.  \n",
        "  print(i)"
      ],
      "execution_count": 44,
      "outputs": [
        {
          "output_type": "stream",
          "text": [
            "1\n",
            "2\n",
            "3\n",
            "4\n",
            "5\n",
            "2\n",
            "3\n",
            "4\n",
            "5\n"
          ],
          "name": "stdout"
        }
      ]
    },
    {
      "cell_type": "code",
      "metadata": {
        "id": "QTh8xXc2HONc",
        "colab_type": "code",
        "colab": {
          "base_uri": "https://localhost:8080/",
          "height": 84
        },
        "outputId": "2e8c379b-6050-4f0e-be5e-6d84229b2018"
      },
      "source": [
        "for i in range(1,9,2): # 1부터 9바로전 8까지, 2스텝으로\n",
        "  print(i)"
      ],
      "execution_count": 45,
      "outputs": [
        {
          "output_type": "stream",
          "text": [
            "1\n",
            "3\n",
            "5\n",
            "7\n"
          ],
          "name": "stdout"
        }
      ]
    },
    {
      "cell_type": "code",
      "metadata": {
        "id": "EdQoFGFdHVJ6",
        "colab_type": "code",
        "colab": {
          "base_uri": "https://localhost:8080/",
          "height": 101
        },
        "outputId": "cdea1cc7-0591-4c2b-a56e-a54bc30307c6"
      },
      "source": [
        "for i in range(0,9,2): # 0부터 9바로전 8까지, 2스템으로\n",
        "  print(i)\n",
        "  "
      ],
      "execution_count": 46,
      "outputs": [
        {
          "output_type": "stream",
          "text": [
            "0\n",
            "2\n",
            "4\n",
            "6\n",
            "8\n"
          ],
          "name": "stdout"
        }
      ]
    },
    {
      "cell_type": "markdown",
      "metadata": {
        "id": "IciQlSu7I6la",
        "colab_type": "text"
      },
      "source": [
        "# Quiz\n",
        "\n",
        "100에서 200까지 중에서 7로 나누어 지고 5의 배수인 숫자들의 리스트\n",
        "\n"
      ]
    },
    {
      "cell_type": "code",
      "metadata": {
        "id": "mkl8x0rjJF_a",
        "colab_type": "code",
        "colab": {
          "base_uri": "https://localhost:8080/",
          "height": 34
        },
        "outputId": "3d61ebc9-0d8d-471a-9086-381c7365f665"
      },
      "source": [
        "# 1500에서 1700까지 숫자를 출력\n",
        "# list l을 정의하고\n",
        "# (7로 나누어 지고) && (5로 나누어지면) l에 추가\n",
        "\n",
        "l = []\n",
        "\n",
        "for i in range(100,200+1):\n",
        "  if (i%7 == 0) and (i%5 == 0):\n",
        "    l.append(i)\n",
        "  \n",
        "print(l)"
      ],
      "execution_count": 47,
      "outputs": [
        {
          "output_type": "stream",
          "text": [
            "[105, 140, 175]\n"
          ],
          "name": "stdout"
        }
      ]
    },
    {
      "cell_type": "markdown",
      "metadata": {
        "id": "kqtK4OnIJV0v",
        "colab_type": "text"
      },
      "source": [
        "# Quiz. \n",
        "\n",
        "다음을 출력\n",
        "\n",
        "```\n",
        "*\n",
        "**\n",
        "***\n",
        "****\n",
        "*****\n",
        "```"
      ]
    },
    {
      "cell_type": "code",
      "metadata": {
        "id": "BqTHSG62JgK9",
        "colab_type": "code",
        "colab": {
          "base_uri": "https://localhost:8080/",
          "height": 269
        },
        "outputId": "7e7e2edc-c917-40ad-b217-4eb174d33f48"
      },
      "source": [
        "# 첫줄엔 1, 둣째 줄엔 2, 셋째줄에 3, 이렇게 5줄 출력\n",
        "\n",
        "for i in range(1,6):\n",
        "  print(i)\n",
        "  \n",
        "# i에 담긴 숫자만큼 별을 직는다.\n",
        "i = 1\n",
        "for j in range(i):\n",
        "  print(\"*\", end='')\n",
        "print()\n",
        "\n",
        "i = 2\n",
        "for j in range(i):\n",
        "  print(\"*\", end='')\n",
        "print()\n",
        "\n",
        "\n",
        "i = 3\n",
        "for j in range(i):\n",
        "  print(\"*\", end='')\n",
        "print()\n",
        "\n",
        "\n",
        "i = 4\n",
        "for j in range(i):\n",
        "  print(\"*\", end='')\n",
        "print()\n",
        "\n",
        "\n",
        "i = 5\n",
        "for j in range(i):\n",
        "  print(\"*\", end='')\n",
        "print()\n",
        "\n",
        "for i in range(1,6):\n",
        "  for j in range(i):\n",
        "    print(\"*\", end='')\n",
        "  print()"
      ],
      "execution_count": 48,
      "outputs": [
        {
          "output_type": "stream",
          "text": [
            "1\n",
            "2\n",
            "3\n",
            "4\n",
            "5\n",
            "*\n",
            "**\n",
            "***\n",
            "****\n",
            "*****\n",
            "*\n",
            "**\n",
            "***\n",
            "****\n",
            "*****\n"
          ],
          "name": "stdout"
        }
      ]
    },
    {
      "cell_type": "markdown",
      "metadata": {
        "id": "wBvMpmxyJuSe",
        "colab_type": "text"
      },
      "source": [
        "# Quiz\n",
        "\n",
        "[1,2,3,4,5,6,7,8,0]에서 짝수의 갯수, 홀수의 갯수"
      ]
    },
    {
      "cell_type": "code",
      "metadata": {
        "id": "bRnB8yFxJsvO",
        "colab_type": "code",
        "colab": {
          "base_uri": "https://localhost:8080/",
          "height": 50
        },
        "outputId": "cb2888a7-2d49-4cb2-bd73-e99ece039e3a"
      },
      "source": [
        "# event_count과 odd_count를 0으로 선언\n",
        "# 1~9 반복\n",
        "# 짝수면 even_count를 1 증가, 아니면 odd_count를 1 증가\n",
        "\n",
        "even_count = 0\n",
        "odd_count = 0\n",
        "\n",
        "for i in range(1,10):\n",
        "  if i%2==0:\n",
        "    even_count += 1\n",
        "  else:\n",
        "    odd_count += 1\n",
        "    \n",
        "print(even_count)\n",
        "print(odd_count)"
      ],
      "execution_count": 49,
      "outputs": [
        {
          "output_type": "stream",
          "text": [
            "4\n",
            "5\n"
          ],
          "name": "stdout"
        }
      ]
    },
    {
      "cell_type": "markdown",
      "metadata": {
        "id": "NvAOczD2J7J1",
        "colab_type": "text"
      },
      "source": [
        "# Quiz\n",
        "\n",
        "\"Python 3.7\"에서 알파벳의 갯수와 숫자의 갯수"
      ]
    },
    {
      "cell_type": "code",
      "metadata": {
        "id": "hnbLigWzJ5Qi",
        "colab_type": "code",
        "colab": {
          "base_uri": "https://localhost:8080/",
          "height": 50
        },
        "outputId": "e3442179-256f-478b-82dd-e24e24958aef"
      },
      "source": [
        "# letter_count, digit_count를 0으로 선언하고\n",
        "# \"Python 3.2\"의 각 char마다 루프\n",
        "# 각 char이 letter이면 letter_count를 1 증가, 숫자이면 digit_count를 1 증가\n",
        "\n",
        "letter_count = 0\n",
        "digit_count = 0\n",
        "\n",
        "import string\n",
        "\n",
        "letter_list = string.ascii_letters # 'abcdefghijklmnopqrstuvwxyzABCDEFGHIJKLMNOPQRSTUVWXYZ'\n",
        "digit_list = string.digits # '0123456789'\n",
        "\n",
        "for i in 'Python 3.7':\n",
        "  \n",
        "  if i in letter_list:\n",
        "    letter_count += 1\n",
        "  if i in digit_list:\n",
        "    digit_count += 1\n",
        "    \n",
        "print(letter_count)\n",
        "print(digit_count)"
      ],
      "execution_count": 50,
      "outputs": [
        {
          "output_type": "stream",
          "text": [
            "6\n",
            "2\n"
          ],
          "name": "stdout"
        }
      ]
    },
    {
      "cell_type": "code",
      "metadata": {
        "id": "9fnWXH6SKEz0",
        "colab_type": "code",
        "colab": {
          "base_uri": "https://localhost:8080/",
          "height": 87
        },
        "outputId": "ba2917a3-dfb8-40bf-c8d8-18ff40fad5aa"
      },
      "source": [
        "import string\n",
        "\n",
        "print(dir(string))\n",
        "print(string.ascii_letters)\n",
        "print(string.digits)"
      ],
      "execution_count": 51,
      "outputs": [
        {
          "output_type": "stream",
          "text": [
            "['Formatter', 'Template', '_ChainMap', '_TemplateMetaclass', '__all__', '__builtins__', '__cached__', '__doc__', '__file__', '__loader__', '__name__', '__package__', '__spec__', '_re', '_string', 'ascii_letters', 'ascii_lowercase', 'ascii_uppercase', 'capwords', 'digits', 'hexdigits', 'octdigits', 'printable', 'punctuation', 'whitespace']\n",
            "abcdefghijklmnopqrstuvwxyzABCDEFGHIJKLMNOPQRSTUVWXYZ\n",
            "0123456789\n"
          ],
          "name": "stdout"
        }
      ]
    },
    {
      "cell_type": "markdown",
      "metadata": {
        "id": "HdQMycUnHsGM",
        "colab_type": "text"
      },
      "source": [
        "# 조건문"
      ]
    },
    {
      "cell_type": "code",
      "metadata": {
        "id": "GweZ0byMHawr",
        "colab_type": "code",
        "colab": {
          "base_uri": "https://localhost:8080/",
          "height": 34
        },
        "outputId": "683263d2-cce5-4e4f-842f-1182d2368f0f"
      },
      "source": [
        "temp = 30\n",
        "if temp<10:\n",
        "  print(\"cold\")\n",
        "else:\n",
        "  print(\"good\")"
      ],
      "execution_count": 52,
      "outputs": [
        {
          "output_type": "stream",
          "text": [
            "good\n"
          ],
          "name": "stdout"
        }
      ]
    },
    {
      "cell_type": "code",
      "metadata": {
        "id": "g1dWokZQHt0G",
        "colab_type": "code",
        "colab": {
          "base_uri": "https://localhost:8080/",
          "height": 34
        },
        "outputId": "b7f66dd6-3544-4b32-ded6-80fbe97b13a9"
      },
      "source": [
        "temp = 30\n",
        "if temp<10:\n",
        "  print(\"cold\")\n",
        "elif temp<20:\n",
        "  print(\"good\")\n",
        "else:\n",
        "  print(\"hot\")"
      ],
      "execution_count": 53,
      "outputs": [
        {
          "output_type": "stream",
          "text": [
            "hot\n"
          ],
          "name": "stdout"
        }
      ]
    },
    {
      "cell_type": "code",
      "metadata": {
        "id": "kRwHJ3xvHt5U",
        "colab_type": "code",
        "colab": {
          "base_uri": "https://localhost:8080/",
          "height": 34
        },
        "outputId": "fa4e26a3-b689-42e1-808a-2cb81f57f10f"
      },
      "source": [
        "l = [1,2,3,4,5]\n",
        "if 3 in l:\n",
        "  print(\"exist\")\n",
        "else:\n",
        "  print(\"not exist\")"
      ],
      "execution_count": 54,
      "outputs": [
        {
          "output_type": "stream",
          "text": [
            "exist\n"
          ],
          "name": "stdout"
        }
      ]
    },
    {
      "cell_type": "code",
      "metadata": {
        "id": "H034KnkTHt8_",
        "colab_type": "code",
        "colab": {
          "base_uri": "https://localhost:8080/",
          "height": 34
        },
        "outputId": "a20ebb50-4530-4420-a123-7cb8f5d7898d"
      },
      "source": [
        "l = [1,2,3,4,5]\n",
        "if not 3 in l:\n",
        "  print(\"not exist\")\n",
        "else:\n",
        "  print(\"exist\")"
      ],
      "execution_count": 55,
      "outputs": [
        {
          "output_type": "stream",
          "text": [
            "exist\n"
          ],
          "name": "stdout"
        }
      ]
    },
    {
      "cell_type": "markdown",
      "metadata": {
        "id": "qKb0-PR6--ay",
        "colab_type": "text"
      },
      "source": [
        "# Comprehisive List"
      ]
    },
    {
      "cell_type": "code",
      "metadata": {
        "id": "wpmomkQ8_B9R",
        "colab_type": "code",
        "colab": {
          "base_uri": "https://localhost:8080/",
          "height": 67
        },
        "outputId": "1526ef36-922f-49f6-efb5-af660eb8d483"
      },
      "source": [
        "l = [1,2,3,4,5]\n",
        "print(l)\n",
        "\n",
        "l2 = []\n",
        "for i in l:\n",
        "  l2.append(i*2)\n",
        "  \n",
        "print(l2)\n",
        "\n",
        "l2 = [ i*2 for i in l ]\n",
        "print(l2)"
      ],
      "execution_count": 56,
      "outputs": [
        {
          "output_type": "stream",
          "text": [
            "[1, 2, 3, 4, 5]\n",
            "[2, 4, 6, 8, 10]\n",
            "[2, 4, 6, 8, 10]\n"
          ],
          "name": "stdout"
        }
      ]
    },
    {
      "cell_type": "code",
      "metadata": {
        "id": "QsbcolS4_bnJ",
        "colab_type": "code",
        "colab": {
          "base_uri": "https://localhost:8080/",
          "height": 50
        },
        "outputId": "bf88f7c8-20d9-466a-84e5-15769e933ffe"
      },
      "source": [
        "l = [1,2,3,4,5]\n",
        "\n",
        "l2 = []\n",
        "for i in l:\n",
        "  if i%2==0:\n",
        "    l2.append(i)\n",
        "print(l2)\n",
        "\n",
        "l2 = [ i for i in l if i%2==0 ]\n",
        "print(l2)"
      ],
      "execution_count": 57,
      "outputs": [
        {
          "output_type": "stream",
          "text": [
            "[2, 4]\n",
            "[2, 4]\n"
          ],
          "name": "stdout"
        }
      ]
    },
    {
      "cell_type": "code",
      "metadata": {
        "id": "7CxqXzaN_wle",
        "colab_type": "code",
        "colab": {
          "base_uri": "https://localhost:8080/",
          "height": 84
        },
        "outputId": "5272b61d-2346-4561-c39c-b3b6a284eda2"
      },
      "source": [
        "l1 = [1,2,3,4,5]\n",
        "\n",
        "print(l1)\n",
        "\n",
        "l2 = [ i*2 for i in l1 ]\n",
        "print(l2)\n",
        "l3 = [ i**2 for i in l2 ]\n",
        "print(l3)\n",
        "\n",
        "\n",
        "l3 = [ i**2 for i in [ i*2 for i in l1] ]\n",
        "print(l3)"
      ],
      "execution_count": 58,
      "outputs": [
        {
          "output_type": "stream",
          "text": [
            "[1, 2, 3, 4, 5]\n",
            "[2, 4, 6, 8, 10]\n",
            "[4, 16, 36, 64, 100]\n",
            "[4, 16, 36, 64, 100]\n"
          ],
          "name": "stdout"
        }
      ]
    },
    {
      "cell_type": "markdown",
      "metadata": {
        "id": "3ezMZz4CIaQb",
        "colab_type": "text"
      },
      "source": [
        "# 타입"
      ]
    },
    {
      "cell_type": "code",
      "metadata": {
        "id": "SJxe7njAIbpR",
        "colab_type": "code",
        "colab": {
          "base_uri": "https://localhost:8080/",
          "height": 118
        },
        "outputId": "03c2d889-700a-463d-955c-59ef8da365b8"
      },
      "source": [
        "print(type( 1 ))\n",
        "print(type( 1.0 ))\n",
        "print(type( \"hi\" ))\n",
        "print(type( 1==1 ))\n",
        "print(type( [1,2,3,4,5] ))\n",
        "print(type( {\"a\":1, \"b\":2 }))\n"
      ],
      "execution_count": 59,
      "outputs": [
        {
          "output_type": "stream",
          "text": [
            "<class 'int'>\n",
            "<class 'float'>\n",
            "<class 'str'>\n",
            "<class 'bool'>\n",
            "<class 'list'>\n",
            "<class 'dict'>\n"
          ],
          "name": "stdout"
        }
      ]
    },
    {
      "cell_type": "markdown",
      "metadata": {
        "id": "QrAkhx1FKL3r",
        "colab_type": "text"
      },
      "source": [
        "# 내장 함수\n",
        "\n",
        "## str(), int(), float()"
      ]
    },
    {
      "cell_type": "code",
      "metadata": {
        "id": "Z9hq-SvJIcoj",
        "colab_type": "code",
        "colab": {
          "base_uri": "https://localhost:8080/",
          "height": 101
        },
        "outputId": "f04a7a8b-abb1-4163-d768-5ede62485bfc"
      },
      "source": [
        "v = 3\n",
        "hi = \"hi\"\n",
        "\n",
        "print(v+5)\n",
        "print(hi +\" hello\")\n",
        "\n",
        "print(hi + str(v)) # 'hi3'\n",
        "\n",
        "print(int(v)+3) # 6\n",
        "\n",
        "print(float('3.5')+3) # 3.5+3 -> 6.5"
      ],
      "execution_count": 60,
      "outputs": [
        {
          "output_type": "stream",
          "text": [
            "8\n",
            "hi hello\n",
            "hi3\n",
            "6\n",
            "6.5\n"
          ],
          "name": "stdout"
        }
      ]
    },
    {
      "cell_type": "markdown",
      "metadata": {
        "id": "VLPBiQuxL4TK",
        "colab_type": "text"
      },
      "source": [
        "## list(), set()"
      ]
    },
    {
      "cell_type": "code",
      "metadata": {
        "id": "6k9rl3EuIciP",
        "colab_type": "code",
        "colab": {
          "base_uri": "https://localhost:8080/",
          "height": 84
        },
        "outputId": "605b5431-7f9f-4bdf-b5d1-d627a6ce7295"
      },
      "source": [
        "l = list()\n",
        "l.append(1)\n",
        "l.append(1)\n",
        "l.append(2)\n",
        "print(l)\n",
        "\n",
        "s = set()\n",
        "s.add(1)\n",
        "s.add(1)\n",
        "s.add(2)\n",
        "print(s)\n",
        "\n",
        "new_set = set(l)\n",
        "print(new_set)\n",
        "\n",
        "new_list = list(s)\n",
        "print(new_list)"
      ],
      "execution_count": 61,
      "outputs": [
        {
          "output_type": "stream",
          "text": [
            "[1, 1, 2]\n",
            "{1, 2}\n",
            "{1, 2}\n",
            "[1, 2]\n"
          ],
          "name": "stdout"
        }
      ]
    },
    {
      "cell_type": "code",
      "metadata": {
        "id": "TvJI9d57Ly7O",
        "colab_type": "code",
        "colab": {}
      },
      "source": [
        ""
      ],
      "execution_count": 0,
      "outputs": []
    },
    {
      "cell_type": "markdown",
      "metadata": {
        "id": "6sxFZai3MI0s",
        "colab_type": "text"
      },
      "source": [
        "# 2차원 리스트"
      ]
    },
    {
      "cell_type": "code",
      "metadata": {
        "id": "VYbQ-QpmMMbl",
        "colab_type": "code",
        "colab": {
          "base_uri": "https://localhost:8080/",
          "height": 67
        },
        "outputId": "07df9e27-27f4-4e4f-fc51-22fc1c7d2f9a"
      },
      "source": [
        "l = [ \n",
        "      [1,2,3],\n",
        "      [4,5,6],\n",
        "      [7,8,9],\n",
        "      [10,11,12]\n",
        "    ]\n",
        "\n",
        "print(l)\n",
        "print(l[0])\n",
        "print(l[0][0])"
      ],
      "execution_count": 62,
      "outputs": [
        {
          "output_type": "stream",
          "text": [
            "[[1, 2, 3], [4, 5, 6], [7, 8, 9], [10, 11, 12]]\n",
            "[1, 2, 3]\n",
            "1\n"
          ],
          "name": "stdout"
        }
      ]
    },
    {
      "cell_type": "markdown",
      "metadata": {
        "id": "TAuaQyxEMP94",
        "colab_type": "text"
      },
      "source": [
        "# Quiz\n",
        "\n",
        "['abc', 'xyz', 'aba', '1221'] 에서 길이가 2보다 크고, 맨앞과 맨끝 글자가 같은것"
      ]
    },
    {
      "cell_type": "code",
      "metadata": {
        "id": "jAalsCSgMNG-",
        "colab_type": "code",
        "colab": {
          "base_uri": "https://localhost:8080/",
          "height": 34
        },
        "outputId": "10cc7f0f-3716-44cd-9834-9d7028232c4b"
      },
      "source": [
        "# 리스트 항목 마다 루프돌면서\n",
        "# 문자열의 길이를 체크\n",
        "# 문자열 첫번재와 마지막 같음 비교\n",
        "# 2가지 모두 만족하면 카우트 증가\n",
        "\n",
        "l =  ['abc', 'xyz', 'aba', '1221']\n",
        "count = 0\n",
        "\n",
        "for i in l:\n",
        "  if len(i)>2 and i[0]==i[-1]:\n",
        "    count += 1\n",
        "\n",
        "print(count)"
      ],
      "execution_count": 63,
      "outputs": [
        {
          "output_type": "stream",
          "text": [
            "2\n"
          ],
          "name": "stdout"
        }
      ]
    },
    {
      "cell_type": "markdown",
      "metadata": {
        "id": "r8Z-K_yxMc14",
        "colab_type": "text"
      },
      "source": [
        "# Quiz\n",
        "\n",
        "[1,2,3, [1,2],4,5] 가 list를 포함하고 있는지 여부"
      ]
    },
    {
      "cell_type": "code",
      "metadata": {
        "id": "rrPB_ULVMPOx",
        "colab_type": "code",
        "colab": {
          "base_uri": "https://localhost:8080/",
          "height": 101
        },
        "outputId": "9629773a-8ac4-418a-abdd-ad202ed4f33f"
      },
      "source": [
        "l = [1,2,3, [1,2],4,5]\n",
        "\n",
        "# 각 항목마다 루프\n",
        "# 타입이 list인지 체크\n",
        "\n",
        "has_list = False\n",
        "for i in l:\n",
        "  print(i)\n",
        "  if type(i) is list:\n",
        "    has_list = True\n",
        "    break\n",
        "    \n",
        "print(has_list)"
      ],
      "execution_count": 64,
      "outputs": [
        {
          "output_type": "stream",
          "text": [
            "1\n",
            "2\n",
            "3\n",
            "[1, 2]\n",
            "True\n"
          ],
          "name": "stdout"
        }
      ]
    },
    {
      "cell_type": "markdown",
      "metadata": {
        "id": "PRGJvr1CMumk",
        "colab_type": "text"
      },
      "source": [
        "# Quiz\n",
        "\n",
        "리스트 ['p','q']를 가지고 다음을 생성\n",
        "\n",
        "\n",
        "['p1', 'q1', 'p2', 'q2', 'p3', 'q3', 'p4', 'q4', 'p5', 'q5']"
      ]
    },
    {
      "cell_type": "code",
      "metadata": {
        "id": "uSyRAKTZMcCQ",
        "colab_type": "code",
        "colab": {
          "base_uri": "https://localhost:8080/",
          "height": 34
        },
        "outputId": "7c07881c-360d-493c-cb10-c16528d10155"
      },
      "source": [
        "# 빈 결과 리스트 생성\n",
        "# 1~5까지 루프\n",
        "# 각 list 항목 마다 숫자를 추가해서 결과 리스트에 추가\n",
        "\n",
        "source = ['p','q']\n",
        "result = []\n",
        "\n",
        "for i in range(1,6):\n",
        "  for j in source:\n",
        "    result.append(j+str(i))\n",
        "    \n",
        "print(result)"
      ],
      "execution_count": 65,
      "outputs": [
        {
          "output_type": "stream",
          "text": [
            "['p1', 'q1', 'p2', 'q2', 'p3', 'q3', 'p4', 'q4', 'p5', 'q5']\n"
          ],
          "name": "stdout"
        }
      ]
    },
    {
      "cell_type": "code",
      "metadata": {
        "id": "TQ3zAt70MkwV",
        "colab_type": "code",
        "colab": {}
      },
      "source": [
        ""
      ],
      "execution_count": 0,
      "outputs": []
    }
  ]
}