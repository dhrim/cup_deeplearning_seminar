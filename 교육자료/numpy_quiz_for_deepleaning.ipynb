{
  "nbformat": 4,
  "nbformat_minor": 0,
  "metadata": {
    "colab": {
      "name": "numpy_quiz_for_deepleaning.ipynb",
      "version": "0.3.2",
      "provenance": [],
      "collapsed_sections": []
    },
    "kernelspec": {
      "name": "python3",
      "display_name": "Python 3"
    }
  },
  "cells": [
    {
      "cell_type": "markdown",
      "metadata": {
        "id": "f6jBj42254qW",
        "colab_type": "text"
      },
      "source": [
        "# Quiz.\n",
        "```\n",
        "[ 0 1 2 0 1 2 0 1 2] 배열을\n",
        "\n",
        "[ 1 0 0 ]\n",
        "[ 0 1 0 ]\n",
        "[ 0 0 1 ]\n",
        "[ 0 0 0 ]\n",
        "[ 0 1 0 ]\n",
        "[ 0 0 1 ]\n",
        "[ 1 0 0 ]\n",
        "[ 0 1 0 ]\n",
        "[ 0 0 1 ]\n",
        "[ 0 0 0 ]\n",
        "배열로 변환\n",
        "```\n"
      ]
    },
    {
      "cell_type": "code",
      "metadata": {
        "id": "ORYclVVbxTkW",
        "colab_type": "code",
        "colab": {
          "base_uri": "https://localhost:8080/",
          "height": 168
        },
        "outputId": "867586b2-a7e7-4bd5-8d61-a024772b2f6f"
      },
      "source": [
        "import numpy as np\n",
        "\n",
        "a = np.array([0,1,2,0,1,2,0,1,2])\n",
        "b = np.zeros((a.shape[0],3))\n",
        "\n",
        "# b[:,0] = (a==0)*1.0\n",
        "# b[:,1] = (a==1)*1.0\n",
        "# b[:,2] = (a==2)*1.0\n",
        "for i in range(3):\n",
        "  b[:,i] = (a==i)*1.0\n",
        "  \n",
        "print(b)"
      ],
      "execution_count": 1,
      "outputs": [
        {
          "output_type": "stream",
          "text": [
            "[[1. 0. 0.]\n",
            " [0. 1. 0.]\n",
            " [0. 0. 1.]\n",
            " [1. 0. 0.]\n",
            " [0. 1. 0.]\n",
            " [0. 0. 1.]\n",
            " [1. 0. 0.]\n",
            " [0. 1. 0.]\n",
            " [0. 0. 1.]]\n"
          ],
          "name": "stdout"
        }
      ]
    },
    {
      "cell_type": "code",
      "metadata": {
        "id": "S2Q2I4u96gqc",
        "colab_type": "code",
        "colab": {
          "base_uri": "https://localhost:8080/",
          "height": 168
        },
        "outputId": "ec59a8bc-91c1-45f3-cf5c-8061f41f2cde"
      },
      "source": [
        "import tensorflow.keras.utils\n",
        "\n",
        "a = np.array([0,1,2,0,1,2,0,1,2])\n",
        "b = tensorflow.keras.utils.to_categorical(a)\n",
        "\n",
        "print(b)"
      ],
      "execution_count": 12,
      "outputs": [
        {
          "output_type": "stream",
          "text": [
            "[[1. 0. 0.]\n",
            " [0. 1. 0.]\n",
            " [0. 0. 1.]\n",
            " [1. 0. 0.]\n",
            " [0. 1. 0.]\n",
            " [0. 0. 1.]\n",
            " [1. 0. 0.]\n",
            " [0. 1. 0.]\n",
            " [0. 0. 1.]]\n"
          ],
          "name": "stdout"
        }
      ]
    },
    {
      "cell_type": "markdown",
      "metadata": {
        "id": "I99BgXOd6FGU",
        "colab_type": "text"
      },
      "source": [
        "# Quiz. \n",
        "\n",
        "임의의 데이터를 6:4로 나눈다.\n",
        "\n",
        "[1 2 3 4 ... 9 0]을\n",
        "[ 1 2 .. 6], [ 7 8 .. 0]으로 나눈다.\n"
      ]
    },
    {
      "cell_type": "code",
      "metadata": {
        "id": "4Xl9YJrqxdqL",
        "colab_type": "code",
        "colab": {
          "base_uri": "https://localhost:8080/",
          "height": 50
        },
        "outputId": "03459560-14d0-42b3-f542-b78cbb2be903"
      },
      "source": [
        "a = np.array([1,2,3,4,5,6,7,8,9,0])\n",
        "\n",
        "split_index = int(a.shape[0]*0.6)\n",
        "\n",
        "b1 = a[0:split_index]\n",
        "b2 = a[split_index:]\n",
        "\n",
        "print(b1)\n",
        "print(b2)"
      ],
      "execution_count": 4,
      "outputs": [
        {
          "output_type": "stream",
          "text": [
            "[1 2 3 4 5 6]\n",
            "[7 8 9 0]\n"
          ],
          "name": "stdout"
        }
      ]
    },
    {
      "cell_type": "markdown",
      "metadata": {
        "id": "7vA35nRD6MN3",
        "colab_type": "text"
      },
      "source": [
        "# Quiz. \n",
        "\n",
        "임의의 데이터를 6:4로 나눈다.\n",
        "```\n",
        "[ 1 0 0 ]\n",
        "[ 2 0 0 ]\n",
        "...\n",
        "[ 0 0 0 ]를\n",
        "\n",
        "[ 1 0 0 ]\n",
        "...\n",
        "[ 6 0 0 ]와\n",
        "\n",
        "[ 7 0 0 ]\n",
        "...\n",
        "[ 0 0 0 ]\n",
        "```"
      ]
    },
    {
      "cell_type": "code",
      "metadata": {
        "id": "eOlldWIkxjJY",
        "colab_type": "code",
        "colab": {
          "base_uri": "https://localhost:8080/",
          "height": 185
        },
        "outputId": "30489708-f2c3-404d-a404-cc45f540d47d"
      },
      "source": [
        "a = np.zeros((10,3))\n",
        "a[:,0] = [1,2,3,4,5,6,7,8,9,0]\n",
        "\n",
        "\n",
        "split_index = int(a.shape[0]*0.6)\n",
        "\n",
        "b1 = a[0:split_index]\n",
        "b2 = a[split_index:]\n",
        "\n",
        "print(b1)\n",
        "print(b2)\n"
      ],
      "execution_count": 9,
      "outputs": [
        {
          "output_type": "stream",
          "text": [
            "[[1. 0. 0.]\n",
            " [2. 0. 0.]\n",
            " [3. 0. 0.]\n",
            " [4. 0. 0.]\n",
            " [5. 0. 0.]\n",
            " [6. 0. 0.]]\n",
            "[[7. 0. 0.]\n",
            " [8. 0. 0.]\n",
            " [9. 0. 0.]\n",
            " [0. 0. 0.]]\n"
          ],
          "name": "stdout"
        }
      ]
    }
  ]
}