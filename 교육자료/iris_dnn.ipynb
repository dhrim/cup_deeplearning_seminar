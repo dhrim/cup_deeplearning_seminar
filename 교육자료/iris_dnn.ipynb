{
  "nbformat": 4,
  "nbformat_minor": 0,
  "metadata": {
    "colab": {
      "name": "iris_dnn.ipynb",
      "version": "0.3.2",
      "provenance": [],
      "collapsed_sections": []
    },
    "kernelspec": {
      "name": "python3",
      "display_name": "Python 3"
    }
  },
  "cells": [
    {
      "cell_type": "markdown",
      "metadata": {
        "id": "4d7Mn-QIBWZt",
        "colab_type": "text"
      },
      "source": [
        "# 기반"
      ]
    },
    {
      "cell_type": "code",
      "metadata": {
        "id": "nPqzpGCsB1BF",
        "colab_type": "code",
        "colab": {}
      },
      "source": [
        "import csv\n",
        "import numpy as np\n",
        "import pandas as pd"
      ],
      "execution_count": 0,
      "outputs": []
    },
    {
      "cell_type": "code",
      "metadata": {
        "id": "Sr9ALNDi_yMg",
        "colab_type": "code",
        "colab": {
          "base_uri": "https://localhost:8080/",
          "height": 222
        },
        "outputId": "0ba6ecea-9e4e-43d0-97a0-2d12d220fb16"
      },
      "source": [
        "!wget https://raw.githubusercontent.com/dhrim/cup_deeplearning_seminar/master/%EA%B5%90%EC%9C%A1%EC%9E%90%EB%A3%8C/deep_learning/iris.csv"
      ],
      "execution_count": 3,
      "outputs": [
        {
          "output_type": "stream",
          "text": [
            "--2019-07-21 14:46:11--  https://raw.githubusercontent.com/dhrim/cup_deeplearning_seminar/master/%EA%B5%90%EC%9C%A1%EC%9E%90%EB%A3%8C/deep_learning/iris.csv\n",
            "Resolving raw.githubusercontent.com (raw.githubusercontent.com)... 151.101.0.133, 151.101.64.133, 151.101.128.133, ...\n",
            "Connecting to raw.githubusercontent.com (raw.githubusercontent.com)|151.101.0.133|:443... connected.\n",
            "HTTP request sent, awaiting response... 200 OK\n",
            "Length: 2720 (2.7K) [text/plain]\n",
            "Saving to: ‘iris.csv’\n",
            "\n",
            "\riris.csv              0%[                    ]       0  --.-KB/s               \riris.csv            100%[===================>]   2.66K  --.-KB/s    in 0s      \n",
            "\n",
            "2019-07-21 14:46:11 (54.8 MB/s) - ‘iris.csv’ saved [2720/2720]\n",
            "\n"
          ],
          "name": "stdout"
        }
      ]
    },
    {
      "cell_type": "code",
      "metadata": {
        "id": "5AzjW3DD4BEO",
        "colab_type": "code",
        "outputId": "7b182b9d-280e-42fd-aa18-ad3eccb9574a",
        "colab": {
          "base_uri": "https://localhost:8080/",
          "height": 195
        }
      },
      "source": [
        "iris = pd.read_csv(\"iris.csv\")\n",
        "iris.head()"
      ],
      "execution_count": 4,
      "outputs": [
        {
          "output_type": "execute_result",
          "data": {
            "text/html": [
              "<div>\n",
              "<style scoped>\n",
              "    .dataframe tbody tr th:only-of-type {\n",
              "        vertical-align: middle;\n",
              "    }\n",
              "\n",
              "    .dataframe tbody tr th {\n",
              "        vertical-align: top;\n",
              "    }\n",
              "\n",
              "    .dataframe thead th {\n",
              "        text-align: right;\n",
              "    }\n",
              "</style>\n",
              "<table border=\"1\" class=\"dataframe\">\n",
              "  <thead>\n",
              "    <tr style=\"text-align: right;\">\n",
              "      <th></th>\n",
              "      <th>septal_length</th>\n",
              "      <th>septal_width</th>\n",
              "      <th>petal_length</th>\n",
              "      <th>petal_width</th>\n",
              "      <th>setosa</th>\n",
              "      <th>versicolor</th>\n",
              "      <th>virginica</th>\n",
              "    </tr>\n",
              "  </thead>\n",
              "  <tbody>\n",
              "    <tr>\n",
              "      <th>0</th>\n",
              "      <td>6.4</td>\n",
              "      <td>2.8</td>\n",
              "      <td>5.6</td>\n",
              "      <td>2.2</td>\n",
              "      <td>0</td>\n",
              "      <td>0</td>\n",
              "      <td>1</td>\n",
              "    </tr>\n",
              "    <tr>\n",
              "      <th>1</th>\n",
              "      <td>5.0</td>\n",
              "      <td>2.3</td>\n",
              "      <td>3.3</td>\n",
              "      <td>1.0</td>\n",
              "      <td>0</td>\n",
              "      <td>1</td>\n",
              "      <td>0</td>\n",
              "    </tr>\n",
              "    <tr>\n",
              "      <th>2</th>\n",
              "      <td>4.9</td>\n",
              "      <td>2.5</td>\n",
              "      <td>4.5</td>\n",
              "      <td>1.7</td>\n",
              "      <td>0</td>\n",
              "      <td>0</td>\n",
              "      <td>1</td>\n",
              "    </tr>\n",
              "    <tr>\n",
              "      <th>3</th>\n",
              "      <td>4.9</td>\n",
              "      <td>3.1</td>\n",
              "      <td>1.5</td>\n",
              "      <td>0.1</td>\n",
              "      <td>1</td>\n",
              "      <td>0</td>\n",
              "      <td>0</td>\n",
              "    </tr>\n",
              "    <tr>\n",
              "      <th>4</th>\n",
              "      <td>5.7</td>\n",
              "      <td>3.8</td>\n",
              "      <td>1.7</td>\n",
              "      <td>0.3</td>\n",
              "      <td>1</td>\n",
              "      <td>0</td>\n",
              "      <td>0</td>\n",
              "    </tr>\n",
              "  </tbody>\n",
              "</table>\n",
              "</div>"
            ],
            "text/plain": [
              "   septal_length  septal_width  petal_length  ...  setosa  versicolor  virginica\n",
              "0            6.4           2.8           5.6  ...       0           0          1\n",
              "1            5.0           2.3           3.3  ...       0           1          0\n",
              "2            4.9           2.5           4.5  ...       0           0          1\n",
              "3            4.9           3.1           1.5  ...       1           0          0\n",
              "4            5.7           3.8           1.7  ...       1           0          0\n",
              "\n",
              "[5 rows x 7 columns]"
            ]
          },
          "metadata": {
            "tags": []
          },
          "execution_count": 4
        }
      ]
    },
    {
      "cell_type": "code",
      "metadata": {
        "id": "84J6VStQ4BG0",
        "colab_type": "code",
        "outputId": "6dad4c88-7c43-427c-af78-fa699b60f24a",
        "colab": {
          "base_uri": "https://localhost:8080/",
          "height": 218
        }
      },
      "source": [
        "iris.info()"
      ],
      "execution_count": 5,
      "outputs": [
        {
          "output_type": "stream",
          "text": [
            "<class 'pandas.core.frame.DataFrame'>\n",
            "RangeIndex: 120 entries, 0 to 119\n",
            "Data columns (total 7 columns):\n",
            "septal_length    120 non-null float64\n",
            "septal_width     120 non-null float64\n",
            "petal_length     120 non-null float64\n",
            "petal_width      120 non-null float64\n",
            "setosa           120 non-null int64\n",
            "versicolor       120 non-null int64\n",
            "virginica        120 non-null int64\n",
            "dtypes: float64(4), int64(3)\n",
            "memory usage: 6.6 KB\n"
          ],
          "name": "stdout"
        }
      ]
    },
    {
      "cell_type": "code",
      "metadata": {
        "id": "jxSyc1l54BJm",
        "colab_type": "code",
        "outputId": "a2d3a19f-3df9-45a9-8296-75c7da6317d7",
        "colab": {
          "base_uri": "https://localhost:8080/",
          "height": 118
        }
      },
      "source": [
        "data = iris.to_numpy()\n",
        "print(data.shape)\n",
        "print(data[:5])"
      ],
      "execution_count": 7,
      "outputs": [
        {
          "output_type": "stream",
          "text": [
            "(120, 7)\n",
            "[[6.4 2.8 5.6 2.2 0.  0.  1. ]\n",
            " [5.  2.3 3.3 1.  0.  1.  0. ]\n",
            " [4.9 2.5 4.5 1.7 0.  0.  1. ]\n",
            " [4.9 3.1 1.5 0.1 1.  0.  0. ]\n",
            " [5.7 3.8 1.7 0.3 1.  0.  0. ]]\n"
          ],
          "name": "stdout"
        }
      ]
    },
    {
      "cell_type": "code",
      "metadata": {
        "id": "PEleuDlT4WKc",
        "colab_type": "code",
        "outputId": "16f72554-5fcb-4b60-e2d3-e246c5a05ac9",
        "colab": {
          "base_uri": "https://localhost:8080/",
          "height": 118
        }
      },
      "source": [
        "train, test = data[:100], data[100:]\n",
        "print(train.shape)\n",
        "print(test.shape)\n",
        "\n",
        "train_input, train_output = train[:,:4], train[:,4:]\n",
        "test_input, test_output = test[:,:4], test[:,4:]\n",
        "\n",
        "print(train_input.shape)\n",
        "print(train_output.shape)\n",
        "\n",
        "print(test_input.shape)\n",
        "print(test_output.shape)"
      ],
      "execution_count": 8,
      "outputs": [
        {
          "output_type": "stream",
          "text": [
            "(100, 7)\n",
            "(20, 7)\n",
            "(100, 4)\n",
            "(100, 3)\n",
            "(20, 4)\n",
            "(20, 3)\n"
          ],
          "name": "stdout"
        }
      ]
    },
    {
      "cell_type": "code",
      "metadata": {
        "id": "cFe0BehG51mP",
        "colab_type": "code",
        "colab": {}
      },
      "source": [
        "import tensorflow as tf\n",
        "from tensorflow import keras\n",
        "\n",
        "import numpy as np\n",
        "import matplotlib.pyplot as plt"
      ],
      "execution_count": 0,
      "outputs": []
    },
    {
      "cell_type": "code",
      "metadata": {
        "id": "SJmp-8zD5gR2",
        "colab_type": "code",
        "colab": {}
      },
      "source": [
        "model = keras.Sequential([\n",
        "    keras.layers.Dense(10, activation='relu'),\n",
        "    keras.layers.Dense(10, activation='relu'),\n",
        "    keras.layers.Dense(3, activation='softmax')\n",
        "])"
      ],
      "execution_count": 0,
      "outputs": []
    },
    {
      "cell_type": "code",
      "metadata": {
        "id": "dqazsLAq5st-",
        "colab_type": "code",
        "colab": {}
      },
      "source": [
        "model.compile(optimizer='adam',\n",
        "              loss='categorical_crossentropy',\n",
        "              metrics=['accuracy'])"
      ],
      "execution_count": 0,
      "outputs": []
    },
    {
      "cell_type": "code",
      "metadata": {
        "id": "za5XB-365gU3",
        "colab_type": "code",
        "outputId": "77c7e5e5-b8a4-4295-f894-433101e8be6d",
        "colab": {
          "base_uri": "https://localhost:8080/",
          "height": 370
        }
      },
      "source": [
        "model.fit(train_input, train_output, epochs=10)"
      ],
      "execution_count": 0,
      "outputs": [
        {
          "output_type": "stream",
          "text": [
            "Epoch 1/10\n",
            "100/100 [==============================] - 0s 132us/sample - loss: 0.1916 - acc: 0.9700\n",
            "Epoch 2/10\n",
            "100/100 [==============================] - 0s 77us/sample - loss: 0.1908 - acc: 0.9700\n",
            "Epoch 3/10\n",
            "100/100 [==============================] - 0s 80us/sample - loss: 0.1905 - acc: 0.9700\n",
            "Epoch 4/10\n",
            "100/100 [==============================] - 0s 73us/sample - loss: 0.1878 - acc: 0.9600\n",
            "Epoch 5/10\n",
            "100/100 [==============================] - 0s 98us/sample - loss: 0.1861 - acc: 0.9700\n",
            "Epoch 6/10\n",
            "100/100 [==============================] - 0s 100us/sample - loss: 0.1854 - acc: 0.9700\n",
            "Epoch 7/10\n",
            "100/100 [==============================] - 0s 92us/sample - loss: 0.1841 - acc: 0.9700\n",
            "Epoch 8/10\n",
            "100/100 [==============================] - 0s 90us/sample - loss: 0.1825 - acc: 0.9700\n",
            "Epoch 9/10\n",
            "100/100 [==============================] - 0s 87us/sample - loss: 0.1813 - acc: 0.9700\n",
            "Epoch 10/10\n",
            "100/100 [==============================] - 0s 95us/sample - loss: 0.1827 - acc: 0.9600\n"
          ],
          "name": "stdout"
        },
        {
          "output_type": "execute_result",
          "data": {
            "text/plain": [
              "<tensorflow.python.keras.callbacks.History at 0x7f52fbe116d8>"
            ]
          },
          "metadata": {
            "tags": []
          },
          "execution_count": 65
        }
      ]
    },
    {
      "cell_type": "code",
      "metadata": {
        "id": "76wFgAkT7Axp",
        "colab_type": "code",
        "outputId": "dae0bbe6-fadd-48a3-e265-20535a4de04b",
        "colab": {
          "base_uri": "https://localhost:8080/",
          "height": 67
        }
      },
      "source": [
        "test_loss, test_acc = model.evaluate(test_input, test_output)\n",
        "\n",
        "print(\"test_loss :\", test_loss)\n",
        "print(\"test_acc :\", test_acc)\n"
      ],
      "execution_count": 0,
      "outputs": [
        {
          "output_type": "stream",
          "text": [
            "\r20/20 [==============================] - 0s 1ms/sample - loss: 0.0984 - acc: 1.0000\n",
            "test_loss : 0.09835753589868546\n",
            "test_acc : 1.0\n"
          ],
          "name": "stdout"
        }
      ]
    },
    {
      "cell_type": "code",
      "metadata": {
        "id": "vYQYwQh67OuV",
        "colab_type": "code",
        "outputId": "6902073c-d603-449e-915c-76459c0a07bd",
        "colab": {
          "base_uri": "https://localhost:8080/",
          "height": 370
        }
      },
      "source": [
        "test_prediction = model.predict(test_input)\n",
        "print(test_prediction)\n",
        "print(np.argmax(test_prediction, axis=1))"
      ],
      "execution_count": 0,
      "outputs": [
        {
          "output_type": "stream",
          "text": [
            "[[9.85690653e-01 1.30305002e-02 1.27877016e-03]\n",
            " [4.91744094e-02 8.41030717e-01 1.09794855e-01]\n",
            " [9.42748904e-01 5.15238605e-02 5.72719099e-03]\n",
            " [2.45031212e-02 8.77072215e-01 9.84246507e-02]\n",
            " [9.82676923e-01 1.58111770e-02 1.51182909e-03]\n",
            " [9.93531525e-01 5.92408748e-03 5.44496754e-04]\n",
            " [9.95485485e-01 4.14847536e-03 3.65998480e-04]\n",
            " [9.95148599e-01 4.42059012e-03 4.30902583e-04]\n",
            " [3.38514596e-02 8.44347358e-01 1.21801212e-01]\n",
            " [9.81614888e-01 1.67711638e-02 1.61392184e-03]\n",
            " [2.36458349e-04 2.44538978e-01 7.55224586e-01]\n",
            " [1.09420363e-02 7.76585042e-01 2.12472916e-01]\n",
            " [9.79464591e-01 1.88219659e-02 1.71341957e-03]\n",
            " [3.63094614e-06 3.33414599e-02 9.66654897e-01]\n",
            " [9.75441992e-01 2.23363563e-02 2.22165859e-03]\n",
            " [5.87891648e-03 6.73443496e-01 3.20677668e-01]\n",
            " [1.80046298e-02 8.41725290e-01 1.40270084e-01]\n",
            " [9.80069399e-01 1.79315191e-02 1.99910486e-03]\n",
            " [9.88647878e-01 1.03301471e-02 1.02196261e-03]\n",
            " [2.73047742e-02 8.55498075e-01 1.17197059e-01]]\n",
            "[0 1 0 1 0 0 0 0 1 0 2 1 0 2 0 1 1 0 0 1]\n"
          ],
          "name": "stdout"
        }
      ]
    },
    {
      "cell_type": "code",
      "metadata": {
        "id": "14su9wKZBfBf",
        "colab_type": "code",
        "colab": {}
      },
      "source": [
        ""
      ],
      "execution_count": 0,
      "outputs": []
    },
    {
      "cell_type": "markdown",
      "metadata": {
        "id": "JXzTn2SiB5uH",
        "colab_type": "text"
      },
      "source": [
        "# Optimzer\n",
        "\n",
        "- 'SGD' or tf.keras.optimizers.SGD()\n",
        "- 'Adam' or tf.keras.optimizers.Adam()\n",
        "- 'Adagrad' or tf.keras.optimizers.Adagrad()\n",
        "- 'RMSprop' or tf.keras.optimizers.RMSprop()\n",
        "\n",
        "\n",
        "```\n",
        "SGD(lr=0.001)\n",
        "Adam(lr=0.001, beta_1=0.9, beta_2=0.999, epsilon=1e-07)\n",
        "Adagrad(lr=0.001, epsilon=1e-06)\n",
        "RMSprop(lr=0.001, rho=0.9, decay=0.9)\n",
        "```\n",
        "\n",
        "\n",
        "\n",
        "\n"
      ]
    },
    {
      "cell_type": "code",
      "metadata": {
        "id": "eP_bMMSQBfGW",
        "colab_type": "code",
        "colab": {}
      },
      "source": [
        "def train(optimizer, loss, epochs=10):\n",
        "  \n",
        "  model = keras.Sequential([\n",
        "      keras.layers.Dense(10, activation='relu'),\n",
        "      keras.layers.Dense(10, activation='relu'),\n",
        "      keras.layers.Dense(3, activation='softmax')\n",
        "  ])\n",
        "\n",
        "  model.compile(optimizer=optimizer,\n",
        "                loss=loss,\n",
        "                metrics=['accuracy'])\n",
        "\n",
        "  model.fit(train_input, train_output, epochs=epochs)\n",
        "\n",
        "  test_loss, test_acc = model.evaluate(test_input, test_output)\n",
        "\n",
        "  print(\"test_loss :\", test_loss)\n",
        "  print(\"test_acc :\", test_acc)\n"
      ],
      "execution_count": 0,
      "outputs": []
    },
    {
      "cell_type": "markdown",
      "metadata": {
        "id": "IzGgjZ8ZIj93",
        "colab_type": "text"
      },
      "source": [
        "## optimizer - SGD"
      ]
    },
    {
      "cell_type": "code",
      "metadata": {
        "id": "q_SZjYIjIlNZ",
        "colab_type": "code",
        "colab": {
          "base_uri": "https://localhost:8080/",
          "height": 403
        },
        "outputId": "f6221dda-8276-4ea0-c8a2-8066de28918a"
      },
      "source": [
        "optimizer = \"SGD\"\n",
        "loss = \"categorical_crossentropy\"\n",
        "\n",
        "train(optimizer, loss, 10)"
      ],
      "execution_count": 40,
      "outputs": [
        {
          "output_type": "stream",
          "text": [
            "Epoch 1/10\n",
            "100/100 [==============================] - 0s 2ms/sample - loss: 1.0555 - acc: 0.3900\n",
            "Epoch 2/10\n",
            "100/100 [==============================] - 0s 146us/sample - loss: 0.9820 - acc: 0.6900\n",
            "Epoch 3/10\n",
            "100/100 [==============================] - 0s 119us/sample - loss: 0.9574 - acc: 0.5000\n",
            "Epoch 4/10\n",
            "100/100 [==============================] - 0s 133us/sample - loss: 0.9663 - acc: 0.4800\n",
            "Epoch 5/10\n",
            "100/100 [==============================] - 0s 145us/sample - loss: 0.9457 - acc: 0.4200\n",
            "Epoch 6/10\n",
            "100/100 [==============================] - 0s 133us/sample - loss: 0.9186 - acc: 0.6600\n",
            "Epoch 7/10\n",
            "100/100 [==============================] - 0s 128us/sample - loss: 0.9134 - acc: 0.5200\n",
            "Epoch 8/10\n",
            "100/100 [==============================] - 0s 137us/sample - loss: 0.8861 - acc: 0.7100\n",
            "Epoch 9/10\n",
            "100/100 [==============================] - 0s 113us/sample - loss: 0.8759 - acc: 0.7000\n",
            "Epoch 10/10\n",
            "100/100 [==============================] - 0s 133us/sample - loss: 0.8596 - acc: 0.7100\n",
            "20/20 [==============================] - 0s 9ms/sample - loss: 0.9163 - acc: 0.6500\n",
            "test_loss : 0.9163341522216797\n",
            "test_acc : 0.65\n"
          ],
          "name": "stdout"
        }
      ]
    },
    {
      "cell_type": "code",
      "metadata": {
        "id": "_vu9a0lPBfLs",
        "colab_type": "code",
        "colab": {
          "base_uri": "https://localhost:8080/",
          "height": 403
        },
        "outputId": "aa529940-1880-461c-d965-e80c4e993cdc"
      },
      "source": [
        "optimizer = tf.keras.optimizers.SGD(lr=0.01)\n",
        "loss = \"categorical_crossentropy\"\n",
        "\n",
        "train(optimizer, loss, 10)"
      ],
      "execution_count": 24,
      "outputs": [
        {
          "output_type": "stream",
          "text": [
            "Epoch 1/10\n",
            "100/100 [==============================] - 0s 1ms/sample - loss: 2.5188 - acc: 0.2900\n",
            "Epoch 2/10\n",
            "100/100 [==============================] - 0s 97us/sample - loss: 1.5764 - acc: 0.3200\n",
            "Epoch 3/10\n",
            "100/100 [==============================] - 0s 98us/sample - loss: 1.3093 - acc: 0.3200\n",
            "Epoch 4/10\n",
            "100/100 [==============================] - 0s 94us/sample - loss: 1.1803 - acc: 0.3300\n",
            "Epoch 5/10\n",
            "100/100 [==============================] - 0s 99us/sample - loss: 1.0988 - acc: 0.4400\n",
            "Epoch 6/10\n",
            "100/100 [==============================] - 0s 85us/sample - loss: 1.0953 - acc: 0.2500\n",
            "Epoch 7/10\n",
            "100/100 [==============================] - 0s 95us/sample - loss: 1.0460 - acc: 0.4000\n",
            "Epoch 8/10\n",
            "100/100 [==============================] - 0s 91us/sample - loss: 1.0377 - acc: 0.4000\n",
            "Epoch 9/10\n",
            "100/100 [==============================] - 0s 76us/sample - loss: 1.0282 - acc: 0.4000\n",
            "Epoch 10/10\n",
            "100/100 [==============================] - 0s 85us/sample - loss: 1.0226 - acc: 0.3600\n",
            "20/20 [==============================] - 0s 5ms/sample - loss: 1.1373 - acc: 0.1000\n",
            "test_loss : 1.137331247329712\n",
            "test_acc : 0.1\n"
          ],
          "name": "stdout"
        }
      ]
    },
    {
      "cell_type": "markdown",
      "metadata": {
        "id": "gR9iDWJII3US",
        "colab_type": "text"
      },
      "source": [
        "## optimizer - Adam"
      ]
    },
    {
      "cell_type": "code",
      "metadata": {
        "id": "RKuvGiwKJAXl",
        "colab_type": "code",
        "colab": {
          "base_uri": "https://localhost:8080/",
          "height": 403
        },
        "outputId": "af577237-a186-422a-ae58-a9a3ae9905a9"
      },
      "source": [
        "optimizer = \"Adam\"\n",
        "loss = \"categorical_crossentropy\"\n",
        "\n",
        "train(optimizer, loss, 10)"
      ],
      "execution_count": 36,
      "outputs": [
        {
          "output_type": "stream",
          "text": [
            "Epoch 1/10\n",
            "100/100 [==============================] - 0s 2ms/sample - loss: 1.8321 - acc: 0.3100\n",
            "Epoch 2/10\n",
            "100/100 [==============================] - 0s 129us/sample - loss: 1.7039 - acc: 0.3100\n",
            "Epoch 3/10\n",
            "100/100 [==============================] - 0s 175us/sample - loss: 1.5943 - acc: 0.3100\n",
            "Epoch 4/10\n",
            "100/100 [==============================] - 0s 132us/sample - loss: 1.4940 - acc: 0.3100\n",
            "Epoch 5/10\n",
            "100/100 [==============================] - 0s 118us/sample - loss: 1.3951 - acc: 0.3100\n",
            "Epoch 6/10\n",
            "100/100 [==============================] - 0s 132us/sample - loss: 1.3241 - acc: 0.3100\n",
            "Epoch 7/10\n",
            "100/100 [==============================] - 0s 126us/sample - loss: 1.2648 - acc: 0.3100\n",
            "Epoch 8/10\n",
            "100/100 [==============================] - 0s 135us/sample - loss: 1.2145 - acc: 0.3100\n",
            "Epoch 9/10\n",
            "100/100 [==============================] - 0s 134us/sample - loss: 1.1716 - acc: 0.3100\n",
            "Epoch 10/10\n",
            "100/100 [==============================] - 0s 157us/sample - loss: 1.1333 - acc: 0.3100\n",
            "20/20 [==============================] - 0s 8ms/sample - loss: 1.0907 - acc: 0.5500\n",
            "test_loss : 1.0907021760940552\n",
            "test_acc : 0.55\n"
          ],
          "name": "stdout"
        }
      ]
    },
    {
      "cell_type": "code",
      "metadata": {
        "id": "AC6GLYy3BfOh",
        "colab_type": "code",
        "colab": {
          "base_uri": "https://localhost:8080/",
          "height": 403
        },
        "outputId": "4fbe941e-2b75-470d-a9a9-255ab4bac577"
      },
      "source": [
        "optimizer = tf.keras.optimizers.Adam(lr=0.01, beta_1=0.9, beta_2=0.999, epsilon=1e-07)\n",
        "loss = \"categorical_crossentropy\"\n",
        "\n",
        "train(optimizer, loss, 10)"
      ],
      "execution_count": 41,
      "outputs": [
        {
          "output_type": "stream",
          "text": [
            "Epoch 1/10\n",
            "100/100 [==============================] - 0s 3ms/sample - loss: 1.3724 - acc: 0.3300\n",
            "Epoch 2/10\n",
            "100/100 [==============================] - 0s 122us/sample - loss: 0.9039 - acc: 0.6300\n",
            "Epoch 3/10\n",
            "100/100 [==============================] - 0s 113us/sample - loss: 0.8203 - acc: 0.4800\n",
            "Epoch 4/10\n",
            "100/100 [==============================] - 0s 113us/sample - loss: 0.7536 - acc: 0.6500\n",
            "Epoch 5/10\n",
            "100/100 [==============================] - 0s 132us/sample - loss: 0.6288 - acc: 0.9700\n",
            "Epoch 6/10\n",
            "100/100 [==============================] - 0s 132us/sample - loss: 0.5219 - acc: 0.8100\n",
            "Epoch 7/10\n",
            "100/100 [==============================] - 0s 122us/sample - loss: 0.4922 - acc: 0.7100\n",
            "Epoch 8/10\n",
            "100/100 [==============================] - 0s 128us/sample - loss: 0.4673 - acc: 0.7100\n",
            "Epoch 9/10\n",
            "100/100 [==============================] - 0s 137us/sample - loss: 0.4152 - acc: 0.8600\n",
            "Epoch 10/10\n",
            "100/100 [==============================] - 0s 133us/sample - loss: 0.4055 - acc: 0.9600\n",
            "20/20 [==============================] - 0s 9ms/sample - loss: 0.3010 - acc: 1.0000\n",
            "test_loss : 0.30095940828323364\n",
            "test_acc : 1.0\n"
          ],
          "name": "stdout"
        }
      ]
    },
    {
      "cell_type": "code",
      "metadata": {
        "id": "tWdYuaIBBfRa",
        "colab_type": "code",
        "colab": {
          "base_uri": "https://localhost:8080/",
          "height": 474
        },
        "outputId": "de74df2a-76e9-40e5-a583-a5444bc35734"
      },
      "source": [
        "optimizer = tf.keras.optimizers.Adagrad(lr=0.01, epsilon=1e-06)\n",
        "loss = \"categorical_crossentropy\"\n",
        "\n",
        "train(optimizer, loss, 10)"
      ],
      "execution_count": 14,
      "outputs": [
        {
          "output_type": "stream",
          "text": [
            "W0721 15:15:46.057992 140064349947776 deprecation.py:506] From /usr/local/lib/python3.6/dist-packages/tensorflow/python/keras/optimizer_v2/adagrad.py:105: calling Constant.__init__ (from tensorflow.python.ops.init_ops) with dtype is deprecated and will be removed in a future version.\n",
            "Instructions for updating:\n",
            "Call initializer instance with the dtype argument instead of passing it to the constructor\n"
          ],
          "name": "stderr"
        },
        {
          "output_type": "stream",
          "text": [
            "Epoch 1/10\n",
            "100/100 [==============================] - 0s 745us/sample - loss: 1.2594 - acc: 0.0000e+00\n",
            "Epoch 2/10\n",
            "100/100 [==============================] - 0s 91us/sample - loss: 1.1861 - acc: 0.0000e+00\n",
            "Epoch 3/10\n",
            "100/100 [==============================] - 0s 87us/sample - loss: 1.1486 - acc: 0.0000e+00\n",
            "Epoch 4/10\n",
            "100/100 [==============================] - 0s 107us/sample - loss: 1.1298 - acc: 0.0000e+00\n",
            "Epoch 5/10\n",
            "100/100 [==============================] - 0s 85us/sample - loss: 1.1131 - acc: 0.0400\n",
            "Epoch 6/10\n",
            "100/100 [==============================] - 0s 120us/sample - loss: 1.1015 - acc: 0.3300\n",
            "Epoch 7/10\n",
            "100/100 [==============================] - 0s 98us/sample - loss: 1.0915 - acc: 0.4200\n",
            "Epoch 8/10\n",
            "100/100 [==============================] - 0s 90us/sample - loss: 1.0834 - acc: 0.4600\n",
            "Epoch 9/10\n",
            "100/100 [==============================] - 0s 90us/sample - loss: 1.0753 - acc: 0.4000\n",
            "Epoch 10/10\n",
            "100/100 [==============================] - 0s 102us/sample - loss: 1.0695 - acc: 0.4500\n",
            "20/20 [==============================] - 0s 2ms/sample - loss: 1.1268 - acc: 0.2500\n",
            "test_loss : 1.1267627477645874\n",
            "test_acc : 0.25\n"
          ],
          "name": "stdout"
        }
      ]
    },
    {
      "cell_type": "code",
      "metadata": {
        "id": "8NHjYG2eGhBb",
        "colab_type": "code",
        "colab": {
          "base_uri": "https://localhost:8080/",
          "height": 403
        },
        "outputId": "e6be91f0-ec3a-407d-ca06-a0e4ae129410"
      },
      "source": [
        "optimizer = tf.keras.optimizers.RMSprop(lr=0.01, rho=0.9, decay=0.9)\n",
        "loss = \"categorical_crossentropy\"\n",
        "\n",
        "train(optimizer, loss, 10)"
      ],
      "execution_count": 17,
      "outputs": [
        {
          "output_type": "stream",
          "text": [
            "Epoch 1/10\n",
            "100/100 [==============================] - 0s 1ms/sample - loss: 1.0707 - acc: 0.4700\n",
            "Epoch 2/10\n",
            "100/100 [==============================] - 0s 105us/sample - loss: 0.8156 - acc: 0.6200\n",
            "Epoch 3/10\n",
            "100/100 [==============================] - 0s 82us/sample - loss: 0.7749 - acc: 0.7000\n",
            "Epoch 4/10\n",
            "100/100 [==============================] - 0s 114us/sample - loss: 0.7567 - acc: 0.7100\n",
            "Epoch 5/10\n",
            "100/100 [==============================] - 0s 81us/sample - loss: 0.7475 - acc: 0.7000\n",
            "Epoch 6/10\n",
            "100/100 [==============================] - 0s 90us/sample - loss: 0.7373 - acc: 0.7100\n",
            "Epoch 7/10\n",
            "100/100 [==============================] - 0s 100us/sample - loss: 0.7311 - acc: 0.7100\n",
            "Epoch 8/10\n",
            "100/100 [==============================] - 0s 112us/sample - loss: 0.7253 - acc: 0.7000\n",
            "Epoch 9/10\n",
            "100/100 [==============================] - 0s 87us/sample - loss: 0.7204 - acc: 0.7100\n",
            "Epoch 10/10\n",
            "100/100 [==============================] - 0s 106us/sample - loss: 0.7166 - acc: 0.7100\n",
            "20/20 [==============================] - 0s 3ms/sample - loss: 0.6703 - acc: 0.6500\n",
            "test_loss : 0.6703377962112427\n",
            "test_acc : 0.65\n"
          ],
          "name": "stdout"
        }
      ]
    },
    {
      "cell_type": "code",
      "metadata": {
        "id": "302bUQciGhHP",
        "colab_type": "code",
        "colab": {}
      },
      "source": [
        ""
      ],
      "execution_count": 0,
      "outputs": []
    },
    {
      "cell_type": "code",
      "metadata": {
        "id": "coOMzBvAGhMk",
        "colab_type": "code",
        "colab": {}
      },
      "source": [
        "\n"
      ],
      "execution_count": 0,
      "outputs": []
    },
    {
      "cell_type": "code",
      "metadata": {
        "id": "886tuCxtBfE1",
        "colab_type": "code",
        "colab": {}
      },
      "source": [
        ""
      ],
      "execution_count": 0,
      "outputs": []
    }
  ]
}